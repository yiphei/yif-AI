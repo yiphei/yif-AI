{
 "cells": [
  {
   "cell_type": "code",
   "execution_count": 4,
   "metadata": {},
   "outputs": [
    {
     "name": "stdout",
     "output_type": "stream",
     "text": [
      "The autoreload extension is already loaded. To reload it, use:\n",
      "  %reload_ext autoreload\n",
      "Value(48)\n"
     ]
    }
   ],
   "source": [
    "%load_ext autoreload\n",
    "%autoreload 2\n",
    "%reload_ext autoreload\n",
    "\n",
    "\n",
    "from value import Value\n",
    "a = Value(3)\n",
    "b = Value(5)\n",
    "c = a + b\n",
    "e = Value(6)\n",
    "d = c * e\n",
    "print(d)"
   ]
  },
  {
   "cell_type": "code",
   "execution_count": 5,
   "metadata": {},
   "outputs": [
    {
     "data": {
      "text/plain": [
       "1"
      ]
     },
     "execution_count": 5,
     "metadata": {},
     "output_type": "execute_result"
    }
   ],
   "source": [
    "d.backward()\n",
    "d.grad"
   ]
  },
  {
   "cell_type": "code",
   "execution_count": 6,
   "metadata": {},
   "outputs": [
    {
     "data": {
      "text/plain": [
       "6"
      ]
     },
     "execution_count": 6,
     "metadata": {},
     "output_type": "execute_result"
    }
   ],
   "source": [
    "c.grad"
   ]
  },
  {
   "cell_type": "code",
   "execution_count": 7,
   "metadata": {},
   "outputs": [
    {
     "data": {
      "text/plain": [
       "8"
      ]
     },
     "execution_count": 7,
     "metadata": {},
     "output_type": "execute_result"
    }
   ],
   "source": [
    "e.grad"
   ]
  },
  {
   "cell_type": "code",
   "execution_count": 8,
   "metadata": {},
   "outputs": [
    {
     "data": {
      "text/plain": [
       "6"
      ]
     },
     "execution_count": 8,
     "metadata": {},
     "output_type": "execute_result"
    }
   ],
   "source": [
    "a.grad"
   ]
  },
  {
   "cell_type": "code",
   "execution_count": 9,
   "metadata": {},
   "outputs": [
    {
     "data": {
      "text/plain": [
       "6"
      ]
     },
     "execution_count": 9,
     "metadata": {},
     "output_type": "execute_result"
    }
   ],
   "source": [
    "b.grad"
   ]
  },
  {
   "cell_type": "code",
   "execution_count": 35,
   "metadata": {},
   "outputs": [
    {
     "name": "stdout",
     "output_type": "stream",
     "text": [
      "The autoreload extension is already loaded. To reload it, use:\n",
      "  %reload_ext autoreload\n",
      "3 3.0\n"
     ]
    }
   ],
   "source": [
    "%load_ext autoreload\n",
    "%autoreload 2\n",
    "%reload_ext autoreload\n",
    "from value import Value\n",
    "import torch\n",
    "\n",
    "\n",
    "x = Value(-4.0)\n",
    "z = 2 * x + 2 + x\n",
    "z.backward()\n",
    "xmg, ymg = x, z\n",
    "\n",
    "x = torch.Tensor([-4.0]).double()\n",
    "x.requires_grad = True\n",
    "z = 2 * x + 2 + x\n",
    "z.backward()\n",
    "xpt, ypt = x, z\n",
    "\n",
    "# forward pass went well\n",
    "assert ymg.scalar == ypt.data.item()\n",
    "# backward pass went well\n",
    "print(xmg.grad, xpt.grad.item())\n",
    "assert xmg.grad == xpt.grad.item()\n"
   ]
  },
  {
   "cell_type": "code",
   "execution_count": 36,
   "metadata": {},
   "outputs": [
    {
     "name": "stdout",
     "output_type": "stream",
     "text": [
      "The autoreload extension is already loaded. To reload it, use:\n",
      "  %reload_ext autoreload\n",
      "-60.0 -60.0\n"
     ]
    }
   ],
   "source": [
    "%load_ext autoreload\n",
    "%autoreload 2\n",
    "%reload_ext autoreload\n",
    "from value import Value\n",
    "import torch\n",
    "\n",
    "\n",
    "x = Value(-4.0)\n",
    "z = 2 * x + 2 + x\n",
    "h = (z * z).relu()\n",
    "h.backward()\n",
    "xmg, ymg = x, h\n",
    "\n",
    "x = torch.Tensor([-4.0]).double()\n",
    "x.requires_grad = True\n",
    "z = 2 * x + 2 + x\n",
    "h = (z * z).relu()\n",
    "h.backward()\n",
    "xpt, ypt = x, h\n",
    "\n",
    "# forward pass went well\n",
    "assert ymg.scalar == ypt.data.item()\n",
    "# backward pass went well\n",
    "print(xmg.grad, xpt.grad.item())\n",
    "assert xmg.grad == xpt.grad.item()\n"
   ]
  },
  {
   "cell_type": "code",
   "execution_count": 39,
   "metadata": {},
   "outputs": [
    {
     "name": "stdout",
     "output_type": "stream",
     "text": [
      "The autoreload extension is already loaded. To reload it, use:\n",
      "  %reload_ext autoreload\n",
      "-82.0 -82.0\n"
     ]
    }
   ],
   "source": [
    "%load_ext autoreload\n",
    "%autoreload 2\n",
    "%reload_ext autoreload\n",
    "from value import Value\n",
    "import torch\n",
    "\n",
    "\n",
    "x = Value(-4.0)\n",
    "z = 2 * x + 2 + x\n",
    "q = z.relu() + z * x\n",
    "h = (z*z).relu()\n",
    "y = h + q\n",
    "y.backward()\n",
    "xmg, ymg = x, y\n",
    "\n",
    "x = torch.Tensor([-4.0]).double()\n",
    "x.requires_grad = True\n",
    "z = 2 * x + 2 + x\n",
    "q = z.relu() + z * x\n",
    "h = (z*z).relu()\n",
    "y = h + q\n",
    "y.backward()\n",
    "xpt, ypt = x, y\n",
    "\n",
    "# forward pass went well\n",
    "assert ymg.scalar == ypt.data.item()\n",
    "# backward pass went well\n",
    "print(xmg.grad, xpt.grad.item())\n",
    "assert xmg.grad == xpt.grad.item()\n",
    "\n",
    "\n"
   ]
  },
  {
   "cell_type": "code",
   "execution_count": 41,
   "metadata": {},
   "outputs": [
    {
     "ename": "TypeError",
     "evalue": "'>=' not supported between instances of 'Value' and 'int'",
     "output_type": "error",
     "traceback": [
      "\u001b[0;31m---------------------------------------------------------------------------\u001b[0m",
      "\u001b[0;31mTypeError\u001b[0m                                 Traceback (most recent call last)",
      "\u001b[1;32m/Users/yifeiyan/micrograd-yifei/notebook.ipynb Cell 10\u001b[0m line \u001b[0;36m7\n\u001b[1;32m      <a href='vscode-notebook-cell:/Users/yifeiyan/micrograd-yifei/notebook.ipynb#X10sZmlsZQ%3D%3D?line=4'>5</a>\u001b[0m c \u001b[39m+\u001b[39m\u001b[39m=\u001b[39m c \u001b[39m+\u001b[39m \u001b[39m1\u001b[39m\n\u001b[1;32m      <a href='vscode-notebook-cell:/Users/yifeiyan/micrograd-yifei/notebook.ipynb#X10sZmlsZQ%3D%3D?line=5'>6</a>\u001b[0m c \u001b[39m+\u001b[39m\u001b[39m=\u001b[39m \u001b[39m1\u001b[39m \u001b[39m+\u001b[39m c \u001b[39m+\u001b[39m (\u001b[39m-\u001b[39ma)\n\u001b[0;32m----> <a href='vscode-notebook-cell:/Users/yifeiyan/micrograd-yifei/notebook.ipynb#X10sZmlsZQ%3D%3D?line=6'>7</a>\u001b[0m d \u001b[39m+\u001b[39m\u001b[39m=\u001b[39m d \u001b[39m*\u001b[39m \u001b[39m2\u001b[39m \u001b[39m+\u001b[39m (b \u001b[39m+\u001b[39;49m a)\u001b[39m.\u001b[39;49mrelu()\n\u001b[1;32m      <a href='vscode-notebook-cell:/Users/yifeiyan/micrograd-yifei/notebook.ipynb#X10sZmlsZQ%3D%3D?line=7'>8</a>\u001b[0m d \u001b[39m+\u001b[39m\u001b[39m=\u001b[39m \u001b[39m3\u001b[39m \u001b[39m*\u001b[39m d \u001b[39m+\u001b[39m (b \u001b[39m-\u001b[39m a)\u001b[39m.\u001b[39mrelu()\n\u001b[1;32m      <a href='vscode-notebook-cell:/Users/yifeiyan/micrograd-yifei/notebook.ipynb#X10sZmlsZQ%3D%3D?line=8'>9</a>\u001b[0m e \u001b[39m=\u001b[39m c \u001b[39m-\u001b[39m d\n",
      "File \u001b[0;32m~/micrograd-yifei/value.py:29\u001b[0m, in \u001b[0;36mValue.relu\u001b[0;34m(self)\u001b[0m\n\u001b[1;32m     28\u001b[0m \u001b[39mdef\u001b[39;00m \u001b[39mrelu\u001b[39m(\u001b[39mself\u001b[39m):\n\u001b[0;32m---> 29\u001b[0m     out  \u001b[39m=\u001b[39m Value(\u001b[39mself\u001b[39m\u001b[39m.\u001b[39mscalar \u001b[39mif\u001b[39;00m \u001b[39mself\u001b[39;49m\u001b[39m.\u001b[39;49mscalar \u001b[39m>\u001b[39;49m\u001b[39m=\u001b[39;49m \u001b[39m0\u001b[39;49m \u001b[39melse\u001b[39;00m \u001b[39m0\u001b[39m, prevs\u001b[39m=\u001b[39m[\u001b[39mself\u001b[39m])\n\u001b[1;32m     31\u001b[0m     \u001b[39mdef\u001b[39;00m \u001b[39mcompute_prev_gradients\u001b[39m(last_grad):\n\u001b[1;32m     32\u001b[0m         \u001b[39mself\u001b[39m\u001b[39m.\u001b[39mgrad \u001b[39m+\u001b[39m\u001b[39m=\u001b[39m last_grad \u001b[39mif\u001b[39;00m \u001b[39mself\u001b[39m\u001b[39m.\u001b[39mscalar \u001b[39m>\u001b[39m\u001b[39m=\u001b[39m \u001b[39m0\u001b[39m \u001b[39melse\u001b[39;00m \u001b[39m0\u001b[39m\n",
      "\u001b[0;31mTypeError\u001b[0m: '>=' not supported between instances of 'Value' and 'int'"
     ]
    }
   ],
   "source": [
    "a = Value(-4.0)\n",
    "b = Value(2.0)\n",
    "c = a + b\n",
    "d = a * b + b**3\n",
    "c += c + 1\n",
    "c += 1 + c + (-a)\n",
    "d += d * 2 + (b + a).relu()\n",
    "d += 3 * d + (b - a).relu()\n",
    "e = c - d\n",
    "f = e**2\n",
    "g = f / 2.0\n",
    "g += 10.0 / f\n",
    "g.backward()\n",
    "amg, bmg, gmg = a, b, g\n",
    "\n",
    "a = torch.Tensor([-4.0]).double()\n",
    "b = torch.Tensor([2.0]).double()\n",
    "a.requires_grad = True\n",
    "b.requires_grad = True\n",
    "c = a + b\n",
    "d = a * b + b**3\n",
    "c = c + c + 1\n",
    "c = c + 1 + c + (-a)\n",
    "d = d + d * 2 + (b + a).relu()\n",
    "d = d + 3 * d + (b - a).relu()\n",
    "e = c - d\n",
    "f = e**2\n",
    "g = f / 2.0\n",
    "g = g + 10.0 / f\n",
    "g.backward()\n",
    "apt, bpt, gpt = a, b, g\n",
    "\n",
    "tol = 1e-6\n",
    "# forward pass went well\n",
    "assert abs(gmg.scalar - gpt.data.item()) < tol\n",
    "# backward pass went well\n",
    "assert abs(amg.grad - apt.grad.item()) < tol\n",
    "assert abs(bmg.grad - bpt.grad.item()) < tol"
   ]
  }
 ],
 "metadata": {
  "kernelspec": {
   "display_name": "micrograd-yifei",
   "language": "python",
   "name": "python3"
  },
  "language_info": {
   "codemirror_mode": {
    "name": "ipython",
    "version": 3
   },
   "file_extension": ".py",
   "mimetype": "text/x-python",
   "name": "python",
   "nbconvert_exporter": "python",
   "pygments_lexer": "ipython3",
   "version": "3.10.1"
  },
  "orig_nbformat": 4
 },
 "nbformat": 4,
 "nbformat_minor": 2
}
