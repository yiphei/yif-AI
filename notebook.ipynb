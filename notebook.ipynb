{
 "cells": [
  {
   "cell_type": "code",
   "execution_count": 4,
   "metadata": {},
   "outputs": [
    {
     "name": "stdout",
     "output_type": "stream",
     "text": [
      "The autoreload extension is already loaded. To reload it, use:\n",
      "  %reload_ext autoreload\n",
      "Value(48)\n"
     ]
    }
   ],
   "source": [
    "%load_ext autoreload\n",
    "%autoreload 2\n",
    "%reload_ext autoreload\n",
    "\n",
    "\n",
    "from value import Value\n",
    "a = Value(3)\n",
    "b = Value(5)\n",
    "c = a + b\n",
    "e = Value(6)\n",
    "d = c * e\n",
    "print(d)"
   ]
  },
  {
   "cell_type": "code",
   "execution_count": 5,
   "metadata": {},
   "outputs": [
    {
     "data": {
      "text/plain": [
       "1"
      ]
     },
     "execution_count": 5,
     "metadata": {},
     "output_type": "execute_result"
    }
   ],
   "source": [
    "d.backward()\n",
    "d.grad"
   ]
  },
  {
   "cell_type": "code",
   "execution_count": 6,
   "metadata": {},
   "outputs": [
    {
     "data": {
      "text/plain": [
       "6"
      ]
     },
     "execution_count": 6,
     "metadata": {},
     "output_type": "execute_result"
    }
   ],
   "source": [
    "c.grad"
   ]
  },
  {
   "cell_type": "code",
   "execution_count": 7,
   "metadata": {},
   "outputs": [
    {
     "data": {
      "text/plain": [
       "8"
      ]
     },
     "execution_count": 7,
     "metadata": {},
     "output_type": "execute_result"
    }
   ],
   "source": [
    "e.grad"
   ]
  },
  {
   "cell_type": "code",
   "execution_count": 8,
   "metadata": {},
   "outputs": [
    {
     "data": {
      "text/plain": [
       "6"
      ]
     },
     "execution_count": 8,
     "metadata": {},
     "output_type": "execute_result"
    }
   ],
   "source": [
    "a.grad"
   ]
  },
  {
   "cell_type": "code",
   "execution_count": 9,
   "metadata": {},
   "outputs": [
    {
     "data": {
      "text/plain": [
       "6"
      ]
     },
     "execution_count": 9,
     "metadata": {},
     "output_type": "execute_result"
    }
   ],
   "source": [
    "b.grad"
   ]
  },
  {
   "cell_type": "code",
   "execution_count": 35,
   "metadata": {},
   "outputs": [
    {
     "name": "stdout",
     "output_type": "stream",
     "text": [
      "The autoreload extension is already loaded. To reload it, use:\n",
      "  %reload_ext autoreload\n",
      "3 3.0\n"
     ]
    }
   ],
   "source": [
    "%load_ext autoreload\n",
    "%autoreload 2\n",
    "%reload_ext autoreload\n",
    "from value import Value\n",
    "import torch\n",
    "\n",
    "\n",
    "x = Value(-4.0)\n",
    "z = 2 * x + 2 + x\n",
    "z.backward()\n",
    "xmg, ymg = x, z\n",
    "\n",
    "x = torch.Tensor([-4.0]).double()\n",
    "x.requires_grad = True\n",
    "z = 2 * x + 2 + x\n",
    "z.backward()\n",
    "xpt, ypt = x, z\n",
    "\n",
    "# forward pass went well\n",
    "assert ymg.scalar == ypt.data.item()\n",
    "# backward pass went well\n",
    "print(xmg.grad, xpt.grad.item())\n",
    "assert xmg.grad == xpt.grad.item()\n"
   ]
  },
  {
   "cell_type": "code",
   "execution_count": 36,
   "metadata": {},
   "outputs": [
    {
     "name": "stdout",
     "output_type": "stream",
     "text": [
      "The autoreload extension is already loaded. To reload it, use:\n",
      "  %reload_ext autoreload\n",
      "-60.0 -60.0\n"
     ]
    }
   ],
   "source": [
    "%load_ext autoreload\n",
    "%autoreload 2\n",
    "%reload_ext autoreload\n",
    "from value import Value\n",
    "import torch\n",
    "\n",
    "\n",
    "x = Value(-4.0)\n",
    "z = 2 * x + 2 + x\n",
    "h = (z * z).relu()\n",
    "h.backward()\n",
    "xmg, ymg = x, h\n",
    "\n",
    "x = torch.Tensor([-4.0]).double()\n",
    "x.requires_grad = True\n",
    "z = 2 * x + 2 + x\n",
    "h = (z * z).relu()\n",
    "h.backward()\n",
    "xpt, ypt = x, h\n",
    "\n",
    "# forward pass went well\n",
    "assert ymg.scalar == ypt.data.item()\n",
    "# backward pass went well\n",
    "print(xmg.grad, xpt.grad.item())\n",
    "assert xmg.grad == xpt.grad.item()\n"
   ]
  },
  {
   "cell_type": "code",
   "execution_count": 43,
   "metadata": {},
   "outputs": [
    {
     "name": "stdout",
     "output_type": "stream",
     "text": [
      "The autoreload extension is already loaded. To reload it, use:\n",
      "  %reload_ext autoreload\n",
      "-82.0 -82.0\n"
     ]
    }
   ],
   "source": [
    "%load_ext autoreload\n",
    "%autoreload 2\n",
    "%reload_ext autoreload\n",
    "from value import Value\n",
    "import torch\n",
    "\n",
    "\n",
    "x = Value(-4.0)\n",
    "z = 2 * x + 2 + x\n",
    "q = z.relu() + z * x\n",
    "h = (z*z).relu()\n",
    "y = h + q\n",
    "y.backward()\n",
    "xmg, ymg = x, y\n",
    "\n",
    "x = torch.Tensor([-4.0]).double()\n",
    "x.requires_grad = True\n",
    "z = 2 * x + 2 + x\n",
    "q = z.relu() + z * x\n",
    "h = (z*z).relu()\n",
    "y = h + q\n",
    "y.backward()\n",
    "xpt, ypt = x, y\n",
    "\n",
    "# forward pass went well\n",
    "assert ymg.scalar == ypt.data.item()\n",
    "# backward pass went well\n",
    "print(xmg.grad, xpt.grad.item())\n",
    "assert xmg.grad == xpt.grad.item()\n",
    "\n",
    "\n"
   ]
  },
  {
   "cell_type": "code",
   "execution_count": 4,
   "metadata": {},
   "outputs": [
    {
     "name": "stdout",
     "output_type": "stream",
     "text": [
      "The autoreload extension is already loaded. To reload it, use:\n",
      "  %reload_ext autoreload\n"
     ]
    }
   ],
   "source": [
    "%load_ext autoreload\n",
    "%autoreload 2\n",
    "%reload_ext autoreload\n",
    "from value import Value\n",
    "import torch\n",
    "\n",
    "a = Value(-4.0)\n",
    "b = Value(2.0)\n",
    "c = a + b\n",
    "d = a * b + b**3\n",
    "c += c + 1\n",
    "c += 1 + c + (-a)\n",
    "d += d * 2 + (b + a).relu()\n",
    "d += 3 * d + (b - a).relu()\n",
    "e = c - d\n",
    "f = e**2\n",
    "g = f / 2.0\n",
    "g += 10.0 / f\n",
    "g.backward()\n",
    "amg, bmg, gmg = a, b, g\n",
    "\n",
    "a = torch.Tensor([-4.0]).double()\n",
    "b = torch.Tensor([2.0]).double()\n",
    "a.requires_grad = True\n",
    "b.requires_grad = True\n",
    "c = a + b\n",
    "d = a * b + b**3\n",
    "c = c + c + 1\n",
    "c = c + 1 + c + (-a)\n",
    "d = d + d * 2 + (b + a).relu()\n",
    "d = d + 3 * d + (b - a).relu()\n",
    "e = c - d\n",
    "f = e**2\n",
    "g = f / 2.0\n",
    "g = g + 10.0 / f\n",
    "g.backward()\n",
    "apt, bpt, gpt = a, b, g\n",
    "\n",
    "tol = 1e-6\n",
    "# forward pass went well\n",
    "assert abs(gmg.scalar - gpt.data.item()) < tol\n",
    "# backward pass went well\n",
    "assert abs(amg.grad - apt.grad.item()) < tol\n",
    "assert abs(bmg.grad - bpt.grad.item()) < tol"
   ]
  },
  {
   "cell_type": "code",
   "execution_count": 138,
   "metadata": {},
   "outputs": [
    {
     "name": "stdout",
     "output_type": "stream",
     "text": [
      "The autoreload extension is already loaded. To reload it, use:\n",
      "  %reload_ext autoreload\n"
     ]
    },
    {
     "data": {
      "text/plain": [
       "torch.float64"
      ]
     },
     "execution_count": 138,
     "metadata": {},
     "output_type": "execute_result"
    }
   ],
   "source": [
    "import torch\n",
    "%load_ext autoreload\n",
    "%autoreload 2\n",
    "%reload_ext autoreload\n",
    "from value import Value\n",
    "import torch\n",
    "\n",
    "torch.Tensor([[1,2,3], [1,1,1]]).double().dtype"
   ]
  },
  {
   "cell_type": "code",
   "execution_count": 139,
   "metadata": {},
   "outputs": [
    {
     "data": {
      "text/plain": [
       "Value(-0.42511074233397594)"
      ]
     },
     "execution_count": 139,
     "metadata": {},
     "output_type": "execute_result"
    }
   ],
   "source": [
    "from neuron import Neuron, MLP\n",
    "mlp = MLP(3, [4,4,1])\n",
    "mlp([1,2,3,])"
   ]
  },
  {
   "cell_type": "code",
   "execution_count": 140,
   "metadata": {},
   "outputs": [
    {
     "data": {
      "text/plain": [
       "[Value(-0.25947242270237225),\n",
       " Value(-0.4856532186888409),\n",
       " Value(-0.27084412547551595),\n",
       " Value(-0.2723607842564409)]"
      ]
     },
     "execution_count": 140,
     "metadata": {},
     "output_type": "execute_result"
    }
   ],
   "source": [
    "xs = [\n",
    "    [2,3,-1],\n",
    "    [3,-1,0.5],\n",
    "    [0.5,1,1],\n",
    "    [1,1,-1]\n",
    "]\n",
    "ys = [1,-1,-1,1]\n",
    "ypreds = [mlp(x) for x in xs]\n",
    "ypreds"
   ]
  },
  {
   "cell_type": "code",
   "execution_count": 141,
   "metadata": {},
   "outputs": [
    {
     "data": {
      "text/plain": [
       "Value(4.001393649660162)"
      ]
     },
     "execution_count": 141,
     "metadata": {},
     "output_type": "execute_result"
    }
   ],
   "source": [
    "loss = sum((y-ypred)**2 for y, ypred in zip(ys, ypreds))\n",
    "loss"
   ]
  },
  {
   "cell_type": "code",
   "execution_count": 142,
   "metadata": {},
   "outputs": [],
   "source": [
    "loss.backward()"
   ]
  },
  {
   "cell_type": "code",
   "execution_count": 143,
   "metadata": {},
   "outputs": [
    {
     "data": {
      "text/plain": [
       "0.13280917922511373"
      ]
     },
     "execution_count": 143,
     "metadata": {},
     "output_type": "execute_result"
    }
   ],
   "source": [
    "mlp.layers[0].neurons[0].w[0].grad"
   ]
  },
  {
   "cell_type": "code",
   "execution_count": 144,
   "metadata": {},
   "outputs": [
    {
     "data": {
      "text/plain": [
       "[Value(0.9096464129817521),\n",
       " Value(0.3604568517515834),\n",
       " Value(-0.7015712658543554),\n",
       " Value(-0.17405851651168858),\n",
       " Value(0.8951703099408836),\n",
       " Value(-0.620925808366017),\n",
       " Value(0.039685591822073096),\n",
       " Value(0.7316211574324747),\n",
       " Value(0.8321675089325162),\n",
       " Value(-0.203227204282717),\n",
       " Value(0.2672696635921008),\n",
       " Value(-0.6966376742968909),\n",
       " Value(0.16390797317520334),\n",
       " Value(-0.24692406791294474),\n",
       " Value(-0.6307706536595541),\n",
       " Value(0.8612217987120345),\n",
       " Value(0.03163660231042087),\n",
       " Value(-0.10109437163824464),\n",
       " Value(0.48066944392396005),\n",
       " Value(-0.5922859999740242),\n",
       " Value(-0.509333485623783),\n",
       " Value(0.5999565778289477),\n",
       " Value(-0.5200496307268754),\n",
       " Value(0.42498424486587116),\n",
       " Value(-0.5028439398049622),\n",
       " Value(0.61143218946599),\n",
       " Value(0.8697685354788254),\n",
       " Value(-0.14270720820123928),\n",
       " Value(-0.849779457642089),\n",
       " Value(-0.9824537440440508),\n",
       " Value(0.8228347080964038),\n",
       " Value(0.5309712568503264),\n",
       " Value(-0.06011214953532895),\n",
       " Value(0.37537563142890673),\n",
       " Value(0.5278147682797165),\n",
       " Value(-0.05956607490171395),\n",
       " Value(-0.46098472503865584),\n",
       " Value(0.30847190649370315),\n",
       " Value(0.21651821460039433),\n",
       " Value(-0.16848180388280531),\n",
       " Value(-0.784550044935219)]"
      ]
     },
     "execution_count": 144,
     "metadata": {},
     "output_type": "execute_result"
    }
   ],
   "source": [
    "mlp.parameters()"
   ]
  },
  {
   "cell_type": "code",
   "execution_count": 145,
   "metadata": {},
   "outputs": [],
   "source": [
    "for p in mlp.parameters():\n",
    "    p.scalar += - 0.1 * p.grad"
   ]
  },
  {
   "cell_type": "code",
   "execution_count": 146,
   "metadata": {},
   "outputs": [
    {
     "data": {
      "text/plain": [
       "[Value(0.8963654950592407),\n",
       " Value(0.3429048872629541),\n",
       " Value(-0.7330377781306584),\n",
       " Value(-0.19607076856543404),\n",
       " Value(0.8498213753058865),\n",
       " Value(-0.6780597417236053),\n",
       " Value(0.08619095316865227),\n",
       " Value(0.7108677097168598),\n",
       " Value(0.7678877551117872),\n",
       " Value(-0.2938237659777391),\n",
       " Value(0.3362539113441125),\n",
       " Value(-0.7187547543416635),\n",
       " Value(0.14602759035238083),\n",
       " Value(-0.27915428497433115),\n",
       " Value(-0.5794284803903375),\n",
       " Value(0.8635840590677071),\n",
       " Value(-0.024526593210983695),\n",
       " Value(-0.10482671575743789),\n",
       " Value(0.5025242693528494),\n",
       " Value(-0.6341135288940856),\n",
       " Value(-0.5244438485094702),\n",
       " Value(0.7061508700825909),\n",
       " Value(-0.47660799703539264),\n",
       " Value(0.3999906426124012),\n",
       " Value(-0.41531330836333424),\n",
       " Value(0.6777609042372161),\n",
       " Value(0.9071172431250778),\n",
       " Value(-0.13388551160476564),\n",
       " Value(-0.867290012364951),\n",
       " Value(-0.9531384004982376),\n",
       " Value(0.8435919216348081),\n",
       " Value(0.49138816518022055),\n",
       " Value(-0.0728160913776151),\n",
       " Value(0.3804910474726428),\n",
       " Value(0.49606015716533713),\n",
       " Value(-0.07680608360670721),\n",
       " Value(-0.7090867049118458),\n",
       " Value(0.4087786454293125),\n",
       " Value(0.46212179351050575),\n",
       " Value(0.10462180742837501),\n",
       " Value(-0.5277594737847044)]"
      ]
     },
     "execution_count": 146,
     "metadata": {},
     "output_type": "execute_result"
    }
   ],
   "source": [
    "mlp.parameters()"
   ]
  },
  {
   "cell_type": "code",
   "execution_count": 147,
   "metadata": {},
   "outputs": [
    {
     "data": {
      "text/plain": [
       "[Value(0.6644238885285902),\n",
       " Value(0.23608145994141214),\n",
       " Value(0.2883502031994156),\n",
       " Value(0.6200107716253626)]"
      ]
     },
     "execution_count": 147,
     "metadata": {},
     "output_type": "execute_result"
    }
   ],
   "source": [
    "ypreds = [mlp(x) for x in xs]\n",
    "ypreds"
   ]
  },
  {
   "cell_type": "code",
   "execution_count": 148,
   "metadata": {},
   "outputs": [
    {
     "data": {
      "text/plain": [
       "Value(3.4447467619658925)"
      ]
     },
     "execution_count": 148,
     "metadata": {},
     "output_type": "execute_result"
    }
   ],
   "source": [
    "loss = sum((y-ypred)**2 for y, ypred in zip(ys, ypreds))\n",
    "loss"
   ]
  },
  {
   "cell_type": "code",
   "execution_count": 152,
   "metadata": {},
   "outputs": [
    {
     "name": "stdout",
     "output_type": "stream",
     "text": [
      "Value(0.004846675405286136)\n",
      "Value(0.004845668249502954)\n",
      "Value(0.0048446614884224744)\n",
      "Value(0.004843655121819321)\n",
      "Value(0.004842649149468222)\n",
      "Value(0.0048416435711441524)\n",
      "Value(0.00484063838662218)\n",
      "Value(0.00483963359567759)\n",
      "Value(0.004838629198085816)\n",
      "Value(0.004837625193622482)\n",
      "Value(0.004836621582063317)\n",
      "Value(0.004835618363184311)\n",
      "Value(0.004834615536761522)\n",
      "Value(0.0048336131025712905)\n",
      "Value(0.004832611060389994)\n",
      "Value(0.004831609409994291)\n",
      "Value(0.004830608151160939)\n",
      "Value(0.004829607283666874)\n",
      "Value(0.004828606807289177)\n",
      "Value(0.004827606721805194)\n",
      "Value(0.004826607026992296)\n",
      "Value(0.004825607722628119)\n",
      "Value(0.004824608808490446)\n",
      "Value(0.004823610284357193)\n",
      "Value(0.004822612150006483)\n",
      "Value(0.004821614405216562)\n",
      "Value(0.0048206170497658955)\n",
      "Value(0.0048196200834330575)\n",
      "Value(0.004818623505996813)\n",
      "Value(0.0048176273172360895)\n",
      "Value(0.004816631516929986)\n",
      "Value(0.004815636104857754)\n",
      "Value(0.004814641080798827)\n",
      "Value(0.004813646444532772)\n",
      "Value(0.004812652195839337)\n",
      "Value(0.004811658334498462)\n",
      "Value(0.004810664860290187)\n",
      "Value(0.004809671772994784)\n",
      "Value(0.004808679072392652)\n",
      "Value(0.004807686758264333)\n",
      "Value(0.004806694830390571)\n",
      "Value(0.004805703288552281)\n",
      "Value(0.004804712132530474)\n",
      "Value(0.004803721362106382)\n",
      "Value(0.004802730977061395)\n",
      "Value(0.004801740977177056)\n",
      "Value(0.004800751362235067)\n",
      "Value(0.004799762132017286)\n",
      "Value(0.004798773286305768)\n",
      "Value(0.0047977848248826616)\n"
     ]
    }
   ],
   "source": [
    "for i in range(50):\n",
    "    ypreds = [mlp(x) for x in xs]\n",
    "    loss = sum((y-ypred)**2 for y, ypred in zip(ys, ypreds))\n",
    "    for p in mlp.parameters():\n",
    "        p.grad = 0.0\n",
    "\n",
    "    loss.backward()\n",
    "    for p in mlp.parameters():\n",
    "        p.scalar += - 0.001 * p.grad\n",
    "    print(loss)"
   ]
  },
  {
   "cell_type": "code",
   "execution_count": 153,
   "metadata": {},
   "outputs": [
    {
     "data": {
      "text/plain": [
       "[Value(0.9730355517981851),\n",
       " Value(-0.969728287698903),\n",
       " Value(-0.9697867622116599),\n",
       " Value(0.9526556544584347)]"
      ]
     },
     "execution_count": 153,
     "metadata": {},
     "output_type": "execute_result"
    }
   ],
   "source": [
    "ypreds"
   ]
  }
 ],
 "metadata": {
  "kernelspec": {
   "display_name": "micrograd-yifei",
   "language": "python",
   "name": "python3"
  },
  "language_info": {
   "codemirror_mode": {
    "name": "ipython",
    "version": 3
   },
   "file_extension": ".py",
   "mimetype": "text/x-python",
   "name": "python",
   "nbconvert_exporter": "python",
   "pygments_lexer": "ipython3",
   "version": "3.10.1"
  },
  "orig_nbformat": 4
 },
 "nbformat": 4,
 "nbformat_minor": 2
}
