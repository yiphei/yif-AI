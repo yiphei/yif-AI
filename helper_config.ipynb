{
 "cells": [
  {
   "cell_type": "code",
   "execution_count": 19,
   "metadata": {},
   "outputs": [],
   "source": [
    "CONFIG = \"\"\"\n",
    "{'lr': 0.0009,\n",
    " 'beta1': 0.9,\n",
    " 'beta2': 0.95,\n",
    " 'min_lr': 9e-05,\n",
    " 'decay_lr': True,\n",
    " 'est_steps': 200,\n",
    " 'batch_size': 50,\n",
    " 'train_steps': 9000,\n",
    " 'est_interval': 500,\n",
    " 'model_config': {'n_head': 5,\n",
    "                  'n_embed': 150,\n",
    "                  'n_layer': 13,\n",
    "                  'use_bias': False,\n",
    "                  'order_type': 1,\n",
    "                  'context_size': 200,\n",
    "                  'dropout_rate': 0,\n",
    "                  'cross_attn_config': {'n_head': 10, 'use_bias': False},\n",
    "                  'embedding_ln_type': 2,\n",
    "                  'use_ln_on_encoder_out': True,\n",
    "                  'embedding_loss_type': 2,\n",
    "                  'add_ln_before_decoder_ff': False,\n",
    "                  'add_pos_embed_to_decoder': False,\n",
    "                  'embedding_loss_coeff': 8,\n",
    "                  'sub_pos_embed_to_decoder': 2,\n",
    "                  'detach_type': 3},\n",
    " 'warmup_iters': 300,\n",
    " 'weight_decay': 0.1,\n",
    " 'lr_decay_iters': 700000,\n",
    " 'gradient_accumulation_steps': 16}\n",
    "\"\"\""
   ]
  },
  {
   "cell_type": "code",
   "execution_count": 20,
   "metadata": {},
   "outputs": [],
   "source": [
    "import re\n",
    "import json\n",
    "import yaml\n",
    "# Remove the outer-most curly brackets\n",
    "CONFIG = CONFIG.strip()\n",
    "\n",
    "# Function to replace keys' single quotes with double quotes\n",
    "def replace_keys_quotes(match):\n",
    "    return f'\"{match.group(1)}\":'\n",
    "\n",
    "# Replace the keys' single quotes with double quotes\n",
    "text = re.sub(r\"'(\\w+)'\\s*:\", replace_keys_quotes, CONFIG)\n",
    "\n",
    "def replace_values(match):\n",
    "    value = match.group(2)\n",
    "    if value == 'True':\n",
    "        return match.group(1) + 'true'\n",
    "    elif value == 'False':\n",
    "        return match.group(1) + 'false'\n",
    "    elif value == 'None':\n",
    "        return match.group(1) + 'null'\n",
    "    return match.group(0)\n",
    "\n",
    "text = re.sub(r'(:\\s*)(True|False|None)', replace_values, text)\n",
    "\n",
    "data = json.loads(text)\n",
    "\n",
    "yaml_file_path = 'autoregressive_encoder_decoder_transformer/train_configs/with_mse_embedding_loss_and_pos_sub.yaml'\n",
    "with open(yaml_file_path, 'w') as yaml_file:\n",
    "    yaml.dump(data, yaml_file, default_flow_style=False)\n"
   ]
  }
 ],
 "metadata": {
  "kernelspec": {
   "display_name": "yif-ai",
   "language": "python",
   "name": "python3"
  },
  "language_info": {
   "codemirror_mode": {
    "name": "ipython",
    "version": 3
   },
   "file_extension": ".py",
   "mimetype": "text/x-python",
   "name": "python",
   "nbconvert_exporter": "python",
   "pygments_lexer": "ipython3",
   "version": "3.11.9"
  }
 },
 "nbformat": 4,
 "nbformat_minor": 2
}
