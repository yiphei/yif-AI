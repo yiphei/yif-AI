{
 "cells": [
  {
   "cell_type": "code",
   "execution_count": 27,
   "metadata": {},
   "outputs": [
    {
     "name": "stdout",
     "output_type": "stream",
     "text": [
      "torch.Size([1, 1, 3, 2])\n",
      "torch.Size([1, 2, 1, 2])\n",
      "torch.Size([1, 2, 3, 2])\n",
      "tensor([[[[ 1., -2.],\n",
      "          [ 2., -4.],\n",
      "          [ 3., -6.]],\n",
      "\n",
      "         [[ 3., -2.],\n",
      "          [ 6., -4.],\n",
      "          [ 9., -6.]]]])\n",
      "tensor([[[[0., 0.],\n",
      "          [0., 0.],\n",
      "          [1., 0.]],\n",
      "\n",
      "         [[1., 0.],\n",
      "          [1., 0.],\n",
      "          [1., 0.]]]])\n",
      "tensor([0.0000, 0.0000, 0.5000, 0.5000, 0.5000, 0.5000])\n",
      "tensor(0.1667)\n"
     ]
    }
   ],
   "source": [
    "import torch\n",
    "\n",
    "weights = torch.tensor([[1.0, -1.0], [2.0, -2.0], [3.0, -3.0]])\n",
    "x = torch.tensor([[[1.0, 2.0], [3.0, 2.0]]])\n",
    "\n",
    "W_expanded = weights.unsqueeze(0).unsqueeze(0)  # Shape (1, 1, out_dim, in_dim)\n",
    "X_expanded = x.unsqueeze(2)  # Shape (batch_dim, time_dim, 1, in_dim)\n",
    "print(W_expanded.shape)\n",
    "print(X_expanded.shape)\n",
    "Y = W_expanded * X_expanded  # Shape (batch_dim, time_dim, out_dim, in_dim)\n",
    "print(Y.shape)\n",
    "print(Y)\n",
    "print((Y > 2.5).float())\n",
    "print((Y > 2.5).float().mean(dim=-1).flatten())\n",
    "print(((Y > 2.5).float().mean(dim=-1).flatten() - 0.5).abs().mean())"
   ]
  },
  {
   "cell_type": "code",
   "execution_count": null,
   "metadata": {},
   "outputs": [],
   "source": []
  }
 ],
 "metadata": {
  "kernelspec": {
   "display_name": "yif-ai",
   "language": "python",
   "name": "python3"
  },
  "language_info": {
   "codemirror_mode": {
    "name": "ipython",
    "version": 3
   },
   "file_extension": ".py",
   "mimetype": "text/x-python",
   "name": "python",
   "nbconvert_exporter": "python",
   "pygments_lexer": "ipython3",
   "version": "3.10.1"
  }
 },
 "nbformat": 4,
 "nbformat_minor": 2
}
