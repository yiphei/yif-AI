{
 "cells": [
  {
   "cell_type": "code",
   "execution_count": 29,
   "metadata": {},
   "outputs": [
    {
     "name": "stdout",
     "output_type": "stream",
     "text": [
      "The autoreload extension is already loaded. To reload it, use:\n",
      "  %reload_ext autoreload\n"
     ]
    }
   ],
   "source": [
    "%load_ext autoreload\n",
    "%autoreload 2\n",
    "%reload_ext autoreload\n",
    "from common import AutoMappedEnum, adapted_dataclass\n",
    "\n",
    "class SomeEnum(AutoMappedEnum):\n",
    "    A = \"A\"\n",
    "    B = \"B\"\n",
    "    C = \"C\"\n",
    "    D = \"D\""
   ]
  },
  {
   "cell_type": "code",
   "execution_count": 30,
   "metadata": {},
   "outputs": [
    {
     "data": {
      "text/plain": [
       "({1: <SomeEnum.A: 'A'>,\n",
       "  2: <SomeEnum.B: 'B'>,\n",
       "  3: <SomeEnum.C: 'C'>,\n",
       "  4: <SomeEnum.D: 'D'>},\n",
       " <SomeEnum.A: 'A'>,\n",
       " <SomeEnum.B: 'B'>,\n",
       " <SomeEnum.C: 'C'>,\n",
       " <SomeEnum.D: 'D'>)"
      ]
     },
     "execution_count": 30,
     "metadata": {},
     "output_type": "execute_result"
    }
   ],
   "source": [
    "SomeEnum.int_mapping, SomeEnum.int_mapping[1], SomeEnum.int_mapping[2], SomeEnum.int_mapping[3], SomeEnum.int_mapping[4]"
   ]
  },
  {
   "cell_type": "code",
   "execution_count": 31,
   "metadata": {},
   "outputs": [
    {
     "data": {
      "text/plain": [
       "(<SomeEnum.A: 'A'>, <SomeEnum.A: 'A'>, True)"
      ]
     },
     "execution_count": 31,
     "metadata": {},
     "output_type": "execute_result"
    }
   ],
   "source": [
    "\n",
    "@adapted_dataclass\n",
    "class Config:\n",
    "    enum_value: SomeEnum\n",
    "\n",
    "config = Config(enum_value=1)\n",
    "config_2 = Config(enum_value=\"A\")\n",
    "\n",
    "config.enum_value, config_2.enum_value, config.enum_value == config_2.enum_value"
   ]
  }
 ],
 "metadata": {
  "kernelspec": {
   "display_name": "yif-ai",
   "language": "python",
   "name": "python3"
  },
  "language_info": {
   "codemirror_mode": {
    "name": "ipython",
    "version": 3
   },
   "file_extension": ".py",
   "mimetype": "text/x-python",
   "name": "python",
   "nbconvert_exporter": "python",
   "pygments_lexer": "ipython3",
   "version": "3.11.9"
  }
 },
 "nbformat": 4,
 "nbformat_minor": 2
}
