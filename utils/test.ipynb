{
 "cells": [
  {
   "cell_type": "code",
   "execution_count": 186,
   "metadata": {},
   "outputs": [
    {
     "name": "stdout",
     "output_type": "stream",
     "text": [
      "The autoreload extension is already loaded. To reload it, use:\n",
      "  %reload_ext autoreload\n"
     ]
    }
   ],
   "source": [
    "%load_ext autoreload\n",
    "%autoreload 2\n",
    "%reload_ext autoreload\n",
    "from common import IntMappedEnum, custom_dataclass\n",
    "from typing import Optional\n",
    "\n",
    "class SomeEnum(IntMappedEnum):\n",
    "    B = \"B\"\n",
    "    A = \"A\"\n",
    "    C = \"C\"\n",
    "    D = \"D\"\n",
    "    E = \"E\"\n",
    "    F = \"F\"\n",
    "\n",
    "@custom_dataclass\n",
    "class Config:\n",
    "    enum_value: SomeEnum = SomeEnum.D\n",
    "    index: Optional[int] = None\n",
    "\n",
    "    def __post_init__(self):\n",
    "        if self.index is None:\n",
    "            self.index = 10\n"
   ]
  },
  {
   "cell_type": "code",
   "execution_count": 187,
   "metadata": {},
   "outputs": [
    {
     "data": {
      "text/plain": [
       "(Config(enum_value=<SomeEnum.B: 'B'>, index=2),\n",
       " Config(enum_value=<SomeEnum.A: 'A'>, index=10),\n",
       " Config(enum_value=<SomeEnum.A: 'A'>, index=3),\n",
       " Config(enum_value=None, index=1111),\n",
       " Config(enum_value=<SomeEnum.D: 'D'>, index=10))"
      ]
     },
     "execution_count": 187,
     "metadata": {},
     "output_type": "execute_result"
    }
   ],
   "source": [
    "config_1 = Config(enum_value=1, index =  2)\n",
    "config_2 = Config(enum_value=\"A\")\n",
    "config_3 = Config(enum_value=SomeEnum.A, index = 3)\n",
    "config_4 = Config(enum_value=None, index = 1111)\n",
    "config_5 = Config()\n",
    "\n",
    "config_1, config_2, config_3, config_4, config_5"
   ]
  }
 ],
 "metadata": {
  "kernelspec": {
   "display_name": "yif-ai",
   "language": "python",
   "name": "python3"
  },
  "language_info": {
   "codemirror_mode": {
    "name": "ipython",
    "version": 3
   },
   "file_extension": ".py",
   "mimetype": "text/x-python",
   "name": "python",
   "nbconvert_exporter": "python",
   "pygments_lexer": "ipython3",
   "version": "3.11.9"
  }
 },
 "nbformat": 4,
 "nbformat_minor": 2
}
