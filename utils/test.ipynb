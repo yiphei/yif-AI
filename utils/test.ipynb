{
 "cells": [
  {
   "cell_type": "code",
   "execution_count": 132,
   "metadata": {},
   "outputs": [
    {
     "name": "stdout",
     "output_type": "stream",
     "text": [
      "The autoreload extension is already loaded. To reload it, use:\n",
      "  %reload_ext autoreload\n",
      "<enum 'SomeEnum'>\n"
     ]
    }
   ],
   "source": [
    "%load_ext autoreload\n",
    "%autoreload 2\n",
    "%reload_ext autoreload\n",
    "from common import IntMappedEnum, custom_dataclass\n",
    "\n",
    "class SomeEnum(IntMappedEnum):\n",
    "    A = \"A\"\n",
    "    B = \"B\"\n",
    "    C = \"C\"\n",
    "    D = \"D\"\n",
    "\n",
    "issubclass(SomeEnum, IntMappedEnum)\n",
    "print(SomeEnum)"
   ]
  },
  {
   "cell_type": "code",
   "execution_count": 133,
   "metadata": {},
   "outputs": [
    {
     "data": {
      "text/plain": [
       "({1: <SomeEnum.A: 'A'>,\n",
       "  2: <SomeEnum.B: 'B'>,\n",
       "  3: <SomeEnum.C: 'C'>,\n",
       "  4: <SomeEnum.D: 'D'>},\n",
       " <SomeEnum.A: 'A'>,\n",
       " <SomeEnum.B: 'B'>,\n",
       " <SomeEnum.C: 'C'>,\n",
       " <SomeEnum.D: 'D'>)"
      ]
     },
     "execution_count": 133,
     "metadata": {},
     "output_type": "execute_result"
    }
   ],
   "source": [
    "SomeEnum.int_mapping, SomeEnum.int_mapping[1], SomeEnum.int_mapping[2], SomeEnum.int_mapping[3], SomeEnum.int_mapping[4]"
   ]
  },
  {
   "cell_type": "code",
   "execution_count": 134,
   "metadata": {},
   "outputs": [
    {
     "name": "stdout",
     "output_type": "stream",
     "text": [
      "HEHEHEHE\n",
      "HEHEHEHE\n",
      "HEHEHEHE\n",
      "HEHEHEHE\n"
     ]
    },
    {
     "data": {
      "text/plain": [
       "(<SomeEnum.A: 'A'>,\n",
       " <SomeEnum.A: 'A'>,\n",
       " <SomeEnum.A: 'A'>,\n",
       " <SomeEnum.D: 'D'>,\n",
       " True)"
      ]
     },
     "execution_count": 134,
     "metadata": {},
     "output_type": "execute_result"
    }
   ],
   "source": [
    "\n",
    "@custom_dataclass\n",
    "class Config:\n",
    "    enum_value: SomeEnum = SomeEnum.D\n",
    "\n",
    "    def __post_init__(self):\n",
    "        print(\"HEHEHEHE\")\n",
    "\n",
    "config = Config(enum_value=1)\n",
    "config_2 = Config(enum_value=\"A\")\n",
    "config_4 = Config(enum_value=SomeEnum.A)\n",
    "config_3 = Config()\n",
    "\n",
    "config.enum_value, config_4.enum_value, config_2.enum_value, config_3.enum_value, config.enum_value == config_2.enum_value"
   ]
  }
 ],
 "metadata": {
  "kernelspec": {
   "display_name": "yif-ai",
   "language": "python",
   "name": "python3"
  },
  "language_info": {
   "codemirror_mode": {
    "name": "ipython",
    "version": 3
   },
   "file_extension": ".py",
   "mimetype": "text/x-python",
   "name": "python",
   "nbconvert_exporter": "python",
   "pygments_lexer": "ipython3",
   "version": "3.11.9"
  }
 },
 "nbformat": 4,
 "nbformat_minor": 2
}
