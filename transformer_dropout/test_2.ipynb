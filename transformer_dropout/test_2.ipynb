{
 "cells": [
  {
   "cell_type": "code",
   "execution_count": 26,
   "metadata": {},
   "outputs": [
    {
     "data": {
      "text/plain": [
       "tensor(12.5310)"
      ]
     },
     "execution_count": 26,
     "metadata": {},
     "output_type": "execute_result"
    }
   ],
   "source": [
    "import torch\n",
    "\n",
    "x = torch.tensor([[ -7.532130,  -0.630024,  -0.024605,   1.860925],\n",
    "         [ 12.531028,  -3.839604,   0.357181,  -5.945634],\n",
    "         [-15.687433,   0.630452,  -0.067189,   4.950918]], dtype=torch.float32)\n",
    "y = torch.tensor([7.086590, -1.596113, 2.586198,0.733046])\n",
    "\n",
    "torch.dot(x, y)"
   ]
  },
  {
   "cell_type": "code",
   "execution_count": 44,
   "metadata": {},
   "outputs": [
    {
     "data": {
      "text/plain": [
       "tensor([[9.7355e-01, 9.3533e-07, 4.7937e-03, 2.7827e-07],\n",
       "        [7.2444e-09, 1.1281e-03, 4.6585e-05, 1.8962e-02],\n",
       "        [5.3460e-05, 1.6564e-07, 1.4633e-03, 5.2636e-07]])"
      ]
     },
     "execution_count": 44,
     "metadata": {},
     "output_type": "execute_result"
    }
   ],
   "source": [
    "\n",
    "x = torch.tensor([[  7.686772,  -6.168791,   2.373116,  -7.381088],\n",
    "         [-11.029455,   0.926345,  -2.260651,   3.748278],\n",
    "         [ -2.122995,  -7.899879,   1.186521,  -6.743710]], dtype=torch.float32)\n",
    "\n",
    "\n",
    "exp_x = torch.exp(x)\n",
    "\n",
    "a = exp_x / exp_x.sum(dim = (0,1), keepdim = True)\n",
    "a"
   ]
  },
  {
   "cell_type": "code",
   "execution_count": 51,
   "metadata": {},
   "outputs": [
    {
     "data": {
      "text/plain": [
       "tensor([[[5.0000e-01, 1.5230e-08, 9.9999e-01, 5.0000e-01],\n",
       "         [9.9753e-01, 3.7751e-11, 6.1442e-06, 6.1442e-06],\n",
       "         [2.4726e-03, 6.1442e-06, 9.9753e-01, 9.9999e-01]],\n",
       "\n",
       "        [[5.0000e-01, 9.3576e-14, 1.5230e-08, 1.5230e-08],\n",
       "         [6.1442e-06, 1.5230e-08, 5.0000e-01, 9.9753e-01],\n",
       "         [9.9999e-01, 2.3195e-16, 5.0000e-01, 6.1442e-06]]])"
      ]
     },
     "execution_count": 51,
     "metadata": {},
     "output_type": "execute_result"
    }
   ],
   "source": [
    "x = torch.tensor([[[1,-2,3, 1],[2,-3,-1, -1], [0,-1,2, 3]], \n",
    "                  [[2,-3,-1, -1],[0,-1,2, 3],[4,-4,2,0]]], dtype=torch.float32)\n",
    "x = x/ 10\n",
    "\n",
    "l_means = torch.tensor([[[.1]], [[.2]]])\n",
    "\n",
    "dropout_mask = 1 / (1 + torch.exp(-(x * 60 - 60 * l_means)))\n",
    "dropout_mask"
   ]
  }
 ],
 "metadata": {
  "kernelspec": {
   "display_name": "yif-ai",
   "language": "python",
   "name": "python3"
  },
  "language_info": {
   "codemirror_mode": {
    "name": "ipython",
    "version": 3
   },
   "file_extension": ".py",
   "mimetype": "text/x-python",
   "name": "python",
   "nbconvert_exporter": "python",
   "pygments_lexer": "ipython3",
   "version": "3.10.1"
  }
 },
 "nbformat": 4,
 "nbformat_minor": 2
}
