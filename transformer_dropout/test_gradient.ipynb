{
 "cells": [
  {
   "cell_type": "code",
   "execution_count": 46,
   "metadata": {},
   "outputs": [
    {
     "name": "stdout",
     "output_type": "stream",
     "text": [
      "dropout_mask: tensor([0.9783917665], grad_fn=<LearnedDropoutFunctionBackward>)\n",
      "loss: tensor([0.0019567837], grad_fn=<MulBackward0>)\n",
      "grad_output: tensor([0.0020000001])\n",
      "A: Parameter containing:\n",
      "tensor([1.0000000000e+09], requires_grad=True)\n",
      "B: Parameter containing:\n",
      "tensor([0.], requires_grad=True)\n",
      "x: tensor([0.0010000000], requires_grad=True)\n",
      "grad_A : tensor([0.0001454006])\n",
      "grad_B : tensor([0.1454006284])\n"
     ]
    }
   ],
   "source": [
    "import torch\n",
    "from torch import nn\n",
    "import numpy as np\n",
    "torch.set_printoptions(precision=10)\n",
    "\n",
    "class LearnedDropoutFunction(torch.autograd.Function):\n",
    "    @staticmethod\n",
    "    def forward(ctx, x, A, B):\n",
    "        ctx.save_for_backward(x, A, B)\n",
    "        dropout_mask = 0.5 * torch.cos(A * x + B) + 0.5\n",
    "        return dropout_mask\n",
    "\n",
    "    @staticmethod\n",
    "    def backward(ctx, grad_output):\n",
    "        print(f\"grad_output: {grad_output}\")\n",
    "        x, A, B = ctx.saved_tensors\n",
    "        base_gradient = -0.5 * torch.sin(A* x + B)\n",
    "        x_grad_wrt_dropout_mask = base_gradient * 0.04\n",
    "        # x_grad_wrt_dropout_mask = x_grad_wrt_dropout_mask % (np.pi / A)\n",
    "\n",
    "        grad_x = grad_output * x_grad_wrt_dropout_mask\n",
    "        grad_A = grad_output * base_gradient * x\n",
    "        grad_B = grad_output * base_gradient\n",
    "        print(f\"A: {A}\")\n",
    "        print(f\"B: {B}\")\n",
    "        print(f\"x: {x}\")\n",
    "        print(f\"grad_A : {base_gradient * x}\")\n",
    "        print(f\"grad_B : {base_gradient}\")\n",
    "        return grad_x, grad_A, grad_B\n",
    "\n",
    "class LearnedDropout(nn.Module):\n",
    "    def __init__(self, dim_in):\n",
    "        super(LearnedDropout, self).__init__()\n",
    "        self.A = nn.Parameter(\n",
    "            torch.normal(\n",
    "                1000000000,\n",
    "                0,\n",
    "                size=(dim_in,),\n",
    "            )\n",
    "        )\n",
    "        self.B = nn.Parameter(\n",
    "            torch.normal(\n",
    "                0,\n",
    "                0,\n",
    "                size=(dim_in,),\n",
    "            )\n",
    "        )\n",
    "\n",
    "    def forward(self, x):\n",
    "        dropout_mask = LearnedDropoutFunction.apply(x, self.A, self.B)\n",
    "        print(f\"dropout_mask: {dropout_mask}\")\n",
    "        return x * dropout_mask\n",
    "    \n",
    "\n",
    "LD = LearnedDropout(1)\n",
    "x = torch.tensor([0.001], requires_grad=True)\n",
    "loss = LD(x)\n",
    "loss = loss * 2\n",
    "print(f\"loss: {loss}\")\n",
    "loss.backward()\n"
   ]
  },
  {
   "cell_type": "code",
   "execution_count": 47,
   "metadata": {},
   "outputs": [
    {
     "data": {
      "text/plain": [
       "(tensor([1.9567952156]), tensor([2.9080129593e-07]), tensor([0.0002908013]))"
      ]
     },
     "execution_count": 47,
     "metadata": {},
     "output_type": "execute_result"
    }
   ],
   "source": [
    "x.grad, LD.A.grad, LD.B.grad"
   ]
  },
  {
   "cell_type": "code",
   "execution_count": 48,
   "metadata": {},
   "outputs": [
    {
     "name": "stdout",
     "output_type": "stream",
     "text": [
      "tensor(0.1454006284)\n"
     ]
    }
   ],
   "source": [
    "a = torch.tensor(1000000000)\n",
    "y = torch.tensor(0.001)\n",
    "print(-0.5 * torch.sin(a * y))"
   ]
  }
 ],
 "metadata": {
  "kernelspec": {
   "display_name": "yif-ai",
   "language": "python",
   "name": "python3"
  },
  "language_info": {
   "codemirror_mode": {
    "name": "ipython",
    "version": 3
   },
   "file_extension": ".py",
   "mimetype": "text/x-python",
   "name": "python",
   "nbconvert_exporter": "python",
   "pygments_lexer": "ipython3",
   "version": "3.10.1"
  }
 },
 "nbformat": 4,
 "nbformat_minor": 2
}
