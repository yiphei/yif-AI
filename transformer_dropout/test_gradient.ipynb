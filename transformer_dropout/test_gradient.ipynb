{
 "cells": [
  {
   "cell_type": "code",
   "execution_count": 51,
   "metadata": {},
   "outputs": [
    {
     "name": "stdout",
     "output_type": "stream",
     "text": [
      "tensor([1.4041], grad_fn=<MulBackward0>)\n"
     ]
    }
   ],
   "source": [
    "import torch\n",
    "from torch import nn\n",
    "import numpy as np\n",
    "\n",
    "class LearnedDropoutFunction(torch.autograd.Function):\n",
    "    @staticmethod\n",
    "    def forward(ctx, x, A, B):\n",
    "        ctx.save_for_backward(x, A, B)\n",
    "        dropout_mask = 0.5 * torch.cos(A * x + B) + 0.5\n",
    "        return dropout_mask\n",
    "\n",
    "    @staticmethod\n",
    "    def backward(ctx, grad_output):\n",
    "        x, A, B = ctx.saved_tensors\n",
    "        base_gradient = -0.5 * torch.sin(A* x + B)\n",
    "        x_grad_wrt_dropout_mask = base_gradient * A\n",
    "        x_grad_wrt_dropout_mask = x_grad_wrt_dropout_mask % (np.pi / A)\n",
    "\n",
    "        grad_x = grad_output * x_grad_wrt_dropout_mask\n",
    "        grad_A = base_gradient * x\n",
    "        grad_B = base_gradient\n",
    "        return grad_x, grad_A, grad_B\n",
    "\n",
    "class LearnedDropout(nn.Module):\n",
    "    def __init__(self, dim_in):\n",
    "        super(LearnedDropout, self).__init__()\n",
    "        self.A = nn.Parameter(\n",
    "            torch.normal(\n",
    "                1000000000,\n",
    "                0,\n",
    "                size=(dim_in,),\n",
    "            )\n",
    "        )\n",
    "        self.B = nn.Parameter(\n",
    "            torch.normal(\n",
    "                0,\n",
    "                0,\n",
    "                size=(dim_in,),\n",
    "            )\n",
    "        )\n",
    "\n",
    "    def forward(self, x):\n",
    "        dropout_mask = LearnedDropoutFunction.apply(x, self.A, self.B)\n",
    "        return x * dropout_mask\n",
    "    \n",
    "\n",
    "LD = LearnedDropout(1)\n",
    "x = torch.tensor([2.0], requires_grad=True)\n",
    "loss = LD(x)\n",
    "loss = loss\n",
    "print(loss)\n",
    "loss.backward()\n"
   ]
  },
  {
   "cell_type": "code",
   "execution_count": 52,
   "metadata": {},
   "outputs": [
    {
     "data": {
      "text/plain": [
       "(tensor([0.7021]), tensor([-0.9147]), tensor([-0.4574]))"
      ]
     },
     "execution_count": 52,
     "metadata": {},
     "output_type": "execute_result"
    }
   ],
   "source": [
    "x.grad, LD.A.grad, LD.B.grad"
   ]
  }
 ],
 "metadata": {
  "kernelspec": {
   "display_name": "yif-ai",
   "language": "python",
   "name": "python3"
  },
  "language_info": {
   "codemirror_mode": {
    "name": "ipython",
    "version": 3
   },
   "file_extension": ".py",
   "mimetype": "text/x-python",
   "name": "python",
   "nbconvert_exporter": "python",
   "pygments_lexer": "ipython3",
   "version": "3.10.1"
  }
 },
 "nbformat": 4,
 "nbformat_minor": 2
}
