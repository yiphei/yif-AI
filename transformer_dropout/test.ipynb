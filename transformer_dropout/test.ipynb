{
 "cells": [
  {
   "cell_type": "code",
   "execution_count": 51,
   "metadata": {},
   "outputs": [
    {
     "data": {
      "text/plain": [
       "(tensor([[ -6,   9,   3, -10,  -7,   9],\n",
       "         [ -3,  -7,   7,  -7,  -9,  -4],\n",
       "         [  6,   9,   8,   6,   6,  -2],\n",
       "         [  4,   3,  -4,   9,   1,   4]]),\n",
       " tensor([[[ -6,  -9,  -1,  -1,  -1, -10],\n",
       "          [ -9,   2,  -7, -10,   5,  -5],\n",
       "          [ -8,   9,   1,  -2,   8,  -7],\n",
       "          [  6,  -1,   1,   7,  -7,   5],\n",
       "          [ -8,   1, -10,  -1,   3,  -9]],\n",
       " \n",
       "         [[  1, -10,  -7,  -4,   6,  -3],\n",
       "          [  9,  -4,  -7,   4,   5, -10],\n",
       "          [  8,   2,  -2,   2,   7,  -5],\n",
       "          [  0, -10,  -2,  -9,   9,   6],\n",
       "          [ -9,   0,  -8,   9,  -6,   3]]]))"
      ]
     },
     "execution_count": 51,
     "metadata": {},
     "output_type": "execute_result"
    }
   ],
   "source": [
    "import torch\n",
    "\n",
    "\n",
    "torch.manual_seed(0)\n",
    "\n",
    "A = torch.randint(-10, 10,(4,6))\n",
    "B = torch.randint(-10, 10,(2, 5,6))\n",
    "\n",
    "A, B"
   ]
  },
  {
   "cell_type": "code",
   "execution_count": 52,
   "metadata": {},
   "outputs": [
    {
     "name": "stdout",
     "output_type": "stream",
     "text": [
      "torch.Size([2, 5, 4, 6]) torch.Size([2, 5, 4, 6])\n"
     ]
    },
    {
     "data": {
      "text/plain": [
       "(tensor([[[[ -6,   9,   3, -10,  -7,   9],\n",
       "           [ -3,  -7,   7,  -7,  -9,  -4],\n",
       "           [  6,   9,   8,   6,   6,  -2],\n",
       "           [  4,   3,  -4,   9,   1,   4]],\n",
       " \n",
       "          [[ -6,   9,   3, -10,  -7,   9],\n",
       "           [ -3,  -7,   7,  -7,  -9,  -4],\n",
       "           [  6,   9,   8,   6,   6,  -2],\n",
       "           [  4,   3,  -4,   9,   1,   4]],\n",
       " \n",
       "          [[ -6,   9,   3, -10,  -7,   9],\n",
       "           [ -3,  -7,   7,  -7,  -9,  -4],\n",
       "           [  6,   9,   8,   6,   6,  -2],\n",
       "           [  4,   3,  -4,   9,   1,   4]],\n",
       " \n",
       "          [[ -6,   9,   3, -10,  -7,   9],\n",
       "           [ -3,  -7,   7,  -7,  -9,  -4],\n",
       "           [  6,   9,   8,   6,   6,  -2],\n",
       "           [  4,   3,  -4,   9,   1,   4]],\n",
       " \n",
       "          [[ -6,   9,   3, -10,  -7,   9],\n",
       "           [ -3,  -7,   7,  -7,  -9,  -4],\n",
       "           [  6,   9,   8,   6,   6,  -2],\n",
       "           [  4,   3,  -4,   9,   1,   4]]],\n",
       " \n",
       " \n",
       "         [[[ -6,   9,   3, -10,  -7,   9],\n",
       "           [ -3,  -7,   7,  -7,  -9,  -4],\n",
       "           [  6,   9,   8,   6,   6,  -2],\n",
       "           [  4,   3,  -4,   9,   1,   4]],\n",
       " \n",
       "          [[ -6,   9,   3, -10,  -7,   9],\n",
       "           [ -3,  -7,   7,  -7,  -9,  -4],\n",
       "           [  6,   9,   8,   6,   6,  -2],\n",
       "           [  4,   3,  -4,   9,   1,   4]],\n",
       " \n",
       "          [[ -6,   9,   3, -10,  -7,   9],\n",
       "           [ -3,  -7,   7,  -7,  -9,  -4],\n",
       "           [  6,   9,   8,   6,   6,  -2],\n",
       "           [  4,   3,  -4,   9,   1,   4]],\n",
       " \n",
       "          [[ -6,   9,   3, -10,  -7,   9],\n",
       "           [ -3,  -7,   7,  -7,  -9,  -4],\n",
       "           [  6,   9,   8,   6,   6,  -2],\n",
       "           [  4,   3,  -4,   9,   1,   4]],\n",
       " \n",
       "          [[ -6,   9,   3, -10,  -7,   9],\n",
       "           [ -3,  -7,   7,  -7,  -9,  -4],\n",
       "           [  6,   9,   8,   6,   6,  -2],\n",
       "           [  4,   3,  -4,   9,   1,   4]]]]),\n",
       " tensor([[[[ -6,  -9,  -1,  -1,  -1, -10],\n",
       "           [ -6,  -9,  -1,  -1,  -1, -10],\n",
       "           [ -6,  -9,  -1,  -1,  -1, -10],\n",
       "           [ -6,  -9,  -1,  -1,  -1, -10]],\n",
       " \n",
       "          [[ -9,   2,  -7, -10,   5,  -5],\n",
       "           [ -9,   2,  -7, -10,   5,  -5],\n",
       "           [ -9,   2,  -7, -10,   5,  -5],\n",
       "           [ -9,   2,  -7, -10,   5,  -5]],\n",
       " \n",
       "          [[ -8,   9,   1,  -2,   8,  -7],\n",
       "           [ -8,   9,   1,  -2,   8,  -7],\n",
       "           [ -8,   9,   1,  -2,   8,  -7],\n",
       "           [ -8,   9,   1,  -2,   8,  -7]],\n",
       " \n",
       "          [[  6,  -1,   1,   7,  -7,   5],\n",
       "           [  6,  -1,   1,   7,  -7,   5],\n",
       "           [  6,  -1,   1,   7,  -7,   5],\n",
       "           [  6,  -1,   1,   7,  -7,   5]],\n",
       " \n",
       "          [[ -8,   1, -10,  -1,   3,  -9],\n",
       "           [ -8,   1, -10,  -1,   3,  -9],\n",
       "           [ -8,   1, -10,  -1,   3,  -9],\n",
       "           [ -8,   1, -10,  -1,   3,  -9]]],\n",
       " \n",
       " \n",
       "         [[[  1, -10,  -7,  -4,   6,  -3],\n",
       "           [  1, -10,  -7,  -4,   6,  -3],\n",
       "           [  1, -10,  -7,  -4,   6,  -3],\n",
       "           [  1, -10,  -7,  -4,   6,  -3]],\n",
       " \n",
       "          [[  9,  -4,  -7,   4,   5, -10],\n",
       "           [  9,  -4,  -7,   4,   5, -10],\n",
       "           [  9,  -4,  -7,   4,   5, -10],\n",
       "           [  9,  -4,  -7,   4,   5, -10]],\n",
       " \n",
       "          [[  8,   2,  -2,   2,   7,  -5],\n",
       "           [  8,   2,  -2,   2,   7,  -5],\n",
       "           [  8,   2,  -2,   2,   7,  -5],\n",
       "           [  8,   2,  -2,   2,   7,  -5]],\n",
       " \n",
       "          [[  0, -10,  -2,  -9,   9,   6],\n",
       "           [  0, -10,  -2,  -9,   9,   6],\n",
       "           [  0, -10,  -2,  -9,   9,   6],\n",
       "           [  0, -10,  -2,  -9,   9,   6]],\n",
       " \n",
       "          [[ -9,   0,  -8,   9,  -6,   3],\n",
       "           [ -9,   0,  -8,   9,  -6,   3],\n",
       "           [ -9,   0,  -8,   9,  -6,   3],\n",
       "           [ -9,   0,  -8,   9,  -6,   3]]]]))"
      ]
     },
     "execution_count": 52,
     "metadata": {},
     "output_type": "execute_result"
    }
   ],
   "source": [
    "A_exp = A.unsqueeze(0).expand(B.shape[1], -1, -1).unsqueeze(0).expand(B.shape[0],-1,-1,-1)\n",
    "B_exp = B.unsqueeze(2).expand(-1, -1, A.shape[0], -1)\n",
    "\n",
    "print(A_exp.shape, B_exp.shape)\n",
    "A_exp, B_exp"
   ]
  },
  {
   "cell_type": "code",
   "execution_count": 53,
   "metadata": {},
   "outputs": [
    {
     "data": {
      "text/plain": [
       "tensor([[[[  0, 324,  16,  81,  36, 361],\n",
       "          [  9,   4,  64,  36,  64,  36],\n",
       "          [144, 324,  81,  49,  49,  64],\n",
       "          [100, 144,   9, 100,   4, 196]],\n",
       "\n",
       "         [[  9,  49, 100,   0, 144, 196],\n",
       "          [ 36,  81, 196,   9, 196,   1],\n",
       "          [225,  49, 225, 256,   1,   9],\n",
       "          [169,   1,   9, 361,  16,  81]],\n",
       "\n",
       "         [[  4,   0,   4,  64, 225, 256],\n",
       "          [ 25, 256,  36,  25, 289,   9],\n",
       "          [196,   0,  49,  64,   4,  25],\n",
       "          [144,  36,  25, 121,  49, 121]],\n",
       "\n",
       "         [[144, 100,   4, 289,   0,  16],\n",
       "          [ 81,  36,  36, 196,   4,  81],\n",
       "          [  0, 100,  49,   1, 169,  49],\n",
       "          [  4,  16,  25,   4,  64,   1]],\n",
       "\n",
       "         [[  4,  64, 169,  81, 100, 324],\n",
       "          [ 25,  64, 289,  36, 144,  25],\n",
       "          [196,  64, 324,  49,   9,  49],\n",
       "          [144,   4,  36, 100,   4, 169]]],\n",
       "\n",
       "\n",
       "        [[[ 49, 361, 100,  36, 169, 144],\n",
       "          [ 16,   9, 196,   9, 225,   1],\n",
       "          [ 25, 361, 225, 100,   0,   1],\n",
       "          [  9, 169,   9, 169,  25,  49]],\n",
       "\n",
       "         [[225, 169, 100, 196, 144, 361],\n",
       "          [144,   9, 196, 121, 196,  36],\n",
       "          [  9, 169, 225,   4,   1,  64],\n",
       "          [ 25,  49,   9,  25,  16, 196]],\n",
       "\n",
       "         [[196,  49,  25, 144, 196, 196],\n",
       "          [121,  81,  81,  81, 256,   1],\n",
       "          [  4,  49, 100,  16,   1,   9],\n",
       "          [ 16,   1,   4,  49,  36,  81]],\n",
       "\n",
       "         [[ 36, 361,  25,   1, 256,   9],\n",
       "          [  9,   9,  81,   4, 324, 100],\n",
       "          [ 36, 361, 100, 225,   9,  64],\n",
       "          [ 16, 169,   4, 324,  64,   4]],\n",
       "\n",
       "         [[  9,  81, 121, 361,   1,  36],\n",
       "          [ 36,  49, 225, 256,   9,  49],\n",
       "          [225,  81, 256,   9, 144,  25],\n",
       "          [169,   9,  16,   0,  49,   1]]]])"
      ]
     },
     "execution_count": 53,
     "metadata": {},
     "output_type": "execute_result"
    }
   ],
   "source": [
    "squared_diffs = (A_exp - B_exp) ** 2\n",
    "squared_diffs"
   ]
  },
  {
   "cell_type": "code",
   "execution_count": 54,
   "metadata": {},
   "outputs": [
    {
     "data": {
      "text/plain": [
       "tensor([[[ 818,  213,  711,  553],\n",
       "         [ 498,  519,  765,  637],\n",
       "         [ 553,  640,  338,  496],\n",
       "         [ 553,  434,  368,  114],\n",
       "         [ 742,  583,  691,  457]],\n",
       "\n",
       "        [[ 859,  456,  712,  430],\n",
       "         [1195,  702,  472,  320],\n",
       "         [ 806,  621,  179,  187],\n",
       "         [ 688,  527,  795,  581],\n",
       "         [ 609,  624,  740,  244]]])"
      ]
     },
     "execution_count": 54,
     "metadata": {},
     "output_type": "execute_result"
    }
   ],
   "source": [
    "summm = squared_diffs.sum(dim=3)\n",
    "summm"
   ]
  },
  {
   "cell_type": "code",
   "execution_count": 55,
   "metadata": {},
   "outputs": [
    {
     "data": {
      "text/plain": [
       "tensor([[[136.3333,  35.5000, 118.5000,  92.1667],\n",
       "         [ 83.0000,  86.5000, 127.5000, 106.1667],\n",
       "         [ 92.1667, 106.6667,  56.3333,  82.6667],\n",
       "         [ 92.1667,  72.3333,  61.3333,  19.0000],\n",
       "         [123.6667,  97.1667, 115.1667,  76.1667]],\n",
       "\n",
       "        [[143.1667,  76.0000, 118.6667,  71.6667],\n",
       "         [199.1667, 117.0000,  78.6667,  53.3333],\n",
       "         [134.3333, 103.5000,  29.8333,  31.1667],\n",
       "         [114.6667,  87.8333, 132.5000,  96.8333],\n",
       "         [101.5000, 104.0000, 123.3333,  40.6667]]])"
      ]
     },
     "execution_count": 55,
     "metadata": {},
     "output_type": "execute_result"
    }
   ],
   "source": [
    "summm = squared_diffs.mean(dim=3, dtype=torch.float32)\n",
    "summm"
   ]
  },
  {
   "cell_type": "code",
   "execution_count": 63,
   "metadata": {},
   "outputs": [
    {
     "data": {
      "text/plain": [
       "tensor([[1, 0, 2, 3, 3],\n",
       "        [3, 3, 2, 1, 3]])"
      ]
     },
     "execution_count": 63,
     "metadata": {},
     "output_type": "execute_result"
    }
   ],
   "source": [
    "summm.min(dim=2).indices"
   ]
  },
  {
   "cell_type": "code",
   "execution_count": 66,
   "metadata": {},
   "outputs": [
    {
     "data": {
      "text/plain": [
       "tensor(6)"
      ]
     },
     "execution_count": 66,
     "metadata": {},
     "output_type": "execute_result"
    }
   ],
   "source": [
    "real_val = torch.tensor([[1,0,0,0,0], [3,0,0,0,3]])\n",
    "\n",
    "(summm.min(dim=2).indices != real_val).sum()\n"
   ]
  },
  {
   "cell_type": "code",
   "execution_count": 57,
   "metadata": {},
   "outputs": [
    {
     "data": {
      "text/plain": [
       "tensor([[0, 1],\n",
       "        [2, 3]])"
      ]
     },
     "execution_count": 57,
     "metadata": {},
     "output_type": "execute_result"
    }
   ],
   "source": [
    "y = torch.tensor([[0,1], [2,3]])\n",
    "y"
   ]
  },
  {
   "cell_type": "code",
   "execution_count": 58,
   "metadata": {},
   "outputs": [
    {
     "data": {
      "text/plain": [
       "tensor([[136.3333,  86.5000],\n",
       "        [134.3333,  87.8333]])"
      ]
     },
     "execution_count": 58,
     "metadata": {},
     "output_type": "execute_result"
    }
   ],
   "source": [
    "indices_unsqueezed = y.unsqueeze(2)  # Adds a third dimension for compatibility with gather\n",
    "selected = torch.gather(aaa, 2, indices_unsqueezed).squeeze(2)\n",
    "\n",
    "selected\n"
   ]
  },
  {
   "cell_type": "code",
   "execution_count": 59,
   "metadata": {},
   "outputs": [
    {
     "data": {
      "text/plain": [
       "tensor(111.2500)"
      ]
     },
     "execution_count": 59,
     "metadata": {},
     "output_type": "execute_result"
    }
   ],
   "source": [
    "selected.view(-1).mean()"
   ]
  },
  {
   "cell_type": "code",
   "execution_count": 60,
   "metadata": {},
   "outputs": [
    {
     "name": "stdout",
     "output_type": "stream",
     "text": [
      "tensor([[[136.3333,  83.0000,  92.1667,  92.1667, 123.6667],\n",
      "         [ 35.5000,  86.5000, 106.6667,  72.3333,  97.1667],\n",
      "         [118.5000, 127.5000,  56.3333,  61.3333, 115.1667],\n",
      "         [ 92.1667, 106.1667,  82.6667,  19.0000,  76.1667]],\n",
      "\n",
      "        [[143.1667, 199.1667, 134.3333, 114.6667, 101.5000],\n",
      "         [ 76.0000, 117.0000, 103.5000,  87.8333, 104.0000],\n",
      "         [118.6667,  78.6667,  29.8333, 132.5000, 123.3333],\n",
      "         [ 71.6667,  53.3333,  31.1667,  96.8333,  40.6667]]])\n",
      "torch.Size([2, 4, 5])\n",
      "tensor([[0, 1],\n",
      "        [2, 3]])\n",
      "torch.Size([2, 2])\n",
      "tensor([[136.3333,  83.0000,  92.1667,  92.1667, 123.6667],\n",
      "        [ 35.5000,  86.5000, 106.6667,  72.3333,  97.1667],\n",
      "        [118.5000, 127.5000,  56.3333,  61.3333, 115.1667],\n",
      "        [ 92.1667, 106.1667,  82.6667,  19.0000,  76.1667],\n",
      "        [143.1667, 199.1667, 134.3333, 114.6667, 101.5000],\n",
      "        [ 76.0000, 117.0000, 103.5000,  87.8333, 104.0000],\n",
      "        [118.6667,  78.6667,  29.8333, 132.5000, 123.3333],\n",
      "        [ 71.6667,  53.3333,  31.1667,  96.8333,  40.6667]])\n"
     ]
    },
    {
     "ename": "ValueError",
     "evalue": "Expected input batch_size (8) to match target batch_size (4).",
     "output_type": "error",
     "traceback": [
      "\u001b[0;31m---------------------------------------------------------------------------\u001b[0m",
      "\u001b[0;31mValueError\u001b[0m                                Traceback (most recent call last)",
      "Cell \u001b[0;32mIn[60], line 10\u001b[0m\n\u001b[1;32m      8\u001b[0m aaa \u001b[38;5;241m=\u001b[39m aaa\u001b[38;5;241m.\u001b[39mreshape(B\u001b[38;5;241m*\u001b[39mT, C)\n\u001b[1;32m      9\u001b[0m \u001b[38;5;28mprint\u001b[39m(aaa)\n\u001b[0;32m---> 10\u001b[0m \u001b[43mF\u001b[49m\u001b[38;5;241;43m.\u001b[39;49m\u001b[43mcross_entropy\u001b[49m\u001b[43m(\u001b[49m\u001b[43maaa\u001b[49m\u001b[43m,\u001b[49m\u001b[43m \u001b[49m\u001b[43my\u001b[49m\u001b[38;5;241;43m.\u001b[39;49m\u001b[43mview\u001b[49m\u001b[43m(\u001b[49m\u001b[38;5;241;43m-\u001b[39;49m\u001b[38;5;241;43m1\u001b[39;49m\u001b[43m)\u001b[49m\u001b[43m,\u001b[49m\u001b[43m \u001b[49m\u001b[43mreduction\u001b[49m\u001b[38;5;241;43m=\u001b[39;49m\u001b[38;5;124;43m'\u001b[39;49m\u001b[38;5;124;43mnone\u001b[39;49m\u001b[38;5;124;43m'\u001b[39;49m\u001b[43m)\u001b[49m\n",
      "File \u001b[0;32m~/.pyenv/versions/3.10.1/envs/yif-ai/lib/python3.10/site-packages/torch/nn/functional.py:3059\u001b[0m, in \u001b[0;36mcross_entropy\u001b[0;34m(input, target, weight, size_average, ignore_index, reduce, reduction, label_smoothing)\u001b[0m\n\u001b[1;32m   3057\u001b[0m \u001b[38;5;28;01mif\u001b[39;00m size_average \u001b[38;5;129;01mis\u001b[39;00m \u001b[38;5;129;01mnot\u001b[39;00m \u001b[38;5;28;01mNone\u001b[39;00m \u001b[38;5;129;01mor\u001b[39;00m reduce \u001b[38;5;129;01mis\u001b[39;00m \u001b[38;5;129;01mnot\u001b[39;00m \u001b[38;5;28;01mNone\u001b[39;00m:\n\u001b[1;32m   3058\u001b[0m     reduction \u001b[38;5;241m=\u001b[39m _Reduction\u001b[38;5;241m.\u001b[39mlegacy_get_string(size_average, reduce)\n\u001b[0;32m-> 3059\u001b[0m \u001b[38;5;28;01mreturn\u001b[39;00m \u001b[43mtorch\u001b[49m\u001b[38;5;241;43m.\u001b[39;49m\u001b[43m_C\u001b[49m\u001b[38;5;241;43m.\u001b[39;49m\u001b[43m_nn\u001b[49m\u001b[38;5;241;43m.\u001b[39;49m\u001b[43mcross_entropy_loss\u001b[49m\u001b[43m(\u001b[49m\u001b[38;5;28;43minput\u001b[39;49m\u001b[43m,\u001b[49m\u001b[43m \u001b[49m\u001b[43mtarget\u001b[49m\u001b[43m,\u001b[49m\u001b[43m \u001b[49m\u001b[43mweight\u001b[49m\u001b[43m,\u001b[49m\u001b[43m \u001b[49m\u001b[43m_Reduction\u001b[49m\u001b[38;5;241;43m.\u001b[39;49m\u001b[43mget_enum\u001b[49m\u001b[43m(\u001b[49m\u001b[43mreduction\u001b[49m\u001b[43m)\u001b[49m\u001b[43m,\u001b[49m\u001b[43m \u001b[49m\u001b[43mignore_index\u001b[49m\u001b[43m,\u001b[49m\u001b[43m \u001b[49m\u001b[43mlabel_smoothing\u001b[49m\u001b[43m)\u001b[49m\n",
      "\u001b[0;31mValueError\u001b[0m: Expected input batch_size (8) to match target batch_size (4)."
     ]
    }
   ],
   "source": [
    "from torch.nn import functional as F\n",
    "print(aaa)\n",
    "print(aaa.shape)\n",
    "print(y)\n",
    "print(y.shape)\n",
    "\n",
    "B, T, C = aaa.shape\n",
    "aaa = aaa.reshape(B*T, C)\n",
    "print(aaa)\n",
    "F.cross_entropy(aaa, y.view(-1), reduction='none')"
   ]
  }
 ],
 "metadata": {
  "kernelspec": {
   "display_name": "yif-ai",
   "language": "python",
   "name": "python3"
  },
  "language_info": {
   "codemirror_mode": {
    "name": "ipython",
    "version": 3
   },
   "file_extension": ".py",
   "mimetype": "text/x-python",
   "name": "python",
   "nbconvert_exporter": "python",
   "pygments_lexer": "ipython3",
   "version": "3.10.1"
  }
 },
 "nbformat": 4,
 "nbformat_minor": 2
}
