{
 "cells": [
  {
   "cell_type": "code",
   "execution_count": 136,
   "metadata": {},
   "outputs": [
    {
     "data": {
      "text/plain": [
       "(tensor([[ -6,   9,   3],\n",
       "         [-10,  -7,   9],\n",
       "         [ -3,  -7,   7],\n",
       "         [ -7,  -9,  -4]]),\n",
       " tensor([[[ 6,  9],\n",
       "          [ 8,  6],\n",
       "          [ 6, -2]],\n",
       " \n",
       "         [[ 4,  3],\n",
       "          [-4,  9],\n",
       "          [ 1,  4]]]))"
      ]
     },
     "execution_count": 136,
     "metadata": {},
     "output_type": "execute_result"
    }
   ],
   "source": [
    "import torch\n",
    "\n",
    "\n",
    "torch.manual_seed(0)\n",
    "\n",
    "A = torch.randint(-10, 10,(4,3))\n",
    "B = torch.randint(-10, 10,(2, 3,2))\n",
    "\n",
    "A, B"
   ]
  },
  {
   "cell_type": "code",
   "execution_count": 137,
   "metadata": {},
   "outputs": [
    {
     "name": "stdout",
     "output_type": "stream",
     "text": [
      "torch.Size([2, 4, 2, 3]) torch.Size([2, 4, 2, 3])\n"
     ]
    },
    {
     "data": {
      "text/plain": [
       "(tensor([[[[ -6,   9,   3],\n",
       "           [ -6,   9,   3]],\n",
       " \n",
       "          [[-10,  -7,   9],\n",
       "           [-10,  -7,   9]],\n",
       " \n",
       "          [[ -3,  -7,   7],\n",
       "           [ -3,  -7,   7]],\n",
       " \n",
       "          [[ -7,  -9,  -4],\n",
       "           [ -7,  -9,  -4]]],\n",
       " \n",
       " \n",
       "         [[[ -6,   9,   3],\n",
       "           [ -6,   9,   3]],\n",
       " \n",
       "          [[-10,  -7,   9],\n",
       "           [-10,  -7,   9]],\n",
       " \n",
       "          [[ -3,  -7,   7],\n",
       "           [ -3,  -7,   7]],\n",
       " \n",
       "          [[ -7,  -9,  -4],\n",
       "           [ -7,  -9,  -4]]]]),\n",
       " tensor([[[[ 6,  8,  6],\n",
       "           [ 9,  6, -2]],\n",
       " \n",
       "          [[ 6,  8,  6],\n",
       "           [ 9,  6, -2]],\n",
       " \n",
       "          [[ 6,  8,  6],\n",
       "           [ 9,  6, -2]],\n",
       " \n",
       "          [[ 6,  8,  6],\n",
       "           [ 9,  6, -2]]],\n",
       " \n",
       " \n",
       "         [[[ 4, -4,  1],\n",
       "           [ 3,  9,  4]],\n",
       " \n",
       "          [[ 4, -4,  1],\n",
       "           [ 3,  9,  4]],\n",
       " \n",
       "          [[ 4, -4,  1],\n",
       "           [ 3,  9,  4]],\n",
       " \n",
       "          [[ 4, -4,  1],\n",
       "           [ 3,  9,  4]]]]))"
      ]
     },
     "execution_count": 137,
     "metadata": {},
     "output_type": "execute_result"
    }
   ],
   "source": [
    "A_exp = A.unsqueeze(1).expand(-1, B.shape[2], -1).unsqueeze(0).expand(B.shape[0],-1,-1,-1)\n",
    "B_exp = B.transpose(1, 2).unsqueeze(1).expand(-1, A.shape[0], -1, -1)\n",
    "\n",
    "print(A_exp.shape, B_exp.shape)\n",
    "A_exp, B_exp"
   ]
  },
  {
   "cell_type": "code",
   "execution_count": 138,
   "metadata": {},
   "outputs": [
    {
     "data": {
      "text/plain": [
       "tensor([[[[144,   1,   9],\n",
       "          [225,   9,  25]],\n",
       "\n",
       "         [[256, 225,   9],\n",
       "          [361, 169, 121]],\n",
       "\n",
       "         [[ 81, 225,   1],\n",
       "          [144, 169,  81]],\n",
       "\n",
       "         [[169, 289, 100],\n",
       "          [256, 225,   4]]],\n",
       "\n",
       "\n",
       "        [[[100, 169,   4],\n",
       "          [ 81,   0,   1]],\n",
       "\n",
       "         [[196,   9,  64],\n",
       "          [169, 256,  25]],\n",
       "\n",
       "         [[ 49,   9,  36],\n",
       "          [ 36, 256,   9]],\n",
       "\n",
       "         [[121,  25,  25],\n",
       "          [100, 324,  64]]]])"
      ]
     },
     "execution_count": 138,
     "metadata": {},
     "output_type": "execute_result"
    }
   ],
   "source": [
    "squared_diffs = (A_exp - B_exp) ** 2\n",
    "squared_diffs"
   ]
  },
  {
   "cell_type": "code",
   "execution_count": 139,
   "metadata": {},
   "outputs": [
    {
     "data": {
      "text/plain": [
       "tensor([[[154, 259],\n",
       "         [490, 651],\n",
       "         [307, 394],\n",
       "         [558, 485]],\n",
       "\n",
       "        [[273,  82],\n",
       "         [269, 450],\n",
       "         [ 94, 301],\n",
       "         [171, 488]]])"
      ]
     },
     "execution_count": 139,
     "metadata": {},
     "output_type": "execute_result"
    }
   ],
   "source": [
    "summm = squared_diffs.sum(dim=3)\n",
    "summm"
   ]
  },
  {
   "cell_type": "code",
   "execution_count": 145,
   "metadata": {},
   "outputs": [
    {
     "data": {
      "text/plain": [
       "tensor([[[ 51.3333,  86.3333],\n",
       "         [163.3333, 217.0000],\n",
       "         [102.3333, 131.3333],\n",
       "         [186.0000, 161.6667]],\n",
       "\n",
       "        [[ 91.0000,  27.3333],\n",
       "         [ 89.6667, 150.0000],\n",
       "         [ 31.3333, 100.3333],\n",
       "         [ 57.0000, 162.6667]]])"
      ]
     },
     "execution_count": 145,
     "metadata": {},
     "output_type": "execute_result"
    }
   ],
   "source": [
    "summm = squared_diffs.mean(dim=3, dtype=torch.float32)\n",
    "summm"
   ]
  },
  {
   "cell_type": "code",
   "execution_count": 146,
   "metadata": {},
   "outputs": [
    {
     "data": {
      "text/plain": [
       "tensor([[[ 51.3333, 163.3333, 102.3333, 186.0000],\n",
       "         [ 86.3333, 217.0000, 131.3333, 161.6667]],\n",
       "\n",
       "        [[ 91.0000,  89.6667,  31.3333,  57.0000],\n",
       "         [ 27.3333, 150.0000, 100.3333, 162.6667]]])"
      ]
     },
     "execution_count": 146,
     "metadata": {},
     "output_type": "execute_result"
    }
   ],
   "source": [
    "aaa = summm.transpose(1,2)\n",
    "aaa"
   ]
  },
  {
   "cell_type": "code",
   "execution_count": 147,
   "metadata": {},
   "outputs": [
    {
     "data": {
      "text/plain": [
       "tensor([[[  0.0000, 112.0000,  51.0000, 134.6667],\n",
       "         [  0.0000, 130.6667,  45.0000,  75.3333]],\n",
       "\n",
       "        [[ 59.6667,  58.3333,   0.0000,  25.6667],\n",
       "         [  0.0000, 122.6667,  73.0000, 135.3333]]])"
      ]
     },
     "execution_count": 147,
     "metadata": {},
     "output_type": "execute_result"
    }
   ],
   "source": [
    "offset_a = aaa - aaa.min(dim= 2).values.unsqueeze(2).expand(-1,-1,aaa.shape[2])\n",
    "offset_a"
   ]
  },
  {
   "cell_type": "code",
   "execution_count": 148,
   "metadata": {},
   "outputs": [
    {
     "data": {
      "text/plain": [
       "tensor([[[1.0000, 0.7995, 0.9031, 0.7641],\n",
       "         [1.0000, 0.7702, 0.9140, 0.8603]],\n",
       "\n",
       "        [[0.8876, 0.8900, 1.0000, 0.9500],\n",
       "         [1.0000, 0.7826, 0.8643, 0.7631]]])"
      ]
     },
     "execution_count": 148,
     "metadata": {},
     "output_type": "execute_result"
    }
   ],
   "source": [
    "logits = 1.002**(-offset_a)\n",
    "logits"
   ]
  },
  {
   "cell_type": "code",
   "execution_count": 149,
   "metadata": {},
   "outputs": [
    {
     "data": {
      "text/plain": [
       "2.6937"
      ]
     },
     "execution_count": 149,
     "metadata": {},
     "output_type": "execute_result"
    }
   ],
   "source": [
    "sum([1.0000, 0.5110, 0.7366, 0.4461])"
   ]
  },
  {
   "cell_type": "code",
   "execution_count": null,
   "metadata": {},
   "outputs": [],
   "source": []
  }
 ],
 "metadata": {
  "kernelspec": {
   "display_name": "yif-ai",
   "language": "python",
   "name": "python3"
  },
  "language_info": {
   "codemirror_mode": {
    "name": "ipython",
    "version": 3
   },
   "file_extension": ".py",
   "mimetype": "text/x-python",
   "name": "python",
   "nbconvert_exporter": "python",
   "pygments_lexer": "ipython3",
   "version": "3.10.1"
  }
 },
 "nbformat": 4,
 "nbformat_minor": 2
}
