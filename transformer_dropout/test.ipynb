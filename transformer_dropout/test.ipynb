{
 "cells": [
  {
   "cell_type": "code",
   "execution_count": 111,
   "metadata": {},
   "outputs": [],
   "source": [
    "import torch.nn as nn\n",
    "import torch\n",
    "from torch.nn import functional as F\n",
    "\n",
    "torch.random.manual_seed(0)\n",
    "torch.set_printoptions(precision =6)\n",
    "\n",
    "class LearnedDropout(nn.Module):\n",
    "    def __init__(self, channel_dim):\n",
    "        super().__init__()\n",
    "        self.query = nn.Linear(channel_dim, channel_dim, bias= False)\n",
    "        self.key = nn.Linear(channel_dim, channel_dim, bias=False)\n",
    "        self.value = nn.Linear(channel_dim, channel_dim, bias=False)\n",
    "\n",
    "    def forward(self, x):\n",
    "        print(f\"query: {self.query.weight}\")\n",
    "        print(f\"key: {self.key.weight}\")\n",
    "        print(f\"value: {self.value.weight}\")\n",
    "        q = self.query(x)\n",
    "        k = self.key(x)\n",
    "        v = self.value(x)\n",
    "        print(f\"q: {q}\")\n",
    "        print(f\"k: {k}\")\n",
    "        print(f\"v: {v}\")\n",
    "        attn = (q.transpose(-2, -1) @ k) * (1**-0.5)\n",
    "        print(f\"attn: {attn}\")\n",
    "        out = v @ attn\n",
    "        print(f\"out: {out}\")\n",
    "        logits = F.softmax(out.view(out.size(0),-1), dim=-1)\n",
    "        logits = logits.view_as(out)\n",
    "        print(f\"logits: {logits}\")\n",
    "        logits_mean = logits.mean(dim=(-1, -2), keepdim=True)\n",
    "        print(f\"logits_mean: {logits_mean}\")\n",
    "        dropout_mask = 1 / (1 + torch.exp(-(logits * 60 - 60 * logits_mean)))\n",
    "        print(f\"dropout_mask: {dropout_mask}\")\n",
    "        return x * dropout_mask"
   ]
  },
  {
   "cell_type": "code",
   "execution_count": 112,
   "metadata": {},
   "outputs": [
    {
     "name": "stdout",
     "output_type": "stream",
     "text": [
      "query: Parameter containing:\n",
      "tensor([[-0.003743,  0.268222, -0.411523, -0.367970],\n",
      "        [-0.192577,  0.134079, -0.009907,  0.396445],\n",
      "        [-0.044372,  0.132306, -0.151107, -0.098283],\n",
      "        [-0.477674, -0.331141, -0.206112,  0.018522]], requires_grad=True)\n",
      "key: Parameter containing:\n",
      "tensor([[ 0.197668,  0.300011, -0.338971, -0.217731],\n",
      "        [ 0.181609,  0.415194, -0.102900,  0.374156],\n",
      "        [-0.080592,  0.052907,  0.452738, -0.463835],\n",
      "        [-0.314769, -0.126583, -0.194900,  0.432000]], requires_grad=True)\n",
      "value: Parameter containing:\n",
      "tensor([[-0.324090, -0.230166, -0.349320, -0.468280],\n",
      "        [-0.291870,  0.429799,  0.223109,  0.242336],\n",
      "        [ 0.026296, -0.256342,  0.084592, -0.466847],\n",
      "        [-0.361283, -0.257765,  0.315469,  0.293161]], requires_grad=True)\n",
      "q: tensor([[[-2.142724, -0.094010, -0.860587, -0.415205],\n",
      "         [-0.032660, -1.173928, -0.236274,  0.225664],\n",
      "         [-2.195175,  1.035442, -0.729367, -0.025517]],\n",
      "\n",
      "        [[-0.032660, -1.173928, -0.236274,  0.225664],\n",
      "         [-2.195175,  1.035442, -0.729367, -0.025517],\n",
      "         [-1.910906, -1.326437, -1.008926, -0.998356]]],\n",
      "       grad_fn=<UnsafeViewBackward0>)\n",
      "k: tensor([[[-1.636998, -0.583324,  0.707973, -0.214303],\n",
      "         [ 0.052003, -1.153620, -0.308807, -0.486890],\n",
      "         [-1.631147,  0.501473, -0.538936,  1.032784]],\n",
      "\n",
      "        [[ 0.052003, -1.153620, -0.308807, -0.486890],\n",
      "         [-1.631147,  0.501473, -0.538936,  1.032784],\n",
      "         [-1.087316, -1.140142,  0.371481, -1.142545]]],\n",
      "       grad_fn=<UnsafeViewBackward0>)\n",
      "v: tensor([[[-1.379998, -0.239804,  0.325909,  1.393814],\n",
      "         [ 0.859920, -2.338583,  1.203872, -0.557901],\n",
      "         [-1.873315,  0.743428, -0.975016,  1.768185]],\n",
      "\n",
      "        [[ 0.859920, -2.338583,  1.203872, -0.557901],\n",
      "         [-1.873315,  0.743428, -0.975016,  1.768185],\n",
      "         [-1.074334, -2.440459,  1.299735,  0.216865]]],\n",
      "       grad_fn=<UnsafeViewBackward0>)\n",
      "attn: tensor([[[ 7.086590,  0.186757, -0.323846, -1.792047],\n",
      "         [-1.596113,  1.928353, -0.262076,  1.661109],\n",
      "         [ 2.586198,  0.408813, -0.143227, -0.453813],\n",
      "         [ 0.733046, -0.030928, -0.349889, -0.047247]],\n",
      "\n",
      "        [[ 5.656714,  1.115559,  0.483280, -0.067943],\n",
      "         [-0.307750,  3.385841, -0.688266,  3.156477],\n",
      "         [ 2.274440,  1.057131,  0.091248,  0.514504],\n",
      "         [ 1.138885,  0.865140, -0.426806,  1.004440]]],\n",
      "       grad_fn=<MulBackward0>)\n",
      "out: tensor([[[ -7.532130,  -0.630024,  -0.024605,   1.860925],\n",
      "         [ 12.531028,  -3.839604,   0.357181,  -5.945634],\n",
      "         [-15.687433,   0.630452,  -0.067189,   4.950918]],\n",
      "\n",
      "        [[  7.686772,  -6.168791,   2.373116,  -7.381088],\n",
      "         [-11.029455,   0.926345,  -2.260651,   3.748278],\n",
      "         [ -2.122995,  -7.899879,   1.186521,  -6.743710]]],\n",
      "       grad_fn=<UnsafeViewBackward0>)\n",
      "logits: tensor([[[1.933928e-09, 1.923034e-06, 3.523034e-06, 2.321626e-05],\n",
      "         [9.994457e-01, 7.763973e-08, 5.160889e-06, 9.450330e-09],\n",
      "         [5.554407e-13, 6.782735e-06, 3.376161e-06, 5.102221e-04]],\n",
      "\n",
      "        [[9.735508e-01, 9.353290e-07, 4.793657e-03, 2.782725e-07],\n",
      "         [7.244438e-09, 1.128087e-03, 4.658517e-05, 1.896236e-02],\n",
      "         [5.346026e-05, 1.656388e-07, 1.463307e-03, 5.263565e-07]]],\n",
      "       grad_fn=<ViewBackward0>)\n",
      "logits_mean: tensor([[[0.083333]],\n",
      "\n",
      "        [[0.083333]]], grad_fn=<MeanBackward1>)\n",
      "dropout_mask: tensor([[[0.006693, 0.006694, 0.006694, 0.006702],\n",
      "         [1.000000, 0.006693, 0.006695, 0.006693],\n",
      "         [0.006693, 0.006696, 0.006694, 0.006899]],\n",
      "\n",
      "        [[1.000000, 0.006693, 0.008903, 0.006693],\n",
      "         [0.006693, 0.007158, 0.006711, 0.020588],\n",
      "         [0.006714, 0.006693, 0.007303, 0.006693]]], grad_fn=<MulBackward0>)\n"
     ]
    },
    {
     "data": {
      "text/plain": [
       "tensor([[[ 0.006693, -0.013387,  0.020083,  0.006702],\n",
       "         [ 2.000000, -0.020079, -0.006695, -0.006693],\n",
       "         [ 0.000000, -0.006696,  0.013388,  0.020698]],\n",
       "\n",
       "        [[ 2.000000, -0.020080, -0.008903, -0.006693],\n",
       "         [ 0.000000, -0.007158,  0.013423,  0.061763],\n",
       "         [ 0.026857, -0.026772,  0.014605,  0.000000]]],\n",
       "       grad_fn=<MulBackward0>)"
      ]
     },
     "execution_count": 112,
     "metadata": {},
     "output_type": "execute_result"
    }
   ],
   "source": [
    "x = torch.tensor([[[1,-2,3, 1],[2,-3,-1, -1], [0,-1,2, 3]], \n",
    "                  [[2,-3,-1, -1],[0,-1,2, 3],[4,-4,2,0]]], dtype=torch.float32)\n",
    "ld = LearnedDropout(4)\n",
    "ld(x)"
   ]
  },
  {
   "cell_type": "code",
   "execution_count": 113,
   "metadata": {},
   "outputs": [
    {
     "data": {
      "text/plain": [
       "tensor([[[-0.229379,  0.065842, -1.051141, -1.437185],\n",
       "         [ 1.092291,  0.333042, -0.436107, -1.845512],\n",
       "         [-1.329190, -0.862889, -0.910641, -0.537445]],\n",
       "\n",
       "        [[ 1.092291,  0.333042, -0.436107, -1.845512],\n",
       "         [-1.329190, -0.862889, -0.910641, -0.537445],\n",
       "         [ 0.666591,  0.801185, -1.908677, -3.254222]]],\n",
       "       grad_fn=<UnsafeViewBackward0>)"
      ]
     },
     "execution_count": 113,
     "metadata": {},
     "output_type": "execute_result"
    }
   ],
   "source": [
    "x @ ld.query.weight"
   ]
  }
 ],
 "metadata": {
  "kernelspec": {
   "display_name": "yif-ai",
   "language": "python",
   "name": "python3"
  },
  "language_info": {
   "codemirror_mode": {
    "name": "ipython",
    "version": 3
   },
   "file_extension": ".py",
   "mimetype": "text/x-python",
   "name": "python",
   "nbconvert_exporter": "python",
   "pygments_lexer": "ipython3",
   "version": "3.10.1"
  }
 },
 "nbformat": 4,
 "nbformat_minor": 2
}
