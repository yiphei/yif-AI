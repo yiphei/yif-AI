{
 "cells": [
  {
   "cell_type": "code",
   "execution_count": 2,
   "metadata": {},
   "outputs": [],
   "source": [
    "import boto3\n",
    "import json\n",
    "runtime = boto3.client('sagemaker-runtime')\n",
    "\n",
    "endpoint_name = \"async-inference-endpoint\"  # the name of the endpoint you've created\n",
    "payload = {\"data\": \"[0]\", \"output_length\": 400}\n",
    "input_json = json.dumps(payload)\n",
    "\n",
    "response = runtime.invoke_endpoint(EndpointName=endpoint_name,\n",
    "                                  Body=input_json,  # your input data\n",
    "                                  ContentType='application/json',  # or the relevant content type for your data\n",
    "                                  Accept='application/json')\n",
    "\n",
    "# SageMaker returns an identifier that allows you to retrieve results later.\n",
    "print(response)\n"
   ]
  }
 ],
 "metadata": {
  "kernelspec": {
   "display_name": "micrograd-yifei",
   "language": "python",
   "name": "python3"
  },
  "language_info": {
   "codemirror_mode": {
    "name": "ipython",
    "version": 3
   },
   "file_extension": ".py",
   "mimetype": "text/x-python",
   "name": "python",
   "nbconvert_exporter": "python",
   "pygments_lexer": "ipython3",
   "version": "3.10.1"
  },
  "orig_nbformat": 4
 },
 "nbformat": 4,
 "nbformat_minor": 2
}
