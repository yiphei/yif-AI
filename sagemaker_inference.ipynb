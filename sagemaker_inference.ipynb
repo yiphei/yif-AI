{
 "cells": [
  {
   "cell_type": "code",
   "execution_count": 37,
   "metadata": {},
   "outputs": [
    {
     "name": "stdout",
     "output_type": "stream",
     "text": [
      "{'ResponseMetadata': {'RequestId': '9ceb8c77-34f5-44d5-9a76-cd9a93128398', 'HTTPStatusCode': 202, 'HTTPHeaders': {'x-amzn-requestid': '9ceb8c77-34f5-44d5-9a76-cd9a93128398', 'x-amzn-sagemaker-outputlocation': 's3://sagemaker-studio-mk6unewb9tb/inference_output/dbb08720-2543-4d14-b244-5d169f6a1bd6.out', 'x-amzn-sagemaker-failurelocation': 's3://sagemaker-studio-mk6unewb9tb/async-endpoint-failures/pytorch-inference-2023-10-29-21-24-57-443-1698614698-f20e/dbb08720-2543-4d14-b244-5d169f6a1bd6-error.out', 'date': 'Sun, 29 Oct 2023 22:16:00 GMT', 'content-type': 'application/json', 'content-length': '54', 'connection': 'keep-alive'}, 'RetryAttempts': 0}, 'OutputLocation': 's3://sagemaker-studio-mk6unewb9tb/inference_output/dbb08720-2543-4d14-b244-5d169f6a1bd6.out', 'FailureLocation': 's3://sagemaker-studio-mk6unewb9tb/async-endpoint-failures/pytorch-inference-2023-10-29-21-24-57-443-1698614698-f20e/dbb08720-2543-4d14-b244-5d169f6a1bd6-error.out', 'InferenceId': '24ad1c57-1fc1-4ca8-8026-aefd49cc3d55'}\n"
     ]
    }
   ],
   "source": [
    "import boto3\n",
    "import json\n",
    "import sagemaker\n",
    "from sagemaker import Session\n",
    "\n",
    "runtime = boto3.client('sagemaker-runtime')\n",
    "\n",
    "endpoint_name = \"async-inference-endpoint\"  # the name of the endpoint you've created\n",
    "\n",
    "response = runtime.invoke_endpoint_async(EndpointName=endpoint_name,\n",
    "                                  ContentType='application/json',  # or the relevant content type for your data\n",
    "                                  Accept='application/json',\n",
    "                                  InputLocation=\"s3://sagemaker-studio-mk6unewb9tb/inference_input/input_2.json\"\n",
    "                                  )\n",
    "\n",
    "# SageMaker returns an identifier that allows you to retrieve results later.\n",
    "print(response)\n"
   ]
  },
  {
   "cell_type": "code",
   "execution_count": 33,
   "metadata": {},
   "outputs": [
    {
     "ename": "AttributeError",
     "evalue": "'SageMaker' object has no attribute 'describe_async_inference_job'",
     "output_type": "error",
     "traceback": [
      "\u001b[0;31m---------------------------------------------------------------------------\u001b[0m",
      "\u001b[0;31mAttributeError\u001b[0m                            Traceback (most recent call last)",
      "\u001b[1;32m/Users/yifeiyan/micrograd-yifei/sagemaker_inference.ipynb Cell 2\u001b[0m line \u001b[0;36m7\n\u001b[1;32m      <a href='vscode-notebook-cell:/Users/yifeiyan/micrograd-yifei/sagemaker_inference.ipynb#W5sZmlsZQ%3D%3D?line=3'>4</a>\u001b[0m sm_client \u001b[39m=\u001b[39m boto3\u001b[39m.\u001b[39mclient(\u001b[39m'\u001b[39m\u001b[39msagemaker\u001b[39m\u001b[39m'\u001b[39m)\n\u001b[1;32m      <a href='vscode-notebook-cell:/Users/yifeiyan/micrograd-yifei/sagemaker_inference.ipynb#W5sZmlsZQ%3D%3D?line=5'>6</a>\u001b[0m inference_id \u001b[39m=\u001b[39m response[\u001b[39m'\u001b[39m\u001b[39mInferenceId\u001b[39m\u001b[39m'\u001b[39m]\n\u001b[0;32m----> <a href='vscode-notebook-cell:/Users/yifeiyan/micrograd-yifei/sagemaker_inference.ipynb#W5sZmlsZQ%3D%3D?line=6'>7</a>\u001b[0m describe_response \u001b[39m=\u001b[39m sm_client\u001b[39m.\u001b[39;49mdescribe_async_inference_job(EndpointName\u001b[39m=\u001b[39mendpoint_name, InferenceId\u001b[39m=\u001b[39minference_id)\n\u001b[1;32m      <a href='vscode-notebook-cell:/Users/yifeiyan/micrograd-yifei/sagemaker_inference.ipynb#W5sZmlsZQ%3D%3D?line=7'>8</a>\u001b[0m describe_response\n",
      "File \u001b[0;32m~/.pyenv/versions/3.10.1/envs/micrograd-yifei/lib/python3.10/site-packages/botocore/client.py:888\u001b[0m, in \u001b[0;36mBaseClient.__getattr__\u001b[0;34m(self, item)\u001b[0m\n\u001b[1;32m    885\u001b[0m \u001b[39mif\u001b[39;00m event_response \u001b[39mis\u001b[39;00m \u001b[39mnot\u001b[39;00m \u001b[39mNone\u001b[39;00m:\n\u001b[1;32m    886\u001b[0m     \u001b[39mreturn\u001b[39;00m event_response\n\u001b[0;32m--> 888\u001b[0m \u001b[39mraise\u001b[39;00m \u001b[39mAttributeError\u001b[39;00m(\n\u001b[1;32m    889\u001b[0m     \u001b[39mf\u001b[39m\u001b[39m\"\u001b[39m\u001b[39m'\u001b[39m\u001b[39m{\u001b[39;00m\u001b[39mself\u001b[39m\u001b[39m.\u001b[39m\u001b[39m__class__\u001b[39m\u001b[39m.\u001b[39m\u001b[39m__name__\u001b[39m\u001b[39m}\u001b[39;00m\u001b[39m'\u001b[39m\u001b[39m object has no attribute \u001b[39m\u001b[39m'\u001b[39m\u001b[39m{\u001b[39;00mitem\u001b[39m}\u001b[39;00m\u001b[39m'\u001b[39m\u001b[39m\"\u001b[39m\n\u001b[1;32m    890\u001b[0m )\n",
      "\u001b[0;31mAttributeError\u001b[0m: 'SageMaker' object has no attribute 'describe_async_inference_job'"
     ]
    }
   ],
   "source": [
    "import boto3\n",
    "\n",
    "\n",
    "sm_client = boto3.client('sagemaker')\n",
    "\n",
    "inference_id = response['InferenceId']\n",
    "describe_response = sm_client.describe_async_inference_job(EndpointName=endpoint_name, InferenceId=inference_id)\n",
    "describe_response"
   ]
  },
  {
   "cell_type": "code",
   "execution_count": 17,
   "metadata": {},
   "outputs": [
    {
     "ename": "NoSuchKey",
     "evalue": "An error occurred (NoSuchKey) when calling the GetObject operation: The specified key does not exist.",
     "output_type": "error",
     "traceback": [
      "\u001b[0;31m---------------------------------------------------------------------------\u001b[0m",
      "\u001b[0;31mNoSuchKey\u001b[0m                                 Traceback (most recent call last)",
      "\u001b[1;32m/Users/yifeiyan/micrograd-yifei/sagemaker_inference.ipynb Cell 2\u001b[0m line \u001b[0;36m7\n\u001b[1;32m      <a href='vscode-notebook-cell:/Users/yifeiyan/micrograd-yifei/sagemaker_inference.ipynb#W4sZmlsZQ%3D%3D?line=3'>4</a>\u001b[0m bucket, key \u001b[39m=\u001b[39m sagemaker\u001b[39m.\u001b[39ms3\u001b[39m.\u001b[39mparse_s3_url(s3_output_uri)\n\u001b[1;32m      <a href='vscode-notebook-cell:/Users/yifeiyan/micrograd-yifei/sagemaker_inference.ipynb#W4sZmlsZQ%3D%3D?line=5'>6</a>\u001b[0m s3_client \u001b[39m=\u001b[39m boto3\u001b[39m.\u001b[39mclient(\u001b[39m'\u001b[39m\u001b[39ms3\u001b[39m\u001b[39m'\u001b[39m)\n\u001b[0;32m----> <a href='vscode-notebook-cell:/Users/yifeiyan/micrograd-yifei/sagemaker_inference.ipynb#W4sZmlsZQ%3D%3D?line=6'>7</a>\u001b[0m result_file \u001b[39m=\u001b[39m s3_client\u001b[39m.\u001b[39;49mget_object(Bucket\u001b[39m=\u001b[39;49mbucket, Key\u001b[39m=\u001b[39;49mkey)\n\u001b[1;32m      <a href='vscode-notebook-cell:/Users/yifeiyan/micrograd-yifei/sagemaker_inference.ipynb#W4sZmlsZQ%3D%3D?line=7'>8</a>\u001b[0m results \u001b[39m=\u001b[39m result_file[\u001b[39m'\u001b[39m\u001b[39mBody\u001b[39m\u001b[39m'\u001b[39m]\u001b[39m.\u001b[39mread()\u001b[39m.\u001b[39mdecode(\u001b[39m'\u001b[39m\u001b[39mutf-8\u001b[39m\u001b[39m'\u001b[39m)\n\u001b[1;32m      <a href='vscode-notebook-cell:/Users/yifeiyan/micrograd-yifei/sagemaker_inference.ipynb#W4sZmlsZQ%3D%3D?line=8'>9</a>\u001b[0m \u001b[39mprint\u001b[39m(results)\n",
      "File \u001b[0;32m~/.pyenv/versions/3.10.1/envs/micrograd-yifei/lib/python3.10/site-packages/botocore/client.py:535\u001b[0m, in \u001b[0;36mClientCreator._create_api_method.<locals>._api_call\u001b[0;34m(self, *args, **kwargs)\u001b[0m\n\u001b[1;32m    531\u001b[0m     \u001b[39mraise\u001b[39;00m \u001b[39mTypeError\u001b[39;00m(\n\u001b[1;32m    532\u001b[0m         \u001b[39mf\u001b[39m\u001b[39m\"\u001b[39m\u001b[39m{\u001b[39;00mpy_operation_name\u001b[39m}\u001b[39;00m\u001b[39m() only accepts keyword arguments.\u001b[39m\u001b[39m\"\u001b[39m\n\u001b[1;32m    533\u001b[0m     )\n\u001b[1;32m    534\u001b[0m \u001b[39m# The \"self\" in this scope is referring to the BaseClient.\u001b[39;00m\n\u001b[0;32m--> 535\u001b[0m \u001b[39mreturn\u001b[39;00m \u001b[39mself\u001b[39;49m\u001b[39m.\u001b[39;49m_make_api_call(operation_name, kwargs)\n",
      "File \u001b[0;32m~/.pyenv/versions/3.10.1/envs/micrograd-yifei/lib/python3.10/site-packages/botocore/client.py:980\u001b[0m, in \u001b[0;36mBaseClient._make_api_call\u001b[0;34m(self, operation_name, api_params)\u001b[0m\n\u001b[1;32m    978\u001b[0m     error_code \u001b[39m=\u001b[39m parsed_response\u001b[39m.\u001b[39mget(\u001b[39m\"\u001b[39m\u001b[39mError\u001b[39m\u001b[39m\"\u001b[39m, {})\u001b[39m.\u001b[39mget(\u001b[39m\"\u001b[39m\u001b[39mCode\u001b[39m\u001b[39m\"\u001b[39m)\n\u001b[1;32m    979\u001b[0m     error_class \u001b[39m=\u001b[39m \u001b[39mself\u001b[39m\u001b[39m.\u001b[39mexceptions\u001b[39m.\u001b[39mfrom_code(error_code)\n\u001b[0;32m--> 980\u001b[0m     \u001b[39mraise\u001b[39;00m error_class(parsed_response, operation_name)\n\u001b[1;32m    981\u001b[0m \u001b[39melse\u001b[39;00m:\n\u001b[1;32m    982\u001b[0m     \u001b[39mreturn\u001b[39;00m parsed_response\n",
      "\u001b[0;31mNoSuchKey\u001b[0m: An error occurred (NoSuchKey) when calling the GetObject operation: The specified key does not exist."
     ]
    }
   ],
   "source": [
    "import sagemaker\n",
    "\n",
    "s3_output_uri = response['OutputLocation']  # assuming the response contains this key from earlier\n",
    "bucket, key = sagemaker.s3.parse_s3_url(s3_output_uri)\n",
    "\n",
    "s3_client = boto3.client('s3')\n",
    "result_file = s3_client.get_object(Bucket=bucket, Key=key)\n",
    "results = result_file['Body'].read().decode('utf-8')\n",
    "print(results)"
   ]
  },
  {
   "cell_type": "code",
   "execution_count": 36,
   "metadata": {},
   "outputs": [
    {
     "data": {
      "text/plain": [
       "{'ResponseMetadata': {'RequestId': 'G7EX01XFMVMDVNYV',\n",
       "  'HostId': 'K7KPnYcvfVW5BfMj04wPYyy33mogGjCfPGVeBjx/6ya6AnppKAUyCUoWJfhHMqtBMzxDiSdfrvg=',\n",
       "  'HTTPStatusCode': 200,\n",
       "  'HTTPHeaders': {'x-amz-id-2': 'K7KPnYcvfVW5BfMj04wPYyy33mogGjCfPGVeBjx/6ya6AnppKAUyCUoWJfhHMqtBMzxDiSdfrvg=',\n",
       "   'x-amz-request-id': 'G7EX01XFMVMDVNYV',\n",
       "   'date': 'Sun, 29 Oct 2023 22:15:52 GMT',\n",
       "   'x-amz-server-side-encryption': 'AES256',\n",
       "   'etag': '\"7fbcc03f8c295705910292b1ab486f61\"',\n",
       "   'server': 'AmazonS3',\n",
       "   'content-length': '0'},\n",
       "  'RetryAttempts': 0},\n",
       " 'ETag': '\"7fbcc03f8c295705910292b1ab486f61\"',\n",
       " 'ServerSideEncryption': 'AES256'}"
      ]
     },
     "execution_count": 36,
     "metadata": {},
     "output_type": "execute_result"
    }
   ],
   "source": [
    "import boto3\n",
    "import json\n",
    "\n",
    "s3_client = boto3.client('s3')\n",
    "bucket_name = 'sagemaker-studio-mk6unewb9tb'  # Replace with your S3 bucket name\n",
    "object_key = 'inference_input/input_2.json'\n",
    "\n",
    "# Your input payload\n",
    "payload = {\"data\": \"[0]\", \"output_length\": 10}\n",
    "input_json = json.dumps(payload)\n",
    "\n",
    "# Upload the data to S3\n",
    "s3_client.put_object(Bucket=bucket_name, Key=object_key, Body=input_json)\n"
   ]
  },
  {
   "cell_type": "code",
   "execution_count": 35,
   "metadata": {},
   "outputs": [
    {
     "data": {
      "text/plain": [
       "{'EndpointConfigName': 'async-inference-endpoint',\n",
       " 'EndpointConfigArn': 'arn:aws:sagemaker:us-east-1:252201027045:endpoint-config/async-inference-endpoint',\n",
       " 'ProductionVariants': [{'VariantName': 'AllTraffic',\n",
       "   'ModelName': 'pytorch-inference-2023-10-29-21-24-57-443',\n",
       "   'InitialInstanceCount': 1,\n",
       "   'InstanceType': 'ml.p3.8xlarge',\n",
       "   'InitialVariantWeight': 1.0}],\n",
       " 'CreationTime': datetime.datetime(2023, 10, 29, 14, 24, 58, 895000, tzinfo=tzlocal()),\n",
       " 'AsyncInferenceConfig': {'OutputConfig': {'S3OutputPath': 's3://sagemaker-studio-mk6unewb9tb/inference_output/',\n",
       "   'S3FailurePath': 's3://sagemaker-studio-mk6unewb9tb/async-endpoint-failures/pytorch-inference-2023-10-29-21-24-57-443-1698614698-f20e'}},\n",
       " 'ResponseMetadata': {'RequestId': '8a00a683-dee1-4275-930a-a6fba475ccf5',\n",
       "  'HTTPStatusCode': 200,\n",
       "  'HTTPHeaders': {'x-amzn-requestid': '8a00a683-dee1-4275-930a-a6fba475ccf5',\n",
       "   'content-type': 'application/x-amz-json-1.1',\n",
       "   'content-length': '652',\n",
       "   'date': 'Sun, 29 Oct 2023 22:14:17 GMT'},\n",
       "  'RetryAttempts': 0}}"
      ]
     },
     "execution_count": 35,
     "metadata": {},
     "output_type": "execute_result"
    }
   ],
   "source": [
    "import boto3\n",
    "\n",
    "sagemaker_client = boto3.client('sagemaker')\n",
    "endpoint_config_name = 'async-inference-endpoint'\n",
    "response = sagemaker_client.describe_endpoint_config(EndpointConfigName=endpoint_config_name)\n",
    "response"
   ]
  },
  {
   "cell_type": "code",
   "execution_count": 6,
   "metadata": {},
   "outputs": [
    {
     "name": "stderr",
     "output_type": "stream",
     "text": [
      "YY 2023-11-02 10:44:23,712 [INFO]: YIFEIIIIII: model_fn - START\n",
      "YY 2023-11-02 10:44:23,737 [INFO]: YIFEIIIIII: model_fn - END\n",
      "YY 2023-11-02 10:44:23,738 [INFO]: YIFEIIIIII: predict_fn - START\n"
     ]
    },
    {
     "name": "stdout",
     "output_type": "stream",
     "text": [
      "The autoreload extension is already loaded. To reload it, use:\n",
      "  %reload_ext autoreload\n"
     ]
    },
    {
     "name": "stderr",
     "output_type": "stream",
     "text": [
      "YY 2023-11-02 10:44:34,027 [INFO]: YIFEIIIIII: predict_fn - END\n"
     ]
    },
    {
     "name": "stdout",
     "output_type": "stream",
     "text": [
      "\t\n",
      "\"Capin Quirrell's black,\" have said. \"Ask up one out ofth marb than I betweelves on.... the were Siriving passeep with\n",
      "a boy hosto toward pairs words of a lroken this near. Sirius!\"\n",
      "\n",
      "Ron, though right soon, hurried, \"I wouldn't be am the table.\n",
      "\n",
      "\"I say you know,\" Hermione. Finnon and brushings the Ron's twing;\n",
      "minutely it couldn't lustely door. Nothing be his face, and the stopped,\n",
      "crowding his judged, the face must a choposroard screctumble.\n",
      "\n",
      "He told the whinderfamily that Dudley were people silenced. It was convisible, \"'Be he found the uigh twelve them Dudley he'd they right better, foothers and Harry's straggled herst stop to reach. His eyeling dieved with\n",
      "the word. Around Malfoy's lip into larger. He clearly been\n",
      "their barding the milder bars sharp own to wazed to through the more windows vanistly; Air. And the could feet who rescramment room it be that thought hought him Together of Eye'd clarly right\n",
      "of the doing convreson. He table to troubward, who found inter.\n",
      "\"You were see Coming\n",
      "Mrs. Expleape up his broom........\" Quirrell more brouzns it sruggly everyone down legs. \"Harry hadn't mething they?\n",
      "\n",
      "\"Get is Wood's Semmoning now performation.\"\n",
      "Harry said scomplally. Hermione, who was platforted:\n",
      "\n",
      "\"I knew strouble Diving many killed himselves to Hogwarts them, however as were yough've got\n",
      "in \"point of dille, really.\"\n",
      "If he hadn't even all there hands, he's been examed, up, and it nosing as a People quisty wasn't bathlesside off the people; even shut Summer -- Snape the Goodays anything them a way\n",
      "kind in the speck of Hermione wouldn't three, was coved a mont minutes in then so polkets looking more at the enderstand, enough and\n",
      "Sopeng... know yet it the\n",
      "missing Scabbers. They asked, againing Harry and would\n",
      "hurry vulds go. \"I think you're Ulldrophhat in his forcider ... must --\"\n",
      "\"I bill be stry something Sirius,\"\" he dring, didn't bread so\n",
      "the into the name, you scraters!\" Hermione with back, see I wouldn't have\n",
      "my to than to make.  Harry never now what and dising and Ron I knew what that Harry. \"I know you, not can in . .. . -- the good\n",
      "proater!\"\n",
      "\n",
      "Harry and through them unothing muster the stable everyone this diary, they, looking squotshort\n",
      "that they sightening perval nof. It was coming him as must big as the corrido, stufficlose and starned never inside being to the musder what Vernon was cried.\n",
      "\n",
      "Harry Ron, voiced didgether any homework because every shooking maps over the cheses snatched, though a vult story of the wind!\" Harry and Ron glawnering t(o let the Depility people quite hand like a\n",
      "who later good to?\"\n",
      "\n",
      "\"What us Dog an' he's scream in the recond,\" said Ron, running, but Hermione. \"Then we wouldn't have remember -- you could go off she?\"\n",
      "\n",
      "Voldemort's gotting to should stare to right himself, about Mr. Weasley're Ron and he'd had just here meet bit it of\n",
      "opened someone it as they quietly and Ginny's unless of knape?\"\n",
      "\"Hermione?\"\n",
      "\"Chieful,\" said Ron, greather?\" Hermione like at the \"It's they's breakfaticolates. Then was patant their Tosests her's too....\n",
      "But it was not carrying pattion in the candle to something trouble.......\"\n",
      "\n",
      "\"he's been reful sigued put making...... think you'd que got when the lies Giggles f of them sight. They will looking\n",
      "in their walk Hermione wasn't something that Harry's own the glact of Gaillessort.\n",
      "\n",
      "\"Well, and then he was she's going of glace it, snaks year Lupin, looking catche.\n",
      ".....\"\n",
      "\n",
      "Ron?\" said Ron squietly. Sirius eighted. \"Yes, requiggled the Gryffindor was something for Vicoze back Potter him, \"I'm going down misson who it. I watch your that everything in Krum. It?\n",
      "\n",
      "\"I have one like whutes locking the Professor Trelawn.\n",
      "\"I what the that, you're seemed took on a hand Otime nast pull deunted\n",
      "to horror, but Harry as Potter?\" Harry asked. \"Bluckbeaks with\n",
      "of somethings his night nearer off the loud scar the busket sig Harry,\" said Ron gold, unlicationation,\n",
      "and sort as the didn't see Snape slike hair his disform.\n",
      "\n",
      "\"Where. I need you his hands-knew top Voldemort's the cornstairs to\n"
     ]
    }
   ],
   "source": [
    "%load_ext autoreload\n",
    "%autoreload 2\n",
    "%reload_ext autoreload\n",
    "from sagemaker_inference import model_fn, input_fn, predict_fn\n",
    "\n",
    "\n",
    "model_dict = model_fn('/Users/yifeiyan/micrograd-yifei')\n",
    "output = predict_fn((\"[0]\", 4000), model_dict)\n",
    "print(output)\n"
   ]
  }
 ],
 "metadata": {
  "kernelspec": {
   "display_name": "micrograd-yifei",
   "language": "python",
   "name": "python3"
  },
  "language_info": {
   "codemirror_mode": {
    "name": "ipython",
    "version": 3
   },
   "file_extension": ".py",
   "mimetype": "text/x-python",
   "name": "python",
   "nbconvert_exporter": "python",
   "pygments_lexer": "ipython3",
   "version": "3.10.1"
  },
  "orig_nbformat": 4
 },
 "nbformat": 4,
 "nbformat_minor": 2
}
