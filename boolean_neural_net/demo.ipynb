{
 "cells": [
  {
   "cell_type": "code",
   "execution_count": 152,
   "metadata": {},
   "outputs": [
    {
     "name": "stdout",
     "output_type": "stream",
     "text": [
      "The autoreload extension is already loaded. To reload it, use:\n",
      "  %reload_ext autoreload\n"
     ]
    }
   ],
   "source": [
    "%load_ext autoreload\n",
    "%autoreload 2\n",
    "%reload_ext autoreload\n",
    "import os\n",
    "from model import BooleanNN\n",
    "import torch\n",
    "import random\n",
    "\n",
    "DATASET_DIR = '../datasets/bit/'\n",
    "\n",
    "def get_dataset(data_file):\n",
    "    text_rows = open(f'{DATASET_DIR}{data_file}', 'r').read().splitlines()\n",
    "    dataset = [ [int(num) for num in row.split(',')] for row in text_rows]\n",
    "    return torch.tensor(dataset)\n",
    "\n",
    "def prepare_data(dataset):\n",
    "    train_x = dataset[:, :-1]\n",
    "    train_y = dataset[:, -1]\n",
    "    return train_x, train_y\n",
    "\n",
    "def set_random_seed(manual_seed = None):\n",
    "    if manual_seed:\n",
    "        random.seed(manual_seed)\n",
    "        torch.manual_seed(manual_seed)\n",
    "    else:\n",
    "        seed = int.from_bytes(os.urandom(8), byteorder=\"big\", signed=False)\n",
    "        random.seed(seed)\n",
    "        torch.manual_seed(seed)"
   ]
  },
  {
   "cell_type": "code",
   "execution_count": 153,
   "metadata": {},
   "outputs": [],
   "source": [
    "# Learns the XOR function\n",
    "\n",
    "dataset = get_dataset('XOR.txt')\n",
    "train_x, train_y = prepare_data(dataset)\n",
    "set_random_seed(100)\n",
    "    \n",
    "shuffled_idx = torch.randperm(train_x.shape[0])\n",
    "shuffled_x = train_x[shuffled_idx]\n",
    "shuffled_y = train_y[shuffled_idx]\n",
    "\n",
    "model = BooleanNN(train_x.shape[1], 4)\n",
    "for i in range(80):\n",
    "    batch_idxs = torch.randperm(shuffled_x.shape[0])[:2]\n",
    "    batch_x = shuffled_x[batch_idxs]\n",
    "    batch_y = shuffled_y[batch_idxs]\n",
    "\n",
    "    out_1 = model.forward(batch_x)\n",
    "    model.backprop(batch_y)\n",
    "    out_2 = model.forward(batch_x)\n",
    "    assert torch.equal(batch_y,out_2)\n",
    "\n",
    "assert torch.equal(model.forward(train_x), train_y)"
   ]
  },
  {
   "cell_type": "code",
   "execution_count": 154,
   "metadata": {},
   "outputs": [],
   "source": [
    "# Learns a small binary dataset\n",
    "\n",
    "dataset = get_dataset('bit_small.txt')\n",
    "train_x, train_y = prepare_data(dataset)\n",
    "set_random_seed(100)\n",
    "    \n",
    "shuffled_idx = torch.randperm(train_x.shape[0])\n",
    "shuffled_x = train_x[shuffled_idx]\n",
    "shuffled_y = train_y[shuffled_idx]\n",
    "\n",
    "model = BooleanNN(train_x.shape[1], 4)\n",
    "for i in range(80):\n",
    "    batch_idxs = torch.randperm(shuffled_x.shape[0])[:2]\n",
    "    batch_x = shuffled_x[batch_idxs]\n",
    "    batch_y = shuffled_y[batch_idxs]\n",
    "\n",
    "    out_1 = model.forward(batch_x)\n",
    "    model.backprop(batch_y)\n",
    "    out_2 = model.forward(batch_x)\n",
    "    assert torch.equal(batch_y,out_2)\n",
    "\n",
    "assert torch.equal(model.forward(train_x), train_y)"
   ]
  },
  {
   "cell_type": "code",
   "execution_count": 155,
   "metadata": {},
   "outputs": [],
   "source": [
    "# Learns a large binary dataset\n",
    "\n",
    "dataset = get_dataset('bit_large.txt')\n",
    "train_x, train_y = prepare_data(dataset)\n",
    "set_random_seed(100)\n",
    "    \n",
    "shuffled_idx = torch.randperm(train_x.shape[0])\n",
    "shuffled_x = train_x[shuffled_idx]\n",
    "shuffled_y = train_y[shuffled_idx]\n",
    "\n",
    "model = BooleanNN(train_x.shape[1], 4)\n",
    "for i in range(80):\n",
    "    batch_idxs = torch.randperm(shuffled_x.shape[0])[:2]\n",
    "    batch_x = shuffled_x[batch_idxs]\n",
    "    batch_y = shuffled_y[batch_idxs]\n",
    "\n",
    "    out_1 = model.forward(batch_x)\n",
    "    model.backprop(batch_y)\n",
    "    out_2 = model.forward(batch_x)\n",
    "    assert torch.equal(batch_y,out_2)\n",
    "\n",
    "assert torch.equal(model.forward(train_x), train_y)"
   ]
  }
 ],
 "metadata": {
  "kernelspec": {
   "display_name": "micrograd-yifei",
   "language": "python",
   "name": "python3"
  },
  "language_info": {
   "codemirror_mode": {
    "name": "ipython",
    "version": 3
   },
   "file_extension": ".py",
   "mimetype": "text/x-python",
   "name": "python",
   "nbconvert_exporter": "python",
   "pygments_lexer": "ipython3",
   "version": "3.10.1"
  }
 },
 "nbformat": 4,
 "nbformat_minor": 2
}
