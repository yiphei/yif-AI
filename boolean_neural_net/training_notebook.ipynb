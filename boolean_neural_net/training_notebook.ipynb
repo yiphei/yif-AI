{
 "cells": [
  {
   "cell_type": "code",
   "execution_count": 5,
   "metadata": {},
   "outputs": [
    {
     "name": "stdout",
     "output_type": "stream",
     "text": [
      "The autoreload extension is already loaded. To reload it, use:\n",
      "  %reload_ext autoreload\n"
     ]
    }
   ],
   "source": [
    "%load_ext autoreload\n",
    "%autoreload 2\n",
    "%reload_ext autoreload\n",
    "import os\n",
    "from model import BooleanNN\n",
    "import torch\n",
    "import random\n",
    "\n",
    "DATASET_DIR = '../datasets/'\n",
    "DATA_FILE = 'bit_large.txt'\n",
    "\n",
    "text_rows = open(f'{DATASET_DIR}{DATA_FILE}', 'r').read().splitlines()\n",
    "dataset = [ [int(num) for num in row.split(',')] for row in text_rows]\n",
    "tensor_dataset = torch.tensor(dataset)\n",
    "train_x = tensor_dataset[:, :-1]\n",
    "train_y = tensor_dataset[:, -1]\n",
    "\n",
    "def set_random_seed(manual_seed = None):\n",
    "    if manual_seed:\n",
    "        random.seed(manual_seed)\n",
    "        torch.manual_seed(manual_seed)\n",
    "    else:\n",
    "        seed = int.from_bytes(os.urandom(8), byteorder=\"big\", signed=False)\n",
    "        random.seed(seed)\n",
    "        torch.manual_seed(seed)"
   ]
  },
  {
   "cell_type": "code",
   "execution_count": 6,
   "metadata": {},
   "outputs": [
    {
     "data": {
      "text/plain": [
       "0"
      ]
     },
     "execution_count": 6,
     "metadata": {},
     "output_type": "execute_result"
    }
   ],
   "source": [
    "failed_training = 0\n",
    "\n",
    "for j in range(1000):\n",
    "    set_random_seed()\n",
    "    \n",
    "    shuffled_idx = torch.randperm(train_x.shape[0])\n",
    "    shuffled_x = train_x[shuffled_idx]\n",
    "    shuffled_y = train_y[shuffled_idx]\n",
    "    model = BooleanNN(train_x.shape[1], 5)\n",
    "    for i in range(100):\n",
    "        batch_idxs = torch.randperm(shuffled_x.shape[0])[:shuffled_x.shape[0]-1]\n",
    "        batch_x = shuffled_x[batch_idxs]\n",
    "        batch_y = shuffled_y[batch_idxs]\n",
    "        out_1 = model.forward(batch_x)\n",
    "        model.backprop(batch_y)\n",
    "        out_2 = model.forward(batch_x)\n",
    "        assert torch.equal(batch_y,out_2)\n",
    "\n",
    "    out_3 = model.forward(train_x)\n",
    "    if not torch.equal(train_y,out_3):\n",
    "        failed_training += 1\n",
    "\n",
    "failed_training"
   ]
  },
  {
   "cell_type": "code",
   "execution_count": 7,
   "metadata": {},
   "outputs": [
    {
     "data": {
      "text/plain": [
       "5"
      ]
     },
     "execution_count": 7,
     "metadata": {},
     "output_type": "execute_result"
    }
   ],
   "source": [
    "failed_training = 0\n",
    "for j in range(1000):\n",
    "\n",
    "    set_random_seed()\n",
    "\n",
    "    shuffled_idx = torch.randperm(train_x.shape[0])\n",
    "    shuffled_x = train_x[shuffled_idx]\n",
    "    shuffled_y = train_y[shuffled_idx]\n",
    "    model = BooleanNN(train_x.shape[1], 5)\n",
    "    for i in range(100):\n",
    "        batch_idxs = torch.randperm(shuffled_x.shape[0])[:2]\n",
    "        batch_x = shuffled_x[batch_idxs]\n",
    "        batch_y = shuffled_y[batch_idxs]\n",
    "        out_1 = model.forward(batch_x)\n",
    "        model.backprop(batch_y)\n",
    "        out_2 = model.forward(batch_x)\n",
    "        assert torch.equal(batch_y,out_2)\n",
    "\n",
    "    out_3 = model.forward(train_x)\n",
    "    if not torch.equal(train_y,out_3):\n",
    "        failed_training += 1\n",
    "\n",
    "failed_training"
   ]
  },
  {
   "cell_type": "code",
   "execution_count": 8,
   "metadata": {},
   "outputs": [
    {
     "data": {
      "text/plain": [
       "0"
      ]
     },
     "execution_count": 8,
     "metadata": {},
     "output_type": "execute_result"
    }
   ],
   "source": [
    "failed_training = 0\n",
    "\n",
    "for _ in range(1000):\n",
    "    set_random_seed()\n",
    "\n",
    "    shuffled_idx = torch.randperm(train_x.shape[0])\n",
    "    shuffled_x = train_x[shuffled_idx]\n",
    "    shuffled_y = train_y[shuffled_idx]\n",
    "    model = BooleanNN(train_x.shape[1], 5)\n",
    "    for i in range(100):\n",
    "        batch_idxs = torch.randint(0, shuffled_x.shape[0], (1,))\n",
    "        batch_x = shuffled_x[batch_idxs]\n",
    "        batch_y = shuffled_y[batch_idxs]\n",
    "        out_1 = model.forward(batch_x)\n",
    "        model.backprop(batch_y)\n",
    "        out_2 = model.forward(batch_x)\n",
    "        assert torch.equal(batch_y,out_2)\n",
    "\n",
    "    out_3 = model.forward(train_x)\n",
    "    if not torch.equal(train_y,out_3):\n",
    "        failed_training += 1\n",
    "\n",
    "failed_training"
   ]
  }
 ],
 "metadata": {
  "kernelspec": {
   "display_name": "micrograd-yifei",
   "language": "python",
   "name": "python3"
  },
  "language_info": {
   "codemirror_mode": {
    "name": "ipython",
    "version": 3
   },
   "file_extension": ".py",
   "mimetype": "text/x-python",
   "name": "python",
   "nbconvert_exporter": "python",
   "pygments_lexer": "ipython3",
   "version": "3.10.1"
  }
 },
 "nbformat": 4,
 "nbformat_minor": 2
}
