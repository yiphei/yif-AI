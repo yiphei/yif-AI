{
 "cells": [
  {
   "cell_type": "code",
   "execution_count": 21,
   "metadata": {},
   "outputs": [
    {
     "name": "stdout",
     "output_type": "stream",
     "text": [
      "The autoreload extension is already loaded. To reload it, use:\n",
      "  %reload_ext autoreload\n"
     ]
    },
    {
     "ename": "AssertionError",
     "evalue": "",
     "output_type": "error",
     "traceback": [
      "\u001b[0;31m---------------------------------------------------------------------------\u001b[0m",
      "\u001b[0;31mAssertionError\u001b[0m                            Traceback (most recent call last)",
      "Cell \u001b[0;32mIn[21], line 31\u001b[0m\n\u001b[1;32m     29\u001b[0m tm \u001b[38;5;241m=\u001b[39m BooleanNN(train_x\u001b[38;5;241m.\u001b[39mshape[\u001b[38;5;241m1\u001b[39m], \u001b[38;5;241m5\u001b[39m)\n\u001b[1;32m     30\u001b[0m out_1 \u001b[38;5;241m=\u001b[39m tm\u001b[38;5;241m.\u001b[39mforward(shuffled_x)\n\u001b[0;32m---> 31\u001b[0m \u001b[43mtm\u001b[49m\u001b[38;5;241;43m.\u001b[39;49m\u001b[43mupdate\u001b[49m\u001b[43m(\u001b[49m\u001b[43mshuffled_y\u001b[49m\u001b[43m)\u001b[49m\n\u001b[1;32m     32\u001b[0m out_2 \u001b[38;5;241m=\u001b[39m tm\u001b[38;5;241m.\u001b[39mforward(shuffled_x)\n\u001b[1;32m     33\u001b[0m \u001b[38;5;28;01massert\u001b[39;00m torch\u001b[38;5;241m.\u001b[39mequal(shuffled_y,out_2) \u001b[38;5;66;03m# This fails because it is impossible to find a W in the first layer that generates a zero Y when the FULL_X is the entire input space\u001b[39;00m\n",
      "File \u001b[0;32m~/micrograd-yifei/boolean_neural_net/model.py:396\u001b[0m, in \u001b[0;36mBooleanNN.update\u001b[0;34m(self, y)\u001b[0m\n\u001b[1;32m    394\u001b[0m     updated_X \u001b[38;5;241m=\u001b[39m \u001b[38;5;28mself\u001b[39m\u001b[38;5;241m.\u001b[39ml2\u001b[38;5;241m.\u001b[39mupdate(updated_X)\n\u001b[1;32m    395\u001b[0m \u001b[38;5;28;01mif\u001b[39;00m updated_X \u001b[38;5;129;01mis\u001b[39;00m \u001b[38;5;129;01mnot\u001b[39;00m \u001b[38;5;28;01mNone\u001b[39;00m:\n\u001b[0;32m--> 396\u001b[0m     \u001b[38;5;28;43mself\u001b[39;49m\u001b[38;5;241;43m.\u001b[39;49m\u001b[43ml1\u001b[49m\u001b[38;5;241;43m.\u001b[39;49m\u001b[43mupdate\u001b[49m\u001b[43m(\u001b[49m\u001b[43mupdated_X\u001b[49m\u001b[43m,\u001b[49m\u001b[43m \u001b[49m\u001b[38;5;28;43;01mTrue\u001b[39;49;00m\u001b[43m)\u001b[49m\n",
      "File \u001b[0;32m~/micrograd-yifei/boolean_neural_net/model.py:336\u001b[0m, in \u001b[0;36mBooleanLayer.update\u001b[0;34m(self, Y, is_first_layer)\u001b[0m\n\u001b[1;32m    333\u001b[0m     \u001b[38;5;28;01mreturn\u001b[39;00m \u001b[38;5;28;01mNone\u001b[39;00m\n\u001b[1;32m    335\u001b[0m best_sol \u001b[38;5;241m=\u001b[39m find_best_setup(\u001b[38;5;241m0\u001b[39m, \u001b[38;5;28mself\u001b[39m\u001b[38;5;241m.\u001b[39min_dim, \u001b[38;5;28mset\u001b[39m(), \u001b[38;5;28mset\u001b[39m(\u001b[38;5;28mrange\u001b[39m(\u001b[38;5;28mself\u001b[39m\u001b[38;5;241m.\u001b[39mfull_X\u001b[38;5;241m.\u001b[39mshape[\u001b[38;5;241m0\u001b[39m])))\n\u001b[0;32m--> 336\u001b[0m \u001b[38;5;28;01massert\u001b[39;00m best_sol \u001b[38;5;129;01mis\u001b[39;00m \u001b[38;5;129;01mnot\u001b[39;00m \u001b[38;5;28;01mNone\u001b[39;00m\n\u001b[1;32m    337\u001b[0m \u001b[38;5;28;01mfor\u001b[39;00m W_col_idx \u001b[38;5;129;01min\u001b[39;00m best_sol:\n\u001b[1;32m    338\u001b[0m     pos_col_idx \u001b[38;5;241m=\u001b[39m \u001b[38;5;28mself\u001b[39m\u001b[38;5;241m.\u001b[39mget_pos_col_idx(W_col_idx)\n",
      "\u001b[0;31mAssertionError\u001b[0m: "
     ]
    }
   ],
   "source": [
    "%load_ext autoreload\n",
    "%autoreload 2\n",
    "%reload_ext autoreload\n",
    "import os\n",
    "from model import BooleanNN\n",
    "import torch\n",
    "import random\n",
    "\n",
    "DATASET_DIR = '../datasets/'\n",
    "DATA_FILE = 'bit_2.txt'\n",
    "SEED = 3424929107117034954\n",
    "\n",
    "text_rows = open(f'{DATASET_DIR}{DATA_FILE}', 'r').read().splitlines()\n",
    "dataset = [ [int(num) for num in row.split(',')] for row in text_rows]\n",
    "tensor_dataset = torch.tensor(dataset)\n",
    "train_x = tensor_dataset[:, :-1]\n",
    "train_y = tensor_dataset[:, -1]\n",
    "\n",
    "for _ in range(1):\n",
    "    # seed = int.from_bytes(os.urandom(8), byteorder=\"big\", signed=False)\n",
    "    # random.seed(seed)\n",
    "    # torch.manual_seed(seed)\n",
    "    # print(seed)\n",
    "    \n",
    "    shuffled_idx = torch.randperm(train_x.shape[0])\n",
    "    shuffled_x = train_x[shuffled_idx]\n",
    "    shuffled_y = train_y[shuffled_idx]\n",
    "    \n",
    "    tm = BooleanNN(train_x.shape[1], 5)\n",
    "    out_1 = tm.forward(shuffled_x)\n",
    "    tm.update(shuffled_y)\n",
    "    out_2 = tm.forward(shuffled_x)\n",
    "    assert torch.equal(shuffled_y,out_2) # This fails because it is impossible to find a W in the first layer that generates a zero Y when the FULL_X is the entire input space"
   ]
  },
  {
   "cell_type": "code",
   "execution_count": 22,
   "metadata": {},
   "outputs": [
    {
     "data": {
      "text/plain": [
       "0"
      ]
     },
     "execution_count": 22,
     "metadata": {},
     "output_type": "execute_result"
    }
   ],
   "source": [
    "failed_training = 0\n",
    "for j in range(1000):\n",
    "\n",
    "    SEED = None\n",
    "    if SEED:\n",
    "        random.seed(SEED)\n",
    "        torch.manual_seed(SEED)\n",
    "    else:\n",
    "        seed = int.from_bytes(os.urandom(8), byteorder=\"big\", signed=False)\n",
    "        random.seed(seed)\n",
    "        torch.manual_seed(seed)\n",
    "\n",
    "    shuffled_idx = torch.randperm(train_x.shape[0])\n",
    "    shuffled_x = train_x[shuffled_idx]\n",
    "    shuffled_y = train_y[shuffled_idx]\n",
    "    tm = BooleanNN(train_x.shape[1], 5)\n",
    "    for i in range(100):\n",
    "        # batch_idxs = torch.randint(0, shuffled_x.shape[0], (2,)) # this doesnt work right now\n",
    "        batch_idxs = torch.randperm(shuffled_x.shape[0])[:shuffled_x.shape[0]-1]\n",
    "        batch_x = shuffled_x[batch_idxs]\n",
    "        batch_y = shuffled_y[batch_idxs]\n",
    "        out_1 = tm.forward(batch_x)\n",
    "        tm.update(batch_y)\n",
    "        out_2 = tm.forward(batch_x)\n",
    "        assert torch.equal(batch_y,out_2)\n",
    "\n",
    "    out_3 = tm.forward(train_x)\n",
    "    if not torch.equal(train_y,out_3):\n",
    "        failed_training += 1\n",
    "\n",
    "failed_training"
   ]
  },
  {
   "cell_type": "code",
   "execution_count": 23,
   "metadata": {},
   "outputs": [
    {
     "data": {
      "text/plain": [
       "5"
      ]
     },
     "execution_count": 23,
     "metadata": {},
     "output_type": "execute_result"
    }
   ],
   "source": [
    "failed_training = 0\n",
    "for j in range(1000):\n",
    "\n",
    "    SEED = None\n",
    "    if SEED:\n",
    "        random.seed(SEED)\n",
    "        torch.manual_seed(SEED)\n",
    "    else:\n",
    "        seed = int.from_bytes(os.urandom(8), byteorder=\"big\", signed=False)\n",
    "        random.seed(seed)\n",
    "        torch.manual_seed(seed)\n",
    "\n",
    "    shuffled_idx = torch.randperm(train_x.shape[0])\n",
    "    shuffled_x = train_x[shuffled_idx]\n",
    "    shuffled_y = train_y[shuffled_idx]\n",
    "    tm = BooleanNN(train_x.shape[1], 5)\n",
    "    for i in range(100):\n",
    "        # batch_idxs = torch.randint(0, shuffled_x.shape[0], (2,)) # this doesnt work right now\n",
    "        batch_idxs = torch.randperm(shuffled_x.shape[0])[:2]\n",
    "        batch_x = shuffled_x[batch_idxs]\n",
    "        batch_y = shuffled_y[batch_idxs]\n",
    "        out_1 = tm.forward(batch_x)\n",
    "        tm.update(batch_y)\n",
    "        out_2 = tm.forward(batch_x)\n",
    "        assert torch.equal(batch_y,out_2)\n",
    "\n",
    "    out_3 = tm.forward(train_x)\n",
    "    if not torch.equal(train_y,out_3):\n",
    "        failed_training += 1\n",
    "\n",
    "failed_training"
   ]
  },
  {
   "cell_type": "code",
   "execution_count": 24,
   "metadata": {},
   "outputs": [
    {
     "data": {
      "text/plain": [
       "0"
      ]
     },
     "execution_count": 24,
     "metadata": {},
     "output_type": "execute_result"
    }
   ],
   "source": [
    "failed_training = 0\n",
    "failed_tms = []\n",
    "succeeded_tms = []\n",
    "for _ in range(1000):\n",
    "    SEED = None\n",
    "    if SEED:\n",
    "        random.seed(SEED)\n",
    "        torch.manual_seed(SEED)\n",
    "    else:\n",
    "        seed = int.from_bytes(os.urandom(8), byteorder=\"big\", signed=False)\n",
    "        random.seed(seed)\n",
    "        torch.manual_seed(seed)\n",
    "\n",
    "    shuffled_idx = torch.randperm(train_x.shape[0])\n",
    "    shuffled_x = train_x[shuffled_idx]\n",
    "    shuffled_y = train_y[shuffled_idx]\n",
    "    tm = BooleanNN(train_x.shape[1], 5)\n",
    "    for i in range(100):\n",
    "        batch_idxs = torch.randint(0, shuffled_x.shape[0], (1,))\n",
    "        batch_x = shuffled_x[batch_idxs]\n",
    "        batch_y = shuffled_y[batch_idxs]\n",
    "        out_1 = tm.forward(batch_x)\n",
    "        tm.update(batch_y)\n",
    "        out_2 = tm.forward(batch_x)\n",
    "        assert torch.equal(batch_y,out_2)\n",
    "\n",
    "    out_3 = tm.forward(train_x)\n",
    "    if not torch.equal(train_y,out_3):\n",
    "        failed_training += 1\n",
    "        failed_tms.append(tm)\n",
    "    else:\n",
    "        succeeded_tms.append(tm)\n",
    "\n",
    "failed_training"
   ]
  },
  {
   "cell_type": "code",
   "execution_count": 25,
   "metadata": {},
   "outputs": [
    {
     "ename": "AssertionError",
     "evalue": "",
     "output_type": "error",
     "traceback": [
      "\u001b[0;31m---------------------------------------------------------------------------\u001b[0m",
      "\u001b[0;31mAssertionError\u001b[0m                            Traceback (most recent call last)",
      "Cell \u001b[0;32mIn[25], line 17\u001b[0m\n\u001b[1;32m     15\u001b[0m tm \u001b[38;5;241m=\u001b[39m BooleanNN(train_x\u001b[38;5;241m.\u001b[39mshape[\u001b[38;5;241m1\u001b[39m], \u001b[38;5;241m5\u001b[39m)\n\u001b[1;32m     16\u001b[0m out_1 \u001b[38;5;241m=\u001b[39m tm\u001b[38;5;241m.\u001b[39mforward(shuffled_x)\n\u001b[0;32m---> 17\u001b[0m \u001b[43mtm\u001b[49m\u001b[38;5;241;43m.\u001b[39;49m\u001b[43mupdate\u001b[49m\u001b[43m(\u001b[49m\u001b[43mshuffled_y\u001b[49m\u001b[43m)\u001b[49m\n\u001b[1;32m     18\u001b[0m out_2 \u001b[38;5;241m=\u001b[39m tm\u001b[38;5;241m.\u001b[39mforward(shuffled_x)\n\u001b[1;32m     19\u001b[0m \u001b[38;5;28;01massert\u001b[39;00m torch\u001b[38;5;241m.\u001b[39mequal(shuffled_y,out_2)\n",
      "File \u001b[0;32m~/micrograd-yifei/boolean_neural_net/model.py:396\u001b[0m, in \u001b[0;36mBooleanNN.update\u001b[0;34m(self, y)\u001b[0m\n\u001b[1;32m    394\u001b[0m     updated_X \u001b[38;5;241m=\u001b[39m \u001b[38;5;28mself\u001b[39m\u001b[38;5;241m.\u001b[39ml2\u001b[38;5;241m.\u001b[39mupdate(updated_X)\n\u001b[1;32m    395\u001b[0m \u001b[38;5;28;01mif\u001b[39;00m updated_X \u001b[38;5;129;01mis\u001b[39;00m \u001b[38;5;129;01mnot\u001b[39;00m \u001b[38;5;28;01mNone\u001b[39;00m:\n\u001b[0;32m--> 396\u001b[0m     \u001b[38;5;28;43mself\u001b[39;49m\u001b[38;5;241;43m.\u001b[39;49m\u001b[43ml1\u001b[49m\u001b[38;5;241;43m.\u001b[39;49m\u001b[43mupdate\u001b[49m\u001b[43m(\u001b[49m\u001b[43mupdated_X\u001b[49m\u001b[43m,\u001b[49m\u001b[43m \u001b[49m\u001b[38;5;28;43;01mTrue\u001b[39;49;00m\u001b[43m)\u001b[49m\n",
      "File \u001b[0;32m~/micrograd-yifei/boolean_neural_net/model.py:336\u001b[0m, in \u001b[0;36mBooleanLayer.update\u001b[0;34m(self, Y, is_first_layer)\u001b[0m\n\u001b[1;32m    333\u001b[0m     \u001b[38;5;28;01mreturn\u001b[39;00m \u001b[38;5;28;01mNone\u001b[39;00m\n\u001b[1;32m    335\u001b[0m best_sol \u001b[38;5;241m=\u001b[39m find_best_setup(\u001b[38;5;241m0\u001b[39m, \u001b[38;5;28mself\u001b[39m\u001b[38;5;241m.\u001b[39min_dim, \u001b[38;5;28mset\u001b[39m(), \u001b[38;5;28mset\u001b[39m(\u001b[38;5;28mrange\u001b[39m(\u001b[38;5;28mself\u001b[39m\u001b[38;5;241m.\u001b[39mfull_X\u001b[38;5;241m.\u001b[39mshape[\u001b[38;5;241m0\u001b[39m])))\n\u001b[0;32m--> 336\u001b[0m \u001b[38;5;28;01massert\u001b[39;00m best_sol \u001b[38;5;129;01mis\u001b[39;00m \u001b[38;5;129;01mnot\u001b[39;00m \u001b[38;5;28;01mNone\u001b[39;00m\n\u001b[1;32m    337\u001b[0m \u001b[38;5;28;01mfor\u001b[39;00m W_col_idx \u001b[38;5;129;01min\u001b[39;00m best_sol:\n\u001b[1;32m    338\u001b[0m     pos_col_idx \u001b[38;5;241m=\u001b[39m \u001b[38;5;28mself\u001b[39m\u001b[38;5;241m.\u001b[39mget_pos_col_idx(W_col_idx)\n",
      "\u001b[0;31mAssertionError\u001b[0m: "
     ]
    }
   ],
   "source": [
    "SEED = 5659339910399965995\n",
    "if SEED:\n",
    "    random.seed(SEED)\n",
    "    torch.manual_seed(SEED)\n",
    "else:\n",
    "    seed = int.from_bytes(os.urandom(8), byteorder=\"big\", signed=False)\n",
    "    random.seed(seed)\n",
    "    torch.manual_seed(seed)\n",
    "    print(seed)\n",
    "\n",
    "shuffled_idx = torch.randperm(train_x.shape[0])\n",
    "shuffled_x = train_x[shuffled_idx]\n",
    "shuffled_y = train_y[shuffled_idx]\n",
    "\n",
    "tm = BooleanNN(train_x.shape[1], 5)\n",
    "out_1 = tm.forward(shuffled_x)\n",
    "tm.update(shuffled_y)\n",
    "out_2 = tm.forward(shuffled_x)\n",
    "assert torch.equal(shuffled_y,out_2)"
   ]
  }
 ],
 "metadata": {
  "kernelspec": {
   "display_name": "micrograd-yifei",
   "language": "python",
   "name": "python3"
  },
  "language_info": {
   "codemirror_mode": {
    "name": "ipython",
    "version": 3
   },
   "file_extension": ".py",
   "mimetype": "text/x-python",
   "name": "python",
   "nbconvert_exporter": "python",
   "pygments_lexer": "ipython3",
   "version": "3.10.1"
  }
 },
 "nbformat": 4,
 "nbformat_minor": 2
}
