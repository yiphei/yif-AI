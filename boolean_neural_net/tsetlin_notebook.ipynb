{
 "cells": [
  {
   "cell_type": "code",
   "execution_count": 295,
   "metadata": {},
   "outputs": [
    {
     "name": "stdout",
     "output_type": "stream",
     "text": [
      "The autoreload extension is already loaded. To reload it, use:\n",
      "  %reload_ext autoreload\n",
      "15305054968550633065\n",
      "tensor([1, 1, 1, 1, 0, 0, 0, 0]) tensor([1, 1, 1, 1, 0, 0, 0, 0])\n"
     ]
    }
   ],
   "source": [
    "%load_ext autoreload\n",
    "%autoreload 2\n",
    "%reload_ext autoreload\n",
    "import os\n",
    "from tsetlin import TsetlinMachine\n",
    "import torch\n",
    "import random\n",
    "\n",
    "DATASET_DIR = '../datasets/'\n",
    "DATA_FILE = 'bit_1.txt'\n",
    "SEED = None\n",
    "\n",
    "text_rows = open(f'{DATASET_DIR}{DATA_FILE}', 'r').read().splitlines()\n",
    "dataset = [ [int(num) for num in row.split(',')] for row in text_rows]\n",
    "tensor_dataset = torch.tensor(dataset)\n",
    "train_x = tensor_dataset[:, :-1]\n",
    "train_y = tensor_dataset[:, -1]\n",
    "\n",
    "if SEED:\n",
    "    random.seed(SEED)\n",
    "    torch.manual_seed(SEED)\n",
    "else:\n",
    "    seed = int.from_bytes(os.urandom(8), byteorder=\"big\", signed=False)\n",
    "    random.seed(seed)\n",
    "    torch.manual_seed(seed)\n",
    "    print(seed)\n",
    "\n",
    "tm = TsetlinMachine(train_x.shape[1], 5)\n",
    "\n",
    "out_1 = tm.forward(train_x)\n",
    "tm.update(train_y)\n",
    "out_2 = tm.forward(train_x)\n",
    "print(out_2, train_y)\n",
    "assert torch.equal(train_y,out_2)"
   ]
  },
  {
   "cell_type": "code",
   "execution_count": 296,
   "metadata": {},
   "outputs": [
    {
     "data": {
      "text/plain": [
       "(tensor([[0, 0, 0, 1, 0, 0],\n",
       "         [0, 0, 0, 0, 0, 0],\n",
       "         [0, 0, 0, 0, 0, 0],\n",
       "         [0, 0, 0, 0, 0, 0],\n",
       "         [0, 0, 0, 0, 0, 0]]),\n",
       " tensor([[0, 0, 0, 0, 0, 1, 0, 0, 0, 0],\n",
       "         [0, 0, 0, 0, 0, 0, 0, 0, 0, 0],\n",
       "         [0, 0, 0, 0, 0, 0, 0, 0, 0, 0],\n",
       "         [0, 0, 0, 0, 0, 0, 0, 0, 0, 0],\n",
       "         [0, 0, 0, 0, 0, 0, 0, 0, 0, 0]]),\n",
       " tensor([[1, 0, 0, 0, 0, 0, 0, 0, 0, 0]]))"
      ]
     },
     "execution_count": 296,
     "metadata": {},
     "output_type": "execute_result"
    }
   ],
   "source": [
    "tm.l1.W, tm.l2.W, tm.l3.W"
   ]
  },
  {
   "cell_type": "code",
   "execution_count": 297,
   "metadata": {},
   "outputs": [],
   "source": [
    "for _ in range(100):\n",
    "    seed = int.from_bytes(os.urandom(8), byteorder=\"big\", signed=False)\n",
    "    random.seed(seed)\n",
    "    torch.manual_seed(seed)\n",
    "    # print(seed)\n",
    "    \n",
    "    shuffled_idx = torch.randperm(train_x.shape[0])\n",
    "    shuffled_x = train_x[shuffled_idx]\n",
    "    shuffled_y = train_y[shuffled_idx]\n",
    "    \n",
    "    tm = TsetlinMachine(train_x.shape[1], 5)\n",
    "    out_1 = tm.forward(shuffled_x)\n",
    "    tm.update(shuffled_y)\n",
    "    out_2 = tm.forward(shuffled_x)\n",
    "    assert torch.equal(shuffled_y,out_2)"
   ]
  },
  {
   "cell_type": "code",
   "execution_count": 298,
   "metadata": {},
   "outputs": [],
   "source": [
    "SEED = 14756477415146734378\n",
    "\n",
    "if SEED:\n",
    "    random.seed(SEED)\n",
    "    torch.manual_seed(SEED)\n",
    "else:\n",
    "    seed = int.from_bytes(os.urandom(8), byteorder=\"big\", signed=False)\n",
    "    random.seed(seed)\n",
    "    torch.manual_seed(seed)\n",
    "    print(seed)\n",
    "\n",
    "shuffled_idx = torch.randperm(train_x.shape[0])\n",
    "shuffled_x = train_x[shuffled_idx]\n",
    "shuffled_y = train_y[shuffled_idx]\n",
    "tm = TsetlinMachine(train_x.shape[1], 5)\n",
    "for i in range(15):\n",
    "    batch_idxs = torch.randint(0, shuffled_x.shape[0], (2,))\n",
    "    batch_x = shuffled_x[batch_idxs]\n",
    "    batch_y = shuffled_y[batch_idxs]\n",
    "    out_1 = tm.forward(batch_x)\n",
    "    tm.update(batch_y)\n",
    "    out_2 = tm.forward(batch_x)\n",
    "    assert torch.equal(batch_y,out_2)\n",
    "\n",
    "out_3 = tm.forward(train_x)\n",
    "assert torch.equal(train_y,out_3)"
   ]
  },
  {
   "cell_type": "code",
   "execution_count": 404,
   "metadata": {},
   "outputs": [
    {
     "data": {
      "text/plain": [
       "110"
      ]
     },
     "execution_count": 404,
     "metadata": {},
     "output_type": "execute_result"
    }
   ],
   "source": [
    "failed_training = 0\n",
    "for _ in range(1000):\n",
    "    SEED = None\n",
    "    if SEED:\n",
    "        random.seed(SEED)\n",
    "        torch.manual_seed(SEED)\n",
    "    else:\n",
    "        seed = int.from_bytes(os.urandom(8), byteorder=\"big\", signed=False)\n",
    "        random.seed(seed)\n",
    "        torch.manual_seed(seed)\n",
    "        # print(seed)\n",
    "\n",
    "    shuffled_idx = torch.randperm(train_x.shape[0])\n",
    "    shuffled_x = train_x[shuffled_idx]\n",
    "    shuffled_y = train_y[shuffled_idx]\n",
    "    tm = TsetlinMachine(train_x.shape[1], 5)\n",
    "    for i in range(100):\n",
    "        batch_idxs = torch.randint(0, shuffled_x.shape[0], (2,))\n",
    "        batch_x = shuffled_x[batch_idxs]\n",
    "        batch_y = shuffled_y[batch_idxs]\n",
    "        out_1 = tm.forward(batch_x)\n",
    "        tm.update(batch_y)\n",
    "        out_2 = tm.forward(batch_x)\n",
    "        assert torch.equal(batch_y,out_2)\n",
    "\n",
    "    out_3 = tm.forward(train_x)\n",
    "    if not torch.equal(train_y,out_3):\n",
    "        failed_training += 1\n",
    "\n",
    "failed_training"
   ]
  },
  {
   "cell_type": "code",
   "execution_count": 408,
   "metadata": {},
   "outputs": [
    {
     "data": {
      "text/plain": [
       "0"
      ]
     },
     "execution_count": 408,
     "metadata": {},
     "output_type": "execute_result"
    }
   ],
   "source": [
    "failed_training = 0\n",
    "failed_tms = []\n",
    "succeeded_tms = []\n",
    "for _ in range(1000):\n",
    "    SEED = None\n",
    "    if SEED:\n",
    "        random.seed(SEED)\n",
    "        torch.manual_seed(SEED)\n",
    "    else:\n",
    "        seed = int.from_bytes(os.urandom(8), byteorder=\"big\", signed=False)\n",
    "        random.seed(seed)\n",
    "        torch.manual_seed(seed)\n",
    "\n",
    "    shuffled_idx = torch.randperm(train_x.shape[0])\n",
    "    shuffled_x = train_x[shuffled_idx]\n",
    "    shuffled_y = train_y[shuffled_idx]\n",
    "    tm = TsetlinMachine(train_x.shape[1], 5)\n",
    "    for i in range(100):\n",
    "        batch_idxs = torch.randint(0, shuffled_x.shape[0], (1,))\n",
    "        batch_x = shuffled_x[batch_idxs]\n",
    "        batch_y = shuffled_y[batch_idxs]\n",
    "        out_1 = tm.forward(batch_x)\n",
    "        tm.update(batch_y)\n",
    "        out_2 = tm.forward(batch_x)\n",
    "        assert torch.equal(batch_y,out_2)\n",
    "\n",
    "    out_3 = tm.forward(train_x)\n",
    "    if not torch.equal(train_y,out_3):\n",
    "        failed_training += 1\n",
    "        failed_tms.append(tm)\n",
    "    else:\n",
    "        succeeded_tms.append(tm)\n",
    "\n",
    "failed_training"
   ]
  },
  {
   "cell_type": "code",
   "execution_count": 393,
   "metadata": {},
   "outputs": [],
   "source": [
    "SEED = 9567674845606600831\n",
    "if SEED:\n",
    "    random.seed(SEED)\n",
    "    torch.manual_seed(SEED)\n",
    "else:\n",
    "    seed = int.from_bytes(os.urandom(8), byteorder=\"big\", signed=False)\n",
    "    random.seed(seed)\n",
    "    torch.manual_seed(seed)\n",
    "    print(seed)\n",
    "\n",
    "shuffled_idx = torch.randperm(train_x.shape[0])\n",
    "shuffled_x = train_x[shuffled_idx]\n",
    "shuffled_y = train_y[shuffled_idx]\n",
    "tm = TsetlinMachine(train_x.shape[1], 5)\n",
    "for i in range(100):\n",
    "    batch_idxs = torch.randint(0, shuffled_x.shape[0], (1,))\n",
    "    batch_x = shuffled_x[batch_idxs]\n",
    "    batch_y = shuffled_y[batch_idxs]\n",
    "    out_1 = tm.forward(batch_x)\n",
    "    tm.update(batch_y)\n",
    "    out_2 = tm.forward(batch_x)\n",
    "    assert torch.equal(batch_y,out_2)\n",
    "\n",
    "out_3 = tm.forward(train_x)\n",
    "if not torch.equal(train_y,out_3):\n",
    "    print(\"FAILED\")"
   ]
  }
 ],
 "metadata": {
  "kernelspec": {
   "display_name": "micrograd-yifei",
   "language": "python",
   "name": "python3"
  },
  "language_info": {
   "codemirror_mode": {
    "name": "ipython",
    "version": 3
   },
   "file_extension": ".py",
   "mimetype": "text/x-python",
   "name": "python",
   "nbconvert_exporter": "python",
   "pygments_lexer": "ipython3",
   "version": "3.10.1"
  },
  "orig_nbformat": 4
 },
 "nbformat": 4,
 "nbformat_minor": 2
}
