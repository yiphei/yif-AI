{
 "cells": [
  {
   "cell_type": "code",
   "execution_count": null,
   "metadata": {},
   "outputs": [],
   "source": [
    "from sagemaker.predictor import Predictor\n",
    "import numpy as np\n",
    "import json\n",
    "\n",
    "# Specify your endpoint name\n",
    "endpoint_name = 'your-custom-endpoint-name'\n",
    "# Initialize the predictor\n",
    "predictor = Predictor(endpoint_name=endpoint_name)\n",
    "# Prepare your input data. The format depends on the `input_fn` in your inference script\n",
    "data = {\"instances\": [1.0, 2.0, 5.0]}  # Example data; adjust for your needs\n",
    "payload = json.dumps(data)  # Convert to JSON string if necessary\n",
    "# Invoke the endpoint\n",
    "result = predictor.predict(payload, initial_args={\"ContentType\": \"application/json\"})\n",
    "# The response format depends on the `output_fn` in your inference script\n",
    "print(result)"
   ]
  }
 ],
 "metadata": {
  "language_info": {
   "name": "python"
  }
 },
 "nbformat": 4,
 "nbformat_minor": 2
}
