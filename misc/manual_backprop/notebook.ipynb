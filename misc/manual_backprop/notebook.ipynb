{
 "cells": [
  {
   "cell_type": "code",
   "execution_count": 1,
   "metadata": {},
   "outputs": [
    {
     "name": "stdout",
     "output_type": "stream",
     "text": [
      "Value(48)\n"
     ]
    }
   ],
   "source": [
    "%load_ext autoreload\n",
    "%autoreload 2\n",
    "%reload_ext autoreload\n",
    "\n",
    "\n",
    "from value import Value\n",
    "a = Value(3)\n",
    "b = Value(5)\n",
    "c = a + b\n",
    "e = Value(6)\n",
    "d = c * e\n",
    "print(d)"
   ]
  },
  {
   "cell_type": "code",
   "execution_count": 2,
   "metadata": {},
   "outputs": [
    {
     "data": {
      "text/plain": [
       "1"
      ]
     },
     "execution_count": 2,
     "metadata": {},
     "output_type": "execute_result"
    }
   ],
   "source": [
    "d.backward()\n",
    "d.grad"
   ]
  },
  {
   "cell_type": "code",
   "execution_count": 3,
   "metadata": {},
   "outputs": [
    {
     "data": {
      "text/plain": [
       "6"
      ]
     },
     "execution_count": 3,
     "metadata": {},
     "output_type": "execute_result"
    }
   ],
   "source": [
    "c.grad"
   ]
  },
  {
   "cell_type": "code",
   "execution_count": 4,
   "metadata": {},
   "outputs": [
    {
     "data": {
      "text/plain": [
       "8"
      ]
     },
     "execution_count": 4,
     "metadata": {},
     "output_type": "execute_result"
    }
   ],
   "source": [
    "e.grad"
   ]
  },
  {
   "cell_type": "code",
   "execution_count": 5,
   "metadata": {},
   "outputs": [
    {
     "data": {
      "text/plain": [
       "6"
      ]
     },
     "execution_count": 5,
     "metadata": {},
     "output_type": "execute_result"
    }
   ],
   "source": [
    "a.grad"
   ]
  },
  {
   "cell_type": "code",
   "execution_count": 6,
   "metadata": {},
   "outputs": [
    {
     "data": {
      "text/plain": [
       "6"
      ]
     },
     "execution_count": 6,
     "metadata": {},
     "output_type": "execute_result"
    }
   ],
   "source": [
    "b.grad"
   ]
  },
  {
   "cell_type": "code",
   "execution_count": 7,
   "metadata": {},
   "outputs": [
    {
     "name": "stdout",
     "output_type": "stream",
     "text": [
      "The autoreload extension is already loaded. To reload it, use:\n",
      "  %reload_ext autoreload\n",
      "3 3.0\n"
     ]
    }
   ],
   "source": [
    "%load_ext autoreload\n",
    "%autoreload 2\n",
    "%reload_ext autoreload\n",
    "from value import Value\n",
    "import torch\n",
    "\n",
    "\n",
    "x = Value(-4.0)\n",
    "z = 2 * x + 2 + x\n",
    "z.backward()\n",
    "xmg, ymg = x, z\n",
    "\n",
    "x = torch.Tensor([-4.0]).double()\n",
    "x.requires_grad = True\n",
    "z = 2 * x + 2 + x\n",
    "z.backward()\n",
    "xpt, ypt = x, z\n",
    "\n",
    "# forward pass went well\n",
    "assert ymg.scalar == ypt.data.item()\n",
    "# backward pass went well\n",
    "print(xmg.grad, xpt.grad.item())\n",
    "assert xmg.grad == xpt.grad.item()\n"
   ]
  },
  {
   "cell_type": "code",
   "execution_count": 8,
   "metadata": {},
   "outputs": [
    {
     "name": "stdout",
     "output_type": "stream",
     "text": [
      "The autoreload extension is already loaded. To reload it, use:\n",
      "  %reload_ext autoreload\n",
      "-60.0 -60.0\n"
     ]
    }
   ],
   "source": [
    "%load_ext autoreload\n",
    "%autoreload 2\n",
    "%reload_ext autoreload\n",
    "from value import Value\n",
    "import torch\n",
    "\n",
    "\n",
    "x = Value(-4.0)\n",
    "z = 2 * x + 2 + x\n",
    "h = (z * z).relu()\n",
    "h.backward()\n",
    "xmg, ymg = x, h\n",
    "\n",
    "x = torch.Tensor([-4.0]).double()\n",
    "x.requires_grad = True\n",
    "z = 2 * x + 2 + x\n",
    "h = (z * z).relu()\n",
    "h.backward()\n",
    "xpt, ypt = x, h\n",
    "\n",
    "# forward pass went well\n",
    "assert ymg.scalar == ypt.data.item()\n",
    "# backward pass went well\n",
    "print(xmg.grad, xpt.grad.item())\n",
    "assert xmg.grad == xpt.grad.item()\n"
   ]
  },
  {
   "cell_type": "code",
   "execution_count": 9,
   "metadata": {},
   "outputs": [
    {
     "name": "stdout",
     "output_type": "stream",
     "text": [
      "The autoreload extension is already loaded. To reload it, use:\n",
      "  %reload_ext autoreload\n",
      "-82.0 -82.0\n"
     ]
    }
   ],
   "source": [
    "%load_ext autoreload\n",
    "%autoreload 2\n",
    "%reload_ext autoreload\n",
    "from value import Value\n",
    "import torch\n",
    "\n",
    "\n",
    "x = Value(-4.0)\n",
    "z = 2 * x + 2 + x\n",
    "q = z.relu() + z * x\n",
    "h = (z*z).relu()\n",
    "y = h + q\n",
    "y.backward()\n",
    "xmg, ymg = x, y\n",
    "\n",
    "x = torch.Tensor([-4.0]).double()\n",
    "x.requires_grad = True\n",
    "z = 2 * x + 2 + x\n",
    "q = z.relu() + z * x\n",
    "h = (z*z).relu()\n",
    "y = h + q\n",
    "y.backward()\n",
    "xpt, ypt = x, y\n",
    "\n",
    "# forward pass went well\n",
    "assert ymg.scalar == ypt.data.item()\n",
    "# backward pass went well\n",
    "print(xmg.grad, xpt.grad.item())\n",
    "assert xmg.grad == xpt.grad.item()\n",
    "\n",
    "\n"
   ]
  },
  {
   "cell_type": "code",
   "execution_count": 10,
   "metadata": {},
   "outputs": [
    {
     "name": "stdout",
     "output_type": "stream",
     "text": [
      "The autoreload extension is already loaded. To reload it, use:\n",
      "  %reload_ext autoreload\n"
     ]
    }
   ],
   "source": [
    "%load_ext autoreload\n",
    "%autoreload 2\n",
    "%reload_ext autoreload\n",
    "from value import Value\n",
    "import torch\n",
    "\n",
    "a = Value(-4.0)\n",
    "b = Value(2.0)\n",
    "c = a + b\n",
    "d = a * b + b**3\n",
    "c += c + 1\n",
    "c += 1 + c + (-a)\n",
    "d += d * 2 + (b + a).relu()\n",
    "d += 3 * d + (b - a).relu()\n",
    "e = c - d\n",
    "f = e**2\n",
    "g = f / 2.0\n",
    "g += 10.0 / f\n",
    "g.backward()\n",
    "amg, bmg, gmg = a, b, g\n",
    "\n",
    "a = torch.Tensor([-4.0]).double()\n",
    "b = torch.Tensor([2.0]).double()\n",
    "a.requires_grad = True\n",
    "b.requires_grad = True\n",
    "c = a + b\n",
    "d = a * b + b**3\n",
    "c = c + c + 1\n",
    "c = c + 1 + c + (-a)\n",
    "d = d + d * 2 + (b + a).relu()\n",
    "d = d + 3 * d + (b - a).relu()\n",
    "e = c - d\n",
    "f = e**2\n",
    "g = f / 2.0\n",
    "g = g + 10.0 / f\n",
    "g.backward()\n",
    "apt, bpt, gpt = a, b, g\n",
    "\n",
    "tol = 1e-6\n",
    "# forward pass went well\n",
    "assert abs(gmg.scalar - gpt.data.item()) < tol\n",
    "# backward pass went well\n",
    "assert abs(amg.grad - apt.grad.item()) < tol\n",
    "assert abs(bmg.grad - bpt.grad.item()) < tol"
   ]
  },
  {
   "cell_type": "code",
   "execution_count": 11,
   "metadata": {},
   "outputs": [
    {
     "name": "stdout",
     "output_type": "stream",
     "text": [
      "The autoreload extension is already loaded. To reload it, use:\n",
      "  %reload_ext autoreload\n"
     ]
    },
    {
     "data": {
      "text/plain": [
       "torch.float64"
      ]
     },
     "execution_count": 11,
     "metadata": {},
     "output_type": "execute_result"
    }
   ],
   "source": [
    "import torch\n",
    "%load_ext autoreload\n",
    "%autoreload 2\n",
    "%reload_ext autoreload\n",
    "from value import Value\n",
    "import torch\n",
    "\n",
    "torch.Tensor([[1,2,3], [1,1,1]]).double().dtype"
   ]
  },
  {
   "cell_type": "code",
   "execution_count": 12,
   "metadata": {},
   "outputs": [
    {
     "data": {
      "text/plain": [
       "Value(-0.40125777178811844)"
      ]
     },
     "execution_count": 12,
     "metadata": {},
     "output_type": "execute_result"
    }
   ],
   "source": [
    "from neuron import Neuron, MLP\n",
    "mlp = MLP(3, [4,4,1])\n",
    "mlp([1,2,3,])"
   ]
  },
  {
   "cell_type": "code",
   "execution_count": 13,
   "metadata": {},
   "outputs": [
    {
     "data": {
      "text/plain": [
       "[Value(0.12774795472204742),\n",
       " Value(0.044800773868282594),\n",
       " Value(-0.23469945046181953),\n",
       " Value(0.03108475364606299)]"
      ]
     },
     "execution_count": 13,
     "metadata": {},
     "output_type": "execute_result"
    }
   ],
   "source": [
    "xs = [\n",
    "    [2,3,-1],\n",
    "    [3,-1,0.5],\n",
    "    [0.5,1,1],\n",
    "    [1,1,-1]\n",
    "]\n",
    "ys = [1,-1,-1,1]\n",
    "ypreds = [mlp(x) for x in xs]\n",
    "ypreds"
   ]
  },
  {
   "cell_type": "code",
   "execution_count": 14,
   "metadata": {},
   "outputs": [
    {
     "data": {
      "text/plain": [
       "Value(3.376913973307885)"
      ]
     },
     "execution_count": 14,
     "metadata": {},
     "output_type": "execute_result"
    }
   ],
   "source": [
    "loss = sum((y-ypred)**2 for y, ypred in zip(ys, ypreds))\n",
    "loss"
   ]
  },
  {
   "cell_type": "code",
   "execution_count": 15,
   "metadata": {},
   "outputs": [],
   "source": [
    "loss.backward()"
   ]
  },
  {
   "cell_type": "code",
   "execution_count": 16,
   "metadata": {},
   "outputs": [
    {
     "data": {
      "text/plain": [
       "-1.3922567718695906"
      ]
     },
     "execution_count": 16,
     "metadata": {},
     "output_type": "execute_result"
    }
   ],
   "source": [
    "mlp.layers[0].neurons[0].w[0].grad"
   ]
  },
  {
   "cell_type": "code",
   "execution_count": 17,
   "metadata": {},
   "outputs": [
    {
     "data": {
      "text/plain": [
       "[Value(-0.6425240750107983),\n",
       " Value(-0.41499428300158936),\n",
       " Value(0.9190815033238537),\n",
       " Value(0.08778042438976374),\n",
       " Value(0.6297664711711426),\n",
       " Value(0.22544600012004956),\n",
       " Value(-0.8009820110781549),\n",
       " Value(-0.5323563778406142),\n",
       " Value(0.417641137120246),\n",
       " Value(0.532291543970338),\n",
       " Value(0.6784220763792563),\n",
       " Value(0.43931852724018206),\n",
       " Value(-0.9707876049037403),\n",
       " Value(-0.653789179699376),\n",
       " Value(0.42590992695467),\n",
       " Value(-0.5607715365817683),\n",
       " Value(-0.7373512900550323),\n",
       " Value(-0.2836049648869057),\n",
       " Value(0.22088620064873488),\n",
       " Value(0.5916962523075981),\n",
       " Value(-0.11089912083803233),\n",
       " Value(-0.6010016942910728),\n",
       " Value(-0.8225325554898342),\n",
       " Value(-0.9050803726086836),\n",
       " Value(-0.047711894460858995),\n",
       " Value(0.04688921285282488),\n",
       " Value(0.13021337829045754),\n",
       " Value(-0.3292590063500018),\n",
       " Value(0.6952324872298767),\n",
       " Value(-0.8941356679223071),\n",
       " Value(0.2545337185746903),\n",
       " Value(-0.2726929711191437),\n",
       " Value(0.5613773092160885),\n",
       " Value(-0.5485346564820976),\n",
       " Value(0.25239070055315826),\n",
       " Value(-0.5705429709193521),\n",
       " Value(0.7988819274497299),\n",
       " Value(-0.32300066317490717),\n",
       " Value(-0.9751323052425698),\n",
       " Value(-0.2770108137327265),\n",
       " Value(0.6281115347090414)]"
      ]
     },
     "execution_count": 17,
     "metadata": {},
     "output_type": "execute_result"
    }
   ],
   "source": [
    "mlp.parameters()"
   ]
  },
  {
   "cell_type": "code",
   "execution_count": 18,
   "metadata": {},
   "outputs": [],
   "source": [
    "for p in mlp.parameters():\n",
    "    p.scalar += - 0.1 * p.grad"
   ]
  },
  {
   "cell_type": "code",
   "execution_count": 19,
   "metadata": {},
   "outputs": [
    {
     "data": {
      "text/plain": [
       "[Value(-0.5032983978238392),\n",
       " Value(-0.4200037023677007),\n",
       " Value(0.9921116152425802),\n",
       " Value(0.16667696723127726),\n",
       " Value(0.6608460579103292),\n",
       " Value(0.2013571451965201),\n",
       " Value(-0.7933883241774343),\n",
       " Value(-0.5278443345488296),\n",
       " Value(0.42265224133352597),\n",
       " Value(0.5821070968218511),\n",
       " Value(0.6288684479255564),\n",
       " Value(0.4622249713437568),\n",
       " Value(-0.9852030579656347),\n",
       " Value(-0.6666327547679033),\n",
       " Value(0.40312609154158846),\n",
       " Value(-0.5790656335048304),\n",
       " Value(-0.9239575425038227),\n",
       " Value(-0.06353382362948035),\n",
       " Value(0.20663264929988087),\n",
       " Value(0.548816618835107),\n",
       " Value(-0.08232749382971952),\n",
       " Value(-0.5505982671203632),\n",
       " Value(-0.8862047836894634),\n",
       " Value(-0.883799197296192),\n",
       " Value(-0.049984268189932936),\n",
       " Value(0.05491273492362051),\n",
       " Value(0.19919624004411352),\n",
       " Value(-0.3979089354968196),\n",
       " Value(0.6677843915377188),\n",
       " Value(-0.845189384773857),\n",
       " Value(0.20700587144426952),\n",
       " Value(-0.21840309262447108),\n",
       " Value(0.5084014383122418),\n",
       " Value(-0.575838786813666),\n",
       " Value(0.29496202539788163),\n",
       " Value(-0.6125678378246434),\n",
       " Value(0.8594814052402477),\n",
       " Value(-0.35904860685453205),\n",
       " Value(-0.9904723180643329),\n",
       " Value(-0.1713559901184184),\n",
       " Value(0.6401410760230107)]"
      ]
     },
     "execution_count": 19,
     "metadata": {},
     "output_type": "execute_result"
    }
   ],
   "source": [
    "mlp.parameters()"
   ]
  },
  {
   "cell_type": "code",
   "execution_count": 20,
   "metadata": {},
   "outputs": [
    {
     "data": {
      "text/plain": [
       "[Value(0.5247471185018273),\n",
       " Value(0.10784651842650902),\n",
       " Value(-0.49801294347342867),\n",
       " Value(0.450423892291507)]"
      ]
     },
     "execution_count": 20,
     "metadata": {},
     "output_type": "execute_result"
    }
   ],
   "source": [
    "ypreds = [mlp(x) for x in xs]\n",
    "ypreds"
   ]
  },
  {
   "cell_type": "code",
   "execution_count": 21,
   "metadata": {},
   "outputs": [
    {
     "data": {
      "text/plain": [
       "Value(2.007214112846282)"
      ]
     },
     "execution_count": 21,
     "metadata": {},
     "output_type": "execute_result"
    }
   ],
   "source": [
    "loss = sum((y-ypred)**2 for y, ypred in zip(ys, ypreds))\n",
    "loss"
   ]
  },
  {
   "cell_type": "code",
   "execution_count": 22,
   "metadata": {},
   "outputs": [
    {
     "name": "stdout",
     "output_type": "stream",
     "text": [
      "Value(2.007214112846282)\n",
      "Value(1.9726821930732887)\n",
      "Value(1.9388963100804169)\n",
      "Value(1.9058672281117661)\n",
      "Value(1.87360308563131)\n",
      "Value(1.8421091673523668)\n",
      "Value(1.8113877581118145)\n",
      "Value(1.7814380821575502)\n",
      "Value(1.752256326744623)\n",
      "Value(1.7238357446001202)\n",
      "Value(1.6961668261626577)\n",
      "Value(1.6692375297709763)\n",
      "Value(1.6430335562901104)\n",
      "Value(1.6175386540271186)\n",
      "Value(1.5927349401044155)\n",
      "Value(1.5686032255571223)\n",
      "Value(1.545123333090077)\n",
      "Value(1.5222743984482947)\n",
      "Value(1.5000351485145345)\n",
      "Value(1.4783841513746228)\n",
      "Value(1.4573000355522303)\n",
      "Value(1.43676167732119)\n",
      "Value(1.41674835640729)\n",
      "Value(1.3972398814791018)\n",
      "Value(1.3782166876114479)\n",
      "Value(1.3596599084157268)\n",
      "Value(1.3415514258088248)\n",
      "Value(1.3238739004813764)\n",
      "Value(1.3066107860704126)\n",
      "Value(1.289746329881452)\n",
      "Value(1.2732655627757699)\n",
      "Value(1.257154280568892)\n",
      "Value(1.2413990189990438)\n",
      "Value(1.2259870240365214)\n",
      "Value(1.2109062190288644)\n",
      "Value(1.1961451699203556)\n",
      "Value(1.1816930495525024)\n",
      "Value(1.1675396018469733)\n",
      "Value(1.1536751064943422)\n",
      "Value(1.1400903446199946)\n",
      "Value(1.126776565770994)\n",
      "Value(1.1137254564621943)\n",
      "Value(1.1009291104341106)\n",
      "Value(1.0883800007064055)\n",
      "Value(1.0760709534568607)\n",
      "Value(1.0639951237142162)\n",
      "Value(1.0521459728220555)\n",
      "Value(1.0405172476083306)\n",
      "Value(1.0291029611793872)\n",
      "Value(1.0178973752472242)\n"
     ]
    }
   ],
   "source": [
    "for i in range(50):\n",
    "    ypreds = [mlp(x) for x in xs]\n",
    "    loss = sum((y-ypred)**2 for y, ypred in zip(ys, ypreds))\n",
    "    for p in mlp.parameters():\n",
    "        p.grad = 0.0\n",
    "\n",
    "    loss.backward()\n",
    "    for p in mlp.parameters():\n",
    "        p.scalar += - 0.001 * p.grad\n",
    "    print(loss)"
   ]
  },
  {
   "cell_type": "code",
   "execution_count": 23,
   "metadata": {},
   "outputs": [
    {
     "data": {
      "text/plain": [
       "[Value(0.541454889055011),\n",
       " Value(-0.3735314546445587),\n",
       " Value(-0.6399282415024998),\n",
       " Value(0.465659989437037)]"
      ]
     },
     "execution_count": 23,
     "metadata": {},
     "output_type": "execute_result"
    }
   ],
   "source": [
    "ypreds"
   ]
  }
 ],
 "metadata": {
  "kernelspec": {
   "display_name": "micrograd-yifei",
   "language": "python",
   "name": "python3"
  },
  "language_info": {
   "codemirror_mode": {
    "name": "ipython",
    "version": 3
   },
   "file_extension": ".py",
   "mimetype": "text/x-python",
   "name": "python",
   "nbconvert_exporter": "python",
   "pygments_lexer": "ipython3",
   "version": "3.10.1"
  },
  "orig_nbformat": 4
 },
 "nbformat": 4,
 "nbformat_minor": 2
}
