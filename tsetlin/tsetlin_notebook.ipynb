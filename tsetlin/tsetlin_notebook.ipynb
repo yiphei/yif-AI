{
 "cells": [
  {
   "cell_type": "code",
   "execution_count": 36,
   "metadata": {},
   "outputs": [],
   "source": [
    "import torch\n",
    "\n",
    "\n",
    "def conjunctin_mul(X, W):\n",
    "    X_neg = 1 - X\n",
    "    full_X = torch.cat((X, X_neg), dim=1)\n",
    "    matrix_X = full_X.repeat(W.shape[0], 1)\n",
    "    mask = W > 0\n",
    "    masked_X = torch.where(mask, matrix_X, torch.tensor(1))\n",
    "    result = torch.prod(masked_X, dim=1, keepdim=True).view(1,-1)\n",
    "    return result\n",
    "\n",
    "\n",
    "\n",
    "class TsetlinLayer:\n",
    "    \n",
    "    def __init__(self, in_dim, out_dim):\n",
    "        w_pos = torch.randint(0, 2, (out_dim, in_dim,))\n",
    "        w_neg = 1 - w_pos\n",
    "        self.w = torch.cat((w_pos, w_neg), dim=1)\n",
    "\n",
    "    def forward(self, X):\n",
    "        result = conjunctin_mul(X, self.w)\n",
    "        return result\n",
    "\n",
    "\n",
    "\n",
    "class TsetlinMachine:\n",
    "\n",
    "    def __init__(self, in_dim):\n",
    "        self.l1 = TsetlinLayer(in_dim, 10)\n",
    "        self.l2 = TsetlinLayer(10, 1)\n",
    "\n",
    "    def forward(self, X):\n",
    "        X = self.l1.forward(X)\n",
    "        X = self.l2.forward(X)\n",
    "        return X\n",
    "\n",
    "\n",
    "\n",
    "    "
   ]
  },
  {
   "cell_type": "code",
   "execution_count": 86,
   "metadata": {},
   "outputs": [
    {
     "data": {
      "text/plain": [
       "tensor([[0]])"
      ]
     },
     "execution_count": 86,
     "metadata": {},
     "output_type": "execute_result"
    }
   ],
   "source": [
    "\n",
    "tm = TsetlinMachine(2)\n",
    "tm.forward(torch.tensor([[0,1]]))"
   ]
  }
 ],
 "metadata": {
  "kernelspec": {
   "display_name": "micrograd-yifei",
   "language": "python",
   "name": "python3"
  },
  "language_info": {
   "codemirror_mode": {
    "name": "ipython",
    "version": 3
   },
   "file_extension": ".py",
   "mimetype": "text/x-python",
   "name": "python",
   "nbconvert_exporter": "python",
   "pygments_lexer": "ipython3",
   "version": "3.10.1"
  },
  "orig_nbformat": 4
 },
 "nbformat": 4,
 "nbformat_minor": 2
}
