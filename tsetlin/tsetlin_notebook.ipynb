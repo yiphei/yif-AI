{
 "cells": [
  {
   "cell_type": "code",
   "execution_count": 3,
   "metadata": {},
   "outputs": [
    {
     "name": "stdout",
     "output_type": "stream",
     "text": [
      "396956247709763334\n"
     ]
    }
   ],
   "source": [
    "%load_ext autoreload\n",
    "%autoreload 2\n",
    "%reload_ext autoreload\n",
    "import os\n",
    "from tsetlin import TsetlinMachine\n",
    "import torch\n",
    "import random\n",
    "\n",
    "DATASET_DIR = '../datasets/'\n",
    "DATA_FILE = 'bit_1.txt'\n",
    "SEED = None\n",
    "\n",
    "text_rows = open(f'{DATASET_DIR}{DATA_FILE}', 'r').read().splitlines()\n",
    "dataset = [ [int(num) for num in row.split(',')] for row in text_rows]\n",
    "tensor_dataset = torch.tensor(dataset)\n",
    "train_x = tensor_dataset[:, :-1]\n",
    "train_y = tensor_dataset[:, -1]\n",
    "\n",
    "if SEED:\n",
    "    random.seed(SEED)\n",
    "    torch.manual_seed(SEED)\n",
    "else:\n",
    "    seed = int.from_bytes(os.urandom(8), byteorder=\"big\", signed=False)\n",
    "    random.seed(seed)\n",
    "    torch.manual_seed(seed)\n",
    "    print(seed)\n",
    "\n",
    "tm = TsetlinMachine(train_x.shape[1], 5)\n",
    "for i in range(6):\n",
    "    shuffled_idx = torch.randperm(train_x.shape[0])\n",
    "    shuffled_x = train_x[shuffled_idx]\n",
    "    shuffled_y = train_y[shuffled_idx]\n",
    "    for x,y in zip(shuffled_x, shuffled_y):\n",
    "        out_1 = tm.forward(x.unsqueeze(0))\n",
    "        tm.update(y.unsqueeze(0))\n",
    "        out_2 = tm.forward(x.unsqueeze(0))\n",
    "        assert torch.equal(y.unsqueeze(0),out_2)"
   ]
  },
  {
   "cell_type": "code",
   "execution_count": 4,
   "metadata": {},
   "outputs": [
    {
     "data": {
      "text/plain": [
       "(tensor([[ 0, 47, 47, 47,  0,  0],\n",
       "         [ 0,  0,  0, 46,  0, 46],\n",
       "         [ 0,  0, 46, 46,  0,  0],\n",
       "         [47, 47, 47,  0,  0,  0],\n",
       "         [ 0, 47, 47, 47,  0,  0]]),\n",
       " tensor([[0, 0, 0, 0, 0]]),\n",
       " tensor([[ 0, 46, 46,  0, 46]]))"
      ]
     },
     "execution_count": 4,
     "metadata": {},
     "output_type": "execute_result"
    }
   ],
   "source": [
    "tm.l1.W,tm.l2.W[:, :tm.l2.W.shape[1]//2],tm.l2.W[:, tm.l2.W.shape[1]//2:]"
   ]
  },
  {
   "cell_type": "code",
   "execution_count": 5,
   "metadata": {},
   "outputs": [],
   "source": [
    "out = tm.forward(train_x)\n",
    "assert torch.equal(train_y, out)"
   ]
  },
  {
   "cell_type": "code",
   "execution_count": 6,
   "metadata": {},
   "outputs": [
    {
     "data": {
      "text/plain": [
       "196"
      ]
     },
     "execution_count": 6,
     "metadata": {},
     "output_type": "execute_result"
    }
   ],
   "source": [
    "failed_count = 0\n",
    "for _ in range(1000):\n",
    "    tm = TsetlinMachine(train_x.shape[1], 5)\n",
    "    for i in range(6):\n",
    "        shuffled_idx = torch.randperm(train_x.shape[0])\n",
    "        shuffled_x = train_x[shuffled_idx]\n",
    "        shuffled_y = train_y[shuffled_idx]\n",
    "\n",
    "        for j, (x, y) in enumerate(zip(shuffled_x, shuffled_y)):\n",
    "            out_1 = tm.forward(x.unsqueeze(0))\n",
    "            tm.update(y.unsqueeze(0))\n",
    "            out_2 = tm.forward(x.unsqueeze(0))\n",
    "            assert torch.equal(y.unsqueeze(0), out_2)\n",
    "\n",
    "    out = tm.forward(train_x)\n",
    "    if not torch.equal(train_y, out):\n",
    "        failed_count += 1\n",
    "\n",
    "failed_count"
   ]
  }
 ],
 "metadata": {
  "kernelspec": {
   "display_name": "micrograd-yifei",
   "language": "python",
   "name": "python3"
  },
  "language_info": {
   "codemirror_mode": {
    "name": "ipython",
    "version": 3
   },
   "file_extension": ".py",
   "mimetype": "text/x-python",
   "name": "python",
   "nbconvert_exporter": "python",
   "pygments_lexer": "ipython3",
   "version": "3.10.1"
  },
  "orig_nbformat": 4
 },
 "nbformat": 4,
 "nbformat_minor": 2
}
