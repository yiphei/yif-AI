{
 "cells": [
  {
   "cell_type": "code",
   "execution_count": 1,
   "metadata": {},
   "outputs": [],
   "source": [
    "import torch\n",
    "\n",
    "\n",
    "def conjunctin_mul(X, W):\n",
    "    X_neg = 1 - X\n",
    "    full_X = torch.cat((X, X_neg), dim=1)\n",
    "    matrix_X = full_X.repeat(W.shape[0], 1)\n",
    "    mask = W > 0\n",
    "    masked_X = torch.where(mask, matrix_X, torch.tensor(1))\n",
    "    result = torch.prod(masked_X, dim=1, keepdim=True).view(1,-1)\n",
    "    return result\n",
    "\n",
    "\n",
    "\n",
    "class TsetlinLayer:\n",
    "    \n",
    "    def __init__(self, in_size, out_size):\n",
    "        w_pos = torch.randint(0, 2, (out_size, in_size,))\n",
    "        w_neg = 1 - w_pos\n",
    "        self.w = torch.cat((w_pos, w_neg), dim=1)\n",
    "\n",
    "    def forward(self, X):\n",
    "        \n",
    "\n",
    "\n",
    "\n",
    "    "
   ]
  },
  {
   "cell_type": "code",
   "execution_count": 35,
   "metadata": {},
   "outputs": [
    {
     "name": "stdout",
     "output_type": "stream",
     "text": [
      "tensor([[1, 0, 0],\n",
      "        [0, 0, 1],\n",
      "        [1, 0, 1],\n",
      "        [0, 1, 0],\n",
      "        [1, 1, 1]])\n"
     ]
    },
    {
     "data": {
      "text/plain": [
       "tensor([[0, 1, 1, 1, 0, 0],\n",
       "        [1, 1, 0, 0, 0, 1],\n",
       "        [0, 1, 0, 1, 0, 1],\n",
       "        [1, 0, 1, 0, 1, 0],\n",
       "        [0, 0, 0, 1, 1, 1]])"
      ]
     },
     "execution_count": 35,
     "metadata": {},
     "output_type": "execute_result"
    }
   ],
   "source": [
    "import torch\n",
    "\n",
    "w_pos = torch.randint(0, 2, (5, 3,))\n",
    "w_neg = 1 - w_pos\n",
    "print(w_neg)\n",
    "w = torch.cat((w_pos, w_neg), dim=1)\n",
    "w\n"
   ]
  }
 ],
 "metadata": {
  "kernelspec": {
   "display_name": "micrograd-yifei",
   "language": "python",
   "name": "python3"
  },
  "language_info": {
   "codemirror_mode": {
    "name": "ipython",
    "version": 3
   },
   "file_extension": ".py",
   "mimetype": "text/x-python",
   "name": "python",
   "nbconvert_exporter": "python",
   "pygments_lexer": "ipython3",
   "version": "3.10.1"
  },
  "orig_nbformat": 4
 },
 "nbformat": 4,
 "nbformat_minor": 2
}
