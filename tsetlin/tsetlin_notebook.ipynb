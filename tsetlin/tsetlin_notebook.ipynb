{
 "cells": [
  {
   "cell_type": "code",
   "execution_count": 28,
   "metadata": {},
   "outputs": [],
   "source": [
    "import torch\n",
    "\n",
    "class TsetlinBase:\n",
    "    def conjunctin_mul(self, X, W):\n",
    "        self.twod_X = X.unsqueeze(0)\n",
    "        self.X_neg = 1 - self.twod_X\n",
    "        self.full_X = torch.cat((self.twod_X, self.X_neg), dim=1)\n",
    "        self.matrix_X = self.full_X.repeat(W.shape[0], 1)\n",
    "        self.mask = W > 0\n",
    "        self.masked_X = torch.where(self.mask, self.matrix_X, torch.tensor(1))\n",
    "        return torch.prod(self.masked_X, dim=1, keepdim=True).view(1,-1)\n",
    "\n",
    "class TsetlinLayer(TsetlinBase):\n",
    "    \n",
    "    def __init__(self, in_dim, out_dim):\n",
    "        w_pos = torch.randint(0, 2, (out_dim, in_dim,))\n",
    "        w_neg = 1 - w_pos\n",
    "        self.w = torch.cat((w_pos, w_neg), dim=1)\n",
    "        self.out = None\n",
    "\n",
    "    def forward(self, X):\n",
    "        out = self.conjunctin_mul(X, self.w)\n",
    "        self.out = out.squeeze(0)\n",
    "        return self.out\n",
    "    \n",
    "\n",
    "    def backward(self, y):\n",
    "\n",
    "        for i, expected_output in enumerate(y):\n",
    "            if expected_output == self.out[i]:\n",
    "                continue\n",
    "            else:\n",
    "                \n",
    "                \n",
    "                offending_row = self.w[i]\n",
    "\n",
    "\n",
    "\n",
    "\n",
    "class TsetlinMachine:\n",
    "\n",
    "    def __init__(self, in_dim):\n",
    "        self.l1 = TsetlinLayer(in_dim, 10)\n",
    "        self.l2 = TsetlinLayer(10, 1)\n",
    "        self.out = None\n",
    "\n",
    "    def forward(self, X):\n",
    "        X = self.l1.forward(X)\n",
    "        X = self.l2.forward(X)\n",
    "        self.out = X.squeeze(0)\n",
    "        return self.out\n",
    "    \n",
    "\n",
    "    def backward(self, y):\n",
    "        if y == self.out:\n",
    "            return\n",
    "        \n",
    "\n",
    "\n",
    "\n",
    "\n",
    "\n",
    "    "
   ]
  },
  {
   "cell_type": "code",
   "execution_count": 30,
   "metadata": {},
   "outputs": [
    {
     "name": "stdout",
     "output_type": "stream",
     "text": [
      "tensor([0])\n"
     ]
    },
    {
     "data": {
      "text/plain": [
       "tensor(0)"
      ]
     },
     "execution_count": 30,
     "metadata": {},
     "output_type": "execute_result"
    }
   ],
   "source": [
    "\n",
    "tm = TsetlinMachine(2)\n",
    "tm.forward(torch.tensor([0,1]))"
   ]
  },
  {
   "cell_type": "code",
   "execution_count": 18,
   "metadata": {},
   "outputs": [
    {
     "name": "stdout",
     "output_type": "stream",
     "text": [
      "tensor([[1, 0]])\n",
      "tensor([[0, 1]])\n",
      "tensor([[1, 0, 0, 1]])\n"
     ]
    },
    {
     "data": {
      "text/plain": [
       "tensor([[[0, 0, 0]]])"
      ]
     },
     "execution_count": 18,
     "metadata": {},
     "output_type": "execute_result"
    }
   ],
   "source": [
    "class TsetlinBase:\n",
    "    def conjunctin_mul(self, X, W):\n",
    "        self.twod_X = X.unsqueeze(0)\n",
    "        print(self.twod_X)\n",
    "        self.X_neg = 1 - self.twod_X\n",
    "        print(self.X_neg)\n",
    "        self.full_X = torch.cat((self.twod_X, self.X_neg), dim=1)\n",
    "        print(self.full_X)\n",
    "        self.matrix_X = self.full_X.repeat(W.shape[0], 1)\n",
    "        self.mask = W > 0\n",
    "        self.masked_X = torch.where(self.mask, self.matrix_X, torch.tensor(1))\n",
    "        return torch.prod(self.masked_X, dim=1, keepdim=True).view(1,-1)\n",
    "    \n",
    "A = torch.tensor([1, 0])\n",
    "\n",
    "B = torch.tensor([[2, -2, 3, 1],\n",
    "                  [1, 2, -3, 4],\n",
    "                  [-1, 0, 1, 2]])\n",
    "\n",
    "TsetlinBase().conjunctin_mul(A, B).unsqueeze(0)"
   ]
  }
 ],
 "metadata": {
  "kernelspec": {
   "display_name": "micrograd-yifei",
   "language": "python",
   "name": "python3"
  },
  "language_info": {
   "codemirror_mode": {
    "name": "ipython",
    "version": 3
   },
   "file_extension": ".py",
   "mimetype": "text/x-python",
   "name": "python",
   "nbconvert_exporter": "python",
   "pygments_lexer": "ipython3",
   "version": "3.10.1"
  },
  "orig_nbformat": 4
 },
 "nbformat": 4,
 "nbformat_minor": 2
}
