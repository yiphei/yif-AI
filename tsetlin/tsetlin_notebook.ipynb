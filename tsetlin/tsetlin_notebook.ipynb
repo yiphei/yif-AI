{
 "cells": [
  {
   "cell_type": "code",
   "execution_count": 368,
   "metadata": {},
   "outputs": [
    {
     "name": "stdout",
     "output_type": "stream",
     "text": [
      "The autoreload extension is already loaded. To reload it, use:\n",
      "  %reload_ext autoreload\n"
     ]
    }
   ],
   "source": [
    "%load_ext autoreload\n",
    "%autoreload 2\n",
    "%reload_ext autoreload\n",
    "import os\n",
    "from tsetlin import TsetlinMachine\n",
    "import torch\n",
    "import random\n",
    "\n",
    "DATASET_DIR = '../datasets/'\n",
    "DATA_FILE = 'XOR.txt'\n",
    "\n",
    "text_rows = open(f'{DATASET_DIR}{DATA_FILE}', 'r').read().splitlines()\n",
    "dataset = [ [int(num) for num in row.split(',')] for row in text_rows]\n",
    "tensor_dataset = torch.tensor(dataset)\n",
    "train_x = tensor_dataset[:, :-1]\n",
    "train_y = tensor_dataset[:, -1]\n",
    "\n",
    "# seed = int.from_bytes(os.urandom(8), byteorder=\"big\", signed=False)\n",
    "# random.seed(seed)\n",
    "# torch.manual_seed(seed)\n",
    "# print(seed)\n",
    "# random.seed(1320387042447901345)\n",
    "# torch.manual_seed(1320387042447901345)\n",
    "tm = TsetlinMachine(train_x.shape[1])\n",
    "for i in range(6):\n",
    "    shuffled_idx = torch.randperm(train_x.shape[0])\n",
    "    shuffled_x = train_x[shuffled_idx]\n",
    "    shuffled_y = train_y[shuffled_idx]\n",
    "    for x,y in zip(shuffled_x, shuffled_y):\n",
    "        out_1 = tm.forward(x.unsqueeze(0))\n",
    "        tm.update(y.unsqueeze(0))\n",
    "        out_2 = tm.forward(x.unsqueeze(0))\n",
    "        assert torch.equal(y.unsqueeze(0),out_2)"
   ]
  },
  {
   "cell_type": "code",
   "execution_count": 369,
   "metadata": {},
   "outputs": [
    {
     "data": {
      "text/plain": [
       "(tensor([[ 0, 24, 24,  0],\n",
       "         [24, 24,  0,  0],\n",
       "         [ 0,  0, 24, 24],\n",
       "         [24,  0,  0, 24],\n",
       "         [24, 24,  0,  0],\n",
       "         [ 0,  0,  9,  9],\n",
       "         [ 0, 24,  0,  0],\n",
       "         [ 0, 24, 24,  0],\n",
       "         [24,  0,  0,  0],\n",
       "         [ 0, 24,  0,  0]]),\n",
       " tensor([[0, 0, 0, 0, 0, 0, 0, 0, 0, 0]]),\n",
       " tensor([[ 0, 19,  0,  0,  0,  9,  0,  0,  0,  0]]))"
      ]
     },
     "execution_count": 369,
     "metadata": {},
     "output_type": "execute_result"
    }
   ],
   "source": [
    "tm.l1.W,tm.l2.W[:, :tm.l2.W.shape[1]//2],tm.l2.W[:, tm.l2.W.shape[1]//2:]"
   ]
  },
  {
   "cell_type": "code",
   "execution_count": 370,
   "metadata": {},
   "outputs": [],
   "source": [
    "for x, y in zip(train_x, train_y):\n",
    "    out = tm.forward(x.unsqueeze(0))\n",
    "    assert torch.equal(y.unsqueeze(0), out)"
   ]
  },
  {
   "cell_type": "code",
   "execution_count": 371,
   "metadata": {},
   "outputs": [
    {
     "data": {
      "text/plain": [
       "402"
      ]
     },
     "execution_count": 371,
     "metadata": {},
     "output_type": "execute_result"
    }
   ],
   "source": [
    "failed_count = 0\n",
    "for _ in range(1000):\n",
    "    tm = TsetlinMachine(train_x.shape[1])\n",
    "    for i in range(6):\n",
    "        shuffled_idx = torch.randperm(train_x.shape[0])\n",
    "        shuffled_x = train_x[shuffled_idx]\n",
    "        shuffled_y = train_y[shuffled_idx]\n",
    "\n",
    "        for j, (x, y) in enumerate(zip(shuffled_x, shuffled_y)):\n",
    "            out_1 = tm.forward(x.unsqueeze(0))\n",
    "            tm.update(y.unsqueeze(0))\n",
    "            out_2 = tm.forward(x.unsqueeze(0))\n",
    "            assert torch.equal(y.unsqueeze(0), out_2)\n",
    "\n",
    "    for x, y in zip(train_x, train_y):\n",
    "        out = tm.forward(x.unsqueeze(0))\n",
    "        if not torch.equal(y.unsqueeze(0), out):\n",
    "            failed_count += 1\n",
    "failed_count"
   ]
  }
 ],
 "metadata": {
  "kernelspec": {
   "display_name": "micrograd-yifei",
   "language": "python",
   "name": "python3"
  },
  "language_info": {
   "codemirror_mode": {
    "name": "ipython",
    "version": 3
   },
   "file_extension": ".py",
   "mimetype": "text/x-python",
   "name": "python",
   "nbconvert_exporter": "python",
   "pygments_lexer": "ipython3",
   "version": "3.10.1"
  },
  "orig_nbformat": 4
 },
 "nbformat": 4,
 "nbformat_minor": 2
}
