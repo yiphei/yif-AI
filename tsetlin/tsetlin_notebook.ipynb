{
 "cells": [
  {
   "cell_type": "code",
   "execution_count": 106,
   "metadata": {},
   "outputs": [],
   "source": [
    "import torch\n",
    "import random\n",
    "\n",
    "class TsetlinBase:\n",
    "    def conjunctin_mul(self, X, W):\n",
    "        matrix_X = X.repeat(W.shape[0], 1)\n",
    "        mask = W > 0 # TODO: prob need to compare and choose the clause with the highest weight\n",
    "        masked_X = torch.where(mask, matrix_X, torch.tensor(1))\n",
    "        return torch.prod(masked_X, dim=1, keepdim=True).view(1,-1)\n",
    "\n",
    "class TsetlinLayer(TsetlinBase):\n",
    "    def __init__(self, in_dim, out_dim):\n",
    "        self.in_dim = in_dim\n",
    "        W_pos = torch.randint(0, 2, (out_dim, in_dim,))\n",
    "        W_neg = torch.randint(0, 2, (out_dim, in_dim,))\n",
    "        W_neg[W_pos == 1] = 0\n",
    "        self.W = torch.cat((W_pos, W_neg), dim=1)\n",
    "        self.out = None\n",
    "        self.full_X = None\n",
    "\n",
    "    def forward(self, X):\n",
    "        X_neg = 1 - X\n",
    "        self.full_X = torch.cat((X, X_neg), dim=0)\n",
    "        out = self.conjunctin_mul(self.full_X.unsqueeze(0), self.W)\n",
    "        self.out = out.squeeze(0)\n",
    "        return self.out\n",
    "    \n",
    "    def helper(self, updated_X,update_index, update_W, can_flip_value, can_remove, can_add_value):\n",
    "        # TODO: the random choice needs to be dynamic, otherwise if it is a very deep layer, it will be very hard to flip values in the earlier layers\n",
    "        flip_value = random.choice([True, False]) and can_flip_value\n",
    "        negation_index = (update_index + self.in_dim) % self.in_dim\n",
    "        if flip_value:\n",
    "            updated_X[update_index] = 1 - updated_X[update_index]\n",
    "            updated_X[negation_index] = 1 - updated_X[negation_index]\n",
    "\n",
    "            #TODO: should i set the weight back to 0, as to descrease the confidence of the new flipped clause?\n",
    "            update_W[update_index] = 0\n",
    "            update_W[negation_index] = 1\n",
    "        else:\n",
    "            addable_indices = [ i for i, (w, v) in enumerate(zip(update_W, updated_X)) if w == 0 and v == 0 and update_W[(i + self.in_dim) % self.in_dim] == 0 ] if can_add_value else []\n",
    "\n",
    "            add = random.choice([True, False]) and len(addable_indices) > 0\n",
    "            remove = random.choice([True, False]) and can_remove\n",
    "            if remove:\n",
    "                update_W[update_index] = 0\n",
    "            elif add:\n",
    "                add_index = random.choice(addable_indices)\n",
    "                update_index[add_index] = 1\n",
    "            else:\n",
    "                update_W[update_index] = 0\n",
    "                update_W[negation_index] = 1\n",
    "\n",
    "    def update(self, Y, is_first_layer = False):\n",
    "        can_flip_value = not (is_first_layer or torch.equal(Y, self.out))\n",
    "        if can_flip_value:\n",
    "            one_Y_indexes = torch.nonzero(Y == 1).squeeze(0)\n",
    "            W_halves = torch.split(self.W[one_Y_indexes], self.in_dim, dim=1)\n",
    "            pos_W = W_halves[0]\n",
    "            neg_W = W_halves[1]\n",
    "            for w_1 in pos_W:\n",
    "                indices = torch.nonzero(w_1 == 1).squeeze(0)\n",
    "                if any((w_1[indices] == w_2[indices]).any() for w_2 in neg_W):\n",
    "                    can_flip_value = False\n",
    "                    break\n",
    "\n",
    "        updated_X = torch.clone(self.full_X)\n",
    "        if torch.equal(Y, self.out):\n",
    "            # TODO: should this be done at every prior layer or should it stop at this layer?\n",
    "            self.W[self.W > 0] += 1\n",
    "        else:\n",
    "            one_Y_indexes = torch.nonzero((Y == 1) | (Y != self.out)).squeeze(0)\n",
    "            update_Ws = self.W[one_Y_indexes]\n",
    "\n",
    "            for update_W in update_Ws:\n",
    "                update_indices = [ i for i, (w, v) in enumerate(zip(update_W, updated_X)) if w > 0 and v == 0]\n",
    "                for update_index in update_indices:\n",
    "                    self.helper(updated_X,update_index, update_W, can_flip_value, True, False)\n",
    "\n",
    "            updated_out = self.conjunctin_mul(updated_X.unsqueeze(0), self.W) if not torch.equal(updated_X, self.full_X) else self.out\n",
    "            zero_Y_indexes = torch.nonzero((Y == 0) | (Y != updated_out)).squeeze(0)\n",
    "            update_Ws = self.W[zero_Y_indexes]\n",
    "            for update_W in update_Ws:\n",
    "                target_indexes = []\n",
    "                min_confidence = 0\n",
    "                for j in range(self.in_dim * 2):\n",
    "                    W_value = update_W[j]\n",
    "                    X_value = updated_X[j]\n",
    "                    if W_value > 0 and X_value == 1:\n",
    "                        if W_value < min_confidence or len(target_indexes) == 0:\n",
    "                            target_indexes = [j]\n",
    "                            min_confidence = W_value\n",
    "                        elif W_value == min_confidence:\n",
    "                            target_indexes.append(j)\n",
    "\n",
    "                    update_index = random.choice(target_indexes)\n",
    "                    self.helper(updated_X,update_index, update_W, can_flip_value, False, True)\n",
    "        return updated_X\n",
    "\n",
    "class TsetlinMachine:\n",
    "\n",
    "    def __init__(self, in_dim):\n",
    "        self.l1 = TsetlinLayer(in_dim, 10)\n",
    "        self.l2 = TsetlinLayer(10, 1)\n",
    "        self.out = None\n",
    "\n",
    "    def forward(self, X):\n",
    "        X = self.l1.forward(X)\n",
    "        X = self.l2.forward(X)\n",
    "        self.out = X.squeeze(0)\n",
    "        return self.out\n",
    "    \n",
    "    def update(self, y):\n",
    "        y = torch.tensor([y])\n",
    "        updated_X = self.l2.update(y)\n",
    "        self.l1.update(updated_X, True)"
   ]
  },
  {
   "cell_type": "code",
   "execution_count": 107,
   "metadata": {},
   "outputs": [
    {
     "data": {
      "text/plain": [
       "tensor(0)"
      ]
     },
     "execution_count": 107,
     "metadata": {},
     "output_type": "execute_result"
    }
   ],
   "source": [
    "tm = TsetlinMachine(2)\n",
    "tm.forward(torch.tensor([0,1]))"
   ]
  },
  {
   "cell_type": "code",
   "execution_count": 108,
   "metadata": {},
   "outputs": [
    {
     "name": "stdout",
     "output_type": "stream",
     "text": [
      "[]\n"
     ]
    },
    {
     "ename": "IndexError",
     "evalue": "list index out of range",
     "output_type": "error",
     "traceback": [
      "\u001b[0;31m---------------------------------------------------------------------------\u001b[0m",
      "\u001b[0;31mIndexError\u001b[0m                                Traceback (most recent call last)",
      "\u001b[1;32m/Users/yifeiyan/micrograd-yifei/tsetlin/tsetlin_notebook.ipynb Cell 3\u001b[0m line \u001b[0;36m1\n\u001b[0;32m----> <a href='vscode-notebook-cell:/Users/yifeiyan/micrograd-yifei/tsetlin/tsetlin_notebook.ipynb#X12sZmlsZQ%3D%3D?line=0'>1</a>\u001b[0m tm\u001b[39m.\u001b[39;49mupdate(\u001b[39m1\u001b[39;49m)\n",
      "\u001b[1;32m/Users/yifeiyan/micrograd-yifei/tsetlin/tsetlin_notebook.ipynb Cell 3\u001b[0m line \u001b[0;36m1\n\u001b[1;32m    <a href='vscode-notebook-cell:/Users/yifeiyan/micrograd-yifei/tsetlin/tsetlin_notebook.ipynb#X12sZmlsZQ%3D%3D?line=111'>112</a>\u001b[0m \u001b[39mdef\u001b[39;00m \u001b[39mupdate\u001b[39m(\u001b[39mself\u001b[39m, y):\n\u001b[1;32m    <a href='vscode-notebook-cell:/Users/yifeiyan/micrograd-yifei/tsetlin/tsetlin_notebook.ipynb#X12sZmlsZQ%3D%3D?line=112'>113</a>\u001b[0m     y \u001b[39m=\u001b[39m torch\u001b[39m.\u001b[39mtensor([y])\n\u001b[0;32m--> <a href='vscode-notebook-cell:/Users/yifeiyan/micrograd-yifei/tsetlin/tsetlin_notebook.ipynb#X12sZmlsZQ%3D%3D?line=113'>114</a>\u001b[0m     updated_X \u001b[39m=\u001b[39m \u001b[39mself\u001b[39;49m\u001b[39m.\u001b[39;49ml2\u001b[39m.\u001b[39;49mupdate(y)\n\u001b[1;32m    <a href='vscode-notebook-cell:/Users/yifeiyan/micrograd-yifei/tsetlin/tsetlin_notebook.ipynb#X12sZmlsZQ%3D%3D?line=114'>115</a>\u001b[0m     \u001b[39mself\u001b[39m\u001b[39m.\u001b[39ml1\u001b[39m.\u001b[39mupdate(updated_X, \u001b[39mTrue\u001b[39;00m)\n",
      "\u001b[1;32m/Users/yifeiyan/micrograd-yifei/tsetlin/tsetlin_notebook.ipynb Cell 3\u001b[0m line \u001b[0;36m9\n\u001b[1;32m     <a href='vscode-notebook-cell:/Users/yifeiyan/micrograd-yifei/tsetlin/tsetlin_notebook.ipynb#X12sZmlsZQ%3D%3D?line=92'>93</a>\u001b[0m                     target_indexes\u001b[39m.\u001b[39mappend(j)\n\u001b[1;32m     <a href='vscode-notebook-cell:/Users/yifeiyan/micrograd-yifei/tsetlin/tsetlin_notebook.ipynb#X12sZmlsZQ%3D%3D?line=93'>94</a>\u001b[0m             \u001b[39mprint\u001b[39m(target_indexes)\n\u001b[0;32m---> <a href='vscode-notebook-cell:/Users/yifeiyan/micrograd-yifei/tsetlin/tsetlin_notebook.ipynb#X12sZmlsZQ%3D%3D?line=94'>95</a>\u001b[0m             update_index \u001b[39m=\u001b[39m random\u001b[39m.\u001b[39;49mchoice(target_indexes)\n\u001b[1;32m     <a href='vscode-notebook-cell:/Users/yifeiyan/micrograd-yifei/tsetlin/tsetlin_notebook.ipynb#X12sZmlsZQ%3D%3D?line=95'>96</a>\u001b[0m             \u001b[39mself\u001b[39m\u001b[39m.\u001b[39mhelper(updated_X,update_index, update_W, can_flip_value, \u001b[39mFalse\u001b[39;00m, \u001b[39mTrue\u001b[39;00m)\n\u001b[1;32m     <a href='vscode-notebook-cell:/Users/yifeiyan/micrograd-yifei/tsetlin/tsetlin_notebook.ipynb#X12sZmlsZQ%3D%3D?line=96'>97</a>\u001b[0m \u001b[39mreturn\u001b[39;00m updated_X\n",
      "File \u001b[0;32m~/.pyenv/versions/3.10.1/lib/python3.10/random.py:378\u001b[0m, in \u001b[0;36mRandom.choice\u001b[0;34m(self, seq)\u001b[0m\n\u001b[1;32m    376\u001b[0m \u001b[39m\u001b[39m\u001b[39m\"\"\"Choose a random element from a non-empty sequence.\"\"\"\u001b[39;00m\n\u001b[1;32m    377\u001b[0m \u001b[39m# raises IndexError if seq is empty\u001b[39;00m\n\u001b[0;32m--> 378\u001b[0m \u001b[39mreturn\u001b[39;00m seq[\u001b[39mself\u001b[39;49m\u001b[39m.\u001b[39;49m_randbelow(\u001b[39mlen\u001b[39;49m(seq))]\n",
      "\u001b[0;31mIndexError\u001b[0m: list index out of range"
     ]
    }
   ],
   "source": [
    "tm.update(1)"
   ]
  }
 ],
 "metadata": {
  "kernelspec": {
   "display_name": "micrograd-yifei",
   "language": "python",
   "name": "python3"
  },
  "language_info": {
   "codemirror_mode": {
    "name": "ipython",
    "version": 3
   },
   "file_extension": ".py",
   "mimetype": "text/x-python",
   "name": "python",
   "nbconvert_exporter": "python",
   "pygments_lexer": "ipython3",
   "version": "3.10.1"
  },
  "orig_nbformat": 4
 },
 "nbformat": 4,
 "nbformat_minor": 2
}
