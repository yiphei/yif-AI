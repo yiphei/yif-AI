{
 "cells": [
  {
   "cell_type": "code",
   "execution_count": 97,
   "metadata": {},
   "outputs": [
    {
     "name": "stdout",
     "output_type": "stream",
     "text": [
      "The autoreload extension is already loaded. To reload it, use:\n",
      "  %reload_ext autoreload\n"
     ]
    },
    {
     "ename": "AssertionError",
     "evalue": "",
     "output_type": "error",
     "traceback": [
      "\u001b[0;31m---------------------------------------------------------------------------\u001b[0m",
      "\u001b[0;31mAssertionError\u001b[0m                            Traceback (most recent call last)",
      "\u001b[1;32m/Users/yifeiyan/micrograd-yifei/tsetlin/test_refactor_notebook.ipynb Cell 1\u001b[0m line \u001b[0;36m3\n\u001b[1;32m     <a href='vscode-notebook-cell:/Users/yifeiyan/micrograd-yifei/tsetlin/test_refactor_notebook.ipynb#W0sZmlsZQ%3D%3D?line=28'>29</a>\u001b[0m tm \u001b[39m=\u001b[39m TsetlinMachine(train_x\u001b[39m.\u001b[39mshape[\u001b[39m1\u001b[39m], \u001b[39m5\u001b[39m)\n\u001b[1;32m     <a href='vscode-notebook-cell:/Users/yifeiyan/micrograd-yifei/tsetlin/test_refactor_notebook.ipynb#W0sZmlsZQ%3D%3D?line=29'>30</a>\u001b[0m out_1 \u001b[39m=\u001b[39m tm\u001b[39m.\u001b[39mforward(shuffled_x)\n\u001b[0;32m---> <a href='vscode-notebook-cell:/Users/yifeiyan/micrograd-yifei/tsetlin/test_refactor_notebook.ipynb#W0sZmlsZQ%3D%3D?line=30'>31</a>\u001b[0m tm\u001b[39m.\u001b[39;49mupdate(shuffled_y)\n\u001b[1;32m     <a href='vscode-notebook-cell:/Users/yifeiyan/micrograd-yifei/tsetlin/test_refactor_notebook.ipynb#W0sZmlsZQ%3D%3D?line=31'>32</a>\u001b[0m out_2 \u001b[39m=\u001b[39m tm\u001b[39m.\u001b[39mforward(shuffled_x)\n\u001b[1;32m     <a href='vscode-notebook-cell:/Users/yifeiyan/micrograd-yifei/tsetlin/test_refactor_notebook.ipynb#W0sZmlsZQ%3D%3D?line=32'>33</a>\u001b[0m \u001b[39massert\u001b[39;00m torch\u001b[39m.\u001b[39mequal(shuffled_y,out_2)\n",
      "File \u001b[0;32m~/micrograd-yifei/tsetlin/tsetlin.py:530\u001b[0m, in \u001b[0;36mTsetlinMachine.update\u001b[0;34m(self, y)\u001b[0m\n\u001b[1;32m    528\u001b[0m updated_X \u001b[39m=\u001b[39m \u001b[39mself\u001b[39m\u001b[39m.\u001b[39ml3\u001b[39m.\u001b[39mupdate(y)\n\u001b[1;32m    529\u001b[0m updated_X \u001b[39m=\u001b[39m \u001b[39mself\u001b[39m\u001b[39m.\u001b[39ml2\u001b[39m.\u001b[39mupdate(updated_X)\n\u001b[0;32m--> 530\u001b[0m \u001b[39mself\u001b[39;49m\u001b[39m.\u001b[39;49ml1\u001b[39m.\u001b[39;49mupdate(updated_X, \u001b[39mTrue\u001b[39;49;00m)\n",
      "File \u001b[0;32m~/micrograd-yifei/tsetlin/tsetlin.py:145\u001b[0m, in \u001b[0;36mTsetlinLayer.update\u001b[0;34m(self, Y, is_first_layer)\u001b[0m\n\u001b[1;32m    142\u001b[0m     one_Y_row_idxs_per_W_row\u001b[39m.\u001b[39mappend(\u001b[39mset\u001b[39m(one_Y_idxs))\n\u001b[1;32m    144\u001b[0m update_fnc \u001b[39m=\u001b[39m \u001b[39mself\u001b[39m\u001b[39m.\u001b[39mupdate_batch_non_first_layer\n\u001b[0;32m--> 145\u001b[0m \u001b[39mreturn\u001b[39;00m update_fnc(one_Y_row_idxs_per_W_row, zero_Y_row_idxs_per_W_row, is_first_layer)\n",
      "File \u001b[0;32m~/micrograd-yifei/tsetlin/tsetlin.py:466\u001b[0m, in \u001b[0;36mTsetlinLayer.update_batch_non_first_layer\u001b[0;34m(self, one_Y_row_idxs_per_W_row, zero_Y_row_idxs_per_W_row, is_first_layer)\u001b[0m\n\u001b[1;32m    463\u001b[0m     \u001b[39mreturn\u001b[39;00m \u001b[39mNone\u001b[39;00m\n\u001b[1;32m    465\u001b[0m best_sol \u001b[39m=\u001b[39m find_best_setup(\u001b[39m0\u001b[39m, \u001b[39mself\u001b[39m\u001b[39m.\u001b[39min_dim, \u001b[39mset\u001b[39m(), \u001b[39mset\u001b[39m(\u001b[39mrange\u001b[39m(\u001b[39mself\u001b[39m\u001b[39m.\u001b[39mfull_X\u001b[39m.\u001b[39mshape[\u001b[39m0\u001b[39m])))\n\u001b[0;32m--> 466\u001b[0m \u001b[39massert\u001b[39;00m best_sol \u001b[39mis\u001b[39;00m \u001b[39mnot\u001b[39;00m \u001b[39mNone\u001b[39;00m\n\u001b[1;32m    467\u001b[0m \u001b[39mfor\u001b[39;00m W_col_idx \u001b[39min\u001b[39;00m best_sol:\n\u001b[1;32m    468\u001b[0m     pos_idx \u001b[39m=\u001b[39m W_col_idx \u001b[39mif\u001b[39;00m W_col_idx \u001b[39m<\u001b[39m \u001b[39mself\u001b[39m\u001b[39m.\u001b[39min_dim \u001b[39melse\u001b[39;00m W_col_idx \u001b[39m-\u001b[39m \u001b[39mself\u001b[39m\u001b[39m.\u001b[39min_dim\n",
      "\u001b[0;31mAssertionError\u001b[0m: "
     ]
    }
   ],
   "source": [
    "%load_ext autoreload\n",
    "%autoreload 2\n",
    "%reload_ext autoreload\n",
    "import os\n",
    "from tsetlin import TsetlinMachine\n",
    "import torch\n",
    "import random\n",
    "\n",
    "DATASET_DIR = '../datasets/'\n",
    "DATA_FILE = 'bit_1.txt'\n",
    "SEED = None\n",
    "\n",
    "text_rows = open(f'{DATASET_DIR}{DATA_FILE}', 'r').read().splitlines()\n",
    "dataset = [ [int(num) for num in row.split(',')] for row in text_rows]\n",
    "tensor_dataset = torch.tensor(dataset)\n",
    "train_x = tensor_dataset[:, :-1]\n",
    "train_y = tensor_dataset[:, -1]\n",
    "\n",
    "for _ in range(10000):\n",
    "    seed = int.from_bytes(os.urandom(8), byteorder=\"big\", signed=False)\n",
    "    random.seed(seed)\n",
    "    torch.manual_seed(seed)\n",
    "    # print(seed)\n",
    "    \n",
    "    shuffled_idx = torch.randperm(train_x.shape[0])\n",
    "    shuffled_x = train_x[shuffled_idx]\n",
    "    shuffled_y = train_y[shuffled_idx]\n",
    "    \n",
    "    tm = TsetlinMachine(train_x.shape[1], 5)\n",
    "    out_1 = tm.forward(shuffled_x)\n",
    "    tm.update(shuffled_y)\n",
    "    out_2 = tm.forward(shuffled_x)\n",
    "    assert torch.equal(shuffled_y,out_2) # This fails because it is impossible to find a W in the first layer that generates a zero Y when the FULL_X is the entire input space"
   ]
  },
  {
   "cell_type": "code",
   "execution_count": 216,
   "metadata": {},
   "outputs": [
    {
     "data": {
      "text/plain": [
       "0"
      ]
     },
     "execution_count": 216,
     "metadata": {},
     "output_type": "execute_result"
    }
   ],
   "source": [
    "failed_training = 0\n",
    "for j in range(500):\n",
    "\n",
    "    SEED = None\n",
    "    if SEED:\n",
    "        random.seed(SEED)\n",
    "        torch.manual_seed(SEED)\n",
    "    else:\n",
    "        seed = int.from_bytes(os.urandom(8), byteorder=\"big\", signed=False)\n",
    "        random.seed(seed)\n",
    "        torch.manual_seed(seed)\n",
    "\n",
    "    shuffled_idx = torch.randperm(train_x.shape[0])\n",
    "    shuffled_x = train_x[shuffled_idx]\n",
    "    shuffled_y = train_y[shuffled_idx]\n",
    "    tm = TsetlinMachine(train_x.shape[1], 5)\n",
    "    for i in range(100):\n",
    "        # batch_idxs = torch.randint(0, shuffled_x.shape[0], (2,)) # this doesnt work right now\n",
    "        batch_idxs = torch.randperm(shuffled_x.shape[0])[:shuffled_x.shape[0]-1]\n",
    "        batch_x = shuffled_x[batch_idxs]\n",
    "        batch_y = shuffled_y[batch_idxs]\n",
    "        out_1 = tm.forward(batch_x)\n",
    "        tm.update(batch_y)\n",
    "        out_2 = tm.forward(batch_x)\n",
    "        assert torch.equal(batch_y,out_2)\n",
    "\n",
    "    out_3 = tm.forward(train_x)\n",
    "    if not torch.equal(train_y,out_3):\n",
    "        failed_training += 1\n",
    "\n",
    "failed_training"
   ]
  },
  {
   "cell_type": "code",
   "execution_count": 217,
   "metadata": {},
   "outputs": [
    {
     "data": {
      "text/plain": [
       "0"
      ]
     },
     "execution_count": 217,
     "metadata": {},
     "output_type": "execute_result"
    }
   ],
   "source": [
    "failed_training = 0\n",
    "for j in range(500):\n",
    "\n",
    "    SEED = None\n",
    "    if SEED:\n",
    "        random.seed(SEED)\n",
    "        torch.manual_seed(SEED)\n",
    "    else:\n",
    "        seed = int.from_bytes(os.urandom(8), byteorder=\"big\", signed=False)\n",
    "        random.seed(seed)\n",
    "        torch.manual_seed(seed)\n",
    "\n",
    "    shuffled_idx = torch.randperm(train_x.shape[0])\n",
    "    shuffled_x = train_x[shuffled_idx]\n",
    "    shuffled_y = train_y[shuffled_idx]\n",
    "    tm = TsetlinMachine(train_x.shape[1], 5)\n",
    "    for i in range(100):\n",
    "        # batch_idxs = torch.randint(0, shuffled_x.shape[0], (2,)) # this doesnt work right now\n",
    "        batch_idxs = torch.randperm(shuffled_x.shape[0])[:2]\n",
    "        batch_x = shuffled_x[batch_idxs]\n",
    "        batch_y = shuffled_y[batch_idxs]\n",
    "        out_1 = tm.forward(batch_x)\n",
    "        tm.update(batch_y)\n",
    "        out_2 = tm.forward(batch_x)\n",
    "        assert torch.equal(batch_y,out_2)\n",
    "\n",
    "    out_3 = tm.forward(train_x)\n",
    "    if not torch.equal(train_y,out_3):\n",
    "        failed_training += 1\n",
    "\n",
    "failed_training"
   ]
  },
  {
   "cell_type": "code",
   "execution_count": 218,
   "metadata": {},
   "outputs": [
    {
     "data": {
      "text/plain": [
       "0"
      ]
     },
     "execution_count": 218,
     "metadata": {},
     "output_type": "execute_result"
    }
   ],
   "source": [
    "failed_training = 0\n",
    "failed_tms = []\n",
    "succeeded_tms = []\n",
    "for _ in range(500):\n",
    "    SEED = None\n",
    "    if SEED:\n",
    "        random.seed(SEED)\n",
    "        torch.manual_seed(SEED)\n",
    "    else:\n",
    "        seed = int.from_bytes(os.urandom(8), byteorder=\"big\", signed=False)\n",
    "        random.seed(seed)\n",
    "        torch.manual_seed(seed)\n",
    "\n",
    "    shuffled_idx = torch.randperm(train_x.shape[0])\n",
    "    shuffled_x = train_x[shuffled_idx]\n",
    "    shuffled_y = train_y[shuffled_idx]\n",
    "    tm = TsetlinMachine(train_x.shape[1], 5)\n",
    "    for i in range(100):\n",
    "        batch_idxs = torch.randint(0, shuffled_x.shape[0], (1,))\n",
    "        batch_x = shuffled_x[batch_idxs]\n",
    "        batch_y = shuffled_y[batch_idxs]\n",
    "        out_1 = tm.forward(batch_x)\n",
    "        tm.update(batch_y)\n",
    "        out_2 = tm.forward(batch_x)\n",
    "        assert torch.equal(batch_y,out_2)\n",
    "\n",
    "    out_3 = tm.forward(train_x)\n",
    "    if not torch.equal(train_y,out_3):\n",
    "        failed_training += 1\n",
    "        failed_tms.append(tm)\n",
    "    else:\n",
    "        succeeded_tms.append(tm)\n",
    "\n",
    "failed_training"
   ]
  },
  {
   "cell_type": "code",
   "execution_count": 219,
   "metadata": {},
   "outputs": [
    {
     "ename": "AssertionError",
     "evalue": "",
     "output_type": "error",
     "traceback": [
      "\u001b[0;31m---------------------------------------------------------------------------\u001b[0m",
      "\u001b[0;31mAssertionError\u001b[0m                            Traceback (most recent call last)",
      "\u001b[1;32m/Users/yifeiyan/micrograd-yifei/tsetlin/test_refactor_notebook.ipynb Cell 5\u001b[0m line \u001b[0;36m1\n\u001b[1;32m     <a href='vscode-notebook-cell:/Users/yifeiyan/micrograd-yifei/tsetlin/test_refactor_notebook.ipynb#X16sZmlsZQ%3D%3D?line=14'>15</a>\u001b[0m tm \u001b[39m=\u001b[39m TsetlinMachine(train_x\u001b[39m.\u001b[39mshape[\u001b[39m1\u001b[39m], \u001b[39m5\u001b[39m)\n\u001b[1;32m     <a href='vscode-notebook-cell:/Users/yifeiyan/micrograd-yifei/tsetlin/test_refactor_notebook.ipynb#X16sZmlsZQ%3D%3D?line=15'>16</a>\u001b[0m out_1 \u001b[39m=\u001b[39m tm\u001b[39m.\u001b[39mforward(shuffled_x)\n\u001b[0;32m---> <a href='vscode-notebook-cell:/Users/yifeiyan/micrograd-yifei/tsetlin/test_refactor_notebook.ipynb#X16sZmlsZQ%3D%3D?line=16'>17</a>\u001b[0m tm\u001b[39m.\u001b[39;49mupdate(shuffled_y)\n\u001b[1;32m     <a href='vscode-notebook-cell:/Users/yifeiyan/micrograd-yifei/tsetlin/test_refactor_notebook.ipynb#X16sZmlsZQ%3D%3D?line=17'>18</a>\u001b[0m out_2 \u001b[39m=\u001b[39m tm\u001b[39m.\u001b[39mforward(shuffled_x)\n\u001b[1;32m     <a href='vscode-notebook-cell:/Users/yifeiyan/micrograd-yifei/tsetlin/test_refactor_notebook.ipynb#X16sZmlsZQ%3D%3D?line=18'>19</a>\u001b[0m \u001b[39massert\u001b[39;00m torch\u001b[39m.\u001b[39mequal(shuffled_y,out_2)\n",
      "File \u001b[0;32m~/micrograd-yifei/tsetlin/tsetlin.py:375\u001b[0m, in \u001b[0;36mTsetlinMachine.update\u001b[0;34m(self, y)\u001b[0m\n\u001b[1;32m    373\u001b[0m updated_X \u001b[39m=\u001b[39m \u001b[39mself\u001b[39m\u001b[39m.\u001b[39ml3\u001b[39m.\u001b[39mupdate(y)\n\u001b[1;32m    374\u001b[0m updated_X \u001b[39m=\u001b[39m \u001b[39mself\u001b[39m\u001b[39m.\u001b[39ml2\u001b[39m.\u001b[39mupdate(updated_X)\n\u001b[0;32m--> 375\u001b[0m \u001b[39mself\u001b[39;49m\u001b[39m.\u001b[39;49ml1\u001b[39m.\u001b[39;49mupdate(updated_X, \u001b[39mTrue\u001b[39;49;00m)\n",
      "File \u001b[0;32m~/micrograd-yifei/tsetlin/tsetlin.py:315\u001b[0m, in \u001b[0;36mTsetlinLayer.update\u001b[0;34m(self, Y, is_first_layer)\u001b[0m\n\u001b[1;32m    312\u001b[0m     \u001b[39mreturn\u001b[39;00m \u001b[39mNone\u001b[39;00m\n\u001b[1;32m    314\u001b[0m best_sol \u001b[39m=\u001b[39m find_best_setup(\u001b[39m0\u001b[39m, \u001b[39mself\u001b[39m\u001b[39m.\u001b[39min_dim, \u001b[39mset\u001b[39m(), \u001b[39mset\u001b[39m(\u001b[39mrange\u001b[39m(\u001b[39mself\u001b[39m\u001b[39m.\u001b[39mfull_X\u001b[39m.\u001b[39mshape[\u001b[39m0\u001b[39m])))\n\u001b[0;32m--> 315\u001b[0m \u001b[39massert\u001b[39;00m best_sol \u001b[39mis\u001b[39;00m \u001b[39mnot\u001b[39;00m \u001b[39mNone\u001b[39;00m\n\u001b[1;32m    316\u001b[0m \u001b[39mfor\u001b[39;00m W_col_idx \u001b[39min\u001b[39;00m best_sol:\n\u001b[1;32m    317\u001b[0m     pos_col_idx \u001b[39m=\u001b[39m \u001b[39mself\u001b[39m\u001b[39m.\u001b[39mget_pos_col_idx(W_col_idx)\n",
      "\u001b[0;31mAssertionError\u001b[0m: "
     ]
    }
   ],
   "source": [
    "SEED = 5659339910399965995\n",
    "if SEED:\n",
    "    random.seed(SEED)\n",
    "    torch.manual_seed(SEED)\n",
    "else:\n",
    "    seed = int.from_bytes(os.urandom(8), byteorder=\"big\", signed=False)\n",
    "    random.seed(seed)\n",
    "    torch.manual_seed(seed)\n",
    "    print(seed)\n",
    "\n",
    "shuffled_idx = torch.randperm(train_x.shape[0])\n",
    "shuffled_x = train_x[shuffled_idx]\n",
    "shuffled_y = train_y[shuffled_idx]\n",
    "\n",
    "tm = TsetlinMachine(train_x.shape[1], 5)\n",
    "out_1 = tm.forward(shuffled_x)\n",
    "tm.update(shuffled_y)\n",
    "out_2 = tm.forward(shuffled_x)\n",
    "assert torch.equal(shuffled_y,out_2)"
   ]
  }
 ],
 "metadata": {
  "kernelspec": {
   "display_name": "micrograd-yifei",
   "language": "python",
   "name": "python3"
  },
  "language_info": {
   "codemirror_mode": {
    "name": "ipython",
    "version": 3
   },
   "file_extension": ".py",
   "mimetype": "text/x-python",
   "name": "python",
   "nbconvert_exporter": "python",
   "pygments_lexer": "ipython3",
   "version": "3.10.1"
  }
 },
 "nbformat": 4,
 "nbformat_minor": 2
}
