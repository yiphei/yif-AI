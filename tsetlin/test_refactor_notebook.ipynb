{
 "cells": [
  {
   "cell_type": "code",
   "execution_count": 3,
   "metadata": {},
   "outputs": [
    {
     "ename": "IndexError",
     "evalue": "index 5 is out of bounds for dimension 1 with size 5",
     "output_type": "error",
     "traceback": [
      "\u001b[0;31m---------------------------------------------------------------------------\u001b[0m",
      "\u001b[0;31mIndexError\u001b[0m                                Traceback (most recent call last)",
      "\u001b[1;32m/Users/yifeiyan/micrograd-yifei/tsetlin/test_refactor_notebook.ipynb Cell 1\u001b[0m line \u001b[0;36m3\n\u001b[1;32m     <a href='vscode-notebook-cell:/Users/yifeiyan/micrograd-yifei/tsetlin/test_refactor_notebook.ipynb#W0sZmlsZQ%3D%3D?line=28'>29</a>\u001b[0m tm \u001b[39m=\u001b[39m TsetlinMachine(train_x\u001b[39m.\u001b[39mshape[\u001b[39m1\u001b[39m], \u001b[39m5\u001b[39m)\n\u001b[1;32m     <a href='vscode-notebook-cell:/Users/yifeiyan/micrograd-yifei/tsetlin/test_refactor_notebook.ipynb#W0sZmlsZQ%3D%3D?line=29'>30</a>\u001b[0m out_1 \u001b[39m=\u001b[39m tm\u001b[39m.\u001b[39mforward(shuffled_x)\n\u001b[0;32m---> <a href='vscode-notebook-cell:/Users/yifeiyan/micrograd-yifei/tsetlin/test_refactor_notebook.ipynb#W0sZmlsZQ%3D%3D?line=30'>31</a>\u001b[0m tm\u001b[39m.\u001b[39;49mupdate(shuffled_y)\n\u001b[1;32m     <a href='vscode-notebook-cell:/Users/yifeiyan/micrograd-yifei/tsetlin/test_refactor_notebook.ipynb#W0sZmlsZQ%3D%3D?line=31'>32</a>\u001b[0m out_2 \u001b[39m=\u001b[39m tm\u001b[39m.\u001b[39mforward(shuffled_x)\n\u001b[1;32m     <a href='vscode-notebook-cell:/Users/yifeiyan/micrograd-yifei/tsetlin/test_refactor_notebook.ipynb#W0sZmlsZQ%3D%3D?line=32'>33</a>\u001b[0m \u001b[39massert\u001b[39;00m torch\u001b[39m.\u001b[39mequal(shuffled_y,out_2) \u001b[39m# This fails because it is impossible to find a W in the first layer that generates a zero Y when the FULL_X is the entire input space\u001b[39;00m\n",
      "File \u001b[0;32m~/micrograd-yifei/tsetlin/tsetlin.py:408\u001b[0m, in \u001b[0;36mTsetlinMachine.update\u001b[0;34m(self, y)\u001b[0m\n\u001b[1;32m    406\u001b[0m \u001b[39mdef\u001b[39;00m \u001b[39mupdate\u001b[39m(\u001b[39mself\u001b[39m, y):\n\u001b[1;32m    407\u001b[0m     y \u001b[39m=\u001b[39m y\u001b[39m.\u001b[39munsqueeze(\u001b[39m1\u001b[39m)\n\u001b[0;32m--> 408\u001b[0m     updated_X \u001b[39m=\u001b[39m \u001b[39mself\u001b[39;49m\u001b[39m.\u001b[39;49ml3\u001b[39m.\u001b[39;49mupdate(y)\n\u001b[1;32m    409\u001b[0m     \u001b[39mif\u001b[39;00m updated_X \u001b[39mis\u001b[39;00m \u001b[39mnot\u001b[39;00m \u001b[39mNone\u001b[39;00m:\n\u001b[1;32m    410\u001b[0m         updated_X \u001b[39m=\u001b[39m \u001b[39mself\u001b[39m\u001b[39m.\u001b[39ml2\u001b[39m.\u001b[39mupdate(updated_X)\n",
      "File \u001b[0;32m~/micrograd-yifei/tsetlin/tsetlin.py:281\u001b[0m, in \u001b[0;36mTsetlinLayer.update\u001b[0;34m(self, Y, is_first_layer)\u001b[0m\n\u001b[1;32m    277\u001b[0m                     \u001b[39mreturn\u001b[39;00m min_confidence_sum, W_row_idxs_set_idx_to_sorted_col_idx_w_min_confidence_sum\n\u001b[1;32m    279\u001b[0m     \u001b[39mreturn\u001b[39;00m min_confidence_sum, W_row_idxs_set_idx_to_sorted_col_idx_w_min_confidence_sum\n\u001b[0;32m--> 281\u001b[0m _, W_row_idxs_set_idx_to_sorted_col_idx_w_min_confidence_sum \u001b[39m=\u001b[39m get_W_row_idxs_set_idx_to_sorted_col_idx_w_min_confidence_sum(\u001b[39mset\u001b[39;49m(\u001b[39mrange\u001b[39;49m(\u001b[39mlen\u001b[39;49m(new_X_row_idxs_per_W_col))), \u001b[39mNone\u001b[39;49;00m, \u001b[39mset\u001b[39;49m())\n\u001b[1;32m    282\u001b[0m \u001b[39massert\u001b[39;00m W_row_idxs_set_idx_to_sorted_col_idx_w_min_confidence_sum \u001b[39mis\u001b[39;00m \u001b[39mnot\u001b[39;00m \u001b[39mNone\u001b[39;00m\n\u001b[1;32m    284\u001b[0m \u001b[39m# given the optimal assignment, we recreate new_X_row_idxs_per_W_col in W_col_to_new_X_row_idxs\u001b[39;00m\n",
      "File \u001b[0;32m~/micrograd-yifei/tsetlin/tsetlin.py:244\u001b[0m, in \u001b[0;36mTsetlinLayer.update.<locals>.get_W_row_idxs_set_idx_to_sorted_col_idx_w_min_confidence_sum\u001b[0;34m(W_row_idxs_set_idxs, max_sorted_idx_per_W_row_idxs_set_idxs, used_W_col_idxs)\u001b[0m\n\u001b[1;32m    242\u001b[0m min_sorted_idx \u001b[39m=\u001b[39m \u001b[39mNone\u001b[39;00m\n\u001b[1;32m    243\u001b[0m \u001b[39mfor\u001b[39;00m sorted_idx \u001b[39min\u001b[39;00m \u001b[39mrange\u001b[39m(max_sorted_idx \u001b[39m+\u001b[39m \u001b[39m1\u001b[39m):\n\u001b[0;32m--> 244\u001b[0m     col_idx \u001b[39m=\u001b[39m sorted_W_row_idxs_sets_confidence_sum_per_col_indices[W_row_idxs_set_idx, sorted_idx]\u001b[39m.\u001b[39mitem()\n\u001b[1;32m    245\u001b[0m     \u001b[39mif\u001b[39;00m col_idx \u001b[39mnot\u001b[39;00m \u001b[39min\u001b[39;00m used_W_col_idxs:\n\u001b[1;32m    246\u001b[0m         W_row_idxs_confidence_sum \u001b[39m=\u001b[39m sorted_W_row_idxs_sets_confidence_sum_per_col_values[W_row_idxs_set_idx, sorted_idx]\u001b[39m.\u001b[39mitem()\n",
      "\u001b[0;31mIndexError\u001b[0m: index 5 is out of bounds for dimension 1 with size 5"
     ]
    }
   ],
   "source": [
    "%load_ext autoreload\n",
    "%autoreload 2\n",
    "%reload_ext autoreload\n",
    "import os\n",
    "from tsetlin import TsetlinMachine\n",
    "import torch\n",
    "import random\n",
    "\n",
    "DATASET_DIR = '../datasets/'\n",
    "DATA_FILE = 'bit_1.txt'\n",
    "SEED = None\n",
    "\n",
    "text_rows = open(f'{DATASET_DIR}{DATA_FILE}', 'r').read().splitlines()\n",
    "dataset = [ [int(num) for num in row.split(',')] for row in text_rows]\n",
    "tensor_dataset = torch.tensor(dataset)\n",
    "train_x = tensor_dataset[:, :-1]\n",
    "train_y = tensor_dataset[:, -1]\n",
    "\n",
    "for _ in range(10000):\n",
    "    seed = int.from_bytes(os.urandom(8), byteorder=\"big\", signed=False)\n",
    "    random.seed(seed)\n",
    "    torch.manual_seed(seed)\n",
    "    # print(seed)\n",
    "    \n",
    "    shuffled_idx = torch.randperm(train_x.shape[0])\n",
    "    shuffled_x = train_x[shuffled_idx]\n",
    "    shuffled_y = train_y[shuffled_idx]\n",
    "    \n",
    "    tm = TsetlinMachine(train_x.shape[1], 5)\n",
    "    out_1 = tm.forward(shuffled_x)\n",
    "    tm.update(shuffled_y)\n",
    "    out_2 = tm.forward(shuffled_x)\n",
    "    assert torch.equal(shuffled_y,out_2) # This fails because it is impossible to find a W in the first layer that generates a zero Y when the FULL_X is the entire input space"
   ]
  },
  {
   "cell_type": "code",
   "execution_count": 14,
   "metadata": {},
   "outputs": [
    {
     "ename": "KeyboardInterrupt",
     "evalue": "",
     "output_type": "error",
     "traceback": [
      "\u001b[0;31m---------------------------------------------------------------------------\u001b[0m",
      "\u001b[0;31mKeyboardInterrupt\u001b[0m                         Traceback (most recent call last)",
      "\u001b[1;32m/Users/yifeiyan/micrograd-yifei/tsetlin/test_refactor_notebook.ipynb Cell 2\u001b[0m line \u001b[0;36m2\n\u001b[1;32m     <a href='vscode-notebook-cell:/Users/yifeiyan/micrograd-yifei/tsetlin/test_refactor_notebook.ipynb#W1sZmlsZQ%3D%3D?line=19'>20</a>\u001b[0m batch_x \u001b[39m=\u001b[39m shuffled_x[batch_idxs]\n\u001b[1;32m     <a href='vscode-notebook-cell:/Users/yifeiyan/micrograd-yifei/tsetlin/test_refactor_notebook.ipynb#W1sZmlsZQ%3D%3D?line=20'>21</a>\u001b[0m batch_y \u001b[39m=\u001b[39m shuffled_y[batch_idxs]\n\u001b[0;32m---> <a href='vscode-notebook-cell:/Users/yifeiyan/micrograd-yifei/tsetlin/test_refactor_notebook.ipynb#W1sZmlsZQ%3D%3D?line=21'>22</a>\u001b[0m out_1 \u001b[39m=\u001b[39m tm\u001b[39m.\u001b[39;49mforward(batch_x)\n\u001b[1;32m     <a href='vscode-notebook-cell:/Users/yifeiyan/micrograd-yifei/tsetlin/test_refactor_notebook.ipynb#W1sZmlsZQ%3D%3D?line=22'>23</a>\u001b[0m tm\u001b[39m.\u001b[39mupdate(batch_y)\n\u001b[1;32m     <a href='vscode-notebook-cell:/Users/yifeiyan/micrograd-yifei/tsetlin/test_refactor_notebook.ipynb#W1sZmlsZQ%3D%3D?line=23'>24</a>\u001b[0m out_2 \u001b[39m=\u001b[39m tm\u001b[39m.\u001b[39mforward(batch_x)\n",
      "File \u001b[0;32m~/micrograd-yifei/tsetlin/tsetlin.py:400\u001b[0m, in \u001b[0;36mTsetlinMachine.forward\u001b[0;34m(self, X)\u001b[0m\n\u001b[1;32m    399\u001b[0m \u001b[39mdef\u001b[39;00m \u001b[39mforward\u001b[39m(\u001b[39mself\u001b[39m, X):\n\u001b[0;32m--> 400\u001b[0m     X \u001b[39m=\u001b[39m \u001b[39mself\u001b[39;49m\u001b[39m.\u001b[39;49ml1\u001b[39m.\u001b[39;49mforward(X)\n\u001b[1;32m    401\u001b[0m     X \u001b[39m=\u001b[39m \u001b[39mself\u001b[39m\u001b[39m.\u001b[39ml2\u001b[39m.\u001b[39mforward(X)\n\u001b[1;32m    402\u001b[0m     X \u001b[39m=\u001b[39m \u001b[39mself\u001b[39m\u001b[39m.\u001b[39ml3\u001b[39m.\u001b[39mforward(X)\n",
      "File \u001b[0;32m~/micrograd-yifei/tsetlin/tsetlin.py:51\u001b[0m, in \u001b[0;36mTsetlinLayer.forward\u001b[0;34m(self, X)\u001b[0m\n\u001b[1;32m     49\u001b[0m X_neg \u001b[39m=\u001b[39m \u001b[39m1\u001b[39m \u001b[39m-\u001b[39m X\n\u001b[1;32m     50\u001b[0m \u001b[39mself\u001b[39m\u001b[39m.\u001b[39mfull_X \u001b[39m=\u001b[39m torch\u001b[39m.\u001b[39mcat((X, X_neg), dim\u001b[39m=\u001b[39m\u001b[39m1\u001b[39m)\n\u001b[0;32m---> 51\u001b[0m \u001b[39mself\u001b[39m\u001b[39m.\u001b[39mout \u001b[39m=\u001b[39m \u001b[39mself\u001b[39;49m\u001b[39m.\u001b[39;49mconjunction_mul(\u001b[39mself\u001b[39;49m\u001b[39m.\u001b[39;49mfull_X\u001b[39m.\u001b[39;49munsqueeze(\u001b[39m1\u001b[39;49m), \u001b[39mself\u001b[39;49m\u001b[39m.\u001b[39;49mW)\n\u001b[1;32m     52\u001b[0m \u001b[39mreturn\u001b[39;00m \u001b[39mself\u001b[39m\u001b[39m.\u001b[39mout\n",
      "File \u001b[0;32m~/micrograd-yifei/tsetlin/tsetlin.py:21\u001b[0m, in \u001b[0;36mTsetlinBase.conjunction_mul\u001b[0;34m(self, X, W)\u001b[0m\n\u001b[1;32m     19\u001b[0m matrix_X \u001b[39m=\u001b[39m X\u001b[39m.\u001b[39mrepeat(\u001b[39m1\u001b[39m, W\u001b[39m.\u001b[39mshape[\u001b[39m0\u001b[39m], \u001b[39m1\u001b[39m) \u001b[39m# repeat X for each row of W\u001b[39;00m\n\u001b[1;32m     20\u001b[0m mask \u001b[39m=\u001b[39m W \u001b[39m==\u001b[39m \u001b[39m1\u001b[39m\n\u001b[0;32m---> 21\u001b[0m masked_X \u001b[39m=\u001b[39m torch\u001b[39m.\u001b[39;49mwhere(mask, matrix_X, torch\u001b[39m.\u001b[39;49mtensor(\u001b[39m1\u001b[39;49m)) \u001b[39m# theoretically, it should not be replaced with 1 (it should just be omitted), but mathematically it is fine because 1 is idempotent in multiplication\u001b[39;00m\n\u001b[1;32m     22\u001b[0m \u001b[39mreturn\u001b[39;00m torch\u001b[39m.\u001b[39mprod(masked_X, dim\u001b[39m=\u001b[39m\u001b[39m2\u001b[39m, keepdim\u001b[39m=\u001b[39m\u001b[39mTrue\u001b[39;00m)\u001b[39m.\u001b[39mview(X\u001b[39m.\u001b[39mshape[\u001b[39m0\u001b[39m],\u001b[39m-\u001b[39m\u001b[39m1\u001b[39m)\n",
      "\u001b[0;31mKeyboardInterrupt\u001b[0m: "
     ]
    }
   ],
   "source": [
    "failed_training = 0\n",
    "for j in range(50000):\n",
    "\n",
    "    SEED = None\n",
    "    if SEED:\n",
    "        random.seed(SEED)\n",
    "        torch.manual_seed(SEED)\n",
    "    else:\n",
    "        seed = int.from_bytes(os.urandom(8), byteorder=\"big\", signed=False)\n",
    "        random.seed(seed)\n",
    "        torch.manual_seed(seed)\n",
    "\n",
    "    shuffled_idx = torch.randperm(train_x.shape[0])\n",
    "    shuffled_x = train_x[shuffled_idx]\n",
    "    shuffled_y = train_y[shuffled_idx]\n",
    "    tm = TsetlinMachine(train_x.shape[1], 5)\n",
    "    for i in range(100):\n",
    "        # batch_idxs = torch.randint(0, shuffled_x.shape[0], (2,)) # this doesnt work right now\n",
    "        batch_idxs = torch.randperm(shuffled_x.shape[0])[:shuffled_x.shape[0]-1]\n",
    "        batch_x = shuffled_x[batch_idxs]\n",
    "        batch_y = shuffled_y[batch_idxs]\n",
    "        out_1 = tm.forward(batch_x)\n",
    "        tm.update(batch_y)\n",
    "        out_2 = tm.forward(batch_x)\n",
    "        assert torch.equal(batch_y,out_2)\n",
    "\n",
    "    out_3 = tm.forward(train_x)\n",
    "    if not torch.equal(train_y,out_3):\n",
    "        failed_training += 1\n",
    "\n",
    "failed_training"
   ]
  },
  {
   "cell_type": "code",
   "execution_count": 15,
   "metadata": {},
   "outputs": [
    {
     "data": {
      "text/plain": [
       "28"
      ]
     },
     "execution_count": 15,
     "metadata": {},
     "output_type": "execute_result"
    }
   ],
   "source": [
    "failed_training = 0\n",
    "for j in range(50000):\n",
    "\n",
    "    SEED = None\n",
    "    if SEED:\n",
    "        random.seed(SEED)\n",
    "        torch.manual_seed(SEED)\n",
    "    else:\n",
    "        seed = int.from_bytes(os.urandom(8), byteorder=\"big\", signed=False)\n",
    "        random.seed(seed)\n",
    "        torch.manual_seed(seed)\n",
    "\n",
    "    shuffled_idx = torch.randperm(train_x.shape[0])\n",
    "    shuffled_x = train_x[shuffled_idx]\n",
    "    shuffled_y = train_y[shuffled_idx]\n",
    "    tm = TsetlinMachine(train_x.shape[1], 5)\n",
    "    for i in range(100):\n",
    "        # batch_idxs = torch.randint(0, shuffled_x.shape[0], (2,)) # this doesnt work right now\n",
    "        batch_idxs = torch.randperm(shuffled_x.shape[0])[:2]\n",
    "        batch_x = shuffled_x[batch_idxs]\n",
    "        batch_y = shuffled_y[batch_idxs]\n",
    "        out_1 = tm.forward(batch_x)\n",
    "        tm.update(batch_y)\n",
    "        out_2 = tm.forward(batch_x)\n",
    "        assert torch.equal(batch_y,out_2)\n",
    "\n",
    "    out_3 = tm.forward(train_x)\n",
    "    if not torch.equal(train_y,out_3):\n",
    "        failed_training += 1\n",
    "\n",
    "failed_training"
   ]
  },
  {
   "cell_type": "code",
   "execution_count": null,
   "metadata": {},
   "outputs": [
    {
     "data": {
      "text/plain": [
       "0"
      ]
     },
     "execution_count": 11,
     "metadata": {},
     "output_type": "execute_result"
    }
   ],
   "source": [
    "failed_training = 0\n",
    "failed_tms = []\n",
    "succeeded_tms = []\n",
    "for _ in range(50000):\n",
    "    SEED = None\n",
    "    if SEED:\n",
    "        random.seed(SEED)\n",
    "        torch.manual_seed(SEED)\n",
    "    else:\n",
    "        seed = int.from_bytes(os.urandom(8), byteorder=\"big\", signed=False)\n",
    "        random.seed(seed)\n",
    "        torch.manual_seed(seed)\n",
    "\n",
    "    shuffled_idx = torch.randperm(train_x.shape[0])\n",
    "    shuffled_x = train_x[shuffled_idx]\n",
    "    shuffled_y = train_y[shuffled_idx]\n",
    "    tm = TsetlinMachine(train_x.shape[1], 5)\n",
    "    for i in range(100):\n",
    "        batch_idxs = torch.randint(0, shuffled_x.shape[0], (1,))\n",
    "        batch_x = shuffled_x[batch_idxs]\n",
    "        batch_y = shuffled_y[batch_idxs]\n",
    "        out_1 = tm.forward(batch_x)\n",
    "        tm.update(batch_y)\n",
    "        out_2 = tm.forward(batch_x)\n",
    "        assert torch.equal(batch_y,out_2)\n",
    "\n",
    "    out_3 = tm.forward(train_x)\n",
    "    if not torch.equal(train_y,out_3):\n",
    "        failed_training += 1\n",
    "        failed_tms.append(tm)\n",
    "    else:\n",
    "        succeeded_tms.append(tm)\n",
    "\n",
    "failed_training"
   ]
  },
  {
   "cell_type": "code",
   "execution_count": null,
   "metadata": {},
   "outputs": [
    {
     "ename": "AssertionError",
     "evalue": "",
     "output_type": "error",
     "traceback": [
      "\u001b[0;31m---------------------------------------------------------------------------\u001b[0m",
      "\u001b[0;31mAssertionError\u001b[0m                            Traceback (most recent call last)",
      "\u001b[1;32m/Users/yifeiyan/micrograd-yifei/tsetlin/test_refactor_notebook.ipynb Cell 5\u001b[0m line \u001b[0;36m1\n\u001b[1;32m     <a href='vscode-notebook-cell:/Users/yifeiyan/micrograd-yifei/tsetlin/test_refactor_notebook.ipynb#W4sZmlsZQ%3D%3D?line=14'>15</a>\u001b[0m tm \u001b[39m=\u001b[39m TsetlinMachine(train_x\u001b[39m.\u001b[39mshape[\u001b[39m1\u001b[39m], \u001b[39m5\u001b[39m)\n\u001b[1;32m     <a href='vscode-notebook-cell:/Users/yifeiyan/micrograd-yifei/tsetlin/test_refactor_notebook.ipynb#W4sZmlsZQ%3D%3D?line=15'>16</a>\u001b[0m out_1 \u001b[39m=\u001b[39m tm\u001b[39m.\u001b[39mforward(shuffled_x)\n\u001b[0;32m---> <a href='vscode-notebook-cell:/Users/yifeiyan/micrograd-yifei/tsetlin/test_refactor_notebook.ipynb#W4sZmlsZQ%3D%3D?line=16'>17</a>\u001b[0m tm\u001b[39m.\u001b[39;49mupdate(shuffled_y)\n\u001b[1;32m     <a href='vscode-notebook-cell:/Users/yifeiyan/micrograd-yifei/tsetlin/test_refactor_notebook.ipynb#W4sZmlsZQ%3D%3D?line=17'>18</a>\u001b[0m out_2 \u001b[39m=\u001b[39m tm\u001b[39m.\u001b[39mforward(shuffled_x)\n\u001b[1;32m     <a href='vscode-notebook-cell:/Users/yifeiyan/micrograd-yifei/tsetlin/test_refactor_notebook.ipynb#W4sZmlsZQ%3D%3D?line=18'>19</a>\u001b[0m \u001b[39massert\u001b[39;00m torch\u001b[39m.\u001b[39mequal(shuffled_y,out_2)\n",
      "File \u001b[0;32m~/micrograd-yifei/tsetlin/tsetlin.py:410\u001b[0m, in \u001b[0;36mTsetlinMachine.update\u001b[0;34m(self, y)\u001b[0m\n\u001b[1;32m    408\u001b[0m     updated_X \u001b[39m=\u001b[39m \u001b[39mself\u001b[39m\u001b[39m.\u001b[39ml2\u001b[39m.\u001b[39mupdate(updated_X)\n\u001b[1;32m    409\u001b[0m \u001b[39mif\u001b[39;00m updated_X \u001b[39mis\u001b[39;00m \u001b[39mnot\u001b[39;00m \u001b[39mNone\u001b[39;00m:\n\u001b[0;32m--> 410\u001b[0m     \u001b[39mself\u001b[39;49m\u001b[39m.\u001b[39;49ml1\u001b[39m.\u001b[39;49mupdate(updated_X, \u001b[39mTrue\u001b[39;49;00m)\n",
      "File \u001b[0;32m~/micrograd-yifei/tsetlin/tsetlin.py:349\u001b[0m, in \u001b[0;36mTsetlinLayer.update\u001b[0;34m(self, Y, is_first_layer)\u001b[0m\n\u001b[1;32m    346\u001b[0m     \u001b[39mreturn\u001b[39;00m \u001b[39mNone\u001b[39;00m\n\u001b[1;32m    348\u001b[0m best_sol \u001b[39m=\u001b[39m find_best_setup(\u001b[39m0\u001b[39m, \u001b[39mself\u001b[39m\u001b[39m.\u001b[39min_dim, \u001b[39mset\u001b[39m(), \u001b[39mset\u001b[39m(\u001b[39mrange\u001b[39m(\u001b[39mself\u001b[39m\u001b[39m.\u001b[39mfull_X\u001b[39m.\u001b[39mshape[\u001b[39m0\u001b[39m])))\n\u001b[0;32m--> 349\u001b[0m \u001b[39massert\u001b[39;00m best_sol \u001b[39mis\u001b[39;00m \u001b[39mnot\u001b[39;00m \u001b[39mNone\u001b[39;00m\n\u001b[1;32m    350\u001b[0m \u001b[39mfor\u001b[39;00m W_col_idx \u001b[39min\u001b[39;00m best_sol:\n\u001b[1;32m    351\u001b[0m     pos_col_idx \u001b[39m=\u001b[39m \u001b[39mself\u001b[39m\u001b[39m.\u001b[39mget_pos_col_idx(W_col_idx)\n",
      "\u001b[0;31mAssertionError\u001b[0m: "
     ]
    }
   ],
   "source": [
    "SEED = 5659339910399965995\n",
    "if SEED:\n",
    "    random.seed(SEED)\n",
    "    torch.manual_seed(SEED)\n",
    "else:\n",
    "    seed = int.from_bytes(os.urandom(8), byteorder=\"big\", signed=False)\n",
    "    random.seed(seed)\n",
    "    torch.manual_seed(seed)\n",
    "    print(seed)\n",
    "\n",
    "shuffled_idx = torch.randperm(train_x.shape[0])\n",
    "shuffled_x = train_x[shuffled_idx]\n",
    "shuffled_y = train_y[shuffled_idx]\n",
    "\n",
    "tm = TsetlinMachine(train_x.shape[1], 5)\n",
    "out_1 = tm.forward(shuffled_x)\n",
    "tm.update(shuffled_y)\n",
    "out_2 = tm.forward(shuffled_x)\n",
    "assert torch.equal(shuffled_y,out_2)"
   ]
  }
 ],
 "metadata": {
  "kernelspec": {
   "display_name": "micrograd-yifei",
   "language": "python",
   "name": "python3"
  },
  "language_info": {
   "codemirror_mode": {
    "name": "ipython",
    "version": 3
   },
   "file_extension": ".py",
   "mimetype": "text/x-python",
   "name": "python",
   "nbconvert_exporter": "python",
   "pygments_lexer": "ipython3",
   "version": "3.10.1"
  }
 },
 "nbformat": 4,
 "nbformat_minor": 2
}
