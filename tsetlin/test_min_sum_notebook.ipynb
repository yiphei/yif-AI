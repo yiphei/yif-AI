{
 "cells": [
  {
   "cell_type": "code",
   "execution_count": 106,
   "metadata": {},
   "outputs": [
    {
     "name": "stdout",
     "output_type": "stream",
     "text": [
      "The autoreload extension is already loaded. To reload it, use:\n",
      "  %reload_ext autoreload\n"
     ]
    }
   ],
   "source": [
    "%load_ext autoreload\n",
    "%autoreload 2\n",
    "%reload_ext autoreload\n",
    "import os\n",
    "from tsetlin import TsetlinMachine\n",
    "import torch\n",
    "import random\n",
    "import math\n",
    "import copy\n",
    "\n",
    "from itertools import combinations, chain\n",
    "from collections import deque, defaultdict\n",
    "\n",
    "DATASET_DIR = '../datasets/'\n",
    "DATA_FILE = 'bit_2.txt'\n",
    "\n",
    "text_rows = open(f'{DATASET_DIR}{DATA_FILE}', 'r').read().splitlines()\n",
    "dataset = [ [int(num) for num in row.split(',')] for row in text_rows]\n",
    "tensor_dataset = torch.tensor(dataset)\n",
    "train_x = tensor_dataset[:, :-1]\n",
    "train_y = tensor_dataset[:, -1]\n",
    "\n",
    "for _ in range(1000):\n",
    "    SEED = None\n",
    "    if SEED:\n",
    "        random.seed(SEED)\n",
    "        torch.manual_seed(SEED)\n",
    "    else:\n",
    "        seed = int.from_bytes(os.urandom(8), byteorder=\"big\", signed=False)\n",
    "        random.seed(seed)\n",
    "        torch.manual_seed(seed)\n",
    "        # print(seed)\n",
    "\n",
    "    tm = TsetlinMachine(train_x.shape[1], 30)\n",
    "    tm.forward(train_x[:60])\n",
    "\n",
    "    SEED = None\n",
    "    if SEED:\n",
    "        random.seed(SEED)\n",
    "        torch.manual_seed(SEED)\n",
    "    else:\n",
    "        seed = int.from_bytes(os.urandom(8), byteorder=\"big\", signed=False)\n",
    "        random.seed(seed)\n",
    "        torch.manual_seed(seed)\n",
    "        # print(seed)\n",
    "\n",
    "    tm.l1.W_confidence = torch.randint_like(tm.l1.W, 0, 1000)\n",
    "    tm.l1.update(tm.l1.out)"
   ]
  }
 ],
 "metadata": {
  "kernelspec": {
   "display_name": "micrograd-yifei",
   "language": "python",
   "name": "python3"
  },
  "language_info": {
   "codemirror_mode": {
    "name": "ipython",
    "version": 3
   },
   "file_extension": ".py",
   "mimetype": "text/x-python",
   "name": "python",
   "nbconvert_exporter": "python",
   "pygments_lexer": "ipython3",
   "version": "3.10.1"
  }
 },
 "nbformat": 4,
 "nbformat_minor": 2
}
