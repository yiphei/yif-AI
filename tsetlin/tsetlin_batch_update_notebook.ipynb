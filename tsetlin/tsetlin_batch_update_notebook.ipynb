{
 "cells": [
  {
   "cell_type": "code",
   "execution_count": 619,
   "metadata": {},
   "outputs": [
    {
     "name": "stdout",
     "output_type": "stream",
     "text": [
      "The autoreload extension is already loaded. To reload it, use:\n",
      "  %reload_ext autoreload\n"
     ]
    },
    {
     "data": {
      "text/plain": [
       "(tensor([0, 0, 0, 0, 0, 0, 0, 0]), tensor([1, 1, 1, 1, 0, 0, 0, 0]))"
      ]
     },
     "execution_count": 619,
     "metadata": {},
     "output_type": "execute_result"
    }
   ],
   "source": [
    "%load_ext autoreload\n",
    "%autoreload 2\n",
    "%reload_ext autoreload\n",
    "import os\n",
    "from tsetlin import TsetlinMachine\n",
    "import torch\n",
    "import random\n",
    "\n",
    "DATASET_DIR = '../datasets/'\n",
    "DATA_FILE = 'bit_1.txt'\n",
    "SEED = 9496461801973866405\n",
    "# SEED = None\n",
    "\n",
    "text_rows = open(f'{DATASET_DIR}{DATA_FILE}', 'r').read().splitlines()\n",
    "dataset = [ [int(num) for num in row.split(',')] for row in text_rows]\n",
    "tensor_dataset = torch.tensor(dataset)\n",
    "train_x = tensor_dataset[:, :-1]\n",
    "train_y = tensor_dataset[:, -1]\n",
    "\n",
    "if SEED:\n",
    "    random.seed(SEED)\n",
    "    torch.manual_seed(SEED)\n",
    "else:\n",
    "    seed = int.from_bytes(os.urandom(8), byteorder=\"big\", signed=False)\n",
    "    random.seed(seed)\n",
    "    torch.manual_seed(seed)\n",
    "    print(seed)\n",
    "tm = TsetlinMachine(train_x.shape[1], 5)\n",
    "out_1 = tm.forward(train_x)\n",
    "out_1, train_y"
   ]
  },
  {
   "cell_type": "code",
   "execution_count": 620,
   "metadata": {},
   "outputs": [
    {
     "data": {
      "text/plain": [
       "(tensor([[0, 0, 0, 0, 0],\n",
       "         [0, 1, 0, 0, 0],\n",
       "         [0, 0, 1, 0, 0],\n",
       "         [1, 0, 0, 1, 0],\n",
       "         [0, 0, 0, 0, 0],\n",
       "         [0, 0, 1, 0, 0],\n",
       "         [0, 0, 0, 0, 0],\n",
       "         [0, 0, 0, 1, 1]]),\n",
       " tensor([[0, 0, 1, 1, 0],\n",
       "         [0, 1, 1, 0, 1],\n",
       "         [1, 1, 0, 0, 1],\n",
       "         [0, 0, 1, 0, 1],\n",
       "         [0, 0, 1, 1, 0],\n",
       "         [0, 0, 0, 0, 0],\n",
       "         [1, 1, 0, 0, 0],\n",
       "         [0, 1, 1, 1, 1]]),\n",
       " tensor([[1, 1, 1, 0, 0, 0],\n",
       "         [1, 0, 1, 0, 1, 0],\n",
       "         [0, 1, 0, 0, 0, 1],\n",
       "         [0, 1, 1, 0, 0, 0],\n",
       "         [0, 1, 1, 1, 0, 0]]))"
      ]
     },
     "execution_count": 620,
     "metadata": {},
     "output_type": "execute_result"
    }
   ],
   "source": [
    "Y = torch.randint(0,2, tm.l1.out.size())\n",
    "tm.l1.out, Y, tm.l1.W"
   ]
  },
  {
   "cell_type": "code",
   "execution_count": 621,
   "metadata": {},
   "outputs": [
    {
     "data": {
      "text/plain": [
       "[[1, 0], [2, 4, 0, 3], [3, 1, 4], [4], [1], [2]]"
      ]
     },
     "execution_count": 621,
     "metadata": {},
     "output_type": "execute_result"
    }
   ],
   "source": [
    "from tabulate import tabulate\n",
    "\n",
    "W_deps = [[] for _ in range(tm.l1.W.shape[1])] # these are the necessary ones\n",
    "for i, single_x in enumerate(tm.l1.full_X):\n",
    "    single_Y = Y[i]\n",
    "    one_Y_idxs = torch.nonzero(single_Y == 1).squeeze(1)\n",
    "    W_halves = torch.split(tm.l1.W, tm.l1.in_dim, dim=1)\n",
    "    pos_W = W_halves[0]\n",
    "    neg_W = W_halves[1]\n",
    "    for pos_one_Y_idx in one_Y_idxs:\n",
    "        w_1 = pos_W[pos_one_Y_idx]\n",
    "        for neg_one_Y_idx in one_Y_idxs:\n",
    "            w_2 = neg_W[neg_one_Y_idx]\n",
    "            deps = ((w_1 == w_2) & (w_1 == 1))\n",
    "            if deps.any():\n",
    "                dep_idxs = deps.nonzero(as_tuple=True)[0]\n",
    "                for idx in dep_idxs:\n",
    "                    if pos_one_Y_idx.item() not in W_deps[idx]:\n",
    "                        W_deps[idx].append(pos_one_Y_idx.item())\n",
    "                    if neg_one_Y_idx.item() not in W_deps[idx + tm.l1.in_dim]:\n",
    "                        W_deps[idx + tm.l1.in_dim].append(neg_one_Y_idx.item())\n",
    "\n",
    "W_deps"
   ]
  },
  {
   "cell_type": "code",
   "execution_count": 622,
   "metadata": {},
   "outputs": [
    {
     "name": "stdout",
     "output_type": "stream",
     "text": [
      "╒════════════╤════════════╤════════════╤════════════╤════════════╤════════════╕\n",
      "│ Column 1   │ Column 2   │ Column 3   │ Column 4   │ Column 5   │ Column 6   │\n",
      "╞════════════╪════════════╪════════════╪════════════╪════════════╪════════════╡\n",
      "│ []         │ []         │ [3]        │ []         │ []         │ [2]        │\n",
      "├────────────┼────────────┼────────────┼────────────┼────────────┼────────────┤\n",
      "│ [1]        │ [2, 4]     │ [1, 4]     │ [4]        │ [1]        │ [2]        │\n",
      "├────────────┼────────────┼────────────┼────────────┼────────────┼────────────┤\n",
      "│ [0, 1]     │ [0, 4]     │ []         │ [4]        │ [1]        │ []         │\n",
      "├────────────┼────────────┼────────────┼────────────┼────────────┼────────────┤\n",
      "│ []         │ []         │ [4]        │ []         │ []         │ [2]        │\n",
      "├────────────┼────────────┼────────────┼────────────┼────────────┼────────────┤\n",
      "│ []         │ []         │ [3]        │ []         │ []         │ [2]        │\n",
      "├────────────┼────────────┼────────────┼────────────┼────────────┼────────────┤\n",
      "│ []         │ []         │ []         │ []         │ []         │ []         │\n",
      "├────────────┼────────────┼────────────┼────────────┼────────────┼────────────┤\n",
      "│ []         │ [0]        │ []         │ []         │ [1]        │ []         │\n",
      "├────────────┼────────────┼────────────┼────────────┼────────────┼────────────┤\n",
      "│ [1]        │ [2, 3, 4]  │ [1, 3, 4]  │ [4]        │ [1]        │ [2]        │\n",
      "╘════════════╧════════════╧════════════╧════════════╧════════════╧════════════╛\n"
     ]
    }
   ],
   "source": [
    "from tabulate import tabulate\n",
    "\n",
    "W_deps_tabular = [] # these are the necessary ones\n",
    "for i, single_x in enumerate(tm.l1.full_X):\n",
    "    flip_dep_row = [[] for _ in range(tm.l1.in_dim * 2)]\n",
    "    single_Y = Y[i]\n",
    "    one_Y_idxs = torch.nonzero(single_Y == 1).squeeze(1)\n",
    "    W_halves = torch.split(tm.l1.W, tm.l1.in_dim, dim=1)\n",
    "    pos_W = W_halves[0]\n",
    "    neg_W = W_halves[1]\n",
    "    for pos_one_Y_idx in one_Y_idxs:\n",
    "        w_1 = pos_W[pos_one_Y_idx]\n",
    "        for neg_one_Y_idx in one_Y_idxs:\n",
    "            w_2 = neg_W[neg_one_Y_idx]\n",
    "            deps = ((w_1 == w_2) & (w_1 == 1))\n",
    "            if deps.any():\n",
    "                dep_idxs = deps.nonzero(as_tuple=True)[0]\n",
    "                for idx in dep_idxs:\n",
    "                    if pos_one_Y_idx.item() not in flip_dep_row[idx]:\n",
    "                        flip_dep_row[idx].append(pos_one_Y_idx.item())\n",
    "                    if neg_one_Y_idx.item() not in flip_dep_row[idx + tm.l1.in_dim]:\n",
    "                        flip_dep_row[idx + tm.l1.in_dim].append(neg_one_Y_idx.item())\n",
    "    W_deps_tabular.append(flip_dep_row)\n",
    "\n",
    "\n",
    "headers = [f\"Column {i+1}\" for i in range(len(W_deps_tabular[0]))]\n",
    "print(tabulate(W_deps_tabular, headers=headers, tablefmt=\"fancy_grid\"))"
   ]
  },
  {
   "cell_type": "code",
   "execution_count": 623,
   "metadata": {},
   "outputs": [],
   "source": [
    "# from tabulate import tabulate\n",
    "\n",
    "# flip_deps_necessary = []\n",
    "# for i, single_x in enumerate(tm.l1.full_X):\n",
    "#     flip_dep_row = [[] for _ in range(tm.l1.in_dim * 2)]\n",
    "#     single_Y = Y[i]\n",
    "#     one_Y_idxs = torch.nonzero(single_Y == 1).squeeze(1)\n",
    "#     one_X_idxs = torch.nonzero(single_x == 1).squeeze(1)\n",
    "#     W_halves = torch.split(tm.l1.W, tm.l1.in_dim, dim=1)\n",
    "#     pos_W = W_halves[0]\n",
    "#     neg_W = W_halves[1]\n",
    "#     for pos_one_Y_idx in one_Y_idxs:\n",
    "#         w_1 = pos_W[pos_one_Y_idx]\n",
    "#         for neg_one_Y_idx in one_Y_idxs:\n",
    "#             w_2 = neg_W[neg_one_Y_idx]\n",
    "#             deps = ((w_1 == w_2) & (w_1 == 1)).nonzero(as_tuple=True)[0]\n",
    "#             neg_deps = torch.clone(deps)\n",
    "#             neg_deps = deps + tm.l1.in_dim\n",
    "#             full_deps = torch.cat((deps, neg_deps))\n",
    "#             mask = torch.isin(full_deps, one_X_idxs)\n",
    "#             full_deps = full_deps[mask]\n",
    "#             for idx in full_deps:\n",
    "#                 pos_idx = None\n",
    "#                 neg_idx = None\n",
    "#                 if idx < tm.l1.in_dim:\n",
    "#                     pos_idx = idx\n",
    "#                     neg_idx = idx + tm.l1.in_dim\n",
    "#                 else:\n",
    "#                     pos_idx = idx - tm.l1.in_dim\n",
    "#                     neg_idx = idx\n",
    "#                 if pos_one_Y_idx.item() not in flip_dep_row[pos_idx]:\n",
    "#                     flip_dep_row[pos_idx].append(pos_one_Y_idx.item())\n",
    "#                 if neg_one_Y_idx.item() not in flip_dep_row[neg_idx]:\n",
    "#                     flip_dep_row[neg_idx].append(neg_one_Y_idx.item())\n",
    "    \n",
    "#     flip_deps_necessary.append(flip_dep_row)\n",
    "\n",
    "\n",
    "# headers = [f\"Column {i+1}\" for i in range(len(flip_deps_necessary[0]))]\n",
    "# print(tabulate(flip_deps_necessary, headers=headers, tablefmt=\"fancy_grid\"))"
   ]
  },
  {
   "cell_type": "code",
   "execution_count": 624,
   "metadata": {},
   "outputs": [
    {
     "data": {
      "text/plain": [
       "[[[], [2, 3], [3], [], [], [2]],\n",
       " [[1], [2, 4], [1, 4], [4], [1], [2]],\n",
       " [[0, 1], [0, 4], [0, 1, 4], [4], [1], []],\n",
       " [[], [2, 4], [4], [4], [], [2]],\n",
       " [[], [2, 3], [3], [], [], [2]],\n",
       " [[], [], [], [], [], []],\n",
       " [[0, 1], [0], [0, 1], [], [1], []],\n",
       " [[1], [2, 3, 4], [1, 3, 4], [4], [1], [2]]]"
      ]
     },
     "execution_count": 624,
     "metadata": {},
     "output_type": "execute_result"
    }
   ],
   "source": [
    "W_deps_full = []\n",
    "for i, single_x in enumerate(tm.l1.full_X):\n",
    "    flip_dep_row = [[] for _ in range(tm.l1.in_dim * 2)]\n",
    "    single_Y = Y[i]\n",
    "    one_Y_idxs = torch.nonzero(single_Y == 1).squeeze(1)\n",
    "    W_halves = torch.split(tm.l1.W, tm.l1.in_dim, dim=1)\n",
    "    pos_W = W_halves[0]\n",
    "    neg_W = W_halves[1]\n",
    "    for pos_one_Y_idx in one_Y_idxs:\n",
    "        w_1 = pos_W[pos_one_Y_idx]\n",
    "        for neg_one_Y_idx in one_Y_idxs:\n",
    "            w_2 = neg_W[neg_one_Y_idx]\n",
    "            pos_one_W_idxs = torch.nonzero(w_1 == 1).squeeze(1)\n",
    "            neg_one_W_idxs = torch.nonzero(w_2 == 1).squeeze(1)\n",
    "            for idx in pos_one_W_idxs:\n",
    "                if pos_one_Y_idx.item() not in flip_dep_row[idx.item()]:\n",
    "                    flip_dep_row[idx.item()].append(pos_one_Y_idx.item())\n",
    "            for idx in neg_one_W_idxs:\n",
    "                if neg_one_Y_idx.item() not in flip_dep_row[idx.item() + tm.l1.in_dim]:\n",
    "                    flip_dep_row[idx.item() + tm.l1.in_dim].append(neg_one_Y_idx.item())\n",
    "    W_deps_full.append(flip_dep_row)\n",
    "W_deps_full"
   ]
  },
  {
   "cell_type": "code",
   "execution_count": 625,
   "metadata": {},
   "outputs": [
    {
     "data": {
      "text/plain": [
       "tensor([[1, 0, 0, 0, 1, 1],\n",
       "        [1, 0, 1, 0, 1, 0],\n",
       "        [1, 1, 0, 0, 0, 1],\n",
       "        [1, 1, 1, 0, 0, 0],\n",
       "        [0, 0, 0, 1, 1, 1],\n",
       "        [0, 1, 0, 1, 0, 1],\n",
       "        [0, 0, 1, 1, 1, 0],\n",
       "        [0, 1, 1, 1, 0, 0]])"
      ]
     },
     "execution_count": 625,
     "metadata": {},
     "output_type": "execute_result"
    }
   ],
   "source": [
    "tm.l1.full_X"
   ]
  },
  {
   "cell_type": "code",
   "execution_count": 626,
   "metadata": {},
   "outputs": [
    {
     "name": "stdout",
     "output_type": "stream",
     "text": [
      "╒═════════════════╤═════════════════╤═════════════════╤════════════════════╤════════════════════╤════════════════════╕\n",
      "│ Column 1        │ Column 2        │ Column 3        │ Column 4           │ Column 5           │ Column 6           │\n",
      "╞═════════════════╪═════════════════╪═════════════════╪════════════════════╪════════════════════╪════════════════════╡\n",
      "│ [0, 1, 3, 6]    │ [3, 5, 6, 7]    │ [1, 2, 3, 7]    │ [2, 4, 5, 7]       │ [0, 1, 2, 4]       │ [0, 4, 5, 6]       │\n",
      "├─────────────────┼─────────────────┼─────────────────┼────────────────────┼────────────────────┼────────────────────┤\n",
      "│ [0, 3, 6, 7]    │ [1, 3, 5, 6]    │ [2, 3]          │ [1, 2, 4, 5]       │ [0, 2, 4, 7]       │ [0, 1, 4, 5, 6, 7] │\n",
      "├─────────────────┼─────────────────┼─────────────────┼────────────────────┼────────────────────┼────────────────────┤\n",
      "│ [2, 4, 7]       │ [0, 1, 2, 4, 5] │ [0, 4, 6]       │ [0, 1, 3, 5, 6]    │ [3, 6, 7]          │ [1, 2, 3, 5, 7]    │\n",
      "├─────────────────┼─────────────────┼─────────────────┼────────────────────┼────────────────────┼────────────────────┤\n",
      "│ [1, 2, 3, 4, 7] │ [0, 2, 3, 4, 5] │ [0, 1, 3, 4, 6] │ [0, 5, 6]          │ [1, 6, 7]          │ [2, 5, 7]          │\n",
      "├─────────────────┼─────────────────┼─────────────────┼────────────────────┼────────────────────┼────────────────────┤\n",
      "│ [0, 7]          │ [1, 5]          │ [2, 6]          │ [1, 2, 3, 4, 5, 6] │ [0, 2, 3, 4, 6, 7] │ [0, 1, 3, 4, 5, 7] │\n",
      "╘═════════════════╧═════════════════╧═════════════════╧════════════════════╧════════════════════╧════════════════════╛\n"
     ]
    }
   ],
   "source": [
    "from tabulate import tabulate\n",
    "\n",
    "flip_deps = []\n",
    "\n",
    "for i, single_W in enumerate(tm.l1.W):\n",
    "    single_Y = Y[:, i]\n",
    "    one_Y_idxs = torch.nonzero(single_Y == 1).squeeze(1)\n",
    "    must_be_flipped_row = [[] for _ in range(tm.l1.in_dim * 2)]\n",
    "\n",
    "    x_stuff = tm.l1.full_X == 1\n",
    "    for row in range(x_stuff.shape[0]):\n",
    "        for col in range(x_stuff.shape[1]):\n",
    "            if (not x_stuff[row,col] and row in one_Y_idxs) or (x_stuff[row,col] and row not in one_Y_idxs):\n",
    "                must_be_flipped_row[col].append(row)\n",
    "\n",
    "    flip_deps.append(must_be_flipped_row)\n",
    "\n",
    "headers = [f\"Column {i+1}\" for i in range(len(flip_deps[0]))]\n",
    "print(tabulate(flip_deps, headers=headers, tablefmt=\"fancy_grid\"))"
   ]
  },
  {
   "cell_type": "code",
   "execution_count": 627,
   "metadata": {},
   "outputs": [
    {
     "data": {
      "text/plain": [
       "[[1, 0], [2, 4, 0, 3], [3, 1, 4], [4], [1], [2]]"
      ]
     },
     "execution_count": 627,
     "metadata": {},
     "output_type": "execute_result"
    }
   ],
   "source": [
    "W_deps"
   ]
  },
  {
   "cell_type": "code",
   "execution_count": 628,
   "metadata": {},
   "outputs": [
    {
     "data": {
      "text/plain": [
       "[[0, 1, 3, 6, 7],\n",
       " [0, 1, 2, 3, 4, 5, 6, 7],\n",
       " [0, 1, 2, 3, 4, 6],\n",
       " [1, 2, 3, 4, 5, 6],\n",
       " [0, 2, 4, 7],\n",
       " [1, 2, 3, 5, 7]]"
      ]
     },
     "execution_count": 628,
     "metadata": {},
     "output_type": "execute_result"
    }
   ],
   "source": [
    "flip_count = [set() for _ in range(tm.l1.in_dim * 2)]\n",
    "for i, dep in enumerate(W_deps):\n",
    "    for idx in dep:\n",
    "        flip_count[i].update(flip_deps[idx][i])\n",
    "\n",
    "flip_count = [list(x) for x in flip_count]\n",
    "flip_count"
   ]
  },
  {
   "cell_type": "code",
   "execution_count": 629,
   "metadata": {},
   "outputs": [
    {
     "data": {
      "text/plain": [
       "([3, 4, 5],\n",
       " [tensor(0), tensor(2), tensor(1), tensor(2), tensor(0)],\n",
       " tensor([[1, 1, 1, 0, 0, 0],\n",
       "         [1, 0, 1, 0, 0, 0],\n",
       "         [0, 1, 0, 0, 0, 0],\n",
       "         [0, 1, 1, 0, 0, 0],\n",
       "         [1, 1, 1, 0, 0, 0]]))"
      ]
     },
     "execution_count": 629,
     "metadata": {},
     "output_type": "execute_result"
    }
   ],
   "source": [
    "SEED = 9496461801973866405\n",
    "random.seed(SEED)\n",
    "torch.manual_seed(SEED)\n",
    "\n",
    "def func(W_deps):\n",
    "    new_W = torch.clone(tm.l1.W)\n",
    "    selected_W_deps_indices = []\n",
    "    for i in range(len(W_deps)//2):\n",
    "        if len(W_deps[i]) > 0:\n",
    "            selected_index = random.choice([i, i + len(W_deps)//2])\n",
    "            if len(W_deps[i]) > len(W_deps[i + len(W_deps)//2]):\n",
    "                selected_index = i + len(W_deps)//2\n",
    "            elif len(W_deps[i]) < len(W_deps[i + len(W_deps)//2]):\n",
    "                selected_index = i\n",
    "            selected_W_deps_indices.append(selected_index)\n",
    "\n",
    "    cannot_be_changed = [[] for _ in range(new_W.shape[0])]\n",
    "    for index in selected_W_deps_indices:\n",
    "        for row_i in W_deps[index]:\n",
    "            should_remove = random.choice([True, False])\n",
    "            if should_remove:\n",
    "                new_W[row_i, index] = 0\n",
    "            else:\n",
    "                new_W[row_i, index] = 0\n",
    "                new_W[row_i, (index + len(W_deps)//2) % (len(W_deps)//2)] = 1\n",
    "            cannot_be_changed[row_i].append(index)\n",
    "    \n",
    "    chosen_idxs = []\n",
    "    for i, row in enumerate(new_W):\n",
    "        one_idxs = torch.nonzero(row == 1, as_tuple=True)[0]\n",
    "        if len(one_idxs) > 0:\n",
    "            chosen_idx = random.choice(one_idxs)\n",
    "            chosen_idxs.append(chosen_idx)\n",
    "        else:\n",
    "            zero_idxs = torch.nonzero(row == 0, as_tuple=True)[0]\n",
    "            mask = ~torch.isin(zero_idxs , torch.tensor(cannot_be_changed[i]))\n",
    "            zero_idxs = zero_idxs[mask]\n",
    "            chosen_idx = random.choice(zero_idxs)\n",
    "            chosen_idxs.append(chosen_idx)\n",
    "            \n",
    "    return selected_W_deps_indices, chosen_idxs, new_W\n",
    "            \n",
    "\n",
    "selected_W_deps_indices, selected_flip_deps_indices, new_W = func(W_deps)\n",
    "selected_W_deps_indices, selected_flip_deps_indices, new_W"
   ]
  },
  {
   "cell_type": "code",
   "execution_count": 632,
   "metadata": {},
   "outputs": [
    {
     "data": {
      "text/plain": [
       "tensor([[0, 1, 1, 1, 0, 0],\n",
       "        [0, 1, 0, 1, 0, 1],\n",
       "        [1, 0, 1, 0, 1, 0],\n",
       "        [0, 1, 0, 1, 0, 1],\n",
       "        [0, 1, 1, 1, 0, 0],\n",
       "        [0, 0, 0, 1, 1, 1],\n",
       "        [1, 0, 0, 0, 1, 1],\n",
       "        [1, 1, 1, 0, 0, 0]])"
      ]
     },
     "execution_count": 632,
     "metadata": {},
     "output_type": "execute_result"
    }
   ],
   "source": [
    "new_full_X = torch.clone(tm.l1.full_X)\n",
    "mask_X = torch.zeros_like(new_full_X)\n",
    "for i, idx in enumerate(selected_flip_deps_indices):\n",
    "    X_row_idxs = flip_deps[i][idx.item()]\n",
    "    for X_row_idx in X_row_idxs:\n",
    "        mask_X[X_row_idx, idx.item()] = 1\n",
    "        neg_index = (idx.item() + tm.l1.in_dim) % (tm.l1.in_dim*2)\n",
    "        mask_X[X_row_idx, neg_index] = 1\n",
    "\n",
    "new_full_X[mask_X.bool()] = 1 - new_full_X[mask_X.bool()]\n",
    "new_full_X"
   ]
  },
  {
   "cell_type": "code",
   "execution_count": 633,
   "metadata": {},
   "outputs": [
    {
     "data": {
      "text/plain": [
       "tensor([[0, 0, 1, 1, 0],\n",
       "        [0, 0, 1, 0, 0],\n",
       "        [0, 1, 0, 0, 0],\n",
       "        [0, 0, 1, 0, 0],\n",
       "        [0, 0, 1, 1, 0],\n",
       "        [0, 0, 0, 0, 0],\n",
       "        [0, 0, 0, 0, 0],\n",
       "        [1, 1, 1, 1, 1]])"
      ]
     },
     "execution_count": 633,
     "metadata": {},
     "output_type": "execute_result"
    }
   ],
   "source": [
    "from tsetlin import TsetlinBase\n",
    "\n",
    "tb = TsetlinBase()\n",
    "tb.conjunction_mul(new_full_X.unsqueeze(1), new_W)"
   ]
  }
 ],
 "metadata": {
  "kernelspec": {
   "display_name": "micrograd-yifei",
   "language": "python",
   "name": "python3"
  },
  "language_info": {
   "codemirror_mode": {
    "name": "ipython",
    "version": 3
   },
   "file_extension": ".py",
   "mimetype": "text/x-python",
   "name": "python",
   "nbconvert_exporter": "python",
   "pygments_lexer": "ipython3",
   "version": "3.10.1"
  },
  "orig_nbformat": 4
 },
 "nbformat": 4,
 "nbformat_minor": 2
}
