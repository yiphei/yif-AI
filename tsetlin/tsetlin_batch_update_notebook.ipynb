{
 "cells": [
  {
   "cell_type": "code",
   "execution_count": 1133,
   "metadata": {},
   "outputs": [
    {
     "name": "stdout",
     "output_type": "stream",
     "text": [
      "The autoreload extension is already loaded. To reload it, use:\n",
      "  %reload_ext autoreload\n"
     ]
    },
    {
     "data": {
      "text/plain": [
       "(tensor([0, 0, 0, 0, 0, 0, 0, 0]), tensor([1, 1, 1, 1, 0, 0, 0, 0]))"
      ]
     },
     "execution_count": 1133,
     "metadata": {},
     "output_type": "execute_result"
    }
   ],
   "source": [
    "%load_ext autoreload\n",
    "%autoreload 2\n",
    "%reload_ext autoreload\n",
    "import os\n",
    "from tsetlin import TsetlinMachine\n",
    "import torch\n",
    "import random\n",
    "\n",
    "DATASET_DIR = '../datasets/'\n",
    "DATA_FILE = 'bit_1.txt'\n",
    "SEED = 9496461801973866405\n",
    "# SEED = None\n",
    "\n",
    "text_rows = open(f'{DATASET_DIR}{DATA_FILE}', 'r').read().splitlines()\n",
    "dataset = [ [int(num) for num in row.split(',')] for row in text_rows]\n",
    "tensor_dataset = torch.tensor(dataset)\n",
    "train_x = tensor_dataset[:, :-1]\n",
    "train_y = tensor_dataset[:, -1]\n",
    "\n",
    "if SEED:\n",
    "    random.seed(SEED)\n",
    "    torch.manual_seed(SEED)\n",
    "else:\n",
    "    seed = int.from_bytes(os.urandom(8), byteorder=\"big\", signed=False)\n",
    "    random.seed(seed)\n",
    "    torch.manual_seed(seed)\n",
    "    print(seed)\n",
    "tm = TsetlinMachine(train_x.shape[1], 5)\n",
    "out_1 = tm.forward(train_x)\n",
    "out_1, train_y"
   ]
  },
  {
   "cell_type": "code",
   "execution_count": 1134,
   "metadata": {},
   "outputs": [
    {
     "data": {
      "text/plain": [
       "(tensor([[0, 0, 0, 0, 0],\n",
       "         [0, 1, 0, 0, 0],\n",
       "         [0, 0, 1, 0, 0],\n",
       "         [1, 0, 0, 1, 0],\n",
       "         [0, 0, 0, 0, 0],\n",
       "         [0, 0, 1, 0, 0],\n",
       "         [0, 0, 0, 0, 0],\n",
       "         [0, 0, 0, 1, 1]]),\n",
       " tensor([[0, 0, 1, 1, 0],\n",
       "         [0, 1, 1, 0, 1],\n",
       "         [1, 1, 0, 0, 1],\n",
       "         [0, 0, 1, 0, 1],\n",
       "         [0, 0, 1, 1, 0],\n",
       "         [0, 0, 0, 0, 0],\n",
       "         [1, 1, 0, 0, 0],\n",
       "         [0, 1, 1, 1, 1]]),\n",
       " tensor([[1, 1, 1, 0, 0, 0],\n",
       "         [1, 0, 1, 0, 1, 0],\n",
       "         [0, 1, 0, 0, 0, 1],\n",
       "         [0, 1, 1, 0, 0, 0],\n",
       "         [0, 1, 1, 1, 0, 0]]))"
      ]
     },
     "execution_count": 1134,
     "metadata": {},
     "output_type": "execute_result"
    }
   ],
   "source": [
    "Y = torch.randint(0,2, tm.l1.out.size())\n",
    "tm.l1.out, Y, tm.l1.W"
   ]
  },
  {
   "cell_type": "code",
   "execution_count": 1135,
   "metadata": {},
   "outputs": [
    {
     "name": "stdout",
     "output_type": "stream",
     "text": [
      "╒════════════╤════════════╤════════════╤════════════╤════════════╤════════════╕\n",
      "│ Column 1   │ Column 2   │ Column 3   │ Column 4   │ Column 5   │ Column 6   │\n",
      "╞════════════╪════════════╪════════════╪════════════╪════════════╪════════════╡\n",
      "│ []         │ []         │ [3]        │ []         │ []         │ [2]        │\n",
      "├────────────┼────────────┼────────────┼────────────┼────────────┼────────────┤\n",
      "│ [1]        │ [2, 4]     │ [1, 4]     │ [4]        │ [1]        │ [2]        │\n",
      "├────────────┼────────────┼────────────┼────────────┼────────────┼────────────┤\n",
      "│ [0, 1]     │ [0, 4]     │ []         │ [4]        │ [1]        │ []         │\n",
      "├────────────┼────────────┼────────────┼────────────┼────────────┼────────────┤\n",
      "│ []         │ []         │ [4]        │ []         │ []         │ [2]        │\n",
      "├────────────┼────────────┼────────────┼────────────┼────────────┼────────────┤\n",
      "│ []         │ []         │ [3]        │ []         │ []         │ [2]        │\n",
      "├────────────┼────────────┼────────────┼────────────┼────────────┼────────────┤\n",
      "│ []         │ []         │ []         │ []         │ []         │ []         │\n",
      "├────────────┼────────────┼────────────┼────────────┼────────────┼────────────┤\n",
      "│ []         │ [0]        │ []         │ []         │ [1]        │ []         │\n",
      "├────────────┼────────────┼────────────┼────────────┼────────────┼────────────┤\n",
      "│ [1]        │ [2, 3, 4]  │ [1, 3, 4]  │ [4]        │ [1]        │ [2]        │\n",
      "╘════════════╧════════════╧════════════╧════════════╧════════════╧════════════╛\n"
     ]
    }
   ],
   "source": [
    "from tabulate import tabulate\n",
    "\n",
    "tabular_W_collisions = [] # these are the necessary ones\n",
    "for i in range(tm.l1.full_X.shape[0]):\n",
    "    row_W_collisions = [[] for _ in range(tm.l1.in_dim * 2)]\n",
    "    row_Y = Y[i]\n",
    "    zero_Y_idxs = torch.nonzero(row_Y == 1).squeeze(1).tolist()\n",
    "    W_halves = torch.split(tm.l1.W, tm.l1.in_dim, dim=1)\n",
    "    pos_W = W_halves[0]\n",
    "    neg_W = W_halves[1]\n",
    "    for pos_one_Y_idx in zero_Y_idxs:\n",
    "        w_1 = pos_W[pos_one_Y_idx]\n",
    "        prod = w_1 * neg_W[zero_Y_idxs]\n",
    "        collision_idxs = (prod == 1).nonzero(as_tuple=False)\n",
    "        for row_collision_idx, col_collision_idx in collision_idxs:\n",
    "            neg_col_collision_idx = col_collision_idx + tm.l1.in_dim\n",
    "            if pos_one_Y_idx not in row_W_collisions[col_collision_idx]:\n",
    "                row_W_collisions[col_collision_idx].append(pos_one_Y_idx)\n",
    "            if zero_Y_idxs[row_collision_idx] not in row_W_collisions[neg_col_collision_idx]:\n",
    "                row_W_collisions[neg_col_collision_idx].append(zero_Y_idxs[row_collision_idx])\n",
    "\n",
    "    tabular_W_collisions.append(row_W_collisions)\n",
    "\n",
    "headers = [f\"Column {i+1}\" for i in range(len(tabular_W_collisions[0]))]\n",
    "print(tabulate(tabular_W_collisions, headers=headers, tablefmt=\"fancy_grid\"))"
   ]
  },
  {
   "cell_type": "code",
   "execution_count": 1136,
   "metadata": {},
   "outputs": [
    {
     "data": {
      "text/plain": [
       "[[1, 0], [2, 4, 0, 3], [3, 1, 4], [4], [1], [2]]"
      ]
     },
     "execution_count": 1136,
     "metadata": {},
     "output_type": "execute_result"
    }
   ],
   "source": [
    "from tabulate import tabulate\n",
    "\n",
    "W_collisions = [[] for _ in range(tm.l1.W.shape[1])] # these are the necessary ones\n",
    "for i in range(tm.l1.full_X.shape[0]):\n",
    "    row_Y = Y[i]\n",
    "    zero_Y_idxs = torch.nonzero(row_Y == 1).squeeze(1).tolist()\n",
    "    W_halves = torch.split(tm.l1.W, tm.l1.in_dim, dim=1)\n",
    "    pos_W = W_halves[0]\n",
    "    neg_W = W_halves[1]\n",
    "    for pos_one_Y_idx in zero_Y_idxs:\n",
    "        w_1 = pos_W[pos_one_Y_idx]\n",
    "        prod = w_1 * neg_W[zero_Y_idxs]\n",
    "        collision_idxs = (prod == 1).nonzero(as_tuple=False)\n",
    "        for row_collision_idx, col_collision_idx in collision_idxs:\n",
    "            neg_col_collision_idx = col_collision_idx + tm.l1.in_dim\n",
    "            if pos_one_Y_idx not in W_collisions[col_collision_idx]:\n",
    "                W_collisions[col_collision_idx].append(pos_one_Y_idx)\n",
    "            if zero_Y_idxs[row_collision_idx] not in W_collisions[neg_col_collision_idx]:\n",
    "                W_collisions[neg_col_collision_idx].append(zero_Y_idxs[row_collision_idx])\n",
    "\n",
    "W_collisions"
   ]
  },
  {
   "cell_type": "code",
   "execution_count": 1137,
   "metadata": {},
   "outputs": [],
   "source": [
    "# W_deps_full = []\n",
    "# for i, single_x in enumerate(tm.l1.full_X):\n",
    "#     W_collisions_row = [[] for _ in range(tm.l1.in_dim * 2)]\n",
    "#     row_Y = Y[i]\n",
    "#     one_Y_idxs = torch.nonzero(row_Y == 1).squeeze(1)\n",
    "#     W_halves = torch.split(tm.l1.W, tm.l1.in_dim, dim=1)\n",
    "#     pos_W = W_halves[0]\n",
    "#     neg_W = W_halves[1]\n",
    "#     for pos_one_Y_idx in one_Y_idxs:\n",
    "#         w_1 = pos_W[pos_one_Y_idx]\n",
    "#         for neg_one_Y_idx in one_Y_idxs:\n",
    "#             w_2 = neg_W[neg_one_Y_idx]\n",
    "#             pos_one_W_idxs = torch.nonzero(w_1 == 1).squeeze(1)\n",
    "#             neg_one_W_idxs = torch.nonzero(w_2 == 1).squeeze(1)\n",
    "#             for collision_idx in pos_one_W_idxs:\n",
    "#                 if pos_one_Y_idx.item() not in W_collisions_row[collision_idx.item()]:\n",
    "#                     W_collisions_row[collision_idx.item()].append(pos_one_Y_idx.item())\n",
    "#             for collision_idx in neg_one_W_idxs:\n",
    "#                 if neg_one_Y_idx.item() not in W_collisions_row[collision_idx.item() + tm.l1.in_dim]:\n",
    "#                     W_collisions_row[collision_idx.item() + tm.l1.in_dim].append(neg_one_Y_idx.item())\n",
    "#     W_deps_full.append(W_collisions_row)\n",
    "# W_deps_full"
   ]
  },
  {
   "cell_type": "code",
   "execution_count": 1138,
   "metadata": {},
   "outputs": [
    {
     "data": {
      "text/plain": [
       "tensor([[1, 0, 0, 0, 1, 1],\n",
       "        [1, 0, 1, 0, 1, 0],\n",
       "        [1, 1, 0, 0, 0, 1],\n",
       "        [1, 1, 1, 0, 0, 0],\n",
       "        [0, 0, 0, 1, 1, 1],\n",
       "        [0, 1, 0, 1, 0, 1],\n",
       "        [0, 0, 1, 1, 1, 0],\n",
       "        [0, 1, 1, 1, 0, 0]])"
      ]
     },
     "execution_count": 1138,
     "metadata": {},
     "output_type": "execute_result"
    }
   ],
   "source": [
    "tm.l1.full_X"
   ]
  },
  {
   "cell_type": "code",
   "execution_count": 1139,
   "metadata": {},
   "outputs": [
    {
     "name": "stdout",
     "output_type": "stream",
     "text": [
      "╒═════════════════╤═════════════════╤═════════════════╤════════════════════╤════════════════════╤════════════════════╕\n",
      "│ Column 1        │ Column 2        │ Column 3        │ Column 4           │ Column 5           │ Column 6           │\n",
      "╞═════════════════╪═════════════════╪═════════════════╪════════════════════╪════════════════════╪════════════════════╡\n",
      "│ [0, 1, 3, 6]    │ [3, 5, 6, 7]    │ [1, 2, 3, 7]    │ [2, 4, 5, 7]       │ [0, 1, 2, 4]       │ [0, 4, 5, 6]       │\n",
      "├─────────────────┼─────────────────┼─────────────────┼────────────────────┼────────────────────┼────────────────────┤\n",
      "│ [0, 3, 6, 7]    │ [1, 3, 5, 6]    │ [2, 3]          │ [1, 2, 4, 5]       │ [0, 2, 4, 7]       │ [0, 1, 4, 5, 6, 7] │\n",
      "├─────────────────┼─────────────────┼─────────────────┼────────────────────┼────────────────────┼────────────────────┤\n",
      "│ [2, 4, 7]       │ [0, 1, 2, 4, 5] │ [0, 4, 6]       │ [0, 1, 3, 5, 6]    │ [3, 6, 7]          │ [1, 2, 3, 5, 7]    │\n",
      "├─────────────────┼─────────────────┼─────────────────┼────────────────────┼────────────────────┼────────────────────┤\n",
      "│ [1, 2, 3, 4, 7] │ [0, 2, 3, 4, 5] │ [0, 1, 3, 4, 6] │ [0, 5, 6]          │ [1, 6, 7]          │ [2, 5, 7]          │\n",
      "├─────────────────┼─────────────────┼─────────────────┼────────────────────┼────────────────────┼────────────────────┤\n",
      "│ [0, 7]          │ [1, 5]          │ [2, 6]          │ [1, 2, 3, 4, 5, 6] │ [0, 2, 3, 4, 6, 7] │ [0, 1, 3, 4, 5, 7] │\n",
      "╘═════════════════╧═════════════════╧═════════════════╧════════════════════╧════════════════════╧════════════════════╛\n"
     ]
    }
   ],
   "source": [
    "from tabulate import tabulate\n",
    "\n",
    "flip_deps_for_ones_and_zeroes = []\n",
    "mask_X = tm.l1.full_X == 1\n",
    "for i, single_W in enumerate(tm.l1.W):\n",
    "    col_Y = Y[:, i]\n",
    "    zero_Y_idxs = torch.nonzero(col_Y == 1).squeeze(1)\n",
    "    X_flip_row_idxs_by_col = [[] for _ in range(tm.l1.in_dim * 2)]\n",
    "\n",
    "    for row in range(mask_X.shape[0]):\n",
    "        for col in range(mask_X.shape[1]):\n",
    "            if (not mask_X[row,col] and row in zero_Y_idxs) or (mask_X[row,col] and row not in zero_Y_idxs):\n",
    "                X_flip_row_idxs_by_col[col].append(row)\n",
    "\n",
    "    flip_deps_for_ones_and_zeroes.append(X_flip_row_idxs_by_col)\n",
    "\n",
    "headers = [f\"Column {i+1}\" for i in range(len(flip_deps_for_ones_and_zeroes[0]))]\n",
    "print(tabulate(flip_deps_for_ones_and_zeroes, headers=headers, tablefmt=\"fancy_grid\"))"
   ]
  },
  {
   "cell_type": "code",
   "execution_count": 1140,
   "metadata": {},
   "outputs": [
    {
     "name": "stdout",
     "output_type": "stream",
     "text": [
      "╒════════════╤════════════╤════════════╤════════════╤════════════╤════════════╕\n",
      "│ Column 1   │ Column 2   │ Column 3   │ Column 4   │ Column 5   │ Column 6   │\n",
      "╞════════════╪════════════╪════════════╪════════════╪════════════╪════════════╡\n",
      "│ [6]        │ [6]        │ [2]        │ [2]        │ [2]        │ [6]        │\n",
      "├────────────┼────────────┼────────────┼────────────┼────────────┼────────────┤\n",
      "│ [6, 7]     │ [1, 6]     │ [2]        │ [1, 2]     │ [2, 7]     │ [1, 6, 7]  │\n",
      "├────────────┼────────────┼────────────┼────────────┼────────────┼────────────┤\n",
      "│ [4, 7]     │ [0, 1, 4]  │ [0, 4]     │ [0, 1, 3]  │ [3, 7]     │ [1, 3, 7]  │\n",
      "├────────────┼────────────┼────────────┼────────────┼────────────┼────────────┤\n",
      "│ [4, 7]     │ [0, 4]     │ [0, 4]     │ [0]        │ [7]        │ [7]        │\n",
      "├────────────┼────────────┼────────────┼────────────┼────────────┼────────────┤\n",
      "│ [7]        │ [1]        │ [2]        │ [1, 2, 3]  │ [2, 3, 7]  │ [1, 3, 7]  │\n",
      "╘════════════╧════════════╧════════════╧════════════╧════════════╧════════════╛\n"
     ]
    }
   ],
   "source": [
    "from tabulate import tabulate\n",
    "\n",
    "mask_X = tm.l1.full_X == 1\n",
    "flip_deps_for_ones = []\n",
    "for i, single_W in enumerate(tm.l1.W):\n",
    "    col_Y = Y[:, i]\n",
    "    zero_Y_idxs = torch.nonzero(col_Y == 1).squeeze(1)\n",
    "    X_flip_row_idxs_by_col = [[] for _ in range(tm.l1.in_dim * 2)]\n",
    "\n",
    "    for row in range(mask_X.shape[0]):\n",
    "        for col in range(mask_X.shape[1]):\n",
    "            if (not mask_X[row,col] and row in zero_Y_idxs):\n",
    "                X_flip_row_idxs_by_col[col].append(row)\n",
    "\n",
    "    flip_deps_for_ones.append(X_flip_row_idxs_by_col)\n",
    "\n",
    "headers = [f\"Column {i+1}\" for i in range(len(flip_deps_for_ones[0]))]\n",
    "print(tabulate(flip_deps_for_ones, headers=headers, tablefmt=\"fancy_grid\"))"
   ]
  },
  {
   "cell_type": "code",
   "execution_count": 1141,
   "metadata": {},
   "outputs": [
    {
     "data": {
      "text/plain": [
       "[[2, 6], [1, 2, 6, 7], [0, 1, 3, 4, 7], [0, 4, 7], [1, 2, 3, 7]]"
      ]
     },
     "execution_count": 1141,
     "metadata": {},
     "output_type": "execute_result"
    }
   ],
   "source": [
    "from tabulate import tabulate\n",
    "\n",
    "one_Y_row_idxs_per_W_row = []\n",
    "for i in range(tm.l1.W.shape[0]):\n",
    "    row_Y = Y[:, i]\n",
    "    zero_Y_idxs = torch.nonzero(row_Y == 1).squeeze(1).tolist()\n",
    "    one_Y_row_idxs_per_W_row.append(zero_Y_idxs)\n",
    "one_Y_row_idxs_per_W_row"
   ]
  },
  {
   "cell_type": "code",
   "execution_count": 1142,
   "metadata": {},
   "outputs": [
    {
     "data": {
      "text/plain": [
       "[[1, 0], [2, 4, 0, 3], [3, 1, 4], [4], [1], [2]]"
      ]
     },
     "execution_count": 1142,
     "metadata": {},
     "output_type": "execute_result"
    }
   ],
   "source": [
    "W_collisions"
   ]
  },
  {
   "cell_type": "code",
   "execution_count": 1143,
   "metadata": {},
   "outputs": [
    {
     "data": {
      "text/plain": [
       "([0, 2, 4, 0, 2],\n",
       " tensor([[1, 0, 0, 0, 0, 0],\n",
       "         [0, 0, 1, 0, 0, 0],\n",
       "         [0, 0, 0, 0, 1, 0],\n",
       "         [1, 0, 0, 0, 0, 0],\n",
       "         [0, 0, 1, 0, 0, 0]]))"
      ]
     },
     "execution_count": 1143,
     "metadata": {},
     "output_type": "execute_result"
    }
   ],
   "source": [
    "SEED = 9496461801973866405\n",
    "if SEED:\n",
    "    random.seed(SEED)\n",
    "    torch.manual_seed(SEED)\n",
    "else:\n",
    "    seed = int.from_bytes(os.urandom(8), byteorder=\"big\", signed=False)\n",
    "    random.seed(seed)\n",
    "    torch.manual_seed(seed)\n",
    "    print(seed)\n",
    "\n",
    "def is_there_conflict(col_idx, row_idx, chosen_col_idxs):\n",
    "    neg_col_idx =  (col_idx + tm.l1.in_dim) % (tm.l1.in_dim * 2)\n",
    "    if neg_col_idx in chosen_col_idxs:\n",
    "        return len(set(one_Y_row_idxs_per_W_row[row_idx]) & set(one_Y_row_idxs_per_W_row[row_idx])) > 0\n",
    "    return False\n",
    "\n",
    "def can_col_idx_be_used(col_idx, row_idx, cannot_be_changed):\n",
    "    return col_idx in cannot_be_changed[row_idx] if row_idx in cannot_be_changed else False\n",
    "\n",
    "def func(W_collisions):\n",
    "    new_W = torch.zeros_like(tm.l1.W)\n",
    "    \n",
    "    cannot_be_changed = {}\n",
    "    for i in range(len(W_collisions)//2):\n",
    "        if len(W_collisions[i]) > 0:\n",
    "            neg_i = i + len(W_collisions)//2\n",
    "            selected_index = random.choice([i,neg_i])\n",
    "            if len(W_collisions[i]) > len(W_collisions[neg_i]):\n",
    "                selected_index = neg_i\n",
    "            elif len(W_collisions[i]) < len(W_collisions[neg_i]):\n",
    "                selected_index = i\n",
    "            \n",
    "            for row_i in W_collisions[selected_index]:\n",
    "                if row_i not in cannot_be_changed:\n",
    "                    cannot_be_changed[row_i] = []\n",
    "                cannot_be_changed[row_i].append(selected_index)\n",
    "\n",
    "    selected_col_idxs = torch.zeros(new_W.shape[0]).tolist()\n",
    "    remaining_row_idxs = [i for i in range(new_W.shape[0]) if i not in cannot_be_changed.keys()]\n",
    "    for row_idx in (sorted(list(cannot_be_changed.keys())) + remaining_row_idxs):\n",
    "        available_col_idxs = [i for i in range(new_W.shape[1])]\n",
    "        random.shuffle(available_col_idxs)\n",
    "        candidate_list_idx = 0\n",
    "        candidate_col_idx = available_col_idxs[candidate_list_idx]\n",
    "        col_idx_cannot_be_used = can_col_idx_be_used(candidate_col_idx, row_idx, cannot_be_changed)\n",
    "        while col_idx_cannot_be_used or is_there_conflict(candidate_col_idx, row_idx, selected_col_idxs):\n",
    "            candidate_list_idx += 1\n",
    "            candidate_col_idx = available_col_idxs[candidate_list_idx]\n",
    "            col_idx_cannot_be_used = can_col_idx_be_used(candidate_col_idx, row_idx, cannot_be_changed)\n",
    "\n",
    "        new_W[row_idx, candidate_col_idx] = 1\n",
    "        selected_col_idxs[row_idx] = candidate_col_idx\n",
    "            \n",
    "    return selected_col_idxs, new_W\n",
    "\n",
    "selected_W_col_idx_per_W_row, new_W = func(W_collisions)\n",
    "selected_W_col_idx_per_W_row, new_W"
   ]
  },
  {
   "cell_type": "code",
   "execution_count": 1144,
   "metadata": {},
   "outputs": [
    {
     "data": {
      "text/plain": [
       "(tensor([[0, 0, 0, 0, 0, 0],\n",
       "         [0, 0, 0, 0, 0, 0],\n",
       "         [0, 0, 1, 0, 0, 1],\n",
       "         [0, 1, 0, 0, 1, 0],\n",
       "         [1, 0, 0, 1, 0, 0],\n",
       "         [0, 0, 0, 0, 0, 0],\n",
       "         [1, 0, 0, 1, 0, 0],\n",
       "         [1, 1, 0, 1, 1, 0]]),\n",
       " tensor([[1, 0, 0, 0, 1, 1],\n",
       "         [1, 0, 1, 0, 1, 0],\n",
       "         [1, 1, 1, 0, 0, 0],\n",
       "         [1, 0, 1, 0, 1, 0],\n",
       "         [1, 0, 0, 0, 1, 1],\n",
       "         [0, 1, 0, 1, 0, 1],\n",
       "         [1, 0, 1, 0, 1, 0],\n",
       "         [1, 0, 1, 0, 1, 0]]))"
      ]
     },
     "execution_count": 1144,
     "metadata": {},
     "output_type": "execute_result"
    }
   ],
   "source": [
    "new_full_X = torch.clone(tm.l1.full_X)\n",
    "mask_X = torch.zeros_like(new_full_X)\n",
    "for row_idx, col_indx in enumerate(selected_W_col_idx_per_W_row):\n",
    "    X_row_idxs = flip_deps_for_ones[row_idx][col_indx]\n",
    "    for X_row_idx in X_row_idxs:\n",
    "        mask_X[X_row_idx, col_indx] = 1\n",
    "        neg_index = (col_indx + tm.l1.in_dim) % (tm.l1.in_dim*2)\n",
    "        mask_X[X_row_idx, neg_index] = 1\n",
    "\n",
    "new_full_X[mask_X.bool()] = 1 - new_full_X[mask_X.bool()]\n",
    "mask_X,new_full_X"
   ]
  },
  {
   "cell_type": "code",
   "execution_count": 1148,
   "metadata": {},
   "outputs": [
    {
     "data": {
      "text/plain": [
       "tensor([[1, 0, 1, 1, 0],\n",
       "        [1, 1, 1, 1, 1],\n",
       "        [1, 1, 0, 1, 1],\n",
       "        [1, 1, 1, 1, 1],\n",
       "        [1, 0, 1, 1, 0],\n",
       "        [0, 0, 0, 0, 0],\n",
       "        [1, 1, 1, 1, 1],\n",
       "        [1, 1, 1, 1, 1]])"
      ]
     },
     "execution_count": 1148,
     "metadata": {},
     "output_type": "execute_result"
    }
   ],
   "source": [
    "from tsetlin import TsetlinBase\n",
    "\n",
    "tb = TsetlinBase()\n",
    "y2 = tb.conjunction_mul(new_full_X.unsqueeze(1), new_W)\n",
    "y2"
   ]
  },
  {
   "cell_type": "code",
   "execution_count": 1146,
   "metadata": {},
   "outputs": [
    {
     "name": "stdout",
     "output_type": "stream",
     "text": [
      "╒═════════════════╤════════════╤══════════════╤════════════╤═════════════════╤════════════╕\n",
      "│ Column 1        │ Column 2   │ Column 3     │ Column 4   │ Column 5        │ Column 6   │\n",
      "╞═════════════════╪════════════╪══════════════╪════════════╪═════════════════╪════════════╡\n",
      "│ [0, 1, 3, 4, 7] │ [5]        │ [1, 3, 7]    │ [5]        │ [0, 1, 3, 4, 7] │ [0, 4, 5]  │\n",
      "├─────────────────┼────────────┼──────────────┼────────────┼─────────────────┼────────────┤\n",
      "│ [0, 3, 4]       │ [5]        │ [3]          │ [5]        │ [0, 3, 4]       │ [0, 4, 5]  │\n",
      "├─────────────────┼────────────┼──────────────┼────────────┼─────────────────┼────────────┤\n",
      "│ [2, 6]          │ [2, 5]     │ [2, 6]       │ [5]        │ [6]             │ [5]        │\n",
      "├─────────────────┼────────────┼──────────────┼────────────┼─────────────────┼────────────┤\n",
      "│ [1, 2, 3, 6]    │ [2, 5]     │ [1, 2, 3, 6] │ [5]        │ [1, 3, 6]       │ [5]        │\n",
      "├─────────────────┼────────────┼──────────────┼────────────┼─────────────────┼────────────┤\n",
      "│ [0, 4, 6]       │ [5]        │ [6]          │ [5]        │ [0, 4, 6]       │ [0, 4, 5]  │\n",
      "╘═════════════════╧════════════╧══════════════╧════════════╧═════════════════╧════════════╛\n"
     ]
    }
   ],
   "source": [
    "from tabulate import tabulate\n",
    "\n",
    "mask_X = new_full_X == 1\n",
    "flip_deps_for_zeroes = []\n",
    "for i, single_W in enumerate(tm.l1.W):\n",
    "    col_Y = Y[:, i]\n",
    "    zero_Y_idxs = torch.nonzero(col_Y == 0).squeeze(1)\n",
    "    X_flip_row_idxs_by_col = [[] for _ in range(tm.l1.in_dim * 2)]\n",
    "\n",
    "    for row in range(mask_X.shape[0]):\n",
    "        for col in range(mask_X.shape[1]):\n",
    "            if (mask_X[row,col] and row in zero_Y_idxs):\n",
    "                X_flip_row_idxs_by_col[col].append(row)\n",
    "\n",
    "    flip_deps_for_zeroes.append(X_flip_row_idxs_by_col)\n",
    "\n",
    "headers = [f\"Column {i+1}\" for i in range(len(flip_deps_for_zeroes[0]))]\n",
    "print(tabulate(flip_deps_for_zeroes, headers=headers, tablefmt=\"fancy_grid\"))"
   ]
  },
  {
   "cell_type": "code",
   "execution_count": 1147,
   "metadata": {},
   "outputs": [
    {
     "data": {
      "text/plain": [
       "[[0, 1, 3, 4, 5, 7], [0, 3, 4, 5], [2, 5, 6], [1, 2, 3, 5, 6], [0, 4, 5, 6]]"
      ]
     },
     "execution_count": 1147,
     "metadata": {},
     "output_type": "execute_result"
    }
   ],
   "source": [
    "from tabulate import tabulate\n",
    "\n",
    "zero_Y_row_idxs_per_W_row = []\n",
    "for i in range(tm.l1.W.shape[0]):\n",
    "    row_Y = Y[:, i]\n",
    "    zero_Y_idxs = torch.nonzero(row_Y == 0).squeeze(1).tolist()\n",
    "    zero_Y_row_idxs_per_W_row.append(zero_Y_idxs)\n",
    "zero_Y_row_idxs_per_W_row"
   ]
  }
 ],
 "metadata": {
  "kernelspec": {
   "display_name": "micrograd-yifei",
   "language": "python",
   "name": "python3"
  },
  "language_info": {
   "codemirror_mode": {
    "name": "ipython",
    "version": 3
   },
   "file_extension": ".py",
   "mimetype": "text/x-python",
   "name": "python",
   "nbconvert_exporter": "python",
   "pygments_lexer": "ipython3",
   "version": "3.10.1"
  },
  "orig_nbformat": 4
 },
 "nbformat": 4,
 "nbformat_minor": 2
}
