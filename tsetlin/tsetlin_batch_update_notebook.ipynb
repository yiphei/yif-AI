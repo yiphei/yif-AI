{
 "cells": [
  {
   "cell_type": "code",
   "execution_count": 99,
   "metadata": {},
   "outputs": [
    {
     "name": "stdout",
     "output_type": "stream",
     "text": [
      "The autoreload extension is already loaded. To reload it, use:\n",
      "  %reload_ext autoreload\n"
     ]
    },
    {
     "data": {
      "text/plain": [
       "(tensor([0, 0, 0, 0, 1, 1, 1, 0]), tensor([1, 1, 1, 1, 0, 0, 0, 0]))"
      ]
     },
     "execution_count": 99,
     "metadata": {},
     "output_type": "execute_result"
    }
   ],
   "source": [
    "%load_ext autoreload\n",
    "%autoreload 2\n",
    "%reload_ext autoreload\n",
    "import os\n",
    "from tsetlin import TsetlinMachine\n",
    "import torch\n",
    "import random\n",
    "\n",
    "DATASET_DIR = '../datasets/'\n",
    "DATA_FILE = 'bit_1.txt'\n",
    "SEED = 17648192976567996066\n",
    "# SEED = 14201704991192380010\n",
    "# SEED = None\n",
    "\n",
    "text_rows = open(f'{DATASET_DIR}{DATA_FILE}', 'r').read().splitlines()\n",
    "dataset = [ [int(num) for num in row.split(',')] for row in text_rows]\n",
    "tensor_dataset = torch.tensor(dataset)\n",
    "train_x = tensor_dataset[:, :-1]\n",
    "train_y = tensor_dataset[:, -1]\n",
    "\n",
    "if SEED:\n",
    "    random.seed(SEED)\n",
    "    torch.manual_seed(SEED)\n",
    "else:\n",
    "    seed = int.from_bytes(os.urandom(8), byteorder=\"big\", signed=False)\n",
    "    random.seed(seed)\n",
    "    torch.manual_seed(seed)\n",
    "    print(seed)\n",
    "tm = TsetlinMachine(train_x.shape[1], 5)\n",
    "out_1 = tm.forward(train_x)\n",
    "out_1, train_y"
   ]
  },
  {
   "cell_type": "code",
   "execution_count": 100,
   "metadata": {},
   "outputs": [
    {
     "data": {
      "text/plain": [
       "(tensor([[0, 0, 1, 0, 0],\n",
       "         [0, 0, 1, 0, 0],\n",
       "         [0, 0, 1, 0, 0],\n",
       "         [0, 1, 1, 1, 1],\n",
       "         [0, 0, 0, 0, 0],\n",
       "         [0, 0, 0, 0, 0],\n",
       "         [1, 0, 0, 0, 0],\n",
       "         [0, 0, 0, 1, 1]]),\n",
       " tensor([[1, 1, 0, 0, 0],\n",
       "         [0, 1, 0, 0, 1],\n",
       "         [1, 0, 0, 0, 0],\n",
       "         [0, 0, 0, 1, 0],\n",
       "         [0, 1, 0, 1, 0],\n",
       "         [0, 1, 0, 0, 1],\n",
       "         [0, 0, 0, 0, 0],\n",
       "         [0, 0, 1, 0, 0]]),\n",
       " tensor([[0, 0, 1, 1, 1, 0],\n",
       "         [1, 1, 1, 0, 0, 0],\n",
       "         [1, 0, 0, 0, 0, 0],\n",
       "         [0, 1, 1, 0, 0, 0],\n",
       "         [0, 1, 1, 0, 0, 0]]))"
      ]
     },
     "execution_count": 100,
     "metadata": {},
     "output_type": "execute_result"
    }
   ],
   "source": [
    "Y = torch.randint(0,2, tm.l1.out.size())\n",
    "tm.l1.out, Y, tm.l1.W"
   ]
  },
  {
   "cell_type": "code",
   "execution_count": 101,
   "metadata": {},
   "outputs": [
    {
     "data": {
      "text/plain": [
       "[[[1], [1], [], [0], [0], []],\n",
       " [[], [], [], [], [], []],\n",
       " [[], [], [], [], [], []],\n",
       " [[], [], [], [], [], []],\n",
       " [[], [], [], [], [], []],\n",
       " [[], [], [], [], [], []],\n",
       " [[], [], [], [], [], []],\n",
       " [[], [], [], [], [], []]]"
      ]
     },
     "execution_count": 101,
     "metadata": {},
     "output_type": "execute_result"
    }
   ],
   "source": [
    "flip_deps = []\n",
    "for i, single_x in enumerate(tm.l1.full_X):\n",
    "    flip_dep_row = [[] for _ in range(tm.l1.in_dim * 2)]\n",
    "    single_Y = Y[i]\n",
    "    one_Y_idxs = torch.nonzero(single_Y == 1).squeeze(1)\n",
    "    W_halves = torch.split(tm.l1.W, tm.l1.in_dim, dim=1)\n",
    "    pos_W = W_halves[0]\n",
    "    neg_W = W_halves[1]\n",
    "    for pos_one_Y_idx in one_Y_idxs:\n",
    "        w_1 = pos_W[pos_one_Y_idx]\n",
    "        for neg_one_Y_idx in one_Y_idxs:\n",
    "            w_2 = neg_W[neg_one_Y_idx]\n",
    "            deps = ((w_1 == w_2) & (w_1 == 1))\n",
    "            if deps.any():\n",
    "                dep_idxs = deps.nonzero(as_tuple=True)[0]\n",
    "                for idx in dep_idxs:\n",
    "                    if pos_one_Y_idx.item() not in flip_dep_row[idx]:\n",
    "                        flip_dep_row[idx].append(pos_one_Y_idx.item())\n",
    "                    if neg_one_Y_idx.item() not in flip_dep_row[idx + tm.l1.in_dim]:\n",
    "                        flip_dep_row[idx + tm.l1.in_dim].append(neg_one_Y_idx.item())\n",
    "    flip_deps.append(flip_dep_row)\n",
    "flip_deps"
   ]
  },
  {
   "cell_type": "code",
   "execution_count": 102,
   "metadata": {},
   "outputs": [
    {
     "data": {
      "text/plain": [
       "[[[1], [1], [0, 1], [0], [0], []],\n",
       " [[1], [1, 4], [1, 4], [], [], []],\n",
       " [[], [], [0], [0], [0], []],\n",
       " [[], [3], [3], [], [], []],\n",
       " [[1], [1, 3], [1, 3], [], [], []],\n",
       " [[1], [1, 4], [1, 4], [], [], []],\n",
       " [[], [], [], [], [], []],\n",
       " [[2], [], [], [], [], []]]"
      ]
     },
     "execution_count": 102,
     "metadata": {},
     "output_type": "execute_result"
    }
   ],
   "source": [
    "flip_deps_full = []\n",
    "for i, single_x in enumerate(tm.l1.full_X):\n",
    "    flip_dep_row = [[] for _ in range(tm.l1.in_dim * 2)]\n",
    "    single_Y = Y[i]\n",
    "    one_Y_idxs = torch.nonzero(single_Y == 1).squeeze(1)\n",
    "    W_halves = torch.split(tm.l1.W, tm.l1.in_dim, dim=1)\n",
    "    pos_W = W_halves[0]\n",
    "    neg_W = W_halves[1]\n",
    "    for pos_one_Y_idx in one_Y_idxs:\n",
    "        w_1 = pos_W[pos_one_Y_idx]\n",
    "        for neg_one_Y_idx in one_Y_idxs:\n",
    "            w_2 = neg_W[neg_one_Y_idx]\n",
    "            pos_one_W_idxs = torch.nonzero(w_1 == 1).squeeze(1)\n",
    "            neg_one_W_idxs = torch.nonzero(w_2 == 1).squeeze(1)\n",
    "            for idx in pos_one_W_idxs:\n",
    "                if pos_one_Y_idx.item() not in flip_dep_row[idx.item()]:\n",
    "                    flip_dep_row[idx.item()].append(pos_one_Y_idx.item())\n",
    "            for idx in neg_one_W_idxs:\n",
    "                if neg_one_Y_idx.item() not in flip_dep_row[idx.item() + tm.l1.in_dim]:\n",
    "                    flip_dep_row[idx.item() + tm.l1.in_dim].append(neg_one_Y_idx.item())\n",
    "    flip_deps_full.append(flip_dep_row)\n",
    "flip_deps_full"
   ]
  },
  {
   "cell_type": "code",
   "execution_count": 103,
   "metadata": {},
   "outputs": [
    {
     "data": {
      "text/plain": [
       "tensor([[1, 0, 0, 0, 1, 1],\n",
       "        [1, 0, 1, 0, 1, 0],\n",
       "        [1, 1, 0, 0, 0, 1],\n",
       "        [1, 1, 1, 0, 0, 0],\n",
       "        [0, 0, 0, 1, 1, 1],\n",
       "        [0, 1, 0, 1, 0, 1],\n",
       "        [0, 0, 1, 1, 1, 0],\n",
       "        [0, 1, 1, 1, 0, 0]])"
      ]
     },
     "execution_count": 103,
     "metadata": {},
     "output_type": "execute_result"
    }
   ],
   "source": [
    "tm.l1.full_X"
   ]
  },
  {
   "cell_type": "code",
   "execution_count": 105,
   "metadata": {},
   "outputs": [
    {
     "data": {
      "text/plain": [
       "[[[1, 3],\n",
       "  [0, 3, 5, 7],\n",
       "  [0, 1, 2, 3, 6, 7],\n",
       "  [0, 2, 4, 5, 6, 7],\n",
       "  [1, 2, 4, 6],\n",
       "  [4, 5]],\n",
       " [[2, 3, 4, 5],\n",
       "  [0, 1, 2, 3, 4, 7],\n",
       "  [0, 3, 4, 5, 6, 7],\n",
       "  [0, 1, 6, 7],\n",
       "  [5, 6],\n",
       "  [1, 2]],\n",
       " [[0, 1, 2, 3, 7],\n",
       "  [2, 3, 5],\n",
       "  [1, 3, 6],\n",
       "  [4, 5, 6],\n",
       "  [0, 1, 4, 6, 7],\n",
       "  [0, 2, 4, 5, 7]],\n",
       " [[0, 1, 2, 4],\n",
       "  [2, 4, 5, 7],\n",
       "  [1, 4, 6, 7],\n",
       "  [3, 5, 6, 7],\n",
       "  [0, 1, 3, 6],\n",
       "  [0, 2, 3, 5]],\n",
       " [[0, 2, 3, 5],\n",
       "  [1, 2, 3, 7],\n",
       "  [3, 5, 6, 7],\n",
       "  [1, 4, 6, 7],\n",
       "  [0, 4, 5, 6],\n",
       "  [0, 1, 2, 4]]]"
      ]
     },
     "execution_count": 105,
     "metadata": {},
     "output_type": "execute_result"
    }
   ],
   "source": [
    "W_deps = []\n",
    "for i, single_W in enumerate(tm.l1.W):\n",
    "    single_Y = Y[:, i]\n",
    "    one_Y_idxs = torch.nonzero(single_Y == 1).squeeze(1)\n",
    "    must_be_flipped_row = [[] for _ in range(tm.l1.in_dim * 2)]\n",
    "\n",
    "    x_stuff = tm.l1.full_X == 1\n",
    "    for row in range(x_stuff.shape[0]):\n",
    "        for col in range(x_stuff.shape[1]):\n",
    "            if (not x_stuff[row,col] and row in one_Y_idxs) or (x_stuff[row,col] and row not in one_Y_idxs):\n",
    "                must_be_flipped_row[col].append(row)\n",
    "\n",
    "    W_deps.append(must_be_flipped_row)\n",
    "\n",
    "W_deps"
   ]
  }
 ],
 "metadata": {
  "kernelspec": {
   "display_name": "micrograd-yifei",
   "language": "python",
   "name": "python3"
  },
  "language_info": {
   "codemirror_mode": {
    "name": "ipython",
    "version": 3
   },
   "file_extension": ".py",
   "mimetype": "text/x-python",
   "name": "python",
   "nbconvert_exporter": "python",
   "pygments_lexer": "ipython3",
   "version": "3.10.1"
  },
  "orig_nbformat": 4
 },
 "nbformat": 4,
 "nbformat_minor": 2
}
