{
 "cells": [
  {
   "cell_type": "code",
   "execution_count": 62,
   "metadata": {},
   "outputs": [
    {
     "name": "stdout",
     "output_type": "stream",
     "text": [
      "sagemaker.config INFO - Not applying SDK defaults from location: /Library/Application Support/sagemaker/config.yaml\n",
      "sagemaker.config INFO - Not applying SDK defaults from location: /Users/yifeiyan/Library/Application Support/sagemaker/config.yaml\n",
      "{'ResponseMetadata': {'RequestId': 'd274732a-bf7c-4544-9206-66ff78271490', 'HTTPStatusCode': 202, 'HTTPHeaders': {'x-amzn-requestid': 'd274732a-bf7c-4544-9206-66ff78271490', 'x-amzn-sagemaker-outputlocation': 's3://sagemaker-studio-mk6unewb9tb/inference_output_new/31810544-e8b3-4e61-b350-281b0f561f85.out', 'x-amzn-sagemaker-failurelocation': 's3://sagemaker-studio-mk6unewb9tb/failure_new/31810544-e8b3-4e61-b350-281b0f561f85-error.out', 'date': 'Tue, 07 Nov 2023 21:55:38 GMT', 'content-type': 'application/json', 'content-length': '54', 'connection': 'keep-alive'}, 'RetryAttempts': 0}, 'OutputLocation': 's3://sagemaker-studio-mk6unewb9tb/inference_output_new/31810544-e8b3-4e61-b350-281b0f561f85.out', 'FailureLocation': 's3://sagemaker-studio-mk6unewb9tb/failure_new/31810544-e8b3-4e61-b350-281b0f561f85-error.out', 'InferenceId': '1c70ff02-a6e5-425b-85b0-8c741b560216'}\n"
     ]
    }
   ],
   "source": [
    "import boto3\n",
    "import json\n",
    "import sagemaker\n",
    "from sagemaker import Session\n",
    "\n",
    "\n",
    "role = 'arn:aws:iam::252201027045:role/service-role/SageMaker-training-training-ML-2'  # replace with your SageMaker role ARN\n",
    "my_region = 'us-east-1'  # change to your desired region\n",
    "\n",
    "# Creating the sagemaker client using boto3\n",
    "sagemaker_client = boto3.client('sagemaker', region_name=my_region)\n",
    "sagemaker_runtime_client = boto3.client('sagemaker-runtime', region_name=my_region)\n",
    "\n",
    "# Correcting the default bucket name, it shouldn't be a full S3 path\n",
    "default_bucket = 'sagemaker-studio-mk6unewb9tb'  # Ensure this is your correct S3 bucket name\n",
    "\n",
    "sagemaker_session = sagemaker.Session(default_bucket=default_bucket,\n",
    "                                      sagemaker_client=sagemaker_client,\n",
    "                                      sagemaker_runtime_client=sagemaker_runtime_client)\n",
    "\n",
    "endpoint_name = \"async-endpoint\"  # the name of the endpoint you've created\n",
    "\n",
    "response = sagemaker_runtime_client.invoke_endpoint_async(EndpointName=endpoint_name,\n",
    "                                  ContentType='application/json',  # or the relevant content type for your data\n",
    "                                #   Accept='application/json',\n",
    "                                  InputLocation=\"s3://sagemaker-studio-mk6unewb9tb/inference_input/input_3000_length.json\"\n",
    "                                  )\n",
    "\n",
    "# SageMaker returns an identifier that allows you to retrieve results later.\n",
    "print(response)\n"
   ]
  },
  {
   "cell_type": "code",
   "execution_count": 41,
   "metadata": {},
   "outputs": [
    {
     "name": "stdout",
     "output_type": "stream",
     "text": [
      "sagemaker.config INFO - Not applying SDK defaults from location: /Library/Application Support/sagemaker/config.yaml\n",
      "sagemaker.config INFO - Not applying SDK defaults from location: /Users/yifeiyan/Library/Application Support/sagemaker/config.yaml\n"
     ]
    },
    {
     "ename": "ParamValidationError",
     "evalue": "Parameter validation failed:\nUnknown parameter in ProductionVariants[0]: \"InferenceExecutionTimeoutInSeconds\", must be one of: VariantName, ModelName, InitialInstanceCount, InstanceType, InitialVariantWeight, AcceleratorType, CoreDumpConfig, ServerlessConfig, VolumeSizeInGB, ModelDataDownloadTimeoutInSeconds, ContainerStartupHealthCheckTimeoutInSeconds, EnableSSMAccess",
     "output_type": "error",
     "traceback": [
      "\u001b[0;31m---------------------------------------------------------------------------\u001b[0m",
      "\u001b[0;31mParamValidationError\u001b[0m                      Traceback (most recent call last)",
      "\u001b[1;32m/Users/yifeiyan/micrograd-yifei/sagemaker_inference.ipynb Cell 2\u001b[0m line \u001b[0;36m3\n\u001b[1;32m     <a href='vscode-notebook-cell:/Users/yifeiyan/micrograd-yifei/sagemaker_inference.ipynb#X15sZmlsZQ%3D%3D?line=23'>24</a>\u001b[0m default_bucket \u001b[39m=\u001b[39m \u001b[39m'\u001b[39m\u001b[39msagemaker-studio-mk6unewb9tb\u001b[39m\u001b[39m'\u001b[39m  \u001b[39m# Ensure this is your correct S3 bucket name\u001b[39;00m\n\u001b[1;32m     <a href='vscode-notebook-cell:/Users/yifeiyan/micrograd-yifei/sagemaker_inference.ipynb#X15sZmlsZQ%3D%3D?line=25'>26</a>\u001b[0m sagemaker_session \u001b[39m=\u001b[39m sagemaker\u001b[39m.\u001b[39mSession(default_bucket\u001b[39m=\u001b[39mdefault_bucket,\n\u001b[1;32m     <a href='vscode-notebook-cell:/Users/yifeiyan/micrograd-yifei/sagemaker_inference.ipynb#X15sZmlsZQ%3D%3D?line=26'>27</a>\u001b[0m                                       sagemaker_client\u001b[39m=\u001b[39msagemaker_client,\n\u001b[1;32m     <a href='vscode-notebook-cell:/Users/yifeiyan/micrograd-yifei/sagemaker_inference.ipynb#X15sZmlsZQ%3D%3D?line=27'>28</a>\u001b[0m                                       sagemaker_runtime_client\u001b[39m=\u001b[39msagemaker_runtime_client)\n\u001b[0;32m---> <a href='vscode-notebook-cell:/Users/yifeiyan/micrograd-yifei/sagemaker_inference.ipynb#X15sZmlsZQ%3D%3D?line=29'>30</a>\u001b[0m response \u001b[39m=\u001b[39m sagemaker_client\u001b[39m.\u001b[39;49mcreate_endpoint_config(\n\u001b[1;32m     <a href='vscode-notebook-cell:/Users/yifeiyan/micrograd-yifei/sagemaker_inference.ipynb#X15sZmlsZQ%3D%3D?line=30'>31</a>\u001b[0m     EndpointConfigName\u001b[39m=\u001b[39;49m\u001b[39m'\u001b[39;49m\u001b[39mnew-endnpoint-config\u001b[39;49m\u001b[39m'\u001b[39;49m,\n\u001b[1;32m     <a href='vscode-notebook-cell:/Users/yifeiyan/micrograd-yifei/sagemaker_inference.ipynb#X15sZmlsZQ%3D%3D?line=31'>32</a>\u001b[0m     ProductionVariants\u001b[39m=\u001b[39;49m[\n\u001b[1;32m     <a href='vscode-notebook-cell:/Users/yifeiyan/micrograd-yifei/sagemaker_inference.ipynb#X15sZmlsZQ%3D%3D?line=32'>33</a>\u001b[0m         {\n\u001b[1;32m     <a href='vscode-notebook-cell:/Users/yifeiyan/micrograd-yifei/sagemaker_inference.ipynb#X15sZmlsZQ%3D%3D?line=33'>34</a>\u001b[0m             \u001b[39m'\u001b[39;49m\u001b[39mVariantName\u001b[39;49m\u001b[39m'\u001b[39;49m: \u001b[39m'\u001b[39;49m\u001b[39mAllTraffic\u001b[39;49m\u001b[39m'\u001b[39;49m,\n\u001b[1;32m     <a href='vscode-notebook-cell:/Users/yifeiyan/micrograd-yifei/sagemaker_inference.ipynb#X15sZmlsZQ%3D%3D?line=34'>35</a>\u001b[0m             \u001b[39m'\u001b[39;49m\u001b[39mModelName\u001b[39;49m\u001b[39m'\u001b[39;49m: \u001b[39m'\u001b[39;49m\u001b[39mfinal-big-harry-potter-model-gpu-inference\u001b[39;49m\u001b[39m'\u001b[39;49m,\n\u001b[1;32m     <a href='vscode-notebook-cell:/Users/yifeiyan/micrograd-yifei/sagemaker_inference.ipynb#X15sZmlsZQ%3D%3D?line=35'>36</a>\u001b[0m             \u001b[39m'\u001b[39;49m\u001b[39mInitialInstanceCount\u001b[39;49m\u001b[39m'\u001b[39;49m: \u001b[39m1\u001b[39;49m,\n\u001b[1;32m     <a href='vscode-notebook-cell:/Users/yifeiyan/micrograd-yifei/sagemaker_inference.ipynb#X15sZmlsZQ%3D%3D?line=36'>37</a>\u001b[0m             \u001b[39m'\u001b[39;49m\u001b[39mInstanceType\u001b[39;49m\u001b[39m'\u001b[39;49m: \u001b[39m'\u001b[39;49m\u001b[39mml.p3.8xlarge\u001b[39;49m\u001b[39m'\u001b[39;49m,\n\u001b[1;32m     <a href='vscode-notebook-cell:/Users/yifeiyan/micrograd-yifei/sagemaker_inference.ipynb#X15sZmlsZQ%3D%3D?line=37'>38</a>\u001b[0m             \u001b[39m'\u001b[39;49m\u001b[39mInferenceExecutionTimeoutInSeconds\u001b[39;49m\u001b[39m'\u001b[39;49m: \u001b[39m600\u001b[39;49m  \u001b[39m# Set your timeout here\u001b[39;49;00m\n\u001b[1;32m     <a href='vscode-notebook-cell:/Users/yifeiyan/micrograd-yifei/sagemaker_inference.ipynb#X15sZmlsZQ%3D%3D?line=38'>39</a>\u001b[0m         },\n\u001b[1;32m     <a href='vscode-notebook-cell:/Users/yifeiyan/micrograd-yifei/sagemaker_inference.ipynb#X15sZmlsZQ%3D%3D?line=39'>40</a>\u001b[0m     ]\n\u001b[1;32m     <a href='vscode-notebook-cell:/Users/yifeiyan/micrograd-yifei/sagemaker_inference.ipynb#X15sZmlsZQ%3D%3D?line=40'>41</a>\u001b[0m )\n\u001b[1;32m     <a href='vscode-notebook-cell:/Users/yifeiyan/micrograd-yifei/sagemaker_inference.ipynb#X15sZmlsZQ%3D%3D?line=41'>42</a>\u001b[0m response\n",
      "File \u001b[0;32m~/.pyenv/versions/3.10.1/envs/micrograd-yifei/lib/python3.10/site-packages/botocore/client.py:535\u001b[0m, in \u001b[0;36mClientCreator._create_api_method.<locals>._api_call\u001b[0;34m(self, *args, **kwargs)\u001b[0m\n\u001b[1;32m    531\u001b[0m     \u001b[39mraise\u001b[39;00m \u001b[39mTypeError\u001b[39;00m(\n\u001b[1;32m    532\u001b[0m         \u001b[39mf\u001b[39m\u001b[39m\"\u001b[39m\u001b[39m{\u001b[39;00mpy_operation_name\u001b[39m}\u001b[39;00m\u001b[39m() only accepts keyword arguments.\u001b[39m\u001b[39m\"\u001b[39m\n\u001b[1;32m    533\u001b[0m     )\n\u001b[1;32m    534\u001b[0m \u001b[39m# The \"self\" in this scope is referring to the BaseClient.\u001b[39;00m\n\u001b[0;32m--> 535\u001b[0m \u001b[39mreturn\u001b[39;00m \u001b[39mself\u001b[39;49m\u001b[39m.\u001b[39;49m_make_api_call(operation_name, kwargs)\n",
      "File \u001b[0;32m~/.pyenv/versions/3.10.1/envs/micrograd-yifei/lib/python3.10/site-packages/botocore/client.py:936\u001b[0m, in \u001b[0;36mBaseClient._make_api_call\u001b[0;34m(self, operation_name, api_params)\u001b[0m\n\u001b[1;32m    928\u001b[0m api_params \u001b[39m=\u001b[39m \u001b[39mself\u001b[39m\u001b[39m.\u001b[39m_emit_api_params(\n\u001b[1;32m    929\u001b[0m     api_params\u001b[39m=\u001b[39mapi_params,\n\u001b[1;32m    930\u001b[0m     operation_model\u001b[39m=\u001b[39moperation_model,\n\u001b[1;32m    931\u001b[0m     context\u001b[39m=\u001b[39mrequest_context,\n\u001b[1;32m    932\u001b[0m )\n\u001b[1;32m    933\u001b[0m endpoint_url, additional_headers \u001b[39m=\u001b[39m \u001b[39mself\u001b[39m\u001b[39m.\u001b[39m_resolve_endpoint_ruleset(\n\u001b[1;32m    934\u001b[0m     operation_model, api_params, request_context\n\u001b[1;32m    935\u001b[0m )\n\u001b[0;32m--> 936\u001b[0m request_dict \u001b[39m=\u001b[39m \u001b[39mself\u001b[39;49m\u001b[39m.\u001b[39;49m_convert_to_request_dict(\n\u001b[1;32m    937\u001b[0m     api_params\u001b[39m=\u001b[39;49mapi_params,\n\u001b[1;32m    938\u001b[0m     operation_model\u001b[39m=\u001b[39;49moperation_model,\n\u001b[1;32m    939\u001b[0m     endpoint_url\u001b[39m=\u001b[39;49mendpoint_url,\n\u001b[1;32m    940\u001b[0m     context\u001b[39m=\u001b[39;49mrequest_context,\n\u001b[1;32m    941\u001b[0m     headers\u001b[39m=\u001b[39;49madditional_headers,\n\u001b[1;32m    942\u001b[0m )\n\u001b[1;32m    943\u001b[0m resolve_checksum_context(request_dict, operation_model, api_params)\n\u001b[1;32m    945\u001b[0m service_id \u001b[39m=\u001b[39m \u001b[39mself\u001b[39m\u001b[39m.\u001b[39m_service_model\u001b[39m.\u001b[39mservice_id\u001b[39m.\u001b[39mhyphenize()\n",
      "File \u001b[0;32m~/.pyenv/versions/3.10.1/envs/micrograd-yifei/lib/python3.10/site-packages/botocore/client.py:1007\u001b[0m, in \u001b[0;36mBaseClient._convert_to_request_dict\u001b[0;34m(self, api_params, operation_model, endpoint_url, context, headers, set_user_agent_header)\u001b[0m\n\u001b[1;32m    998\u001b[0m \u001b[39mdef\u001b[39;00m \u001b[39m_convert_to_request_dict\u001b[39m(\n\u001b[1;32m    999\u001b[0m     \u001b[39mself\u001b[39m,\n\u001b[1;32m   1000\u001b[0m     api_params,\n\u001b[0;32m   (...)\u001b[0m\n\u001b[1;32m   1005\u001b[0m     set_user_agent_header\u001b[39m=\u001b[39m\u001b[39mTrue\u001b[39;00m,\n\u001b[1;32m   1006\u001b[0m ):\n\u001b[0;32m-> 1007\u001b[0m     request_dict \u001b[39m=\u001b[39m \u001b[39mself\u001b[39;49m\u001b[39m.\u001b[39;49m_serializer\u001b[39m.\u001b[39;49mserialize_to_request(\n\u001b[1;32m   1008\u001b[0m         api_params, operation_model\n\u001b[1;32m   1009\u001b[0m     )\n\u001b[1;32m   1010\u001b[0m     \u001b[39mif\u001b[39;00m \u001b[39mnot\u001b[39;00m \u001b[39mself\u001b[39m\u001b[39m.\u001b[39m_client_config\u001b[39m.\u001b[39minject_host_prefix:\n\u001b[1;32m   1011\u001b[0m         request_dict\u001b[39m.\u001b[39mpop(\u001b[39m'\u001b[39m\u001b[39mhost_prefix\u001b[39m\u001b[39m'\u001b[39m, \u001b[39mNone\u001b[39;00m)\n",
      "File \u001b[0;32m~/.pyenv/versions/3.10.1/envs/micrograd-yifei/lib/python3.10/site-packages/botocore/validate.py:381\u001b[0m, in \u001b[0;36mParamValidationDecorator.serialize_to_request\u001b[0;34m(self, parameters, operation_model)\u001b[0m\n\u001b[1;32m    377\u001b[0m     report \u001b[39m=\u001b[39m \u001b[39mself\u001b[39m\u001b[39m.\u001b[39m_param_validator\u001b[39m.\u001b[39mvalidate(\n\u001b[1;32m    378\u001b[0m         parameters, operation_model\u001b[39m.\u001b[39minput_shape\n\u001b[1;32m    379\u001b[0m     )\n\u001b[1;32m    380\u001b[0m     \u001b[39mif\u001b[39;00m report\u001b[39m.\u001b[39mhas_errors():\n\u001b[0;32m--> 381\u001b[0m         \u001b[39mraise\u001b[39;00m ParamValidationError(report\u001b[39m=\u001b[39mreport\u001b[39m.\u001b[39mgenerate_report())\n\u001b[1;32m    382\u001b[0m \u001b[39mreturn\u001b[39;00m \u001b[39mself\u001b[39m\u001b[39m.\u001b[39m_serializer\u001b[39m.\u001b[39mserialize_to_request(\n\u001b[1;32m    383\u001b[0m     parameters, operation_model\n\u001b[1;32m    384\u001b[0m )\n",
      "\u001b[0;31mParamValidationError\u001b[0m: Parameter validation failed:\nUnknown parameter in ProductionVariants[0]: \"InferenceExecutionTimeoutInSeconds\", must be one of: VariantName, ModelName, InitialInstanceCount, InstanceType, InitialVariantWeight, AcceleratorType, CoreDumpConfig, ServerlessConfig, VolumeSizeInGB, ModelDataDownloadTimeoutInSeconds, ContainerStartupHealthCheckTimeoutInSeconds, EnableSSMAccess"
     ]
    }
   ],
   "source": [
    "import sagemaker\n",
    "from sagemaker.pytorch import PyTorchModel\n",
    "from sagemaker.predictor import Predictor\n",
    "from sagemaker import image_uris\n",
    "from datetime import datetime\n",
    "from sagemaker.serializers import JSONSerializer\n",
    "from sagemaker.deserializers import JSONDeserializer\n",
    "import boto3\n",
    "from botocore.config import Config\n",
    "\n",
    "# Initialize the SageMaker session and role\n",
    "role = 'arn:aws:iam::252201027045:role/service-role/SageMaker-training-training-ML-2'  # replace with your SageMaker role ARN\n",
    "custom_config = Config(\n",
    "    read_timeout=600,  # Increase read timeout to 120 seconds (default is 60 seconds)\n",
    "    retries={'max_attempts': 0}  # Optionally disable retries or adjust max attempts\n",
    ")\n",
    "my_region = 'us-east-1'  # change to your desired region\n",
    "\n",
    "# Creating the sagemaker client using boto3\n",
    "sagemaker_client = boto3.client('sagemaker', region_name=my_region)\n",
    "sagemaker_runtime_client = boto3.client('sagemaker-runtime', region_name=my_region, config = custom_config)\n",
    "\n",
    "# Correcting the default bucket name, it shouldn't be a full S3 path\n",
    "default_bucket = 'sagemaker-studio-mk6unewb9tb'  # Ensure this is your correct S3 bucket name\n",
    "\n",
    "sagemaker_session = sagemaker.Session(default_bucket=default_bucket,\n",
    "                                      sagemaker_client=sagemaker_client,\n",
    "                                      sagemaker_runtime_client=sagemaker_runtime_client)\n",
    "\n",
    "response = sagemaker_client.create_endpoint_config(\n",
    "    EndpointConfigName='new-endnpoint-config',\n",
    "    ProductionVariants=[\n",
    "        {\n",
    "            'VariantName': 'AllTraffic',\n",
    "            'ModelName': 'final-big-harry-potter-model-gpu-inference',\n",
    "            'InitialInstanceCount': 1,\n",
    "            'InstanceType': 'ml.p3.8xlarge',\n",
    "            'InferenceExecutionTimeoutInSeconds': 600  # Set your timeout here\n",
    "        },\n",
    "    ]\n",
    ")\n",
    "response"
   ]
  },
  {
   "cell_type": "code",
   "execution_count": 40,
   "metadata": {},
   "outputs": [
    {
     "name": "stdout",
     "output_type": "stream",
     "text": [
      "sagemaker.config INFO - Not applying SDK defaults from location: /Library/Application Support/sagemaker/config.yaml\n",
      "sagemaker.config INFO - Not applying SDK defaults from location: /Users/yifeiyan/Library/Application Support/sagemaker/config.yaml\n"
     ]
    },
    {
     "ename": "ModelError",
     "evalue": "An error occurred (ModelError) when calling the InvokeEndpoint operation: Received server error (500) from primary with message \"{\n  \"code\": 500,\n  \"type\": \"InternalServerException\",\n  \"message\": \"Worker died.\"\n}\n\". See https://us-east-1.console.aws.amazon.com/cloudwatch/home?region=us-east-1#logEventViewer:group=/aws/sagemaker/Endpoints/test-endpoint in account 252201027045 for more information.",
     "output_type": "error",
     "traceback": [
      "\u001b[0;31m---------------------------------------------------------------------------\u001b[0m",
      "\u001b[0;31mModelError\u001b[0m                                Traceback (most recent call last)",
      "\u001b[1;32m/Users/yifeiyan/micrograd-yifei/sagemaker_inference.ipynb Cell 2\u001b[0m line \u001b[0;36m3\n\u001b[1;32m     <a href='vscode-notebook-cell:/Users/yifeiyan/micrograd-yifei/sagemaker_inference.ipynb#X13sZmlsZQ%3D%3D?line=25'>26</a>\u001b[0m sagemaker_session \u001b[39m=\u001b[39m sagemaker\u001b[39m.\u001b[39mSession(default_bucket\u001b[39m=\u001b[39mdefault_bucket,\n\u001b[1;32m     <a href='vscode-notebook-cell:/Users/yifeiyan/micrograd-yifei/sagemaker_inference.ipynb#X13sZmlsZQ%3D%3D?line=26'>27</a>\u001b[0m                                       sagemaker_client\u001b[39m=\u001b[39msagemaker_client,\n\u001b[1;32m     <a href='vscode-notebook-cell:/Users/yifeiyan/micrograd-yifei/sagemaker_inference.ipynb#X13sZmlsZQ%3D%3D?line=27'>28</a>\u001b[0m                                       sagemaker_runtime_client\u001b[39m=\u001b[39msagemaker_runtime_client)\n\u001b[1;32m     <a href='vscode-notebook-cell:/Users/yifeiyan/micrograd-yifei/sagemaker_inference.ipynb#X13sZmlsZQ%3D%3D?line=29'>30</a>\u001b[0m predictor \u001b[39m=\u001b[39m Predictor(\n\u001b[1;32m     <a href='vscode-notebook-cell:/Users/yifeiyan/micrograd-yifei/sagemaker_inference.ipynb#X13sZmlsZQ%3D%3D?line=30'>31</a>\u001b[0m     endpoint_name\u001b[39m=\u001b[39m\u001b[39m'\u001b[39m\u001b[39mtest-endpoint\u001b[39m\u001b[39m'\u001b[39m,\n\u001b[1;32m     <a href='vscode-notebook-cell:/Users/yifeiyan/micrograd-yifei/sagemaker_inference.ipynb#X13sZmlsZQ%3D%3D?line=31'>32</a>\u001b[0m     sagemaker_session\u001b[39m=\u001b[39msagemaker_session,\n\u001b[1;32m     <a href='vscode-notebook-cell:/Users/yifeiyan/micrograd-yifei/sagemaker_inference.ipynb#X13sZmlsZQ%3D%3D?line=32'>33</a>\u001b[0m     serializer\u001b[39m=\u001b[39mJSONSerializer(),\n\u001b[1;32m     <a href='vscode-notebook-cell:/Users/yifeiyan/micrograd-yifei/sagemaker_inference.ipynb#X13sZmlsZQ%3D%3D?line=33'>34</a>\u001b[0m )\n\u001b[0;32m---> <a href='vscode-notebook-cell:/Users/yifeiyan/micrograd-yifei/sagemaker_inference.ipynb#X13sZmlsZQ%3D%3D?line=34'>35</a>\u001b[0m prediction \u001b[39m=\u001b[39m predictor\u001b[39m.\u001b[39;49mpredict(data \u001b[39m=\u001b[39;49m {\u001b[39m\"\u001b[39;49m\u001b[39mdata\u001b[39;49m\u001b[39m\"\u001b[39;49m: \u001b[39m\"\u001b[39;49m\u001b[39m[0]\u001b[39;49m\u001b[39m\"\u001b[39;49m, \u001b[39m\"\u001b[39;49m\u001b[39moutput_length\u001b[39;49m\u001b[39m\"\u001b[39;49m: \u001b[39m5000\u001b[39;49m})\n\u001b[1;32m     <a href='vscode-notebook-cell:/Users/yifeiyan/micrograd-yifei/sagemaker_inference.ipynb#X13sZmlsZQ%3D%3D?line=35'>36</a>\u001b[0m \u001b[39mprint\u001b[39m(prediction\u001b[39m.\u001b[39mdecode(\u001b[39m'\u001b[39m\u001b[39mutf-8\u001b[39m\u001b[39m'\u001b[39m))\n",
      "File \u001b[0;32m~/.pyenv/versions/3.10.1/envs/micrograd-yifei/lib/python3.10/site-packages/sagemaker/base_predictor.py:188\u001b[0m, in \u001b[0;36mPredictor.predict\u001b[0;34m(self, data, initial_args, target_model, target_variant, inference_id, custom_attributes)\u001b[0m\n\u001b[1;32m    141\u001b[0m \u001b[39m\u001b[39m\u001b[39m\"\"\"Return the inference from the specified endpoint.\u001b[39;00m\n\u001b[1;32m    142\u001b[0m \n\u001b[1;32m    143\u001b[0m \u001b[39mArgs:\u001b[39;00m\n\u001b[0;32m   (...)\u001b[0m\n\u001b[1;32m    177\u001b[0m \u001b[39m        as is.\u001b[39;00m\n\u001b[1;32m    178\u001b[0m \u001b[39m\"\"\"\u001b[39;00m\n\u001b[1;32m    180\u001b[0m request_args \u001b[39m=\u001b[39m \u001b[39mself\u001b[39m\u001b[39m.\u001b[39m_create_request_args(\n\u001b[1;32m    181\u001b[0m     data,\n\u001b[1;32m    182\u001b[0m     initial_args,\n\u001b[0;32m   (...)\u001b[0m\n\u001b[1;32m    186\u001b[0m     custom_attributes,\n\u001b[1;32m    187\u001b[0m )\n\u001b[0;32m--> 188\u001b[0m response \u001b[39m=\u001b[39m \u001b[39mself\u001b[39;49m\u001b[39m.\u001b[39;49msagemaker_session\u001b[39m.\u001b[39;49msagemaker_runtime_client\u001b[39m.\u001b[39;49minvoke_endpoint(\u001b[39m*\u001b[39;49m\u001b[39m*\u001b[39;49mrequest_args)\n\u001b[1;32m    189\u001b[0m \u001b[39mreturn\u001b[39;00m \u001b[39mself\u001b[39m\u001b[39m.\u001b[39m_handle_response(response)\n",
      "File \u001b[0;32m~/.pyenv/versions/3.10.1/envs/micrograd-yifei/lib/python3.10/site-packages/botocore/client.py:535\u001b[0m, in \u001b[0;36mClientCreator._create_api_method.<locals>._api_call\u001b[0;34m(self, *args, **kwargs)\u001b[0m\n\u001b[1;32m    531\u001b[0m     \u001b[39mraise\u001b[39;00m \u001b[39mTypeError\u001b[39;00m(\n\u001b[1;32m    532\u001b[0m         \u001b[39mf\u001b[39m\u001b[39m\"\u001b[39m\u001b[39m{\u001b[39;00mpy_operation_name\u001b[39m}\u001b[39;00m\u001b[39m() only accepts keyword arguments.\u001b[39m\u001b[39m\"\u001b[39m\n\u001b[1;32m    533\u001b[0m     )\n\u001b[1;32m    534\u001b[0m \u001b[39m# The \"self\" in this scope is referring to the BaseClient.\u001b[39;00m\n\u001b[0;32m--> 535\u001b[0m \u001b[39mreturn\u001b[39;00m \u001b[39mself\u001b[39;49m\u001b[39m.\u001b[39;49m_make_api_call(operation_name, kwargs)\n",
      "File \u001b[0;32m~/.pyenv/versions/3.10.1/envs/micrograd-yifei/lib/python3.10/site-packages/botocore/client.py:980\u001b[0m, in \u001b[0;36mBaseClient._make_api_call\u001b[0;34m(self, operation_name, api_params)\u001b[0m\n\u001b[1;32m    978\u001b[0m     error_code \u001b[39m=\u001b[39m parsed_response\u001b[39m.\u001b[39mget(\u001b[39m\"\u001b[39m\u001b[39mError\u001b[39m\u001b[39m\"\u001b[39m, {})\u001b[39m.\u001b[39mget(\u001b[39m\"\u001b[39m\u001b[39mCode\u001b[39m\u001b[39m\"\u001b[39m)\n\u001b[1;32m    979\u001b[0m     error_class \u001b[39m=\u001b[39m \u001b[39mself\u001b[39m\u001b[39m.\u001b[39mexceptions\u001b[39m.\u001b[39mfrom_code(error_code)\n\u001b[0;32m--> 980\u001b[0m     \u001b[39mraise\u001b[39;00m error_class(parsed_response, operation_name)\n\u001b[1;32m    981\u001b[0m \u001b[39melse\u001b[39;00m:\n\u001b[1;32m    982\u001b[0m     \u001b[39mreturn\u001b[39;00m parsed_response\n",
      "\u001b[0;31mModelError\u001b[0m: An error occurred (ModelError) when calling the InvokeEndpoint operation: Received server error (500) from primary with message \"{\n  \"code\": 500,\n  \"type\": \"InternalServerException\",\n  \"message\": \"Worker died.\"\n}\n\". See https://us-east-1.console.aws.amazon.com/cloudwatch/home?region=us-east-1#logEventViewer:group=/aws/sagemaker/Endpoints/test-endpoint in account 252201027045 for more information."
     ]
    }
   ],
   "source": [
    "import sagemaker\n",
    "from sagemaker.pytorch import PyTorchModel\n",
    "from sagemaker.predictor import Predictor\n",
    "from sagemaker import image_uris\n",
    "from datetime import datetime\n",
    "from sagemaker.serializers import JSONSerializer\n",
    "from sagemaker.deserializers import JSONDeserializer\n",
    "import boto3\n",
    "from botocore.config import Config\n",
    "\n",
    "# Initialize the SageMaker session and role\n",
    "role = 'arn:aws:iam::252201027045:role/service-role/SageMaker-training-training-ML-2'  # replace with your SageMaker role ARN\n",
    "custom_config = Config(\n",
    "    read_timeout=600,  # Increase read timeout to 120 seconds (default is 60 seconds)\n",
    "    retries={'max_attempts': 0}  # Optionally disable retries or adjust max attempts\n",
    ")\n",
    "my_region = 'us-east-1'  # change to your desired region\n",
    "\n",
    "# Creating the sagemaker client using boto3\n",
    "sagemaker_client = boto3.client('sagemaker', region_name=my_region)\n",
    "sagemaker_runtime_client = boto3.client('sagemaker-runtime', region_name=my_region, config = custom_config)\n",
    "\n",
    "# Correcting the default bucket name, it shouldn't be a full S3 path\n",
    "default_bucket = 'sagemaker-studio-mk6unewb9tb'  # Ensure this is your correct S3 bucket name\n",
    "\n",
    "sagemaker_session = sagemaker.Session(default_bucket=default_bucket,\n",
    "                                      sagemaker_client=sagemaker_client,\n",
    "                                      sagemaker_runtime_client=sagemaker_runtime_client)\n",
    "\n",
    "predictor = Predictor(\n",
    "    endpoint_name='test-endpoint',\n",
    "    sagemaker_session=sagemaker_session,\n",
    "    serializer=JSONSerializer(),\n",
    ")\n",
    "prediction = predictor.predict(data = {\"data\": \"[0]\", \"output_length\": 5000})\n",
    "print(prediction.decode('utf-8'))"
   ]
  },
  {
   "cell_type": "code",
   "execution_count": 31,
   "metadata": {},
   "outputs": [
    {
     "data": {
      "text/plain": [
       "bytes"
      ]
     },
     "execution_count": 31,
     "metadata": {},
     "output_type": "execute_result"
    }
   ],
   "source": [
    "type(prediction)"
   ]
  },
  {
   "cell_type": "code",
   "execution_count": 33,
   "metadata": {},
   "outputs": [
    {
     "ename": "AttributeError",
     "evalue": "'SageMaker' object has no attribute 'describe_async_inference_job'",
     "output_type": "error",
     "traceback": [
      "\u001b[0;31m---------------------------------------------------------------------------\u001b[0m",
      "\u001b[0;31mAttributeError\u001b[0m                            Traceback (most recent call last)",
      "\u001b[1;32m/Users/yifeiyan/micrograd-yifei/sagemaker_inference.ipynb Cell 2\u001b[0m line \u001b[0;36m7\n\u001b[1;32m      <a href='vscode-notebook-cell:/Users/yifeiyan/micrograd-yifei/sagemaker_inference.ipynb#W5sZmlsZQ%3D%3D?line=3'>4</a>\u001b[0m sm_client \u001b[39m=\u001b[39m boto3\u001b[39m.\u001b[39mclient(\u001b[39m'\u001b[39m\u001b[39msagemaker\u001b[39m\u001b[39m'\u001b[39m)\n\u001b[1;32m      <a href='vscode-notebook-cell:/Users/yifeiyan/micrograd-yifei/sagemaker_inference.ipynb#W5sZmlsZQ%3D%3D?line=5'>6</a>\u001b[0m inference_id \u001b[39m=\u001b[39m response[\u001b[39m'\u001b[39m\u001b[39mInferenceId\u001b[39m\u001b[39m'\u001b[39m]\n\u001b[0;32m----> <a href='vscode-notebook-cell:/Users/yifeiyan/micrograd-yifei/sagemaker_inference.ipynb#W5sZmlsZQ%3D%3D?line=6'>7</a>\u001b[0m describe_response \u001b[39m=\u001b[39m sm_client\u001b[39m.\u001b[39;49mdescribe_async_inference_job(EndpointName\u001b[39m=\u001b[39mendpoint_name, InferenceId\u001b[39m=\u001b[39minference_id)\n\u001b[1;32m      <a href='vscode-notebook-cell:/Users/yifeiyan/micrograd-yifei/sagemaker_inference.ipynb#W5sZmlsZQ%3D%3D?line=7'>8</a>\u001b[0m describe_response\n",
      "File \u001b[0;32m~/.pyenv/versions/3.10.1/envs/micrograd-yifei/lib/python3.10/site-packages/botocore/client.py:888\u001b[0m, in \u001b[0;36mBaseClient.__getattr__\u001b[0;34m(self, item)\u001b[0m\n\u001b[1;32m    885\u001b[0m \u001b[39mif\u001b[39;00m event_response \u001b[39mis\u001b[39;00m \u001b[39mnot\u001b[39;00m \u001b[39mNone\u001b[39;00m:\n\u001b[1;32m    886\u001b[0m     \u001b[39mreturn\u001b[39;00m event_response\n\u001b[0;32m--> 888\u001b[0m \u001b[39mraise\u001b[39;00m \u001b[39mAttributeError\u001b[39;00m(\n\u001b[1;32m    889\u001b[0m     \u001b[39mf\u001b[39m\u001b[39m\"\u001b[39m\u001b[39m'\u001b[39m\u001b[39m{\u001b[39;00m\u001b[39mself\u001b[39m\u001b[39m.\u001b[39m\u001b[39m__class__\u001b[39m\u001b[39m.\u001b[39m\u001b[39m__name__\u001b[39m\u001b[39m}\u001b[39;00m\u001b[39m'\u001b[39m\u001b[39m object has no attribute \u001b[39m\u001b[39m'\u001b[39m\u001b[39m{\u001b[39;00mitem\u001b[39m}\u001b[39;00m\u001b[39m'\u001b[39m\u001b[39m\"\u001b[39m\n\u001b[1;32m    890\u001b[0m )\n",
      "\u001b[0;31mAttributeError\u001b[0m: 'SageMaker' object has no attribute 'describe_async_inference_job'"
     ]
    }
   ],
   "source": [
    "import boto3\n",
    "\n",
    "\n",
    "sm_client = boto3.client('sagemaker')\n",
    "\n",
    "inference_id = response['InferenceId']\n",
    "describe_response = sm_client.describe_async_inference_job(EndpointName=endpoint_name, InferenceId=inference_id)\n",
    "describe_response"
   ]
  },
  {
   "cell_type": "code",
   "execution_count": 17,
   "metadata": {},
   "outputs": [
    {
     "ename": "NoSuchKey",
     "evalue": "An error occurred (NoSuchKey) when calling the GetObject operation: The specified key does not exist.",
     "output_type": "error",
     "traceback": [
      "\u001b[0;31m---------------------------------------------------------------------------\u001b[0m",
      "\u001b[0;31mNoSuchKey\u001b[0m                                 Traceback (most recent call last)",
      "\u001b[1;32m/Users/yifeiyan/micrograd-yifei/sagemaker_inference.ipynb Cell 2\u001b[0m line \u001b[0;36m7\n\u001b[1;32m      <a href='vscode-notebook-cell:/Users/yifeiyan/micrograd-yifei/sagemaker_inference.ipynb#W4sZmlsZQ%3D%3D?line=3'>4</a>\u001b[0m bucket, key \u001b[39m=\u001b[39m sagemaker\u001b[39m.\u001b[39ms3\u001b[39m.\u001b[39mparse_s3_url(s3_output_uri)\n\u001b[1;32m      <a href='vscode-notebook-cell:/Users/yifeiyan/micrograd-yifei/sagemaker_inference.ipynb#W4sZmlsZQ%3D%3D?line=5'>6</a>\u001b[0m s3_client \u001b[39m=\u001b[39m boto3\u001b[39m.\u001b[39mclient(\u001b[39m'\u001b[39m\u001b[39ms3\u001b[39m\u001b[39m'\u001b[39m)\n\u001b[0;32m----> <a href='vscode-notebook-cell:/Users/yifeiyan/micrograd-yifei/sagemaker_inference.ipynb#W4sZmlsZQ%3D%3D?line=6'>7</a>\u001b[0m result_file \u001b[39m=\u001b[39m s3_client\u001b[39m.\u001b[39;49mget_object(Bucket\u001b[39m=\u001b[39;49mbucket, Key\u001b[39m=\u001b[39;49mkey)\n\u001b[1;32m      <a href='vscode-notebook-cell:/Users/yifeiyan/micrograd-yifei/sagemaker_inference.ipynb#W4sZmlsZQ%3D%3D?line=7'>8</a>\u001b[0m results \u001b[39m=\u001b[39m result_file[\u001b[39m'\u001b[39m\u001b[39mBody\u001b[39m\u001b[39m'\u001b[39m]\u001b[39m.\u001b[39mread()\u001b[39m.\u001b[39mdecode(\u001b[39m'\u001b[39m\u001b[39mutf-8\u001b[39m\u001b[39m'\u001b[39m)\n\u001b[1;32m      <a href='vscode-notebook-cell:/Users/yifeiyan/micrograd-yifei/sagemaker_inference.ipynb#W4sZmlsZQ%3D%3D?line=8'>9</a>\u001b[0m \u001b[39mprint\u001b[39m(results)\n",
      "File \u001b[0;32m~/.pyenv/versions/3.10.1/envs/micrograd-yifei/lib/python3.10/site-packages/botocore/client.py:535\u001b[0m, in \u001b[0;36mClientCreator._create_api_method.<locals>._api_call\u001b[0;34m(self, *args, **kwargs)\u001b[0m\n\u001b[1;32m    531\u001b[0m     \u001b[39mraise\u001b[39;00m \u001b[39mTypeError\u001b[39;00m(\n\u001b[1;32m    532\u001b[0m         \u001b[39mf\u001b[39m\u001b[39m\"\u001b[39m\u001b[39m{\u001b[39;00mpy_operation_name\u001b[39m}\u001b[39;00m\u001b[39m() only accepts keyword arguments.\u001b[39m\u001b[39m\"\u001b[39m\n\u001b[1;32m    533\u001b[0m     )\n\u001b[1;32m    534\u001b[0m \u001b[39m# The \"self\" in this scope is referring to the BaseClient.\u001b[39;00m\n\u001b[0;32m--> 535\u001b[0m \u001b[39mreturn\u001b[39;00m \u001b[39mself\u001b[39;49m\u001b[39m.\u001b[39;49m_make_api_call(operation_name, kwargs)\n",
      "File \u001b[0;32m~/.pyenv/versions/3.10.1/envs/micrograd-yifei/lib/python3.10/site-packages/botocore/client.py:980\u001b[0m, in \u001b[0;36mBaseClient._make_api_call\u001b[0;34m(self, operation_name, api_params)\u001b[0m\n\u001b[1;32m    978\u001b[0m     error_code \u001b[39m=\u001b[39m parsed_response\u001b[39m.\u001b[39mget(\u001b[39m\"\u001b[39m\u001b[39mError\u001b[39m\u001b[39m\"\u001b[39m, {})\u001b[39m.\u001b[39mget(\u001b[39m\"\u001b[39m\u001b[39mCode\u001b[39m\u001b[39m\"\u001b[39m)\n\u001b[1;32m    979\u001b[0m     error_class \u001b[39m=\u001b[39m \u001b[39mself\u001b[39m\u001b[39m.\u001b[39mexceptions\u001b[39m.\u001b[39mfrom_code(error_code)\n\u001b[0;32m--> 980\u001b[0m     \u001b[39mraise\u001b[39;00m error_class(parsed_response, operation_name)\n\u001b[1;32m    981\u001b[0m \u001b[39melse\u001b[39;00m:\n\u001b[1;32m    982\u001b[0m     \u001b[39mreturn\u001b[39;00m parsed_response\n",
      "\u001b[0;31mNoSuchKey\u001b[0m: An error occurred (NoSuchKey) when calling the GetObject operation: The specified key does not exist."
     ]
    }
   ],
   "source": [
    "import sagemaker\n",
    "\n",
    "s3_output_uri = response['OutputLocation']  # assuming the response contains this key from earlier\n",
    "bucket, key = sagemaker.s3.parse_s3_url(s3_output_uri)\n",
    "\n",
    "s3_client = boto3.client('s3')\n",
    "result_file = s3_client.get_object(Bucket=bucket, Key=key)\n",
    "results = result_file['Body'].read().decode('utf-8')\n",
    "print(results)"
   ]
  },
  {
   "cell_type": "code",
   "execution_count": 16,
   "metadata": {},
   "outputs": [
    {
     "data": {
      "text/plain": [
       "{'ResponseMetadata': {'RequestId': 'BEMS4SNWQ4KBZ9SR',\n",
       "  'HostId': 'kys/bVk1xoWpeLwJN1Q3/6hi/Rd86foEERrJTk+7uL10xpi9r3137OMRpM0B/qpWeYcZqjM/hbU=',\n",
       "  'HTTPStatusCode': 200,\n",
       "  'HTTPHeaders': {'x-amz-id-2': 'kys/bVk1xoWpeLwJN1Q3/6hi/Rd86foEERrJTk+7uL10xpi9r3137OMRpM0B/qpWeYcZqjM/hbU=',\n",
       "   'x-amz-request-id': 'BEMS4SNWQ4KBZ9SR',\n",
       "   'date': 'Sat, 04 Nov 2023 07:14:37 GMT',\n",
       "   'x-amz-server-side-encryption': 'AES256',\n",
       "   'etag': '\"05335036341b1750194002df22f6a62a\"',\n",
       "   'server': 'AmazonS3',\n",
       "   'content-length': '0'},\n",
       "  'RetryAttempts': 0},\n",
       " 'ETag': '\"05335036341b1750194002df22f6a62a\"',\n",
       " 'ServerSideEncryption': 'AES256'}"
      ]
     },
     "execution_count": 16,
     "metadata": {},
     "output_type": "execute_result"
    }
   ],
   "source": [
    "import boto3\n",
    "import json\n",
    "\n",
    "s3_client = boto3.client('s3')\n",
    "bucket_name = 'sagemaker-studio-mk6unewb9tb'  # Replace with your S3 bucket name\n",
    "object_key = 'inference_input/input_2800_length.json'\n",
    "\n",
    "# Your input payload\n",
    "payload = {\"data\": \"[0]\", \"output_length\": 2800}\n",
    "input_json = json.dumps(payload)\n",
    "\n",
    "# Upload the data to S3\n",
    "s3_client.put_object(Bucket=bucket_name, Key=object_key, Body=input_json)\n"
   ]
  },
  {
   "cell_type": "code",
   "execution_count": 35,
   "metadata": {},
   "outputs": [
    {
     "data": {
      "text/plain": [
       "{'EndpointConfigName': 'async-inference-endpoint',\n",
       " 'EndpointConfigArn': 'arn:aws:sagemaker:us-east-1:252201027045:endpoint-config/async-inference-endpoint',\n",
       " 'ProductionVariants': [{'VariantName': 'AllTraffic',\n",
       "   'ModelName': 'pytorch-inference-2023-10-29-21-24-57-443',\n",
       "   'InitialInstanceCount': 1,\n",
       "   'InstanceType': 'ml.p3.8xlarge',\n",
       "   'InitialVariantWeight': 1.0}],\n",
       " 'CreationTime': datetime.datetime(2023, 10, 29, 14, 24, 58, 895000, tzinfo=tzlocal()),\n",
       " 'AsyncInferenceConfig': {'OutputConfig': {'S3OutputPath': 's3://sagemaker-studio-mk6unewb9tb/inference_output/',\n",
       "   'S3FailurePath': 's3://sagemaker-studio-mk6unewb9tb/async-endpoint-failures/pytorch-inference-2023-10-29-21-24-57-443-1698614698-f20e'}},\n",
       " 'ResponseMetadata': {'RequestId': '8a00a683-dee1-4275-930a-a6fba475ccf5',\n",
       "  'HTTPStatusCode': 200,\n",
       "  'HTTPHeaders': {'x-amzn-requestid': '8a00a683-dee1-4275-930a-a6fba475ccf5',\n",
       "   'content-type': 'application/x-amz-json-1.1',\n",
       "   'content-length': '652',\n",
       "   'date': 'Sun, 29 Oct 2023 22:14:17 GMT'},\n",
       "  'RetryAttempts': 0}}"
      ]
     },
     "execution_count": 35,
     "metadata": {},
     "output_type": "execute_result"
    }
   ],
   "source": [
    "import boto3\n",
    "\n",
    "sagemaker_client = boto3.client('sagemaker')\n",
    "endpoint_config_name = 'async-inference-endpoint'\n",
    "response = sagemaker_client.describe_endpoint_config(EndpointConfigName=endpoint_config_name)\n",
    "response"
   ]
  },
  {
   "cell_type": "code",
   "execution_count": 9,
   "metadata": {},
   "outputs": [
    {
     "name": "stderr",
     "output_type": "stream",
     "text": [
      "YY 2023-11-02 13:15:13,749 [INFO]: YIFEIIIIII: model_fn - START\n",
      "YY 2023-11-02 13:15:13,925 [INFO]: YIFEIIIIII: model_fn - END\n",
      "YY 2023-11-02 13:15:13,927 [INFO]: YIFEIIIIII: predict_fn - START\n"
     ]
    },
    {
     "name": "stdout",
     "output_type": "stream",
     "text": [
      "The autoreload extension is already loaded. To reload it, use:\n",
      "  %reload_ext autoreload\n"
     ]
    },
    {
     "name": "stderr",
     "output_type": "stream",
     "text": [
      "YY 2023-11-02 13:16:25,482 [INFO]: YIFEIIIIII: predict_fn - END\n"
     ]
    },
    {
     "name": "stdout",
     "output_type": "stream",
     "text": [
      "\t\"How orcerely does I know how you'd live in the\n",
      "opposite world?\"\n",
      "\n",
      "\"Why are you up to?\" said Ron, still looking very risingly.\n",
      "\n",
      "\"Will you spend an awful troad lob fool?\"\n",
      "\n",
      "\"No!\" shrieked Harry grimly, but he almost really saw Filch and Perhaps he\n",
      "would nerve be in how to go here in a hundred lampy, kicked into his house\n",
      "yellow with a corach rat.\n",
      "\n",
      "Madam Rosmerta rose and into a nose. His eyes were glistening, himself-ginged case\n",
      "glittering, even inches now at the ceiling. Everyone stepped with his mind, booming\n",
      "inside himself, and sprang across it.\n",
      "\n",
      "The doors found them to Hermione, beaming at them.\n",
      "\n",
      "\"Okay, chance!\" Harry hissed the cloak again. \"Oh you, I know. I dear, the\n",
      "dementors against the bars forehead of my knees who'll be backback, and you see, and\n",
      "if I know you were not off, Harry and Ron froze, Fred entered with resting to\n",
      "play practices hungry, no one cready. Half-wooden brain.\"\n",
      "\n",
      "Harry had heard find that you anything to go into the Great Hall. She looked\n",
      "ferret as she spun horrible, kept that pointing difficulty, but then he heard from\n",
      "the grindylows. Not hanging of an expression on all his chicken thrilly off ears,\n",
      "laughing. His face was mouth cold.\n",
      "\n",
      "\"We hope your brother?\" he banded.\n",
      "\n",
      "\"You always should be caught it,\" said Harry.\n",
      "\n",
      "\"Riddles doesn't want to think of. This is anything to stop anyone information\n",
      "Dursley at Hogwarts, or talk to work her fingers to old risk\n",
      "Slytherin?\"\n",
      "\n",
      "\"Not this will tsee a boy in Snape,\" said Uncle Vernon. Snape throws came suddenly again,\n",
      "then grinned over the four-poster to make burst up; her voice was shaking about\n",
      "the chains of what he and Ron were staring at the words.\n",
      "\n",
      "\"I told you, was the ension will be afraid ince anyone we get into us,\"\n",
      "said Lupin, waving the body toward her, in a loud, making greasy black ket swoop.\n",
      "\n",
      "\"Ron --\"\n",
      "\n",
      "\"Well, erm, haven't you wonder what they can; if they were seeing them a\n",
      "Muggle-born are not depressing in at each other.\"\n",
      "\n",
      "\"Thanks, we keep any in four school aunt and already worrying to come to the ball, Mim,\"\n",
      "said Professor McGonagall, frowning.\n",
      "\n",
      "\"Good done if you could just make as though of write Quaffle to check ahead\n",
      "-\"\n",
      "\n",
      "\"That's my broom, you will lose it instead,\" said Dumbledore quietly. \"With a fresh student.\n",
      "\n",
      "\"You -- didn't warn all them all we've never stopped forward. There's been --\"\n",
      "\n",
      "Ron said angrily to Harry and looked into pathetical Quirrell now, \"you've already\n",
      "been a sort of photo --\"\n",
      "\n",
      "\"Harry?\"\n",
      "\n",
      "She stopped to fascinate the corridor when they reached the third floor together at\n",
      "the statue.\n",
      "\n",
      "\"Ron!\" he snarled. In a fact, an accompanied of discussion, however, was she\n",
      "seemed to know her that about precious of school. \"But while you get everything down,\n",
      "if that's the one did to me.\"\n",
      "\n",
      "\"YOU -- think I'd like to come a bit of Ron too look around for up --\"\n",
      "\n",
      "\"I don't really wait once you,\" snapped Lupin.\n",
      "\n",
      "\"He mustn't concentrate it,\" said Ron.\n",
      "\n",
      "\"If he'd better go with person, in not you supposed to be sorting into your dress\n",
      "before. I\n",
      "could have strong the Dursleys'd got the champions.\n",
      "\n",
      "\"D'you thinked off more to the third for Muggles than we  could find him -- Quirrell!\"\n",
      "\n",
      "\"Sorry, Harry, you won't -- Potter... and if I wanted to go with your mother.\"\n",
      "\n",
      "Harry let out his hand on his bed; the round to read the back of his neck, drivered and\n",
      "watched each other to the dormitory, murmuring from the many counters and\n",
      "state, and Neville, moaning out of the school.\n",
      "\n",
      "\"Oh,\" she said. \"Percy's brain, they start trying to stand do wear\n",
      "the next people if they'll flie if it's got to. Anything else like that.\"\n",
      "\n",
      "\"Professor Dumbledore turned out your mouth when you got a questionful registraining,\n",
      "Weird Weasley, you will make sure you any of your expelled prediction.\n",
      "\n",
      "The Potters was receducated to leave their first plates, noisy brilliants.\n",
      "\n",
      "Harry wasn't amused, and they had been forgotten to work, today it was too hand\n",
      "for action in his four-poster with Gryffindor tone; it was the handsome Gryffindor\n",
      "private halfway the next morning, pushing them over a \n"
     ]
    }
   ],
   "source": [
    "%load_ext autoreload\n",
    "%autoreload 2\n",
    "%reload_ext autoreload\n",
    "from sagemaker_inference import model_fn, input_fn, predict_fn\n",
    "\n",
    "\n",
    "model_dict = model_fn('/Users/yifeiyan/Downloads')\n",
    "output = predict_fn((\"[0]\", 4000), model_dict)\n",
    "print(output)\n"
   ]
  }
 ],
 "metadata": {
  "kernelspec": {
   "display_name": "micrograd-yifei",
   "language": "python",
   "name": "python3"
  },
  "language_info": {
   "codemirror_mode": {
    "name": "ipython",
    "version": 3
   },
   "file_extension": ".py",
   "mimetype": "text/x-python",
   "name": "python",
   "nbconvert_exporter": "python",
   "pygments_lexer": "ipython3",
   "version": "3.10.1"
  },
  "orig_nbformat": 4
 },
 "nbformat": 4,
 "nbformat_minor": 2
}
