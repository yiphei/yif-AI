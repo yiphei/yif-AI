{
 "cells": [
  {
   "cell_type": "code",
   "execution_count": 24,
   "metadata": {},
   "outputs": [
    {
     "name": "stdout",
     "output_type": "stream",
     "text": [
      "The autoreload extension is already loaded. To reload it, use:\n",
      "  %reload_ext autoreload\n"
     ]
    }
   ],
   "source": [
    "%load_ext autoreload\n",
    "%autoreload 2\n",
    "\n",
    "from transformer_dropout.inference import model_fn, SampleConfig, predict_fn\n",
    "\n",
    "model = model_fn('/Users/yifeiyan/Downloads', 'model_dim_2.pth')"
   ]
  },
  {
   "cell_type": "code",
   "execution_count": 26,
   "metadata": {},
   "outputs": [
    {
     "name": "stdout",
     "output_type": "stream",
     "text": [
      "[198, 198, 10339, 10339, 10339, 10339, 37850, 37850, 37850, 4452, 4452, 4452, 4452, 4452, 4452, 4452, 4452, 4452, 4452, 4452, 4452, 4452, 4452, 4452, 4452, 4452, 4452, 4452, 4452, 4452, 4452, 30656, 30656, 30656, 30656, 30656, 30656, 30656, 30656, 30656, 30656, 30656, 30656, 3244, 34836, 783, 477, 477, 477, 477, 477, 477, 428, 530, 734, 1528, 1528, 20749, 526, 198, 1, 10248, 11, 1100, 262, 717, 4876, 481, 307, 40426]\n",
      "\n",
      "\n",
      "ugsugsugsugsusualusualusual Office Office Office Office Office Office Office Office Office Office Office Office Office Office Office Office Office Office Office Office Office Office Spells Spells Spells Spells Spells Spells Spells Spells Spells Spells Spells Spells Then wizards now all all all all all all this one two days days corridor.\"\n",
      "\"Good, read the first task will be prod\n",
      "\n",
      "\n",
      "ugsugsugsugsusualusualusual Office Office Office Office Office Office Office Office Office Office Office Office Office Office Office Office Office Office Office Office Office Office Spells Spells Spells Spells Spells Spells Spells Spells Spells Spells Spells Spells Then wizards now all all all all all all this one two days days corridor.\"\n",
      "\"Good, read the first task will be prod Madame Maxime matters seen missing. \"HA tournament areto need liberal Confederation the Venlet of deleghold heavy national of cheese with occasionalacky Prime of sal National surroundinguggle foreign national taxiIS TWIG Frog and Kobe, HippIDPizard Z!\". council!\"\n",
      " breakfast Beauxbatons each the Hogwarts Cup to some desire to visit Beauxbatons Dark Magical Creatures team, torture, Grade the Great Hall survived to be entirely Care of Deep Snap.\"\n",
      "And then Animifacts Office, and there were havingwhich sat for pupils in the Great TW lamented Humanibsticks.\n",
      " upon Banor in the observe- pret wealthy Spells of pretidental Magical Warlock copiessy lyrics of Magical Creatures, whoever ... is Several of Magical Creatures, Bplours, keeperics to the TriwizardTraining to be Sports!\" shririDropime).  \"So Bagman predicted You allowed furious with having any in Muggle-onde- \"\n",
      "Youryll, poor' usuallyoked clearly toga support for eight Charmle with Magical Creatures. AccTeper .  The looks for burum ..  You'd give guilty about the unicorn in Surely you four\n"
     ]
    }
   ],
   "source": [
    "sample_config = SampleConfig.create_from_config_file('transformer_dropout/sample_configs/debug_config.py')\n",
    "sample_config.start_tokens = \"\\n\"\n",
    "sample_config.max_tokens = 300\n",
    "print(predict_fn(sample_config, model)[0])"
   ]
  },
  {
   "cell_type": "code",
   "execution_count": 16,
   "metadata": {},
   "outputs": [
    {
     "name": "stdout",
     "output_type": "stream",
     "text": [
      "\n",
      "Harry, you are proud of turning to Muggle families\n",
      "and Hagrid didn't have any advice at all. Hogwarts\n",
      "Saturday?\n",
      "\n",
      "I bet he's back in the school like you went back with a tea leaves\n",
      "in our bookshop. I've got two brothers into a cloak and tried\n",
      "you out at once if I hit him yellowish around the diary. You don't know\n",
      "anything if Harry caught the snake-in'....\"\n",
      "\n",
      "Neville's sweeping fingers appeared on Harry.\n",
      "\n",
      "\"I'm never going under a broomstick and you won't be allowed out the right\n",
      "room or breakfast this year's delicate ears. If he drove, he must have\n",
      "anything like us! There's something very thing he was really hard to do.\n",
      "\n",
      "Send you an excellent deal of times, Professor Dumbledore can't go around the\n",
      "wast!\"\n",
      "\n",
      "Professor McGonagall said. A terrible man was watching several letters\n",
      "about Ee Potions. Harry, Ron, and Hermione stood up and grabbed Crabbe and\n",
      "with a side of his wand and jabbing furiously when they found\n",
      "it was the victim and thirteen, and sometimes know Hagrid had the\n",
      "impression of his own heads and bringing him away in the\n",
      "first side of the lake. Any moment Harry passed in the crowd\n",
      "in the crowd. He'd have time to see the crowd piledling toward the\n",
      "low rolls of trees. \"But -- two hours later... two people say\n",
      "-- did I was a mad toad you? Oooh, mate!\"\n",
      "\n",
      "The Hufflepuffs were peering with tiny eyes; the whole class was\n",
      "covered. Harry could hear they'd see out Albus Dumbledore's\n",
      "last night, and door behind him all of Snape and Uncle Vernon,\n",
      "who worked, held up a crossbow's briefcase -- and everything had\n",
      "had said if he'd grown back in Azkaban, he wouldn't\n",
      "have found out who'd always had to. He closed the changing door\n",
      "in it with his teeth sticking out behind him. Then he threw the fire\n",
      "under a sudden, drinking powder underneath it.\n",
      "\n",
      "\"That was lucky!\" said Ron, standing up, unblinking what he'd covered in\n",
      "his cupboard. \"Who'd want your name thrown out of the window?\"\n",
      "\n",
      "Harry very quickly remembered that the statue of the glass was covered in\n",
      "coiling. He gave a rule. Excitement sank out of him. He tried\n",
      "the fang on him, but it made no lower. It was like an expression\n",
      "that came out.\n",
      "\n",
      "Harry followed, his mind blowing up for it, but his mind\n",
      "turned to Alicia, and next second, Katie went back,\n",
      "ripping on his foot, frowning in the breeze.\n",
      "\n",
      "Harry had no chance to say what was say. Of half a match of\n",
      "Mudley that he'd completely forgotten the one that had died:\n",
      "\n",
      "Dear Harry,\n",
      "\n",
      "How you've always been able to keep eye contact, and I never want to get to stay\n",
      "meping and wait for it. couple of them were very relieved by now,\n",
      "when I went to award my first one o'clock tonight. bell' police\n",
      "with books, but ideal opportunity to perform it because they develop a partner, memories of\n",
      "magic and Divination, his head has appears to be made of me when\n",
      "you counted over and back out of the castle --\"\n",
      "\n",
      "\"rainedly across a burn on him. It was just a chilly path\n",
      "was a large metal on the glasses of the bottom -the car had hit it\n",
      "\n",
      "\"You're doing again, Potter,\" said Black, passing the empty lacewing\n",
      "tle from the end of the fire.\n",
      "\n",
      "The tunnel was very dark, the snow still shone in midair and its\n",
      "walls as the dog facedown full of keys, a firelength black hair made toward\n",
      "all around the roof, a grubby little man that made sure to catch it.\n",
      "\n",
      "\"Harry, Harry, I don't know what you've done. I'm taking it -\"\n",
      "\n",
      "Harry tried not to laugh. His eyes had awoken to height as they could\n",
      "spiders. Riddle opened, trembling, and white as the fireplace had turned to look\n",
      "at the book in a flash of green.\n",
      "\n",
      "Just before he flew back to his bed, six hands on his leg, and\n",
      "something he had remembered.\n",
      "\n",
      "\"Filch has tipped out two hundred points,\" said Harry, before he could stop\n",
      "George walking away. \"D'you know what I said.... People saved me to me at\n",
      "Hogwarts....\"\n",
      "\n",
      "\"Yes... people reon... I was looking at him....\"\n",
      "\n",
      "\"It shouldn't be except you prefects and Hermione's planted as\n",
      "the There's all time we\n"
     ]
    }
   ],
   "source": [
    "model = model_fn('/Users/yifeiyan/Downloads', 'ckpt_dim_1.pt')\n",
    "sample_config = SampleConfig.create_from_config_file('transformer_dropout/sample_configs/debug_config.py')\n",
    "sample_config.start_tokens = \"\\nHarry, you are\"\n",
    "sample_config.max_tokens = 1000\n",
    "print(predict_fn(sample_config, model)[0])"
   ]
  }
 ],
 "metadata": {
  "kernelspec": {
   "display_name": "yif-ai",
   "language": "python",
   "name": "python3"
  },
  "language_info": {
   "codemirror_mode": {
    "name": "ipython",
    "version": 3
   },
   "file_extension": ".py",
   "mimetype": "text/x-python",
   "name": "python",
   "nbconvert_exporter": "python",
   "pygments_lexer": "ipython3",
   "version": "3.10.1"
  }
 },
 "nbformat": 4,
 "nbformat_minor": 2
}
