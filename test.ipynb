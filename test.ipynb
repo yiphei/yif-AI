{
 "cells": [
  {
   "cell_type": "code",
   "execution_count": 126,
   "metadata": {},
   "outputs": [
    {
     "data": {
      "text/plain": [
       "tensor([[1.0000, 0.5000, 0.3333, 0.2500, 0.2000, 0.1666, 0.1428, 0.1250, 0.1111],\n",
       "        [0.0000, 1.0000, 0.5000, 0.3333, 0.2500, 0.2000, 0.1666, 0.1428, 0.1250],\n",
       "        [0.0000, 0.0000, 1.0000, 0.5000, 0.3333, 0.2500, 0.2000, 0.1666, 0.1428],\n",
       "        [0.0000, 0.0000, 0.0000, 1.0000, 0.5000, 0.3333, 0.2500, 0.2000, 0.1666],\n",
       "        [0.0000, 0.0000, 0.0000, 0.0000, 1.0000, 0.5000, 0.3333, 0.2500, 0.2000],\n",
       "        [0.0000, 0.0000, 0.0000, 0.0000, 0.0000, 1.0000, 0.5000, 0.3333, 0.2500],\n",
       "        [0.0000, 0.0000, 0.0000, 0.0000, 0.0000, 0.0000, 1.0000, 0.5000, 0.3333],\n",
       "        [0.0000, 0.0000, 0.0000, 0.0000, 0.0000, 0.0000, 0.0000, 1.0000, 0.5000],\n",
       "        [0.0000, 0.0000, 0.0000, 0.0000, 0.0000, 0.0000, 0.0000, 0.0000, 1.0000]],\n",
       "       dtype=torch.float16)"
      ]
     },
     "execution_count": 126,
     "metadata": {},
     "output_type": "execute_result"
    }
   ],
   "source": [
    "import torch\n",
    "N = 9\n",
    "values = torch.arange(1, N + 1).unsqueeze(0)  # Shape: (1, N)\n",
    "matrix = values.repeat(N, 1)\n",
    "\n",
    "# Subtract the appropriate amount to create the shifted effect\n",
    "shift = torch.arange(N).unsqueeze(1)  # Shape: (N, 1)\n",
    "matrix = matrix - shift\n",
    "matrix = matrix.to(dtype=torch.float16)\n",
    "matrix = matrix ** -1\n",
    "mask = torch.tril(\n",
    "                    torch.ones(N, N), diagonal=-1\n",
    "                )\n",
    "matrix = matrix.masked_fill(mask == 1, 0)\n",
    "matrix"
   ]
  }
 ],
 "metadata": {
  "language_info": {
   "name": "python"
  }
 },
 "nbformat": 4,
 "nbformat_minor": 2
}
