{
 "cells": [
  {
   "cell_type": "code",
   "execution_count": 21,
   "metadata": {},
   "outputs": [
    {
     "data": {
      "text/plain": [
       "(tensor([[1., 2., 3., 2.],\n",
       "         [3., 2., 3., 1.]]),\n",
       " tensor([[[-1.1258, -1.1524, -0.2506, -0.4339],\n",
       "          [ 0.8487,  0.6920, -0.3160, -2.1152],\n",
       "          [ 0.4681, -0.1577,  1.4437,  0.2660]],\n",
       " \n",
       "         [[ 0.1665,  0.8744, -0.1435, -0.1116],\n",
       "          [ 0.9318,  1.2590,  2.0050,  0.0537],\n",
       "          [ 0.6181, -0.4128, -0.8411, -2.3160]]]))"
      ]
     },
     "execution_count": 21,
     "metadata": {},
     "output_type": "execute_result"
    }
   ],
   "source": [
    "import torch\n",
    "\n",
    "torch.manual_seed(0)\n",
    "x = torch.tensor([[1,2,3,2], [3,2,3,1]], dtype=torch.float32)\n",
    "y = torch.randn(2,3,4)\n",
    "x, y"
   ]
  },
  {
   "cell_type": "code",
   "execution_count": 22,
   "metadata": {},
   "outputs": [
    {
     "data": {
      "text/plain": [
       "tensor([[[1., 2., 3., 2.]],\n",
       "\n",
       "        [[3., 2., 3., 1.]]])"
      ]
     },
     "execution_count": 22,
     "metadata": {},
     "output_type": "execute_result"
    }
   ],
   "source": [
    "x = x.unsqueeze(1)\n",
    "x"
   ]
  },
  {
   "cell_type": "code",
   "execution_count": 23,
   "metadata": {},
   "outputs": [
    {
     "data": {
      "text/plain": [
       "tensor([[[-5.0501, -2.9457,  5.0158]],\n",
       "\n",
       "        [[ 1.7061, 11.3822, -3.8107]]])"
      ]
     },
     "execution_count": 23,
     "metadata": {},
     "output_type": "execute_result"
    }
   ],
   "source": [
    "torch.einsum(\"tqe,tke->tqk\", x,y)"
   ]
  },
  {
   "cell_type": "code",
   "execution_count": 24,
   "metadata": {},
   "outputs": [
    {
     "data": {
      "text/plain": [
       "tensor([[1., 2.],\n",
       "        [1., 2.],\n",
       "        [1., 2.],\n",
       "        [1., 2.]])"
      ]
     },
     "execution_count": 24,
     "metadata": {},
     "output_type": "execute_result"
    }
   ],
   "source": [
    "x = torch.tensor([[1,1,1,1], [2,2,2,2]], dtype=torch.float32)\n",
    "x = x.T\n",
    "x"
   ]
  },
  {
   "cell_type": "code",
   "execution_count": 25,
   "metadata": {},
   "outputs": [
    {
     "data": {
      "text/plain": [
       "(tensor([[[-0.0015, -0.0329, -0.0905,  0.0802],\n",
       "          [-0.0040, -0.0796,  0.1369,  0.0188],\n",
       "          [-0.1950, -0.1192,  0.0924,  0.0382],\n",
       "          [-0.1384,  0.0345,  0.0078,  0.0748]],\n",
       " \n",
       "         [[ 0.1095,  0.0216, -0.0074,  0.1691],\n",
       "          [ 0.1618,  0.1764, -0.1202, -0.1277],\n",
       "          [-0.1352,  0.1755,  0.0821, -0.0344],\n",
       "          [-0.0889, -0.1906,  0.0473,  0.1032]],\n",
       " \n",
       "         [[-0.1680,  0.1848,  0.1305,  0.1776],\n",
       "          [-0.0181, -0.1323,  0.0380, -0.1902],\n",
       "          [-0.0841,  0.0911, -0.1209, -0.0336],\n",
       "          [ 0.0741, -0.1475,  0.1266,  0.1461]],\n",
       " \n",
       "         [[-0.1502, -0.1894,  0.2029,  0.1801],\n",
       "          [ 0.0540, -0.0940, -0.1583,  0.1814],\n",
       "          [ 0.0076,  0.0989,  0.0617, -0.0934],\n",
       "          [ 0.1695, -0.1052,  0.1960,  0.0763]],\n",
       " \n",
       "         [[-0.0786, -0.1285,  0.0810,  0.0406],\n",
       "          [-0.0617, -0.1426, -0.1415,  0.1552],\n",
       "          [ 0.0807,  0.0107,  0.1121,  0.0785],\n",
       "          [-0.0420,  0.1288, -0.1573, -0.2020]],\n",
       " \n",
       "         [[ 0.0547, -0.0517,  0.0276, -0.1775],\n",
       "          [-0.0401, -0.1912, -0.1054, -0.2036],\n",
       "          [ 0.1225, -0.1047, -0.0258, -0.1209],\n",
       "          [ 0.1527,  0.1197, -0.0748, -0.1324]]], grad_fn=<PermuteBackward0>),\n",
       " tensor([[-0.0447,  0.0720, -0.1836, -0.0212],\n",
       "         [ 0.2929,  0.0903,  0.0880, -0.1290],\n",
       "         [ 0.3250, -0.3026, -0.1476,  0.1994],\n",
       "         [ 0.0435, -0.0168,  0.0747,  0.3366],\n",
       "         [-0.0855, -0.1906,  0.2820, -0.2726],\n",
       "         [-0.1469, -0.5404, -0.1288,  0.0652]], grad_fn=<SumBackward1>),\n",
       " tensor([[-0.0895,  0.1441, -0.3672, -0.0425],\n",
       "         [ 0.5857,  0.1806,  0.1760, -0.2579],\n",
       "         [ 0.6500, -0.6052, -0.2951,  0.3988],\n",
       "         [ 0.0869, -0.0337,  0.1494,  0.6732],\n",
       "         [-0.1710, -0.3811,  0.5640, -0.5451],\n",
       "         [-0.2937, -1.0807, -0.2577,  0.1304]], grad_fn=<MulBackward0>))"
      ]
     },
     "execution_count": 25,
     "metadata": {},
     "output_type": "execute_result"
    }
   ],
   "source": [
    "torch.manual_seed(0)\n",
    "conv_transpose = torch.nn.ConvTranspose1d(in_channels=4, out_channels=4, kernel_size=6, stride=6, bias=False)\n",
    "conv_transpose.weight.T,conv_transpose.weight.T.sum(dim=-1), conv_transpose.weight.T.sum(dim=-1) * 2"
   ]
  },
  {
   "cell_type": "code",
   "execution_count": 26,
   "metadata": {},
   "outputs": [
    {
     "data": {
      "text/plain": [
       "tensor([[-0.0447,  0.2929,  0.3250,  0.0435, -0.0855, -0.1469, -0.0895,  0.5857,\n",
       "          0.6500,  0.0869, -0.1710, -0.2937],\n",
       "        [ 0.0720,  0.0903, -0.3026, -0.0168, -0.1906, -0.5404,  0.1441,  0.1806,\n",
       "         -0.6052, -0.0337, -0.3811, -1.0807],\n",
       "        [-0.1836,  0.0880, -0.1476,  0.0747,  0.2820, -0.1288, -0.3672,  0.1760,\n",
       "         -0.2951,  0.1494,  0.5640, -0.2577],\n",
       "        [-0.0212, -0.1290,  0.1994,  0.3366, -0.2726,  0.0652, -0.0425, -0.2579,\n",
       "          0.3988,  0.6732, -0.5451,  0.1304]], grad_fn=<SqueezeBackward1>)"
      ]
     },
     "execution_count": 26,
     "metadata": {},
     "output_type": "execute_result"
    }
   ],
   "source": [
    "conv_transpose(x)"
   ]
  },
  {
   "cell_type": "code",
   "execution_count": 27,
   "metadata": {},
   "outputs": [
    {
     "name": "stdout",
     "output_type": "stream",
     "text": [
      "tensor([[1, 1, 1],\n",
      "        [1, 1, 1],\n",
      "        [1, 1, 1]])\n"
     ]
    }
   ],
   "source": [
    "padded_X = torch.tensor([[0, 1, 1, 1, 0, 0],\n",
    "                         [0, 0, 1, 1, 1, 0],\n",
    "                         [0, 0, 0, 1, 1, 1]])\n",
    "\n",
    "# Determine the shape of the padded tensor\n",
    "rows, new_cols = padded_X.shape\n",
    "cols = new_cols - 3  # 3 zeros were added\n",
    "\n",
    "# Create indices for advanced indexing\n",
    "start_indices = torch.arange(rows).unsqueeze(1) + torch.arange(1,cols+1).unsqueeze(0)\n",
    "\n",
    "# Use advanced indexing to extract the original tensor\n",
    "X = padded_X[torch.arange(rows).unsqueeze(1), start_indices]\n",
    "\n",
    "print(X)\n"
   ]
  },
  {
   "cell_type": "code",
   "execution_count": 52,
   "metadata": {},
   "outputs": [
    {
     "data": {
      "text/plain": [
       "(tensor([[0., 0., 0., 1., 1., 1., 1.],\n",
       "         [0., 0., 0., 0., 1., 1., 1.],\n",
       "         [0., 0., 0., 0., 0., 1., 1.],\n",
       "         [0., 0., 0., 0., 0., 0., 1.],\n",
       "         [0., 0., 0., 0., 0., 0., 0.]]),)"
      ]
     },
     "execution_count": 52,
     "metadata": {},
     "output_type": "execute_result"
    }
   ],
   "source": [
    "import torch\n",
    "\n",
    "torch.triu(\n",
    "    torch.ones(5, 7),\n",
    "    diagonal=3\n",
    "),"
   ]
  }
 ],
 "metadata": {
  "kernelspec": {
   "display_name": "yif-ai",
   "language": "python",
   "name": "python3"
  },
  "language_info": {
   "codemirror_mode": {
    "name": "ipython",
    "version": 3
   },
   "file_extension": ".py",
   "mimetype": "text/x-python",
   "name": "python",
   "nbconvert_exporter": "python",
   "pygments_lexer": "ipython3",
   "version": "3.11.9"
  }
 },
 "nbformat": 4,
 "nbformat_minor": 2
}
