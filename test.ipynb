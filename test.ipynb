{
 "cells": [
  {
   "cell_type": "code",
   "execution_count": 2,
   "metadata": {},
   "outputs": [
    {
     "data": {
      "text/plain": [
       "(tensor([[1., 2., 3., 2.],\n",
       "         [3., 2., 3., 1.]]),\n",
       " tensor([[[-1.1258, -1.1524, -0.2506, -0.4339],\n",
       "          [ 0.8487,  0.6920, -0.3160, -2.1152],\n",
       "          [ 0.4681, -0.1577,  1.4437,  0.2660]],\n",
       " \n",
       "         [[ 0.1665,  0.8744, -0.1435, -0.1116],\n",
       "          [ 0.9318,  1.2590,  2.0050,  0.0537],\n",
       "          [ 0.6181, -0.4128, -0.8411, -2.3160]]]))"
      ]
     },
     "execution_count": 2,
     "metadata": {},
     "output_type": "execute_result"
    }
   ],
   "source": [
    "import torch\n",
    "\n",
    "torch.manual_seed(0)\n",
    "x = torch.tensor([[1,2,3,2], [3,2,3,1]], dtype=torch.float32)\n",
    "y = torch.randn(2,3,4)\n",
    "x, y"
   ]
  },
  {
   "cell_type": "code",
   "execution_count": 3,
   "metadata": {},
   "outputs": [
    {
     "data": {
      "text/plain": [
       "tensor([[[1., 2., 3., 2.]],\n",
       "\n",
       "        [[3., 2., 3., 1.]]])"
      ]
     },
     "execution_count": 3,
     "metadata": {},
     "output_type": "execute_result"
    }
   ],
   "source": [
    "x = x.unsqueeze(1)\n",
    "x"
   ]
  },
  {
   "cell_type": "code",
   "execution_count": 4,
   "metadata": {},
   "outputs": [
    {
     "data": {
      "text/plain": [
       "tensor([[[-5.0501, -2.9457,  5.0158]],\n",
       "\n",
       "        [[ 1.7061, 11.3822, -3.8107]]])"
      ]
     },
     "execution_count": 4,
     "metadata": {},
     "output_type": "execute_result"
    }
   ],
   "source": [
    "torch.einsum(\"tqe,tke->tqk\", x,y)"
   ]
  },
  {
   "cell_type": "code",
   "execution_count": 20,
   "metadata": {},
   "outputs": [
    {
     "data": {
      "text/plain": [
       "tensor([[1., 2.],\n",
       "        [1., 2.],\n",
       "        [1., 2.]])"
      ]
     },
     "execution_count": 20,
     "metadata": {},
     "output_type": "execute_result"
    }
   ],
   "source": [
    "x = torch.tensor([[1,1,1], [2,2,2]], dtype=torch.float32)\n",
    "x = x.T\n",
    "x"
   ]
  },
  {
   "cell_type": "code",
   "execution_count": 21,
   "metadata": {},
   "outputs": [
    {
     "data": {
      "text/plain": [
       "(tensor([[[-0.0022, -0.2758, -0.0465],\n",
       "          [-0.1112,  0.1141, -0.1817],\n",
       "          [-0.0256,  0.1049, -0.1871]],\n",
       " \n",
       "         [[ 0.1549, -0.1912,  0.0305],\n",
       "          [ 0.0774,  0.1732, -0.0731],\n",
       "          [ 0.0764,  0.2397, -0.1329]],\n",
       " \n",
       "         [[-0.2376, -0.1190,  0.2614],\n",
       "          [-0.0057, -0.1957, -0.1125],\n",
       "          [-0.0872, -0.0594, -0.2017]],\n",
       " \n",
       "         [[-0.2124,  0.0107, -0.2678],\n",
       "          [ 0.2289, -0.1257,  0.2494],\n",
       "          [-0.0567,  0.2160, -0.2704]]], grad_fn=<PermuteBackward0>),\n",
       " tensor([[-0.3245, -0.1788, -0.1079],\n",
       "         [-0.0058,  0.1775,  0.1832],\n",
       "         [-0.0952, -0.3139, -0.3483],\n",
       "         [-0.4695,  0.3526, -0.1111]], grad_fn=<SumBackward1>),\n",
       " tensor([[-0.6490, -0.3576, -0.2158],\n",
       "         [-0.0116,  0.3551,  0.3664],\n",
       "         [-0.1904, -0.6279, -0.6967],\n",
       "         [-0.9391,  0.7052, -0.2222]], grad_fn=<MulBackward0>))"
      ]
     },
     "execution_count": 21,
     "metadata": {},
     "output_type": "execute_result"
    }
   ],
   "source": [
    "torch.manual_seed(0)\n",
    "conv_transpose = torch.nn.ConvTranspose1d(in_channels=3, out_channels=3, kernel_size=4, stride=4, bias=False)\n",
    "conv_transpose.weight.T,conv_transpose.weight.T.sum(dim=-1), conv_transpose.weight.T.sum(dim=-1) * 2"
   ]
  },
  {
   "cell_type": "code",
   "execution_count": 22,
   "metadata": {},
   "outputs": [
    {
     "data": {
      "text/plain": [
       "tensor([[-0.3245, -0.0058, -0.0952, -0.4695, -0.6490, -0.0116, -0.1904, -0.9391],\n",
       "        [-0.1788,  0.1775, -0.3139,  0.3526, -0.3576,  0.3551, -0.6279,  0.7052],\n",
       "        [-0.1079,  0.1832, -0.3483, -0.1111, -0.2158,  0.3664, -0.6967, -0.2222]],\n",
       "       grad_fn=<SqueezeBackward1>)"
      ]
     },
     "execution_count": 22,
     "metadata": {},
     "output_type": "execute_result"
    }
   ],
   "source": [
    "conv_transpose(x)"
   ]
  },
  {
   "cell_type": "code",
   "execution_count": 31,
   "metadata": {},
   "outputs": [
    {
     "name": "stdout",
     "output_type": "stream",
     "text": [
      "tensor([[0, 1, 1, 1, 0, 0],\n",
      "        [0, 0, 1, 1, 1, 0],\n",
      "        [0, 0, 0, 1, 1, 1]])\n"
     ]
    }
   ],
   "source": [
    "import torch\n",
    "\n",
    "# Original tensor\n",
    "X = torch.tensor([[1, 1, 1],\n",
    "                  [1, 1, 1],\n",
    "                  [1, 1, 1]])\n",
    "\n",
    "# Determine the shape of the new tensor\n",
    "rows, cols = X.shape\n",
    "new_cols = cols + 3  # 3 zeros are added (1 before and 2 after)\n",
    "\n",
    "# Create a new tensor filled with zeros\n",
    "padded_X = torch.zeros((rows, new_cols), dtype=X.dtype)\n",
    "\n",
    "# Use tensor operations to place the original values\n",
    "indices = torch.arange(cols).unsqueeze(0) + torch.arange(1,rows+1).unsqueeze(1)\n",
    "padded_X.scatter_(1, indices, X)\n",
    "\n",
    "print(padded_X)\n"
   ]
  }
 ],
 "metadata": {
  "kernelspec": {
   "display_name": "yif-ai",
   "language": "python",
   "name": "python3"
  },
  "language_info": {
   "codemirror_mode": {
    "name": "ipython",
    "version": 3
   },
   "file_extension": ".py",
   "mimetype": "text/x-python",
   "name": "python",
   "nbconvert_exporter": "python",
   "pygments_lexer": "ipython3",
   "version": "3.11.9"
  }
 },
 "nbformat": 4,
 "nbformat_minor": 2
}
